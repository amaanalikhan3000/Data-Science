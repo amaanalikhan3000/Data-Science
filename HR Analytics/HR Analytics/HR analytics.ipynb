{
  "nbformat": 4,
  "nbformat_minor": 0,
  "metadata": {
    "colab": {
      "name": "ds46.ipynb",
      "provenance": []
    },
    "kernelspec": {
      "name": "python3",
      "display_name": "Python 3"
    },
    "language_info": {
      "name": "python"
    }
  },
  "cells": [
    {
      "cell_type": "code",
      "metadata": {
        "id": "ogOQ0_XkgYSt"
      },
      "source": [
        "import pandas as pd\n",
        "import numpy as np\n",
        "\n",
        "import matplotlib.pyplot as plt\n"
      ],
      "execution_count": null,
      "outputs": []
    },
    {
      "cell_type": "code",
      "metadata": {
        "id": "7LHBIa-qg4KE"
      },
      "source": [
        "df = pd.read_csv('/content/Train_Data.csv')\n",
        "\n",
        "\n",
        "test_df = pd.read_csv('/content/Test_Data.csv')"
      ],
      "execution_count": null,
      "outputs": []
    },
    {
      "cell_type": "code",
      "metadata": {
        "colab": {
          "base_uri": "https://localhost:8080/"
        },
        "id": "B2As080kg6WJ",
        "outputId": "d56c68c0-7158-49a2-f57f-625777d618e2"
      },
      "source": [
        "for cols in df:\n",
        "  print(df[cols].value_counts())"
      ],
      "execution_count": null,
      "outputs": [
        {
          "output_type": "stream",
          "name": "stdout",
          "text": [
            "city_21     4433\n",
            "city_103    4281\n",
            "city_16      990\n",
            "city_114     834\n",
            "city_160     645\n",
            "            ... \n",
            "city_180       2\n",
            "city_179       2\n",
            "city_139       1\n",
            "city_121       1\n",
            "city_171       1\n",
            "Name: city, Length: 120, dtype: int64\n",
            "0.920000    3697\n",
            "0.624000    2701\n",
            "0.910000     938\n",
            "0.926000     798\n",
            "0.698000     423\n",
            "            ... \n",
            "0.708665       1\n",
            "0.665411       1\n",
            "0.914449       1\n",
            "0.718276       1\n",
            "0.861601       1\n",
            "Name: city_development_index, Length: 4098, dtype: int64\n",
            "Male       12634\n",
            "missing     3673\n",
            "Female       831\n",
            "Other        119\n",
            "Name: gender, dtype: int64\n",
            "Has relevent experience    12265\n",
            "No relevent experience      4992\n",
            "Name: relevent_experience, dtype: int64\n",
            "no_enrollment       12562\n",
            "Full time course     3666\n",
            "Part time course      778\n",
            "missing               251\n",
            "Name: enrolled_university, dtype: int64\n",
            "Graduate          12263\n",
            "Masters            2978\n",
            "High School        1303\n",
            "missing             295\n",
            "Phd                 249\n",
            "Primary School      169\n",
            "Name: education_level, dtype: int64\n",
            "STEM               14331\n",
            "missing             1816\n",
            "Humanities           398\n",
            "Other                234\n",
            "Business Degree      203\n",
            "Arts                 144\n",
            "No Major             131\n",
            "Name: major_discipline, dtype: int64\n",
            ">20        3286\n",
            "4          1337\n",
            "3          1292\n",
            "5          1230\n",
            "2          1048\n",
            "6          1042\n",
            "7           932\n",
            "10          896\n",
            "9           889\n",
            "8           736\n",
            "<1          722\n",
            "1           648\n",
            "11          527\n",
            "15          493\n",
            "14          402\n",
            "12          381\n",
            "16          302\n",
            "13          301\n",
            "17          220\n",
            "19          190\n",
            "18          187\n",
            "20          100\n",
            "missing      96\n",
            "Name: experience, dtype: int64\n",
            "missing      7654\n",
            "50-99        2347\n",
            "100-500      1891\n",
            "10000+       1527\n",
            "Oct-49       1121\n",
            "1000-4999     871\n",
            "<10           853\n",
            "500-999       594\n",
            "5000-9999     399\n",
            "Name: company_size, dtype: int64\n",
            "Pvt Ltd                8030\n",
            "missing                7275\n",
            "Public Sector           620\n",
            "Funded Startup          583\n",
            "Early Stage Startup     368\n",
            "NGO                     311\n",
            "Other                    70\n",
            "Name: company_type, dtype: int64\n",
            "1          8497\n",
            ">4         2469\n",
            "2          2347\n",
            "never      2232\n",
            "4           693\n",
            "3           690\n",
            "missing     329\n",
            "Name: last_new_job, dtype: int64\n",
            "28.000000     202\n",
            "22.000000     181\n",
            "18.000000     176\n",
            "23.000000     172\n",
            "24.000000     171\n",
            "             ... \n",
            "97.896192       1\n",
            "188.458404      1\n",
            "75.849351       1\n",
            "7.434608        1\n",
            "78.231747       1\n",
            "Name: training_hours, Length: 5911, dtype: int64\n",
            "0    8629\n",
            "1    8628\n",
            "Name: target, dtype: int64\n"
          ]
        }
      ]
    },
    {
      "cell_type": "code",
      "metadata": {
        "id": "NyJm5eMUg8UV"
      },
      "source": [
        "df1 = df.drop_duplicates()"
      ],
      "execution_count": null,
      "outputs": []
    },
    {
      "cell_type": "code",
      "metadata": {
        "colab": {
          "base_uri": "https://localhost:8080/"
        },
        "id": "_4ThdIPRg_qt",
        "outputId": "1ad139de-de0b-437e-c796-a0d04143e3b8"
      },
      "source": [
        "df1[['city','cityNo']] = df1.city.str.split(\"_\",expand=True)\n",
        "   \n",
        "dat2 = df1\n",
        "\n",
        "\n",
        "test_df[['city','cityNo']] = test_df.city.str.split(\"_\",expand=True)\n",
        "   \n",
        "test_dat2 = test_df\n"
      ],
      "execution_count": null,
      "outputs": [
        {
          "output_type": "stream",
          "name": "stderr",
          "text": [
            "/usr/local/lib/python3.7/dist-packages/pandas/core/frame.py:3069: SettingWithCopyWarning: \n",
            "A value is trying to be set on a copy of a slice from a DataFrame.\n",
            "Try using .loc[row_indexer,col_indexer] = value instead\n",
            "\n",
            "See the caveats in the documentation: https://pandas.pydata.org/pandas-docs/stable/user_guide/indexing.html#returning-a-view-versus-a-copy\n",
            "  self[k1] = value[k2]\n"
          ]
        }
      ]
    },
    {
      "cell_type": "code",
      "metadata": {
        "colab": {
          "base_uri": "https://localhost:8080/"
        },
        "id": "to9Gbj--hIi8",
        "outputId": "d1d261b8-41a8-408c-d578-08e90adc8e0f"
      },
      "source": [
        "dat2['cityNo'] = dat2['cityNo'].astype(str).astype(int)\n",
        "\n",
        "test_dat2['cityNo'] = test_dat2['cityNo'].astype(str).astype(int)\n"
      ],
      "execution_count": null,
      "outputs": [
        {
          "output_type": "stream",
          "name": "stderr",
          "text": [
            "/usr/local/lib/python3.7/dist-packages/ipykernel_launcher.py:1: SettingWithCopyWarning: \n",
            "A value is trying to be set on a copy of a slice from a DataFrame.\n",
            "Try using .loc[row_indexer,col_indexer] = value instead\n",
            "\n",
            "See the caveats in the documentation: https://pandas.pydata.org/pandas-docs/stable/user_guide/indexing.html#returning-a-view-versus-a-copy\n",
            "  \"\"\"Entry point for launching an IPython kernel.\n"
          ]
        }
      ]
    },
    {
      "cell_type": "code",
      "metadata": {
        "colab": {
          "base_uri": "https://localhost:8080/"
        },
        "id": "wkowaDbThOeE",
        "outputId": "5100dc69-e1e7-48f8-c30e-d585b8582276"
      },
      "source": [
        "dat2['experience'].replace({'>20':'21','<1':'0'},inplace=True)\n",
        "print(dat2)\n",
        "\n",
        "\n",
        "test_dat2['experience'].replace({'>20':'21','<1':'0'},inplace=True)\n",
        "print(test_dat2)"
      ],
      "execution_count": null,
      "outputs": [
        {
          "output_type": "stream",
          "name": "stdout",
          "text": [
            "       city  city_development_index   gender  ... training_hours target cityNo\n",
            "0      city                0.624000     Male  ...      31.372145      1     21\n",
            "1      city                0.616795     Male  ...      63.988905      1     21\n",
            "2      city                0.754000     Male  ...      19.000000      1     73\n",
            "3      city                0.866000     Male  ...      53.000000      0     57\n",
            "4      city                0.624000     Male  ...     108.000000      1     21\n",
            "...     ...                     ...      ...  ...            ...    ...    ...\n",
            "17252  city                0.939000     Male  ...     144.000000      0     28\n",
            "17253  city                0.926000     Male  ...       8.000000      0    114\n",
            "17254  city                0.895000    Other  ...      36.000000      0     10\n",
            "17255  city                0.939000  missing  ...      36.000000      0     75\n",
            "17256  city                0.722000   Female  ...      70.000000      1    118\n",
            "\n",
            "[17243 rows x 14 columns]\n",
            "       city  city_development_index  ... training_hours cityNo\n",
            "0      city                0.558000  ...      31.000000    101\n",
            "1      city                0.767004  ...      53.427648    114\n",
            "2      city                0.624000  ...      12.000000     21\n",
            "3      city                0.596055  ...      55.457061     21\n",
            "4      city                0.920000  ...      56.000000    160\n",
            "...     ...                     ...  ...            ...    ...\n",
            "11500  city                0.884000  ...      44.000000     71\n",
            "11501  city                0.698000  ...      23.000000    150\n",
            "11502  city                0.624000  ...      33.001073     21\n",
            "11503  city                0.918462  ...      25.000075     21\n",
            "11504  city                0.788074  ...      51.780146     71\n",
            "\n",
            "[11505 rows x 13 columns]\n"
          ]
        },
        {
          "output_type": "stream",
          "name": "stderr",
          "text": [
            "/usr/local/lib/python3.7/dist-packages/pandas/core/series.py:4582: SettingWithCopyWarning: \n",
            "A value is trying to be set on a copy of a slice from a DataFrame\n",
            "\n",
            "See the caveats in the documentation: https://pandas.pydata.org/pandas-docs/stable/user_guide/indexing.html#returning-a-view-versus-a-copy\n",
            "  method=method,\n"
          ]
        }
      ]
    },
    {
      "cell_type": "code",
      "metadata": {
        "id": "gAKaMiRkhbUp"
      },
      "source": [
        ""
      ],
      "execution_count": null,
      "outputs": []
    },
    {
      "cell_type": "code",
      "metadata": {
        "id": "4shgb7E2AL-V",
        "colab": {
          "base_uri": "https://localhost:8080/"
        },
        "outputId": "2e4e3265-7f98-4086-e052-c8e9206425d8"
      },
      "source": [
        "dat2['city_development_index'].round(2)\n",
        "df = dat2.round(decimals = 2)\n",
        "print(df)\n",
        "\n",
        "\n",
        "\n",
        "test_dat2['city_development_index'].round(2)\n",
        "test_df = test_dat2.round(decimals = 2)\n",
        "print(test_df)"
      ],
      "execution_count": null,
      "outputs": [
        {
          "output_type": "stream",
          "name": "stdout",
          "text": [
            "       city  city_development_index   gender  ... training_hours target cityNo\n",
            "0      city                    0.62     Male  ...          31.37      1     21\n",
            "1      city                    0.62     Male  ...          63.99      1     21\n",
            "2      city                    0.75     Male  ...          19.00      1     73\n",
            "3      city                    0.87     Male  ...          53.00      0     57\n",
            "4      city                    0.62     Male  ...         108.00      1     21\n",
            "...     ...                     ...      ...  ...            ...    ...    ...\n",
            "17252  city                    0.94     Male  ...         144.00      0     28\n",
            "17253  city                    0.93     Male  ...           8.00      0    114\n",
            "17254  city                    0.90    Other  ...          36.00      0     10\n",
            "17255  city                    0.94  missing  ...          36.00      0     75\n",
            "17256  city                    0.72   Female  ...          70.00      1    118\n",
            "\n",
            "[17243 rows x 14 columns]\n",
            "       city  city_development_index  ... training_hours cityNo\n",
            "0      city                    0.56  ...          31.00    101\n",
            "1      city                    0.77  ...          53.43    114\n",
            "2      city                    0.62  ...          12.00     21\n",
            "3      city                    0.60  ...          55.46     21\n",
            "4      city                    0.92  ...          56.00    160\n",
            "...     ...                     ...  ...            ...    ...\n",
            "11500  city                    0.88  ...          44.00     71\n",
            "11501  city                    0.70  ...          23.00    150\n",
            "11502  city                    0.62  ...          33.00     21\n",
            "11503  city                    0.92  ...          25.00     21\n",
            "11504  city                    0.79  ...          51.78     71\n",
            "\n",
            "[11505 rows x 13 columns]\n"
          ]
        }
      ]
    },
    {
      "cell_type": "code",
      "metadata": {
        "id": "F4A6irsqhlpI"
      },
      "source": [
        ""
      ],
      "execution_count": null,
      "outputs": []
    },
    {
      "cell_type": "code",
      "metadata": {
        "id": "vS_sk5eahtqQ"
      },
      "source": [
        ""
      ],
      "execution_count": null,
      "outputs": []
    },
    {
      "cell_type": "code",
      "metadata": {
        "id": "h_pzu0VlA7Ed"
      },
      "source": [
        ""
      ],
      "execution_count": null,
      "outputs": []
    },
    {
      "cell_type": "code",
      "metadata": {
        "id": "xNfoT4-L9l-i",
        "colab": {
          "base_uri": "https://localhost:8080/"
        },
        "outputId": "5702aecb-8321-4564-b4f9-844355d4a0fe"
      },
      "source": [
        "df['relevent_experience'].replace({'Has relevent experience':'1','No relevent experience':'0'},inplace=True)\n",
        "print(df)\n",
        "\n",
        "\n",
        "test_df['relevent_experience'].replace({'Has relevent experience':'1','No relevent experience':'0'},inplace=True)\n",
        "print(test_df)"
      ],
      "execution_count": null,
      "outputs": [
        {
          "output_type": "stream",
          "name": "stdout",
          "text": [
            "       city  city_development_index   gender  ... training_hours target cityNo\n",
            "0      city                    0.62     Male  ...          31.37      1     21\n",
            "1      city                    0.62     Male  ...          63.99      1     21\n",
            "2      city                    0.75     Male  ...          19.00      1     73\n",
            "3      city                    0.87     Male  ...          53.00      0     57\n",
            "4      city                    0.62     Male  ...         108.00      1     21\n",
            "...     ...                     ...      ...  ...            ...    ...    ...\n",
            "17252  city                    0.94     Male  ...         144.00      0     28\n",
            "17253  city                    0.93     Male  ...           8.00      0    114\n",
            "17254  city                    0.90    Other  ...          36.00      0     10\n",
            "17255  city                    0.94  missing  ...          36.00      0     75\n",
            "17256  city                    0.72   Female  ...          70.00      1    118\n",
            "\n",
            "[17243 rows x 14 columns]\n",
            "       city  city_development_index  ... training_hours cityNo\n",
            "0      city                    0.56  ...          31.00    101\n",
            "1      city                    0.77  ...          53.43    114\n",
            "2      city                    0.62  ...          12.00     21\n",
            "3      city                    0.60  ...          55.46     21\n",
            "4      city                    0.92  ...          56.00    160\n",
            "...     ...                     ...  ...            ...    ...\n",
            "11500  city                    0.88  ...          44.00     71\n",
            "11501  city                    0.70  ...          23.00    150\n",
            "11502  city                    0.62  ...          33.00     21\n",
            "11503  city                    0.92  ...          25.00     21\n",
            "11504  city                    0.79  ...          51.78     71\n",
            "\n",
            "[11505 rows x 13 columns]\n"
          ]
        }
      ]
    },
    {
      "cell_type": "code",
      "metadata": {
        "id": "Q9ZDJYDT-A38"
      },
      "source": [
        "df['relevent_experience'] = df['relevent_experience'].astype(str).astype(int)\n",
        "\n",
        "test_df['relevent_experience'] = test_df['relevent_experience'].astype(str).astype(int)"
      ],
      "execution_count": null,
      "outputs": []
    },
    {
      "cell_type": "code",
      "metadata": {
        "colab": {
          "base_uri": "https://localhost:8080/"
        },
        "id": "iogoJYlbh_A2",
        "outputId": "2df75502-57a1-4a28-d56b-b1b2e6a314f6"
      },
      "source": [
        "df['last_new_job'].replace({'>4':'5','never':'0'},inplace=True)\n",
        "print(df)\n",
        "\n",
        "\n",
        "test_df['last_new_job'].replace({'>4':'5','never':'0'},inplace=True)\n",
        "print(test_df)"
      ],
      "execution_count": null,
      "outputs": [
        {
          "output_type": "stream",
          "name": "stdout",
          "text": [
            "       city  city_development_index   gender  ...  training_hours target cityNo\n",
            "0      city                    0.62     Male  ...           31.37      1     21\n",
            "1      city                    0.62     Male  ...           63.99      1     21\n",
            "2      city                    0.75     Male  ...           19.00      1     73\n",
            "3      city                    0.87     Male  ...           53.00      0     57\n",
            "4      city                    0.62     Male  ...          108.00      1     21\n",
            "...     ...                     ...      ...  ...             ...    ...    ...\n",
            "17252  city                    0.94     Male  ...          144.00      0     28\n",
            "17253  city                    0.93     Male  ...            8.00      0    114\n",
            "17254  city                    0.90    Other  ...           36.00      0     10\n",
            "17255  city                    0.94  missing  ...           36.00      0     75\n",
            "17256  city                    0.72   Female  ...           70.00      1    118\n",
            "\n",
            "[17243 rows x 14 columns]\n",
            "       city  city_development_index  ... training_hours  cityNo\n",
            "0      city                    0.56  ...          31.00     101\n",
            "1      city                    0.77  ...          53.43     114\n",
            "2      city                    0.62  ...          12.00      21\n",
            "3      city                    0.60  ...          55.46      21\n",
            "4      city                    0.92  ...          56.00     160\n",
            "...     ...                     ...  ...            ...     ...\n",
            "11500  city                    0.88  ...          44.00      71\n",
            "11501  city                    0.70  ...          23.00     150\n",
            "11502  city                    0.62  ...          33.00      21\n",
            "11503  city                    0.92  ...          25.00      21\n",
            "11504  city                    0.79  ...          51.78      71\n",
            "\n",
            "[11505 rows x 13 columns]\n"
          ]
        }
      ]
    },
    {
      "cell_type": "code",
      "metadata": {
        "colab": {
          "base_uri": "https://localhost:8080/"
        },
        "id": "aKYEORcRiLz9",
        "outputId": "782860eb-16a5-46f8-c003-49fba38314e7"
      },
      "source": [
        "df.isnull().sum()\n",
        "\n",
        "test_df.isnull().sum()"
      ],
      "execution_count": null,
      "outputs": [
        {
          "output_type": "execute_result",
          "data": {
            "text/plain": [
              "city                      0\n",
              "city_development_index    0\n",
              "gender                    0\n",
              "relevent_experience       0\n",
              "enrolled_university       0\n",
              "education_level           0\n",
              "major_discipline          0\n",
              "experience                0\n",
              "company_size              0\n",
              "company_type              0\n",
              "last_new_job              0\n",
              "training_hours            0\n",
              "cityNo                    0\n",
              "dtype: int64"
            ]
          },
          "metadata": {},
          "execution_count": 142
        }
      ]
    },
    {
      "cell_type": "code",
      "metadata": {
        "id": "88p2n0PgiTp3"
      },
      "source": [
        "df = df.replace('missing', np.nan)\n",
        "\n",
        "\n",
        "test_df = test_df.replace('missing', np.nan)"
      ],
      "execution_count": null,
      "outputs": []
    },
    {
      "cell_type": "code",
      "metadata": {
        "colab": {
          "base_uri": "https://localhost:8080/"
        },
        "id": "dhXg1L2aig5s",
        "outputId": "0a843a52-c79f-4ee4-a343-e22cda4ea703"
      },
      "source": [
        "print(df.isnull().sum())\n",
        "\n",
        "print('--------------------------------')\n",
        "print(test_df.isnull().sum())"
      ],
      "execution_count": null,
      "outputs": [
        {
          "output_type": "stream",
          "name": "stdout",
          "text": [
            "city                         0\n",
            "city_development_index       0\n",
            "gender                    3673\n",
            "relevent_experience          0\n",
            "enrolled_university        251\n",
            "education_level            295\n",
            "major_discipline          1814\n",
            "experience                  96\n",
            "company_size              7648\n",
            "company_type              7269\n",
            "last_new_job               329\n",
            "training_hours               0\n",
            "target                       0\n",
            "cityNo                       0\n",
            "dtype: int64\n",
            "--------------------------------\n",
            "city                         0\n",
            "city_development_index       0\n",
            "gender                    2502\n",
            "relevent_experience          0\n",
            "enrolled_university        139\n",
            "education_level            173\n",
            "major_discipline          1278\n",
            "experience                  55\n",
            "company_size              5092\n",
            "company_type              4854\n",
            "last_new_job               194\n",
            "training_hours               0\n",
            "cityNo                       0\n",
            "dtype: int64\n"
          ]
        }
      ]
    },
    {
      "cell_type": "code",
      "metadata": {
        "id": "PdiqKMA1iqKM"
      },
      "source": [
        ""
      ],
      "execution_count": null,
      "outputs": []
    },
    {
      "cell_type": "code",
      "metadata": {
        "id": "rx8qwnRki7ot"
      },
      "source": [
        "# df['relevent_experience'].replace({'Has relevent experience':'1','No relevent experience':'0'},inplace=True)\n",
        "# # df['relevent_experience'] = df['relevent_experience'].astype(str).astype(int)\n",
        "\n",
        "\n",
        "# test_df['relevent_experience'].replace({'Has relevent experience':'1','No relevent experience':'0'},inplace=True)\n",
        "# test_df['relevent_experience'] = test_df['relevent_experience'].astype(str).astype(int)"
      ],
      "execution_count": null,
      "outputs": []
    },
    {
      "cell_type": "code",
      "metadata": {
        "id": "B7z7OMvSjHBb"
      },
      "source": [
        "df['last_new_job'].replace({'>4':'5','never':'0'},inplace=True)\n",
        "\n",
        "\n",
        "test_df['last_new_job'].replace({'>4':'5','never':'0'},inplace=True)"
      ],
      "execution_count": null,
      "outputs": []
    },
    {
      "cell_type": "code",
      "metadata": {
        "colab": {
          "base_uri": "https://localhost:8080/"
        },
        "id": "YICjNivajXyY",
        "outputId": "fb77f34e-9195-492c-d30c-20b6a666dccb"
      },
      "source": [
        "df.isnull().sum()"
      ],
      "execution_count": null,
      "outputs": [
        {
          "output_type": "execute_result",
          "data": {
            "text/plain": [
              "city                         0\n",
              "city_development_index       0\n",
              "gender                    3673\n",
              "relevent_experience          0\n",
              "enrolled_university        251\n",
              "education_level            295\n",
              "major_discipline          1814\n",
              "experience                  96\n",
              "company_size              7648\n",
              "company_type              7269\n",
              "last_new_job               329\n",
              "training_hours               0\n",
              "target                       0\n",
              "cityNo                       0\n",
              "dtype: int64"
            ]
          },
          "metadata": {},
          "execution_count": 147
        }
      ]
    },
    {
      "cell_type": "code",
      "metadata": {
        "id": "x6GHHk9Bjf1K"
      },
      "source": [
        "median = df[\"experience\"].median()\n",
        "df[\"experience\"].fillna(median, inplace=True)\n",
        "\n",
        "\n",
        "median_test = test_df[\"experience\"].median()\n",
        "test_df[\"experience\"].fillna(median_test, inplace=True)"
      ],
      "execution_count": null,
      "outputs": []
    },
    {
      "cell_type": "code",
      "metadata": {
        "id": "TnuzzhgEBPu6"
      },
      "source": [
        "df['experience'] = df['experience'].astype(str).astype(float)\n",
        "\n",
        "test_df['experience'] = test_df['experience'].astype(str).astype(float)"
      ],
      "execution_count": null,
      "outputs": []
    },
    {
      "cell_type": "code",
      "metadata": {
        "id": "ZeUKP5QIj9kB"
      },
      "source": [
        ""
      ],
      "execution_count": null,
      "outputs": []
    },
    {
      "cell_type": "code",
      "metadata": {
        "id": "HBbotL_eGB_F"
      },
      "source": [
        "median = df[\"last_new_job\"].median()\n",
        "df[\"last_new_job\"].fillna(median, inplace=True)\n",
        "df['last_new_job'] = df['last_new_job'].astype(str).astype(float)\n",
        "\n",
        "\n",
        "\n",
        "median_test = test_df[\"last_new_job\"].median()\n",
        "test_df[\"last_new_job\"].fillna(median_test, inplace=True)\n",
        "test_df['last_new_job'] = test_df['last_new_job'].astype(str).astype(float)"
      ],
      "execution_count": null,
      "outputs": []
    },
    {
      "cell_type": "code",
      "metadata": {
        "id": "SwiSy45kkLYu"
      },
      "source": [
        "df = df.drop('city',axis=1)\n"
      ],
      "execution_count": null,
      "outputs": []
    },
    {
      "cell_type": "code",
      "metadata": {
        "id": "x443wjgmkMR1"
      },
      "source": [
        "test_df = test_df.drop('city',axis=1)"
      ],
      "execution_count": null,
      "outputs": []
    },
    {
      "cell_type": "code",
      "metadata": {
        "colab": {
          "base_uri": "https://localhost:8080/",
          "height": 443
        },
        "id": "tT8i00eLkgSm",
        "outputId": "a2ce077b-aac9-4eac-9edf-ad2e02bf112c"
      },
      "source": [
        "df"
      ],
      "execution_count": null,
      "outputs": [
        {
          "output_type": "execute_result",
          "data": {
            "text/html": [
              "<div>\n",
              "<style scoped>\n",
              "    .dataframe tbody tr th:only-of-type {\n",
              "        vertical-align: middle;\n",
              "    }\n",
              "\n",
              "    .dataframe tbody tr th {\n",
              "        vertical-align: top;\n",
              "    }\n",
              "\n",
              "    .dataframe thead th {\n",
              "        text-align: right;\n",
              "    }\n",
              "</style>\n",
              "<table border=\"1\" class=\"dataframe\">\n",
              "  <thead>\n",
              "    <tr style=\"text-align: right;\">\n",
              "      <th></th>\n",
              "      <th>city_development_index</th>\n",
              "      <th>gender</th>\n",
              "      <th>relevent_experience</th>\n",
              "      <th>enrolled_university</th>\n",
              "      <th>education_level</th>\n",
              "      <th>major_discipline</th>\n",
              "      <th>experience</th>\n",
              "      <th>company_size</th>\n",
              "      <th>company_type</th>\n",
              "      <th>last_new_job</th>\n",
              "      <th>training_hours</th>\n",
              "      <th>target</th>\n",
              "      <th>cityNo</th>\n",
              "    </tr>\n",
              "  </thead>\n",
              "  <tbody>\n",
              "    <tr>\n",
              "      <th>0</th>\n",
              "      <td>0.62</td>\n",
              "      <td>Male</td>\n",
              "      <td>0</td>\n",
              "      <td>Full time course</td>\n",
              "      <td>Graduate</td>\n",
              "      <td>STEM</td>\n",
              "      <td>3.0</td>\n",
              "      <td>NaN</td>\n",
              "      <td>Pvt Ltd</td>\n",
              "      <td>0.0</td>\n",
              "      <td>31.37</td>\n",
              "      <td>1</td>\n",
              "      <td>21</td>\n",
              "    </tr>\n",
              "    <tr>\n",
              "      <th>1</th>\n",
              "      <td>0.62</td>\n",
              "      <td>Male</td>\n",
              "      <td>0</td>\n",
              "      <td>Full time course</td>\n",
              "      <td>Graduate</td>\n",
              "      <td>STEM</td>\n",
              "      <td>0.0</td>\n",
              "      <td>NaN</td>\n",
              "      <td>NaN</td>\n",
              "      <td>1.0</td>\n",
              "      <td>63.99</td>\n",
              "      <td>1</td>\n",
              "      <td>21</td>\n",
              "    </tr>\n",
              "    <tr>\n",
              "      <th>2</th>\n",
              "      <td>0.75</td>\n",
              "      <td>Male</td>\n",
              "      <td>0</td>\n",
              "      <td>Full time course</td>\n",
              "      <td>Graduate</td>\n",
              "      <td>STEM</td>\n",
              "      <td>0.0</td>\n",
              "      <td>NaN</td>\n",
              "      <td>NaN</td>\n",
              "      <td>0.0</td>\n",
              "      <td>19.00</td>\n",
              "      <td>1</td>\n",
              "      <td>73</td>\n",
              "    </tr>\n",
              "    <tr>\n",
              "      <th>3</th>\n",
              "      <td>0.87</td>\n",
              "      <td>Male</td>\n",
              "      <td>0</td>\n",
              "      <td>no_enrollment</td>\n",
              "      <td>Phd</td>\n",
              "      <td>STEM</td>\n",
              "      <td>9.0</td>\n",
              "      <td>100-500</td>\n",
              "      <td>Pvt Ltd</td>\n",
              "      <td>5.0</td>\n",
              "      <td>53.00</td>\n",
              "      <td>0</td>\n",
              "      <td>57</td>\n",
              "    </tr>\n",
              "    <tr>\n",
              "      <th>4</th>\n",
              "      <td>0.62</td>\n",
              "      <td>Male</td>\n",
              "      <td>1</td>\n",
              "      <td>no_enrollment</td>\n",
              "      <td>Masters</td>\n",
              "      <td>STEM</td>\n",
              "      <td>5.0</td>\n",
              "      <td>50-99</td>\n",
              "      <td>Pvt Ltd</td>\n",
              "      <td>5.0</td>\n",
              "      <td>108.00</td>\n",
              "      <td>1</td>\n",
              "      <td>21</td>\n",
              "    </tr>\n",
              "    <tr>\n",
              "      <th>...</th>\n",
              "      <td>...</td>\n",
              "      <td>...</td>\n",
              "      <td>...</td>\n",
              "      <td>...</td>\n",
              "      <td>...</td>\n",
              "      <td>...</td>\n",
              "      <td>...</td>\n",
              "      <td>...</td>\n",
              "      <td>...</td>\n",
              "      <td>...</td>\n",
              "      <td>...</td>\n",
              "      <td>...</td>\n",
              "      <td>...</td>\n",
              "    </tr>\n",
              "    <tr>\n",
              "      <th>17252</th>\n",
              "      <td>0.94</td>\n",
              "      <td>Male</td>\n",
              "      <td>0</td>\n",
              "      <td>no_enrollment</td>\n",
              "      <td>High School</td>\n",
              "      <td>NaN</td>\n",
              "      <td>4.0</td>\n",
              "      <td>5000-9999</td>\n",
              "      <td>Pvt Ltd</td>\n",
              "      <td>4.0</td>\n",
              "      <td>144.00</td>\n",
              "      <td>0</td>\n",
              "      <td>28</td>\n",
              "    </tr>\n",
              "    <tr>\n",
              "      <th>17253</th>\n",
              "      <td>0.93</td>\n",
              "      <td>Male</td>\n",
              "      <td>1</td>\n",
              "      <td>Full time course</td>\n",
              "      <td>Masters</td>\n",
              "      <td>STEM</td>\n",
              "      <td>16.0</td>\n",
              "      <td>5000-9999</td>\n",
              "      <td>Public Sector</td>\n",
              "      <td>2.0</td>\n",
              "      <td>8.00</td>\n",
              "      <td>0</td>\n",
              "      <td>114</td>\n",
              "    </tr>\n",
              "    <tr>\n",
              "      <th>17254</th>\n",
              "      <td>0.90</td>\n",
              "      <td>Other</td>\n",
              "      <td>1</td>\n",
              "      <td>no_enrollment</td>\n",
              "      <td>Graduate</td>\n",
              "      <td>STEM</td>\n",
              "      <td>16.0</td>\n",
              "      <td>Oct-49</td>\n",
              "      <td>Pvt Ltd</td>\n",
              "      <td>1.0</td>\n",
              "      <td>36.00</td>\n",
              "      <td>0</td>\n",
              "      <td>10</td>\n",
              "    </tr>\n",
              "    <tr>\n",
              "      <th>17255</th>\n",
              "      <td>0.94</td>\n",
              "      <td>NaN</td>\n",
              "      <td>0</td>\n",
              "      <td>Part time course</td>\n",
              "      <td>Graduate</td>\n",
              "      <td>STEM</td>\n",
              "      <td>2.0</td>\n",
              "      <td>NaN</td>\n",
              "      <td>NaN</td>\n",
              "      <td>0.0</td>\n",
              "      <td>36.00</td>\n",
              "      <td>0</td>\n",
              "      <td>75</td>\n",
              "    </tr>\n",
              "    <tr>\n",
              "      <th>17256</th>\n",
              "      <td>0.72</td>\n",
              "      <td>Female</td>\n",
              "      <td>1</td>\n",
              "      <td>no_enrollment</td>\n",
              "      <td>Masters</td>\n",
              "      <td>STEM</td>\n",
              "      <td>21.0</td>\n",
              "      <td>&lt;10</td>\n",
              "      <td>Pvt Ltd</td>\n",
              "      <td>5.0</td>\n",
              "      <td>70.00</td>\n",
              "      <td>1</td>\n",
              "      <td>118</td>\n",
              "    </tr>\n",
              "  </tbody>\n",
              "</table>\n",
              "<p>17243 rows × 13 columns</p>\n",
              "</div>"
            ],
            "text/plain": [
              "       city_development_index  gender  ...  target cityNo\n",
              "0                        0.62    Male  ...       1     21\n",
              "1                        0.62    Male  ...       1     21\n",
              "2                        0.75    Male  ...       1     73\n",
              "3                        0.87    Male  ...       0     57\n",
              "4                        0.62    Male  ...       1     21\n",
              "...                       ...     ...  ...     ...    ...\n",
              "17252                    0.94    Male  ...       0     28\n",
              "17253                    0.93    Male  ...       0    114\n",
              "17254                    0.90   Other  ...       0     10\n",
              "17255                    0.94     NaN  ...       0     75\n",
              "17256                    0.72  Female  ...       1    118\n",
              "\n",
              "[17243 rows x 13 columns]"
            ]
          },
          "metadata": {},
          "execution_count": 153
        }
      ]
    },
    {
      "cell_type": "code",
      "metadata": {
        "id": "HuHv9t3Xkg9e"
      },
      "source": [
        "df['education_level'].replace({'Primary School':'0','High School':'1','Graduate':'2','Masters':'3','Phd':'4'},inplace=True)\n",
        "df['education_level'] = df['education_level'].astype(str).astype(float)\n",
        "median = df[\"education_level\"].median()\n",
        "df[\"education_level\"].fillna(median, inplace=True)\n",
        "\n",
        "\n",
        "\n",
        "test_df['education_level'].replace({'Primary School':'0','High School':'1','Graduate':'2','Masters':'3','Phd':'4'},inplace=True)\n",
        "test_df['education_level'] = test_df['education_level'].astype(str).astype(float)\n",
        "median = test_df[\"education_level\"].median()\n",
        "test_df[\"education_level\"].fillna(median, inplace=True)"
      ],
      "execution_count": null,
      "outputs": []
    },
    {
      "cell_type": "code",
      "metadata": {
        "id": "Q2ac6N-Sk_ei"
      },
      "source": [
        "df['enrolled_university'].replace({'no_enrollment':'0','Full time course':'1','Part time course':'0.5'},inplace=True)\n",
        "df['enrolled_university'] = df['enrolled_university'].astype(str).astype(float)\n",
        "\n",
        "median = df[\"enrolled_university\"].median()\n",
        "df[\"enrolled_university\"].fillna(median, inplace=True)\n",
        "\n",
        "\n",
        "test_df['enrolled_university'].replace({'no_enrollment':'0','Full time course':'1','Part time course':'0.5'},inplace=True)\n",
        "test_df['enrolled_university'] = test_df['enrolled_university'].astype(str).astype(float)\n",
        "\n",
        "median = test_df[\"enrolled_university\"].median()\n",
        "test_df[\"enrolled_university\"].fillna(median, inplace=True)"
      ],
      "execution_count": null,
      "outputs": []
    },
    {
      "cell_type": "code",
      "metadata": {
        "id": "HAPCGxuClPy2"
      },
      "source": [
        "\n",
        "df['gender'].replace({'Male':'1','Female':'0','Other':'0.5'},inplace=True)\n",
        "test_df['gender'].replace({'Male':'1','Female':'0','Other':'0.5'},inplace=True)\n"
      ],
      "execution_count": null,
      "outputs": []
    },
    {
      "cell_type": "code",
      "metadata": {
        "colab": {
          "base_uri": "https://localhost:8080/",
          "height": 443
        },
        "id": "jOe8xW1GlQvQ",
        "outputId": "568a69b9-a405-45dc-9695-7b985737a194"
      },
      "source": [
        "df"
      ],
      "execution_count": null,
      "outputs": [
        {
          "output_type": "execute_result",
          "data": {
            "text/html": [
              "<div>\n",
              "<style scoped>\n",
              "    .dataframe tbody tr th:only-of-type {\n",
              "        vertical-align: middle;\n",
              "    }\n",
              "\n",
              "    .dataframe tbody tr th {\n",
              "        vertical-align: top;\n",
              "    }\n",
              "\n",
              "    .dataframe thead th {\n",
              "        text-align: right;\n",
              "    }\n",
              "</style>\n",
              "<table border=\"1\" class=\"dataframe\">\n",
              "  <thead>\n",
              "    <tr style=\"text-align: right;\">\n",
              "      <th></th>\n",
              "      <th>city_development_index</th>\n",
              "      <th>gender</th>\n",
              "      <th>relevent_experience</th>\n",
              "      <th>enrolled_university</th>\n",
              "      <th>education_level</th>\n",
              "      <th>major_discipline</th>\n",
              "      <th>experience</th>\n",
              "      <th>company_size</th>\n",
              "      <th>company_type</th>\n",
              "      <th>last_new_job</th>\n",
              "      <th>training_hours</th>\n",
              "      <th>target</th>\n",
              "      <th>cityNo</th>\n",
              "    </tr>\n",
              "  </thead>\n",
              "  <tbody>\n",
              "    <tr>\n",
              "      <th>0</th>\n",
              "      <td>0.62</td>\n",
              "      <td>1</td>\n",
              "      <td>0</td>\n",
              "      <td>1.0</td>\n",
              "      <td>2.0</td>\n",
              "      <td>STEM</td>\n",
              "      <td>3.0</td>\n",
              "      <td>NaN</td>\n",
              "      <td>Pvt Ltd</td>\n",
              "      <td>0.0</td>\n",
              "      <td>31.37</td>\n",
              "      <td>1</td>\n",
              "      <td>21</td>\n",
              "    </tr>\n",
              "    <tr>\n",
              "      <th>1</th>\n",
              "      <td>0.62</td>\n",
              "      <td>1</td>\n",
              "      <td>0</td>\n",
              "      <td>1.0</td>\n",
              "      <td>2.0</td>\n",
              "      <td>STEM</td>\n",
              "      <td>0.0</td>\n",
              "      <td>NaN</td>\n",
              "      <td>NaN</td>\n",
              "      <td>1.0</td>\n",
              "      <td>63.99</td>\n",
              "      <td>1</td>\n",
              "      <td>21</td>\n",
              "    </tr>\n",
              "    <tr>\n",
              "      <th>2</th>\n",
              "      <td>0.75</td>\n",
              "      <td>1</td>\n",
              "      <td>0</td>\n",
              "      <td>1.0</td>\n",
              "      <td>2.0</td>\n",
              "      <td>STEM</td>\n",
              "      <td>0.0</td>\n",
              "      <td>NaN</td>\n",
              "      <td>NaN</td>\n",
              "      <td>0.0</td>\n",
              "      <td>19.00</td>\n",
              "      <td>1</td>\n",
              "      <td>73</td>\n",
              "    </tr>\n",
              "    <tr>\n",
              "      <th>3</th>\n",
              "      <td>0.87</td>\n",
              "      <td>1</td>\n",
              "      <td>0</td>\n",
              "      <td>0.0</td>\n",
              "      <td>4.0</td>\n",
              "      <td>STEM</td>\n",
              "      <td>9.0</td>\n",
              "      <td>100-500</td>\n",
              "      <td>Pvt Ltd</td>\n",
              "      <td>5.0</td>\n",
              "      <td>53.00</td>\n",
              "      <td>0</td>\n",
              "      <td>57</td>\n",
              "    </tr>\n",
              "    <tr>\n",
              "      <th>4</th>\n",
              "      <td>0.62</td>\n",
              "      <td>1</td>\n",
              "      <td>1</td>\n",
              "      <td>0.0</td>\n",
              "      <td>3.0</td>\n",
              "      <td>STEM</td>\n",
              "      <td>5.0</td>\n",
              "      <td>50-99</td>\n",
              "      <td>Pvt Ltd</td>\n",
              "      <td>5.0</td>\n",
              "      <td>108.00</td>\n",
              "      <td>1</td>\n",
              "      <td>21</td>\n",
              "    </tr>\n",
              "    <tr>\n",
              "      <th>...</th>\n",
              "      <td>...</td>\n",
              "      <td>...</td>\n",
              "      <td>...</td>\n",
              "      <td>...</td>\n",
              "      <td>...</td>\n",
              "      <td>...</td>\n",
              "      <td>...</td>\n",
              "      <td>...</td>\n",
              "      <td>...</td>\n",
              "      <td>...</td>\n",
              "      <td>...</td>\n",
              "      <td>...</td>\n",
              "      <td>...</td>\n",
              "    </tr>\n",
              "    <tr>\n",
              "      <th>17252</th>\n",
              "      <td>0.94</td>\n",
              "      <td>1</td>\n",
              "      <td>0</td>\n",
              "      <td>0.0</td>\n",
              "      <td>1.0</td>\n",
              "      <td>NaN</td>\n",
              "      <td>4.0</td>\n",
              "      <td>5000-9999</td>\n",
              "      <td>Pvt Ltd</td>\n",
              "      <td>4.0</td>\n",
              "      <td>144.00</td>\n",
              "      <td>0</td>\n",
              "      <td>28</td>\n",
              "    </tr>\n",
              "    <tr>\n",
              "      <th>17253</th>\n",
              "      <td>0.93</td>\n",
              "      <td>1</td>\n",
              "      <td>1</td>\n",
              "      <td>1.0</td>\n",
              "      <td>3.0</td>\n",
              "      <td>STEM</td>\n",
              "      <td>16.0</td>\n",
              "      <td>5000-9999</td>\n",
              "      <td>Public Sector</td>\n",
              "      <td>2.0</td>\n",
              "      <td>8.00</td>\n",
              "      <td>0</td>\n",
              "      <td>114</td>\n",
              "    </tr>\n",
              "    <tr>\n",
              "      <th>17254</th>\n",
              "      <td>0.90</td>\n",
              "      <td>0.5</td>\n",
              "      <td>1</td>\n",
              "      <td>0.0</td>\n",
              "      <td>2.0</td>\n",
              "      <td>STEM</td>\n",
              "      <td>16.0</td>\n",
              "      <td>Oct-49</td>\n",
              "      <td>Pvt Ltd</td>\n",
              "      <td>1.0</td>\n",
              "      <td>36.00</td>\n",
              "      <td>0</td>\n",
              "      <td>10</td>\n",
              "    </tr>\n",
              "    <tr>\n",
              "      <th>17255</th>\n",
              "      <td>0.94</td>\n",
              "      <td>NaN</td>\n",
              "      <td>0</td>\n",
              "      <td>0.5</td>\n",
              "      <td>2.0</td>\n",
              "      <td>STEM</td>\n",
              "      <td>2.0</td>\n",
              "      <td>NaN</td>\n",
              "      <td>NaN</td>\n",
              "      <td>0.0</td>\n",
              "      <td>36.00</td>\n",
              "      <td>0</td>\n",
              "      <td>75</td>\n",
              "    </tr>\n",
              "    <tr>\n",
              "      <th>17256</th>\n",
              "      <td>0.72</td>\n",
              "      <td>0</td>\n",
              "      <td>1</td>\n",
              "      <td>0.0</td>\n",
              "      <td>3.0</td>\n",
              "      <td>STEM</td>\n",
              "      <td>21.0</td>\n",
              "      <td>&lt;10</td>\n",
              "      <td>Pvt Ltd</td>\n",
              "      <td>5.0</td>\n",
              "      <td>70.00</td>\n",
              "      <td>1</td>\n",
              "      <td>118</td>\n",
              "    </tr>\n",
              "  </tbody>\n",
              "</table>\n",
              "<p>17243 rows × 13 columns</p>\n",
              "</div>"
            ],
            "text/plain": [
              "       city_development_index gender  ...  target  cityNo\n",
              "0                        0.62      1  ...       1      21\n",
              "1                        0.62      1  ...       1      21\n",
              "2                        0.75      1  ...       1      73\n",
              "3                        0.87      1  ...       0      57\n",
              "4                        0.62      1  ...       1      21\n",
              "...                       ...    ...  ...     ...     ...\n",
              "17252                    0.94      1  ...       0      28\n",
              "17253                    0.93      1  ...       0     114\n",
              "17254                    0.90    0.5  ...       0      10\n",
              "17255                    0.94    NaN  ...       0      75\n",
              "17256                    0.72      0  ...       1     118\n",
              "\n",
              "[17243 rows x 13 columns]"
            ]
          },
          "metadata": {},
          "execution_count": 157
        }
      ]
    },
    {
      "cell_type": "code",
      "metadata": {
        "colab": {
          "base_uri": "https://localhost:8080/",
          "height": 351
        },
        "id": "W8uJD8LAlkVY",
        "outputId": "639309d7-d18a-4894-e745-19244641387c"
      },
      "source": [
        "df.corr()"
      ],
      "execution_count": null,
      "outputs": [
        {
          "output_type": "execute_result",
          "data": {
            "text/html": [
              "<div>\n",
              "<style scoped>\n",
              "    .dataframe tbody tr th:only-of-type {\n",
              "        vertical-align: middle;\n",
              "    }\n",
              "\n",
              "    .dataframe tbody tr th {\n",
              "        vertical-align: top;\n",
              "    }\n",
              "\n",
              "    .dataframe thead th {\n",
              "        text-align: right;\n",
              "    }\n",
              "</style>\n",
              "<table border=\"1\" class=\"dataframe\">\n",
              "  <thead>\n",
              "    <tr style=\"text-align: right;\">\n",
              "      <th></th>\n",
              "      <th>city_development_index</th>\n",
              "      <th>relevent_experience</th>\n",
              "      <th>enrolled_university</th>\n",
              "      <th>education_level</th>\n",
              "      <th>experience</th>\n",
              "      <th>last_new_job</th>\n",
              "      <th>training_hours</th>\n",
              "      <th>target</th>\n",
              "      <th>cityNo</th>\n",
              "    </tr>\n",
              "  </thead>\n",
              "  <tbody>\n",
              "    <tr>\n",
              "      <th>city_development_index</th>\n",
              "      <td>1.000000</td>\n",
              "      <td>0.012799</td>\n",
              "      <td>-0.119499</td>\n",
              "      <td>0.033252</td>\n",
              "      <td>0.299070</td>\n",
              "      <td>0.217981</td>\n",
              "      <td>0.015104</td>\n",
              "      <td>-0.382716</td>\n",
              "      <td>0.457675</td>\n",
              "    </tr>\n",
              "    <tr>\n",
              "      <th>relevent_experience</th>\n",
              "      <td>0.012799</td>\n",
              "      <td>1.000000</td>\n",
              "      <td>-0.418639</td>\n",
              "      <td>0.198021</td>\n",
              "      <td>0.299798</td>\n",
              "      <td>0.236459</td>\n",
              "      <td>0.020387</td>\n",
              "      <td>-0.095905</td>\n",
              "      <td>-0.025087</td>\n",
              "    </tr>\n",
              "    <tr>\n",
              "      <th>enrolled_university</th>\n",
              "      <td>-0.119499</td>\n",
              "      <td>-0.418639</td>\n",
              "      <td>1.000000</td>\n",
              "      <td>-0.152890</td>\n",
              "      <td>-0.304997</td>\n",
              "      <td>-0.224711</td>\n",
              "      <td>-0.013959</td>\n",
              "      <td>0.103662</td>\n",
              "      <td>-0.037363</td>\n",
              "    </tr>\n",
              "    <tr>\n",
              "      <th>education_level</th>\n",
              "      <td>0.033252</td>\n",
              "      <td>0.198021</td>\n",
              "      <td>-0.152890</td>\n",
              "      <td>1.000000</td>\n",
              "      <td>0.216612</td>\n",
              "      <td>0.189393</td>\n",
              "      <td>-0.009451</td>\n",
              "      <td>-0.061904</td>\n",
              "      <td>0.015961</td>\n",
              "    </tr>\n",
              "    <tr>\n",
              "      <th>experience</th>\n",
              "      <td>0.299070</td>\n",
              "      <td>0.299798</td>\n",
              "      <td>-0.304997</td>\n",
              "      <td>0.216612</td>\n",
              "      <td>1.000000</td>\n",
              "      <td>0.413364</td>\n",
              "      <td>0.008661</td>\n",
              "      <td>-0.148734</td>\n",
              "      <td>0.181418</td>\n",
              "    </tr>\n",
              "    <tr>\n",
              "      <th>last_new_job</th>\n",
              "      <td>0.217981</td>\n",
              "      <td>0.236459</td>\n",
              "      <td>-0.224711</td>\n",
              "      <td>0.189393</td>\n",
              "      <td>0.413364</td>\n",
              "      <td>1.000000</td>\n",
              "      <td>0.009694</td>\n",
              "      <td>-0.184172</td>\n",
              "      <td>0.127197</td>\n",
              "    </tr>\n",
              "    <tr>\n",
              "      <th>training_hours</th>\n",
              "      <td>0.015104</td>\n",
              "      <td>0.020387</td>\n",
              "      <td>-0.013959</td>\n",
              "      <td>-0.009451</td>\n",
              "      <td>0.008661</td>\n",
              "      <td>0.009694</td>\n",
              "      <td>1.000000</td>\n",
              "      <td>-0.055423</td>\n",
              "      <td>0.014990</td>\n",
              "    </tr>\n",
              "    <tr>\n",
              "      <th>target</th>\n",
              "      <td>-0.382716</td>\n",
              "      <td>-0.095905</td>\n",
              "      <td>0.103662</td>\n",
              "      <td>-0.061904</td>\n",
              "      <td>-0.148734</td>\n",
              "      <td>-0.184172</td>\n",
              "      <td>-0.055423</td>\n",
              "      <td>1.000000</td>\n",
              "      <td>-0.240174</td>\n",
              "    </tr>\n",
              "    <tr>\n",
              "      <th>cityNo</th>\n",
              "      <td>0.457675</td>\n",
              "      <td>-0.025087</td>\n",
              "      <td>-0.037363</td>\n",
              "      <td>0.015961</td>\n",
              "      <td>0.181418</td>\n",
              "      <td>0.127197</td>\n",
              "      <td>0.014990</td>\n",
              "      <td>-0.240174</td>\n",
              "      <td>1.000000</td>\n",
              "    </tr>\n",
              "  </tbody>\n",
              "</table>\n",
              "</div>"
            ],
            "text/plain": [
              "                        city_development_index  ...    cityNo\n",
              "city_development_index                1.000000  ...  0.457675\n",
              "relevent_experience                   0.012799  ... -0.025087\n",
              "enrolled_university                  -0.119499  ... -0.037363\n",
              "education_level                       0.033252  ...  0.015961\n",
              "experience                            0.299070  ...  0.181418\n",
              "last_new_job                          0.217981  ...  0.127197\n",
              "training_hours                        0.015104  ...  0.014990\n",
              "target                               -0.382716  ... -0.240174\n",
              "cityNo                                0.457675  ...  1.000000\n",
              "\n",
              "[9 rows x 9 columns]"
            ]
          },
          "metadata": {},
          "execution_count": 158
        }
      ]
    },
    {
      "cell_type": "code",
      "metadata": {
        "id": "7D5qHmsHqpTA"
      },
      "source": [
        "gender = df[[\"city_development_index\",\"gender\",\"relevent_experience\",\"enrolled_university\",\"education_level\",\"experience\",\"last_new_job\",\"training_hours\",\"target\",\"cityNo\"]]\n",
        "\n",
        "gender_test = test_df[[\"city_development_index\",\"gender\",\"relevent_experience\",\"enrolled_university\",\"education_level\",\"experience\",\"last_new_job\",\"training_hours\",\"cityNo\"]]"
      ],
      "execution_count": null,
      "outputs": []
    },
    {
      "cell_type": "code",
      "metadata": {
        "id": "Ea9xfx6qq3X2"
      },
      "source": [
        "DF = gender[gender['gender'].isnull()]\n",
        "\n",
        "DF_test = gender_test[gender_test['gender'].isnull()]"
      ],
      "execution_count": null,
      "outputs": []
    },
    {
      "cell_type": "code",
      "metadata": {
        "id": "1GQvUlrirCcW"
      },
      "source": [
        "gender = gender.dropna()\n",
        "\n",
        "gender_test = gender_test.dropna()"
      ],
      "execution_count": null,
      "outputs": []
    },
    {
      "cell_type": "code",
      "metadata": {
        "id": "TJmxeVykrH9a"
      },
      "source": [
        ""
      ],
      "execution_count": null,
      "outputs": []
    },
    {
      "cell_type": "code",
      "metadata": {
        "id": "7RmT4_8DrKj-"
      },
      "source": [
        "y_train = gender['gender']\n",
        "X_train = gender.drop('gender',axis=1)\n",
        "\n",
        "X_test = DF.drop('gender',axis=1)\n",
        "\n",
        "\n",
        "# y =p & x =R\n",
        "p_train = gender_test['gender']\n",
        "R_train = gender_test.drop('gender',axis=1)\n",
        "\n",
        "R_test = DF_test.drop('gender',axis=1)"
      ],
      "execution_count": null,
      "outputs": []
    },
    {
      "cell_type": "code",
      "metadata": {
        "colab": {
          "base_uri": "https://localhost:8080/"
        },
        "id": "0oMNgl91rd_a",
        "outputId": "774f4267-4ef6-4fda-b676-9a59a4b69d57"
      },
      "source": [
        "from sklearn.linear_model import LogisticRegression\n",
        "lr = LogisticRegression()\n",
        "\n",
        "lr.fit(X_train,y_train)\n",
        "y_pred = lr.predict(X_test)\n",
        "y_pred"
      ],
      "execution_count": null,
      "outputs": [
        {
          "output_type": "stream",
          "name": "stderr",
          "text": [
            "/usr/local/lib/python3.7/dist-packages/sklearn/linear_model/_logistic.py:940: ConvergenceWarning: lbfgs failed to converge (status=1):\n",
            "STOP: TOTAL NO. of ITERATIONS REACHED LIMIT.\n",
            "\n",
            "Increase the number of iterations (max_iter) or scale the data as shown in:\n",
            "    https://scikit-learn.org/stable/modules/preprocessing.html\n",
            "Please also refer to the documentation for alternative solver options:\n",
            "    https://scikit-learn.org/stable/modules/linear_model.html#logistic-regression\n",
            "  extra_warning_msg=_LOGISTIC_SOLVER_CONVERGENCE_MSG)\n"
          ]
        },
        {
          "output_type": "execute_result",
          "data": {
            "text/plain": [
              "array(['1', '1', '1', ..., '1', '1', '1'], dtype=object)"
            ]
          },
          "metadata": {},
          "execution_count": 163
        }
      ]
    },
    {
      "cell_type": "code",
      "metadata": {
        "colab": {
          "base_uri": "https://localhost:8080/"
        },
        "id": "UnINK-qjrnKH",
        "outputId": "9ce3c89c-9c67-4efa-c90d-74ed5d3ccef7"
      },
      "source": [
        "from sklearn.linear_model import LogisticRegression\n",
        "lr = LogisticRegression()\n",
        "\n",
        "lr.fit(R_train,p_train)\n",
        "y_pred = lr.predict(R_test)\n",
        "y_pred"
      ],
      "execution_count": null,
      "outputs": [
        {
          "output_type": "stream",
          "name": "stderr",
          "text": [
            "/usr/local/lib/python3.7/dist-packages/sklearn/linear_model/_logistic.py:940: ConvergenceWarning: lbfgs failed to converge (status=1):\n",
            "STOP: TOTAL NO. of ITERATIONS REACHED LIMIT.\n",
            "\n",
            "Increase the number of iterations (max_iter) or scale the data as shown in:\n",
            "    https://scikit-learn.org/stable/modules/preprocessing.html\n",
            "Please also refer to the documentation for alternative solver options:\n",
            "    https://scikit-learn.org/stable/modules/linear_model.html#logistic-regression\n",
            "  extra_warning_msg=_LOGISTIC_SOLVER_CONVERGENCE_MSG)\n"
          ]
        },
        {
          "output_type": "execute_result",
          "data": {
            "text/plain": [
              "array(['1', '1', '1', ..., '1', '1', '1'], dtype=object)"
            ]
          },
          "metadata": {},
          "execution_count": 164
        }
      ]
    },
    {
      "cell_type": "code",
      "metadata": {
        "colab": {
          "base_uri": "https://localhost:8080/",
          "height": 355
        },
        "id": "Shn5_pV3rtmT",
        "outputId": "4577762b-05c6-4ff6-da03-b664cc79e82d"
      },
      "source": [
        "from imblearn.over_sampling import SMOTE\n",
        "from collections import Counter\n",
        "from matplotlib import pyplot\n",
        "from sklearn.preprocessing import LabelEncoder\n",
        "\n",
        "\n",
        "oversample = SMOTE()\n",
        "X, y = oversample.fit_resample(X_train, y_train)\n",
        "# summarize distribution\n",
        "counter = Counter(y)\n",
        "for k,v in counter.items():\n",
        "\tper = v / len(y) * 100\n",
        "\t# print('Class=%d, n=%d (%.3f%%)' % (k, v, per))\n",
        "# plot the distribution\n",
        "pyplot.bar(counter.keys(), counter.values())\n",
        "pyplot.show()"
      ],
      "execution_count": null,
      "outputs": [
        {
          "output_type": "stream",
          "name": "stderr",
          "text": [
            "/usr/local/lib/python3.7/dist-packages/sklearn/utils/deprecation.py:87: FutureWarning: Function safe_indexing is deprecated; safe_indexing is deprecated in version 0.22 and will be removed in version 0.24.\n",
            "  warnings.warn(msg, category=FutureWarning)\n",
            "/usr/local/lib/python3.7/dist-packages/sklearn/utils/deprecation.py:87: FutureWarning: Function safe_indexing is deprecated; safe_indexing is deprecated in version 0.22 and will be removed in version 0.24.\n",
            "  warnings.warn(msg, category=FutureWarning)\n"
          ]
        },
        {
          "output_type": "display_data",
          "data": {
            "image/png": "[encoded data removed]",
            "text/plain": [
              "<Figure size 432x288 with 1 Axes>"
            ]
          },
          "metadata": {
            "needs_background": "light"
          }
        }
      ]
    },
    {
      "cell_type": "code",
      "metadata": {
        "colab": {
          "base_uri": "https://localhost:8080/",
          "height": 355
        },
        "id": "tNysMw_Er0vT",
        "outputId": "b12bf60c-83d5-4c68-91b1-dae5e9b34344"
      },
      "source": [
        "from imblearn.over_sampling import SMOTE\n",
        "from collections import Counter\n",
        "from matplotlib import pyplot\n",
        "from sklearn.preprocessing import LabelEncoder\n",
        "\n",
        "\n",
        "oversample = SMOTE()\n",
        "X, y = oversample.fit_resample(R_train, p_train)\n",
        "# summarize distribution\n",
        "counter = Counter(y)\n",
        "for k,v in counter.items():\n",
        "\tper = v / len(y) * 100\n",
        "\t# print('Class=%d, n=%d (%.3f%%)' % (k, v, per))\n",
        "# plot the distribution\n",
        "pyplot.bar(counter.keys(), counter.values())\n",
        "pyplot.show()"
      ],
      "execution_count": null,
      "outputs": [
        {
          "output_type": "stream",
          "name": "stderr",
          "text": [
            "/usr/local/lib/python3.7/dist-packages/sklearn/utils/deprecation.py:87: FutureWarning: Function safe_indexing is deprecated; safe_indexing is deprecated in version 0.22 and will be removed in version 0.24.\n",
            "  warnings.warn(msg, category=FutureWarning)\n",
            "/usr/local/lib/python3.7/dist-packages/sklearn/utils/deprecation.py:87: FutureWarning: Function safe_indexing is deprecated; safe_indexing is deprecated in version 0.22 and will be removed in version 0.24.\n",
            "  warnings.warn(msg, category=FutureWarning)\n"
          ]
        },
        {
          "output_type": "display_data",
          "data": {
            "image/png": "[encoded data removed]",
            "text/plain": [
              "<Figure size 432x288 with 1 Axes>"
            ]
          },
          "metadata": {
            "needs_background": "light"
          }
        }
      ]
    },
    {
      "cell_type": "code",
      "metadata": {
        "colab": {
          "base_uri": "https://localhost:8080/"
        },
        "id": "VwUygXJrr62-",
        "outputId": "3f385617-85ff-40ed-fd5d-c1d6c8d10206"
      },
      "source": [
        "# TRAINING DATA\n",
        "from imblearn.over_sampling import SMOTE\n",
        "\n",
        "smote = SMOTE(sampling_strategy='minority')\n",
        "X_sm, y_sm = smote.fit_sample(X_train, y_train)\n",
        "\n",
        "\n",
        "# TESTING DATA\n",
        "\n",
        "from imblearn.over_sampling import SMOTE\n",
        "\n",
        "smote = SMOTE(sampling_strategy='minority')\n",
        "R_sm, p_sm = smote.fit_sample(R_train, p_train)\n"
      ],
      "execution_count": null,
      "outputs": [
        {
          "output_type": "stream",
          "name": "stderr",
          "text": [
            "/usr/local/lib/python3.7/dist-packages/sklearn/utils/deprecation.py:87: FutureWarning: Function safe_indexing is deprecated; safe_indexing is deprecated in version 0.22 and will be removed in version 0.24.\n",
            "  warnings.warn(msg, category=FutureWarning)\n",
            "/usr/local/lib/python3.7/dist-packages/sklearn/utils/deprecation.py:87: FutureWarning: Function safe_indexing is deprecated; safe_indexing is deprecated in version 0.22 and will be removed in version 0.24.\n",
            "  warnings.warn(msg, category=FutureWarning)\n"
          ]
        }
      ]
    },
    {
      "cell_type": "code",
      "metadata": {
        "colab": {
          "base_uri": "https://localhost:8080/"
        },
        "id": "5cs2y0PhsG0-",
        "outputId": "73b7d0b5-0ec8-472c-e76c-69aabd7f547d"
      },
      "source": [
        "\n",
        "from sklearn.model_selection import train_test_split\n",
        "X_train, X_test, y_train, y_test = train_test_split(X_sm, y_sm, random_state=15)\n",
        "from sklearn.tree import DecisionTreeClassifier\n",
        "clf = DecisionTreeClassifier(random_state=0)\n",
        "clf.fit(X_train,y_train)\n",
        "y_pred = clf.predict(X_test)\n",
        "y_pred"
      ],
      "execution_count": null,
      "outputs": [
        {
          "output_type": "execute_result",
          "data": {
            "text/plain": [
              "array(['1', '1', '0.5', ..., '1', '0.5', '1'], dtype=object)"
            ]
          },
          "metadata": {},
          "execution_count": 168
        }
      ]
    },
    {
      "cell_type": "code",
      "metadata": {
        "colab": {
          "base_uri": "https://localhost:8080/"
        },
        "id": "ED2AvRzssKLJ",
        "outputId": "9837f266-cfcb-4874-db3b-0e89a20bc444"
      },
      "source": [
        "\n",
        "from sklearn.model_selection import train_test_split\n",
        "R_train, R_test, p_train, p_test = train_test_split(R_sm, p_sm, random_state=15)\n",
        "from sklearn.tree import DecisionTreeClassifier\n",
        "clf1 = DecisionTreeClassifier(random_state=0)\n",
        "clf1.fit(R_train,p_train)\n",
        "y_pred1 = clf1.predict(R_test)\n",
        "y_pred1"
      ],
      "execution_count": null,
      "outputs": [
        {
          "output_type": "execute_result",
          "data": {
            "text/plain": [
              "array(['0.5', '1', '0.5', ..., '1', '0.5', '0.5'], dtype=object)"
            ]
          },
          "metadata": {},
          "execution_count": 169
        }
      ]
    },
    {
      "cell_type": "code",
      "metadata": {
        "colab": {
          "base_uri": "https://localhost:8080/"
        },
        "id": "15YzUEgNsbd6",
        "outputId": "b19b7e5d-60fc-4b6a-8746-5c50e46700ea"
      },
      "source": [
        "# for printing accuracy score\n",
        "from sklearn.metrics import accuracy_score\n",
        "print(accuracy_score(y_pred,y_test))\n",
        "\n",
        "print(accuracy_score(y_pred1,p_test))"
      ],
      "execution_count": null,
      "outputs": [
        {
          "output_type": "stream",
          "name": "stdout",
          "text": [
            "0.9255906719852716\n",
            "0.9349330872173511\n"
          ]
        }
      ]
    },
    {
      "cell_type": "code",
      "metadata": {
        "id": "fgQVjcipsjuf"
      },
      "source": [
        "g2 = df[[\"city_development_index\",\"gender\",\"relevent_experience\",\"enrolled_university\",\"education_level\",\"experience\",\"last_new_job\",\"training_hours\",\"target\",\"cityNo\"]]"
      ],
      "execution_count": null,
      "outputs": []
    },
    {
      "cell_type": "code",
      "metadata": {
        "colab": {
          "base_uri": "https://localhost:8080/",
          "height": 443
        },
        "id": "owMFTitPuIi2",
        "outputId": "f01b2f54-ffdd-426c-9473-ff8143172ac6"
      },
      "source": [
        "g2"
      ],
      "execution_count": null,
      "outputs": [
        {
          "output_type": "execute_result",
          "data": {
            "text/html": [
              "<div>\n",
              "<style scoped>\n",
              "    .dataframe tbody tr th:only-of-type {\n",
              "        vertical-align: middle;\n",
              "    }\n",
              "\n",
              "    .dataframe tbody tr th {\n",
              "        vertical-align: top;\n",
              "    }\n",
              "\n",
              "    .dataframe thead th {\n",
              "        text-align: right;\n",
              "    }\n",
              "</style>\n",
              "<table border=\"1\" class=\"dataframe\">\n",
              "  <thead>\n",
              "    <tr style=\"text-align: right;\">\n",
              "      <th></th>\n",
              "      <th>city_development_index</th>\n",
              "      <th>gender</th>\n",
              "      <th>relevent_experience</th>\n",
              "      <th>enrolled_university</th>\n",
              "      <th>education_level</th>\n",
              "      <th>experience</th>\n",
              "      <th>last_new_job</th>\n",
              "      <th>training_hours</th>\n",
              "      <th>target</th>\n",
              "      <th>cityNo</th>\n",
              "    </tr>\n",
              "  </thead>\n",
              "  <tbody>\n",
              "    <tr>\n",
              "      <th>0</th>\n",
              "      <td>0.62</td>\n",
              "      <td>1</td>\n",
              "      <td>0</td>\n",
              "      <td>1.0</td>\n",
              "      <td>2.0</td>\n",
              "      <td>3.0</td>\n",
              "      <td>0.0</td>\n",
              "      <td>31.37</td>\n",
              "      <td>1</td>\n",
              "      <td>21</td>\n",
              "    </tr>\n",
              "    <tr>\n",
              "      <th>1</th>\n",
              "      <td>0.62</td>\n",
              "      <td>1</td>\n",
              "      <td>0</td>\n",
              "      <td>1.0</td>\n",
              "      <td>2.0</td>\n",
              "      <td>0.0</td>\n",
              "      <td>1.0</td>\n",
              "      <td>63.99</td>\n",
              "      <td>1</td>\n",
              "      <td>21</td>\n",
              "    </tr>\n",
              "    <tr>\n",
              "      <th>2</th>\n",
              "      <td>0.75</td>\n",
              "      <td>1</td>\n",
              "      <td>0</td>\n",
              "      <td>1.0</td>\n",
              "      <td>2.0</td>\n",
              "      <td>0.0</td>\n",
              "      <td>0.0</td>\n",
              "      <td>19.00</td>\n",
              "      <td>1</td>\n",
              "      <td>73</td>\n",
              "    </tr>\n",
              "    <tr>\n",
              "      <th>3</th>\n",
              "      <td>0.87</td>\n",
              "      <td>1</td>\n",
              "      <td>0</td>\n",
              "      <td>0.0</td>\n",
              "      <td>4.0</td>\n",
              "      <td>9.0</td>\n",
              "      <td>5.0</td>\n",
              "      <td>53.00</td>\n",
              "      <td>0</td>\n",
              "      <td>57</td>\n",
              "    </tr>\n",
              "    <tr>\n",
              "      <th>4</th>\n",
              "      <td>0.62</td>\n",
              "      <td>1</td>\n",
              "      <td>1</td>\n",
              "      <td>0.0</td>\n",
              "      <td>3.0</td>\n",
              "      <td>5.0</td>\n",
              "      <td>5.0</td>\n",
              "      <td>108.00</td>\n",
              "      <td>1</td>\n",
              "      <td>21</td>\n",
              "    </tr>\n",
              "    <tr>\n",
              "      <th>...</th>\n",
              "      <td>...</td>\n",
              "      <td>...</td>\n",
              "      <td>...</td>\n",
              "      <td>...</td>\n",
              "      <td>...</td>\n",
              "      <td>...</td>\n",
              "      <td>...</td>\n",
              "      <td>...</td>\n",
              "      <td>...</td>\n",
              "      <td>...</td>\n",
              "    </tr>\n",
              "    <tr>\n",
              "      <th>17252</th>\n",
              "      <td>0.94</td>\n",
              "      <td>1</td>\n",
              "      <td>0</td>\n",
              "      <td>0.0</td>\n",
              "      <td>1.0</td>\n",
              "      <td>4.0</td>\n",
              "      <td>4.0</td>\n",
              "      <td>144.00</td>\n",
              "      <td>0</td>\n",
              "      <td>28</td>\n",
              "    </tr>\n",
              "    <tr>\n",
              "      <th>17253</th>\n",
              "      <td>0.93</td>\n",
              "      <td>1</td>\n",
              "      <td>1</td>\n",
              "      <td>1.0</td>\n",
              "      <td>3.0</td>\n",
              "      <td>16.0</td>\n",
              "      <td>2.0</td>\n",
              "      <td>8.00</td>\n",
              "      <td>0</td>\n",
              "      <td>114</td>\n",
              "    </tr>\n",
              "    <tr>\n",
              "      <th>17254</th>\n",
              "      <td>0.90</td>\n",
              "      <td>0.5</td>\n",
              "      <td>1</td>\n",
              "      <td>0.0</td>\n",
              "      <td>2.0</td>\n",
              "      <td>16.0</td>\n",
              "      <td>1.0</td>\n",
              "      <td>36.00</td>\n",
              "      <td>0</td>\n",
              "      <td>10</td>\n",
              "    </tr>\n",
              "    <tr>\n",
              "      <th>17255</th>\n",
              "      <td>0.94</td>\n",
              "      <td>NaN</td>\n",
              "      <td>0</td>\n",
              "      <td>0.5</td>\n",
              "      <td>2.0</td>\n",
              "      <td>2.0</td>\n",
              "      <td>0.0</td>\n",
              "      <td>36.00</td>\n",
              "      <td>0</td>\n",
              "      <td>75</td>\n",
              "    </tr>\n",
              "    <tr>\n",
              "      <th>17256</th>\n",
              "      <td>0.72</td>\n",
              "      <td>0</td>\n",
              "      <td>1</td>\n",
              "      <td>0.0</td>\n",
              "      <td>3.0</td>\n",
              "      <td>21.0</td>\n",
              "      <td>5.0</td>\n",
              "      <td>70.00</td>\n",
              "      <td>1</td>\n",
              "      <td>118</td>\n",
              "    </tr>\n",
              "  </tbody>\n",
              "</table>\n",
              "<p>17243 rows × 10 columns</p>\n",
              "</div>"
            ],
            "text/plain": [
              "       city_development_index gender  ...  target  cityNo\n",
              "0                        0.62      1  ...       1      21\n",
              "1                        0.62      1  ...       1      21\n",
              "2                        0.75      1  ...       1      73\n",
              "3                        0.87      1  ...       0      57\n",
              "4                        0.62      1  ...       1      21\n",
              "...                       ...    ...  ...     ...     ...\n",
              "17252                    0.94      1  ...       0      28\n",
              "17253                    0.93      1  ...       0     114\n",
              "17254                    0.90    0.5  ...       0      10\n",
              "17255                    0.94    NaN  ...       0      75\n",
              "17256                    0.72      0  ...       1     118\n",
              "\n",
              "[17243 rows x 10 columns]"
            ]
          },
          "metadata": {},
          "execution_count": 182
        }
      ]
    },
    {
      "cell_type": "code",
      "metadata": {
        "colab": {
          "base_uri": "https://localhost:8080/",
          "height": 790
        },
        "id": "KBjTFj0yuJLu",
        "outputId": "1c4acb8d-74c8-4635-efc7-2a36667435b1"
      },
      "source": [
        "g3 = g2.drop('gender',axis=1)\n",
        "target = clf.predict(g3)\n",
        "res = pd.DataFrame(target) \n",
        "res.columns = [\"gender_predicted\"]\n",
        "print(g2)\n",
        "print(res.head())\n",
        "df4 = df.drop('gender',axis=1)\n",
        "# frames = [res, df4]\n",
        "# result = pd.concat(frames)\n",
        "\n",
        "result = pd.concat([df4, res], axis=1, join='inner')\n",
        "display(result)"
      ],
      "execution_count": null,
      "outputs": [
        {
          "output_type": "stream",
          "name": "stdout",
          "text": [
            "       city_development_index gender  ...  target  cityNo\n",
            "0                        0.62      1  ...       1      21\n",
            "1                        0.62      1  ...       1      21\n",
            "2                        0.75      1  ...       1      73\n",
            "3                        0.87      1  ...       0      57\n",
            "4                        0.62      1  ...       1      21\n",
            "...                       ...    ...  ...     ...     ...\n",
            "17252                    0.94      1  ...       0      28\n",
            "17253                    0.93      1  ...       0     114\n",
            "17254                    0.90    0.5  ...       0      10\n",
            "17255                    0.94    NaN  ...       0      75\n",
            "17256                    0.72      0  ...       1     118\n",
            "\n",
            "[17243 rows x 10 columns]\n",
            "  gender_predicted\n",
            "0                1\n",
            "1                1\n",
            "2                1\n",
            "3                1\n",
            "4                1\n"
          ]
        },
        {
          "output_type": "display_data",
          "data": {
            "text/html": [
              "<div>\n",
              "<style scoped>\n",
              "    .dataframe tbody tr th:only-of-type {\n",
              "        vertical-align: middle;\n",
              "    }\n",
              "\n",
              "    .dataframe tbody tr th {\n",
              "        vertical-align: top;\n",
              "    }\n",
              "\n",
              "    .dataframe thead th {\n",
              "        text-align: right;\n",
              "    }\n",
              "</style>\n",
              "<table border=\"1\" class=\"dataframe\">\n",
              "  <thead>\n",
              "    <tr style=\"text-align: right;\">\n",
              "      <th></th>\n",
              "      <th>city_development_index</th>\n",
              "      <th>relevent_experience</th>\n",
              "      <th>enrolled_university</th>\n",
              "      <th>education_level</th>\n",
              "      <th>major_discipline</th>\n",
              "      <th>experience</th>\n",
              "      <th>company_size</th>\n",
              "      <th>company_type</th>\n",
              "      <th>last_new_job</th>\n",
              "      <th>training_hours</th>\n",
              "      <th>target</th>\n",
              "      <th>cityNo</th>\n",
              "      <th>gender_predicted</th>\n",
              "    </tr>\n",
              "  </thead>\n",
              "  <tbody>\n",
              "    <tr>\n",
              "      <th>0</th>\n",
              "      <td>0.62</td>\n",
              "      <td>0</td>\n",
              "      <td>1.0</td>\n",
              "      <td>2.0</td>\n",
              "      <td>STEM</td>\n",
              "      <td>3.0</td>\n",
              "      <td>NaN</td>\n",
              "      <td>Pvt Ltd</td>\n",
              "      <td>0.0</td>\n",
              "      <td>31.37</td>\n",
              "      <td>1</td>\n",
              "      <td>21</td>\n",
              "      <td>1</td>\n",
              "    </tr>\n",
              "    <tr>\n",
              "      <th>1</th>\n",
              "      <td>0.62</td>\n",
              "      <td>0</td>\n",
              "      <td>1.0</td>\n",
              "      <td>2.0</td>\n",
              "      <td>STEM</td>\n",
              "      <td>0.0</td>\n",
              "      <td>NaN</td>\n",
              "      <td>NaN</td>\n",
              "      <td>1.0</td>\n",
              "      <td>63.99</td>\n",
              "      <td>1</td>\n",
              "      <td>21</td>\n",
              "      <td>1</td>\n",
              "    </tr>\n",
              "    <tr>\n",
              "      <th>2</th>\n",
              "      <td>0.75</td>\n",
              "      <td>0</td>\n",
              "      <td>1.0</td>\n",
              "      <td>2.0</td>\n",
              "      <td>STEM</td>\n",
              "      <td>0.0</td>\n",
              "      <td>NaN</td>\n",
              "      <td>NaN</td>\n",
              "      <td>0.0</td>\n",
              "      <td>19.00</td>\n",
              "      <td>1</td>\n",
              "      <td>73</td>\n",
              "      <td>1</td>\n",
              "    </tr>\n",
              "    <tr>\n",
              "      <th>3</th>\n",
              "      <td>0.87</td>\n",
              "      <td>0</td>\n",
              "      <td>0.0</td>\n",
              "      <td>4.0</td>\n",
              "      <td>STEM</td>\n",
              "      <td>9.0</td>\n",
              "      <td>100-500</td>\n",
              "      <td>Pvt Ltd</td>\n",
              "      <td>5.0</td>\n",
              "      <td>53.00</td>\n",
              "      <td>0</td>\n",
              "      <td>57</td>\n",
              "      <td>1</td>\n",
              "    </tr>\n",
              "    <tr>\n",
              "      <th>4</th>\n",
              "      <td>0.62</td>\n",
              "      <td>1</td>\n",
              "      <td>0.0</td>\n",
              "      <td>3.0</td>\n",
              "      <td>STEM</td>\n",
              "      <td>5.0</td>\n",
              "      <td>50-99</td>\n",
              "      <td>Pvt Ltd</td>\n",
              "      <td>5.0</td>\n",
              "      <td>108.00</td>\n",
              "      <td>1</td>\n",
              "      <td>21</td>\n",
              "      <td>1</td>\n",
              "    </tr>\n",
              "    <tr>\n",
              "      <th>...</th>\n",
              "      <td>...</td>\n",
              "      <td>...</td>\n",
              "      <td>...</td>\n",
              "      <td>...</td>\n",
              "      <td>...</td>\n",
              "      <td>...</td>\n",
              "      <td>...</td>\n",
              "      <td>...</td>\n",
              "      <td>...</td>\n",
              "      <td>...</td>\n",
              "      <td>...</td>\n",
              "      <td>...</td>\n",
              "      <td>...</td>\n",
              "    </tr>\n",
              "    <tr>\n",
              "      <th>17238</th>\n",
              "      <td>0.92</td>\n",
              "      <td>1</td>\n",
              "      <td>0.0</td>\n",
              "      <td>2.0</td>\n",
              "      <td>STEM</td>\n",
              "      <td>21.0</td>\n",
              "      <td>NaN</td>\n",
              "      <td>NaN</td>\n",
              "      <td>5.0</td>\n",
              "      <td>14.00</td>\n",
              "      <td>1</td>\n",
              "      <td>103</td>\n",
              "      <td>1</td>\n",
              "    </tr>\n",
              "    <tr>\n",
              "      <th>17239</th>\n",
              "      <td>0.93</td>\n",
              "      <td>1</td>\n",
              "      <td>0.5</td>\n",
              "      <td>1.0</td>\n",
              "      <td>NaN</td>\n",
              "      <td>18.0</td>\n",
              "      <td>100-500</td>\n",
              "      <td>Pvt Ltd</td>\n",
              "      <td>1.0</td>\n",
              "      <td>13.00</td>\n",
              "      <td>0</td>\n",
              "      <td>114</td>\n",
              "      <td>1</td>\n",
              "    </tr>\n",
              "    <tr>\n",
              "      <th>17240</th>\n",
              "      <td>0.91</td>\n",
              "      <td>1</td>\n",
              "      <td>0.5</td>\n",
              "      <td>2.0</td>\n",
              "      <td>STEM</td>\n",
              "      <td>7.0</td>\n",
              "      <td>100-500</td>\n",
              "      <td>Pvt Ltd</td>\n",
              "      <td>1.0</td>\n",
              "      <td>18.00</td>\n",
              "      <td>0</td>\n",
              "      <td>61</td>\n",
              "      <td>0.5</td>\n",
              "    </tr>\n",
              "    <tr>\n",
              "      <th>17241</th>\n",
              "      <td>0.66</td>\n",
              "      <td>1</td>\n",
              "      <td>0.0</td>\n",
              "      <td>2.0</td>\n",
              "      <td>STEM</td>\n",
              "      <td>5.0</td>\n",
              "      <td>50-99</td>\n",
              "      <td>Pvt Ltd</td>\n",
              "      <td>1.0</td>\n",
              "      <td>39.41</td>\n",
              "      <td>1</td>\n",
              "      <td>21</td>\n",
              "      <td>1</td>\n",
              "    </tr>\n",
              "    <tr>\n",
              "      <th>17242</th>\n",
              "      <td>0.62</td>\n",
              "      <td>1</td>\n",
              "      <td>0.0</td>\n",
              "      <td>2.0</td>\n",
              "      <td>STEM</td>\n",
              "      <td>7.0</td>\n",
              "      <td>10000+</td>\n",
              "      <td>Pvt Ltd</td>\n",
              "      <td>2.0</td>\n",
              "      <td>46.03</td>\n",
              "      <td>1</td>\n",
              "      <td>21</td>\n",
              "      <td>0</td>\n",
              "    </tr>\n",
              "  </tbody>\n",
              "</table>\n",
              "<p>17229 rows × 13 columns</p>\n",
              "</div>"
            ],
            "text/plain": [
              "       city_development_index  relevent_experience  ...  cityNo  gender_predicted\n",
              "0                        0.62                    0  ...      21                 1\n",
              "1                        0.62                    0  ...      21                 1\n",
              "2                        0.75                    0  ...      73                 1\n",
              "3                        0.87                    0  ...      57                 1\n",
              "4                        0.62                    1  ...      21                 1\n",
              "...                       ...                  ...  ...     ...               ...\n",
              "17238                    0.92                    1  ...     103                 1\n",
              "17239                    0.93                    1  ...     114                 1\n",
              "17240                    0.91                    1  ...      61               0.5\n",
              "17241                    0.66                    1  ...      21                 1\n",
              "17242                    0.62                    1  ...      21                 0\n",
              "\n",
              "[17229 rows x 13 columns]"
            ]
          },
          "metadata": {}
        }
      ]
    },
    {
      "cell_type": "code",
      "metadata": {
        "id": "ARrbx_9LzojV"
      },
      "source": [
        "result['gender_predicted'] = result['gender_predicted'].astype(str).astype(float)"
      ],
      "execution_count": null,
      "outputs": []
    },
    {
      "cell_type": "code",
      "metadata": {
        "id": "NtPDl3l50K_w"
      },
      "source": [
        "g2_test = test_df[[\"city_development_index\",\"gender\",\"relevent_experience\",\"enrolled_university\",\"education_level\",\"experience\",\"last_new_job\",\"training_hours\",\"cityNo\"]]"
      ],
      "execution_count": null,
      "outputs": []
    },
    {
      "cell_type": "code",
      "metadata": {
        "colab": {
          "base_uri": "https://localhost:8080/",
          "height": 807
        },
        "id": "GtLaV2cm3HHT",
        "outputId": "69d0b048-973b-4394-9cbd-ebd8a7412fb7"
      },
      "source": [
        "g3_test = g2_test.drop('gender',axis=1)\n",
        "target_test = clf1.predict(g3_test)\n",
        "res = pd.DataFrame(target_test) \n",
        "res.columns = [\"gender_predicted\"]\n",
        "print(g2_test)\n",
        "print(res.head())\n",
        "\n",
        "\n",
        "\n",
        "df4_test = test_df.drop('gender',axis=1)\n",
        "# frames = [res, df4]\n",
        "# result = pd.concat(frames)\n",
        "\n",
        "result_test = pd.concat([df4_test, res], axis=1, join='inner')\n",
        "display(result_test)"
      ],
      "execution_count": null,
      "outputs": [
        {
          "output_type": "stream",
          "name": "stdout",
          "text": [
            "       city_development_index gender  ...  training_hours  cityNo\n",
            "0                        0.56    NaN  ...           31.00     101\n",
            "1                        0.77      1  ...           53.43     114\n",
            "2                        0.62      1  ...           12.00      21\n",
            "3                        0.60      1  ...           55.46      21\n",
            "4                        0.92      1  ...           56.00     160\n",
            "...                       ...    ...  ...             ...     ...\n",
            "11500                    0.88      1  ...           44.00      71\n",
            "11501                    0.70    NaN  ...           23.00     150\n",
            "11502                    0.62      1  ...           33.00      21\n",
            "11503                    0.92    NaN  ...           25.00      21\n",
            "11504                    0.79      1  ...           51.78      71\n",
            "\n",
            "[11505 rows x 9 columns]\n",
            "  gender_predicted\n",
            "0                1\n",
            "1                1\n",
            "2                1\n",
            "3                1\n",
            "4                1\n"
          ]
        },
        {
          "output_type": "display_data",
          "data": {
            "text/html": [
              "<div>\n",
              "<style scoped>\n",
              "    .dataframe tbody tr th:only-of-type {\n",
              "        vertical-align: middle;\n",
              "    }\n",
              "\n",
              "    .dataframe tbody tr th {\n",
              "        vertical-align: top;\n",
              "    }\n",
              "\n",
              "    .dataframe thead th {\n",
              "        text-align: right;\n",
              "    }\n",
              "</style>\n",
              "<table border=\"1\" class=\"dataframe\">\n",
              "  <thead>\n",
              "    <tr style=\"text-align: right;\">\n",
              "      <th></th>\n",
              "      <th>city_development_index</th>\n",
              "      <th>relevent_experience</th>\n",
              "      <th>enrolled_university</th>\n",
              "      <th>education_level</th>\n",
              "      <th>major_discipline</th>\n",
              "      <th>experience</th>\n",
              "      <th>company_size</th>\n",
              "      <th>company_type</th>\n",
              "      <th>last_new_job</th>\n",
              "      <th>training_hours</th>\n",
              "      <th>cityNo</th>\n",
              "      <th>gender_predicted</th>\n",
              "    </tr>\n",
              "  </thead>\n",
              "  <tbody>\n",
              "    <tr>\n",
              "      <th>0</th>\n",
              "      <td>0.56</td>\n",
              "      <td>0</td>\n",
              "      <td>0.0</td>\n",
              "      <td>1.0</td>\n",
              "      <td>NaN</td>\n",
              "      <td>6.0</td>\n",
              "      <td>NaN</td>\n",
              "      <td>NaN</td>\n",
              "      <td>0.0</td>\n",
              "      <td>31.00</td>\n",
              "      <td>101</td>\n",
              "      <td>1</td>\n",
              "    </tr>\n",
              "    <tr>\n",
              "      <th>1</th>\n",
              "      <td>0.77</td>\n",
              "      <td>1</td>\n",
              "      <td>0.0</td>\n",
              "      <td>2.0</td>\n",
              "      <td>STEM</td>\n",
              "      <td>8.0</td>\n",
              "      <td>NaN</td>\n",
              "      <td>NaN</td>\n",
              "      <td>2.0</td>\n",
              "      <td>53.43</td>\n",
              "      <td>114</td>\n",
              "      <td>1</td>\n",
              "    </tr>\n",
              "    <tr>\n",
              "      <th>2</th>\n",
              "      <td>0.62</td>\n",
              "      <td>0</td>\n",
              "      <td>1.0</td>\n",
              "      <td>2.0</td>\n",
              "      <td>STEM</td>\n",
              "      <td>2.0</td>\n",
              "      <td>NaN</td>\n",
              "      <td>NaN</td>\n",
              "      <td>0.0</td>\n",
              "      <td>12.00</td>\n",
              "      <td>21</td>\n",
              "      <td>1</td>\n",
              "    </tr>\n",
              "    <tr>\n",
              "      <th>3</th>\n",
              "      <td>0.60</td>\n",
              "      <td>1</td>\n",
              "      <td>0.0</td>\n",
              "      <td>2.0</td>\n",
              "      <td>STEM</td>\n",
              "      <td>8.0</td>\n",
              "      <td>Oct-49</td>\n",
              "      <td>NaN</td>\n",
              "      <td>1.0</td>\n",
              "      <td>55.46</td>\n",
              "      <td>21</td>\n",
              "      <td>1</td>\n",
              "    </tr>\n",
              "    <tr>\n",
              "      <th>4</th>\n",
              "      <td>0.92</td>\n",
              "      <td>0</td>\n",
              "      <td>0.0</td>\n",
              "      <td>2.0</td>\n",
              "      <td>STEM</td>\n",
              "      <td>8.0</td>\n",
              "      <td>NaN</td>\n",
              "      <td>Public Sector</td>\n",
              "      <td>1.0</td>\n",
              "      <td>56.00</td>\n",
              "      <td>160</td>\n",
              "      <td>1</td>\n",
              "    </tr>\n",
              "    <tr>\n",
              "      <th>...</th>\n",
              "      <td>...</td>\n",
              "      <td>...</td>\n",
              "      <td>...</td>\n",
              "      <td>...</td>\n",
              "      <td>...</td>\n",
              "      <td>...</td>\n",
              "      <td>...</td>\n",
              "      <td>...</td>\n",
              "      <td>...</td>\n",
              "      <td>...</td>\n",
              "      <td>...</td>\n",
              "      <td>...</td>\n",
              "    </tr>\n",
              "    <tr>\n",
              "      <th>11500</th>\n",
              "      <td>0.88</td>\n",
              "      <td>1</td>\n",
              "      <td>0.0</td>\n",
              "      <td>3.0</td>\n",
              "      <td>STEM</td>\n",
              "      <td>3.0</td>\n",
              "      <td>50-99</td>\n",
              "      <td>Funded Startup</td>\n",
              "      <td>2.0</td>\n",
              "      <td>44.00</td>\n",
              "      <td>71</td>\n",
              "      <td>1</td>\n",
              "    </tr>\n",
              "    <tr>\n",
              "      <th>11501</th>\n",
              "      <td>0.70</td>\n",
              "      <td>0</td>\n",
              "      <td>1.0</td>\n",
              "      <td>1.0</td>\n",
              "      <td>NaN</td>\n",
              "      <td>0.0</td>\n",
              "      <td>NaN</td>\n",
              "      <td>NaN</td>\n",
              "      <td>0.0</td>\n",
              "      <td>23.00</td>\n",
              "      <td>150</td>\n",
              "      <td>1</td>\n",
              "    </tr>\n",
              "    <tr>\n",
              "      <th>11502</th>\n",
              "      <td>0.62</td>\n",
              "      <td>1</td>\n",
              "      <td>1.0</td>\n",
              "      <td>2.0</td>\n",
              "      <td>STEM</td>\n",
              "      <td>3.0</td>\n",
              "      <td>NaN</td>\n",
              "      <td>Pvt Ltd</td>\n",
              "      <td>1.0</td>\n",
              "      <td>33.00</td>\n",
              "      <td>21</td>\n",
              "      <td>1</td>\n",
              "    </tr>\n",
              "    <tr>\n",
              "      <th>11503</th>\n",
              "      <td>0.92</td>\n",
              "      <td>0</td>\n",
              "      <td>0.0</td>\n",
              "      <td>2.0</td>\n",
              "      <td>STEM</td>\n",
              "      <td>11.0</td>\n",
              "      <td>NaN</td>\n",
              "      <td>NaN</td>\n",
              "      <td>0.0</td>\n",
              "      <td>25.00</td>\n",
              "      <td>21</td>\n",
              "      <td>1</td>\n",
              "    </tr>\n",
              "    <tr>\n",
              "      <th>11504</th>\n",
              "      <td>0.79</td>\n",
              "      <td>0</td>\n",
              "      <td>0.0</td>\n",
              "      <td>2.0</td>\n",
              "      <td>STEM</td>\n",
              "      <td>4.0</td>\n",
              "      <td>NaN</td>\n",
              "      <td>NaN</td>\n",
              "      <td>0.0</td>\n",
              "      <td>51.78</td>\n",
              "      <td>71</td>\n",
              "      <td>1</td>\n",
              "    </tr>\n",
              "  </tbody>\n",
              "</table>\n",
              "<p>11505 rows × 12 columns</p>\n",
              "</div>"
            ],
            "text/plain": [
              "       city_development_index  relevent_experience  ...  cityNo  gender_predicted\n",
              "0                        0.56                    0  ...     101                 1\n",
              "1                        0.77                    1  ...     114                 1\n",
              "2                        0.62                    0  ...      21                 1\n",
              "3                        0.60                    1  ...      21                 1\n",
              "4                        0.92                    0  ...     160                 1\n",
              "...                       ...                  ...  ...     ...               ...\n",
              "11500                    0.88                    1  ...      71                 1\n",
              "11501                    0.70                    0  ...     150                 1\n",
              "11502                    0.62                    1  ...      21                 1\n",
              "11503                    0.92                    0  ...      21                 1\n",
              "11504                    0.79                    0  ...      71                 1\n",
              "\n",
              "[11505 rows x 12 columns]"
            ]
          },
          "metadata": {}
        }
      ]
    },
    {
      "cell_type": "code",
      "metadata": {
        "colab": {
          "base_uri": "https://localhost:8080/"
        },
        "id": "YNn5HQZG4hYE",
        "outputId": "3250481b-68a1-42d6-9cc2-34f1390c51be"
      },
      "source": [
        "result.isnull().sum()"
      ],
      "execution_count": null,
      "outputs": [
        {
          "output_type": "execute_result",
          "data": {
            "text/plain": [
              "city_development_index       0\n",
              "relevent_experience          0\n",
              "enrolled_university          0\n",
              "education_level              0\n",
              "major_discipline          1811\n",
              "experience                   0\n",
              "company_size              7642\n",
              "company_type              7265\n",
              "last_new_job                 0\n",
              "training_hours               0\n",
              "target                       0\n",
              "cityNo                       0\n",
              "gender_predicted             0\n",
              "dtype: int64"
            ]
          },
          "metadata": {},
          "execution_count": 198
        }
      ]
    },
    {
      "cell_type": "code",
      "metadata": {
        "id": "AO73K5x54obk"
      },
      "source": [
        "result['major_discipline'].replace({'STEM':'4','Other':'5','No Major':'0','Arts':'1','Humanities':'2','Business Degree':'3',},inplace=True)\n",
        "\n",
        "\n",
        "result_test['major_discipline'].replace({'STEM':'4','Other':'5','No Major':'0','Arts':'1','Humanities':'2','Business Degree':'3',},inplace=True)\n"
      ],
      "execution_count": null,
      "outputs": []
    },
    {
      "cell_type": "code",
      "metadata": {
        "id": "Rl2z4kCt4vlj"
      },
      "source": [
        "DF2 = result[result['major_discipline'].isnull()]\n",
        "\n",
        "result2 = result.dropna()\n",
        "\n",
        "\n",
        "\n",
        "test_DF2 = result_test[result_test['major_discipline'].isnull()]\n",
        "\n",
        "result2_test = result_test.dropna()"
      ],
      "execution_count": null,
      "outputs": []
    },
    {
      "cell_type": "code",
      "metadata": {
        "id": "OiT1Xz8a48dY"
      },
      "source": [
        "# X & y for training\n",
        "y_train = result2['major_discipline']\n",
        "X_train = result2.drop(['major_discipline','company_size','company_type'],axis=1)\n",
        "\n",
        "X_test = DF2.drop(['major_discipline','company_size','company_type'],axis=1)\n",
        "\n",
        "\n",
        "# test Q & p\n",
        "\n",
        "\n",
        "p_train = result2_test['major_discipline']\n",
        "Q_train = result2_test.drop(['major_discipline','company_size','company_type'],axis=1)\n",
        "\n",
        "Q_test = test_DF2.drop(['major_discipline','company_size','company_type'],axis=1)\n"
      ],
      "execution_count": null,
      "outputs": []
    },
    {
      "cell_type": "code",
      "metadata": {
        "colab": {
          "base_uri": "https://localhost:8080/",
          "height": 443
        },
        "id": "ZUQsKKqj5Xwe",
        "outputId": "b890225b-083e-48d4-9bec-44ec45afad64"
      },
      "source": [
        "X_train"
      ],
      "execution_count": null,
      "outputs": [
        {
          "output_type": "execute_result",
          "data": {
            "text/html": [
              "<div>\n",
              "<style scoped>\n",
              "    .dataframe tbody tr th:only-of-type {\n",
              "        vertical-align: middle;\n",
              "    }\n",
              "\n",
              "    .dataframe tbody tr th {\n",
              "        vertical-align: top;\n",
              "    }\n",
              "\n",
              "    .dataframe thead th {\n",
              "        text-align: right;\n",
              "    }\n",
              "</style>\n",
              "<table border=\"1\" class=\"dataframe\">\n",
              "  <thead>\n",
              "    <tr style=\"text-align: right;\">\n",
              "      <th></th>\n",
              "      <th>city_development_index</th>\n",
              "      <th>relevent_experience</th>\n",
              "      <th>enrolled_university</th>\n",
              "      <th>education_level</th>\n",
              "      <th>experience</th>\n",
              "      <th>last_new_job</th>\n",
              "      <th>training_hours</th>\n",
              "      <th>target</th>\n",
              "      <th>cityNo</th>\n",
              "      <th>gender_predicted</th>\n",
              "    </tr>\n",
              "  </thead>\n",
              "  <tbody>\n",
              "    <tr>\n",
              "      <th>3</th>\n",
              "      <td>0.87</td>\n",
              "      <td>0</td>\n",
              "      <td>0.0</td>\n",
              "      <td>4.0</td>\n",
              "      <td>9.0</td>\n",
              "      <td>5.0</td>\n",
              "      <td>53.00</td>\n",
              "      <td>0</td>\n",
              "      <td>57</td>\n",
              "      <td>1.0</td>\n",
              "    </tr>\n",
              "    <tr>\n",
              "      <th>4</th>\n",
              "      <td>0.62</td>\n",
              "      <td>1</td>\n",
              "      <td>0.0</td>\n",
              "      <td>3.0</td>\n",
              "      <td>5.0</td>\n",
              "      <td>5.0</td>\n",
              "      <td>108.00</td>\n",
              "      <td>1</td>\n",
              "      <td>21</td>\n",
              "      <td>1.0</td>\n",
              "    </tr>\n",
              "    <tr>\n",
              "      <th>5</th>\n",
              "      <td>0.92</td>\n",
              "      <td>1</td>\n",
              "      <td>0.0</td>\n",
              "      <td>2.0</td>\n",
              "      <td>13.0</td>\n",
              "      <td>5.0</td>\n",
              "      <td>11.00</td>\n",
              "      <td>0</td>\n",
              "      <td>103</td>\n",
              "      <td>1.0</td>\n",
              "    </tr>\n",
              "    <tr>\n",
              "      <th>9</th>\n",
              "      <td>0.89</td>\n",
              "      <td>1</td>\n",
              "      <td>0.0</td>\n",
              "      <td>3.0</td>\n",
              "      <td>21.0</td>\n",
              "      <td>5.0</td>\n",
              "      <td>152.00</td>\n",
              "      <td>0</td>\n",
              "      <td>100</td>\n",
              "      <td>1.0</td>\n",
              "    </tr>\n",
              "    <tr>\n",
              "      <th>10</th>\n",
              "      <td>0.80</td>\n",
              "      <td>1</td>\n",
              "      <td>1.0</td>\n",
              "      <td>2.0</td>\n",
              "      <td>6.0</td>\n",
              "      <td>1.0</td>\n",
              "      <td>86.00</td>\n",
              "      <td>0</td>\n",
              "      <td>102</td>\n",
              "      <td>1.0</td>\n",
              "    </tr>\n",
              "    <tr>\n",
              "      <th>...</th>\n",
              "      <td>...</td>\n",
              "      <td>...</td>\n",
              "      <td>...</td>\n",
              "      <td>...</td>\n",
              "      <td>...</td>\n",
              "      <td>...</td>\n",
              "      <td>...</td>\n",
              "      <td>...</td>\n",
              "      <td>...</td>\n",
              "      <td>...</td>\n",
              "    </tr>\n",
              "    <tr>\n",
              "      <th>17236</th>\n",
              "      <td>0.75</td>\n",
              "      <td>1</td>\n",
              "      <td>0.5</td>\n",
              "      <td>2.0</td>\n",
              "      <td>15.0</td>\n",
              "      <td>1.0</td>\n",
              "      <td>66.00</td>\n",
              "      <td>1</td>\n",
              "      <td>73</td>\n",
              "      <td>1.0</td>\n",
              "    </tr>\n",
              "    <tr>\n",
              "      <th>17237</th>\n",
              "      <td>0.55</td>\n",
              "      <td>1</td>\n",
              "      <td>0.0</td>\n",
              "      <td>2.0</td>\n",
              "      <td>8.0</td>\n",
              "      <td>0.0</td>\n",
              "      <td>39.00</td>\n",
              "      <td>1</td>\n",
              "      <td>11</td>\n",
              "      <td>1.0</td>\n",
              "    </tr>\n",
              "    <tr>\n",
              "      <th>17240</th>\n",
              "      <td>0.91</td>\n",
              "      <td>1</td>\n",
              "      <td>0.5</td>\n",
              "      <td>2.0</td>\n",
              "      <td>7.0</td>\n",
              "      <td>1.0</td>\n",
              "      <td>18.00</td>\n",
              "      <td>0</td>\n",
              "      <td>61</td>\n",
              "      <td>0.5</td>\n",
              "    </tr>\n",
              "    <tr>\n",
              "      <th>17241</th>\n",
              "      <td>0.66</td>\n",
              "      <td>1</td>\n",
              "      <td>0.0</td>\n",
              "      <td>2.0</td>\n",
              "      <td>5.0</td>\n",
              "      <td>1.0</td>\n",
              "      <td>39.41</td>\n",
              "      <td>1</td>\n",
              "      <td>21</td>\n",
              "      <td>1.0</td>\n",
              "    </tr>\n",
              "    <tr>\n",
              "      <th>17242</th>\n",
              "      <td>0.62</td>\n",
              "      <td>1</td>\n",
              "      <td>0.0</td>\n",
              "      <td>2.0</td>\n",
              "      <td>7.0</td>\n",
              "      <td>2.0</td>\n",
              "      <td>46.03</td>\n",
              "      <td>1</td>\n",
              "      <td>21</td>\n",
              "      <td>0.0</td>\n",
              "    </tr>\n",
              "  </tbody>\n",
              "</table>\n",
              "<p>8388 rows × 10 columns</p>\n",
              "</div>"
            ],
            "text/plain": [
              "       city_development_index  relevent_experience  ...  cityNo  gender_predicted\n",
              "3                        0.87                    0  ...      57               1.0\n",
              "4                        0.62                    1  ...      21               1.0\n",
              "5                        0.92                    1  ...     103               1.0\n",
              "9                        0.89                    1  ...     100               1.0\n",
              "10                       0.80                    1  ...     102               1.0\n",
              "...                       ...                  ...  ...     ...               ...\n",
              "17236                    0.75                    1  ...      73               1.0\n",
              "17237                    0.55                    1  ...      11               1.0\n",
              "17240                    0.91                    1  ...      61               0.5\n",
              "17241                    0.66                    1  ...      21               1.0\n",
              "17242                    0.62                    1  ...      21               0.0\n",
              "\n",
              "[8388 rows x 10 columns]"
            ]
          },
          "metadata": {},
          "execution_count": 212
        }
      ]
    },
    {
      "cell_type": "code",
      "metadata": {
        "id": "NiG-QeqrPOnW",
        "colab": {
          "base_uri": "https://localhost:8080/",
          "height": 461
        },
        "outputId": "c3128d98-ca2e-41d3-f4e2-0890bb564b01"
      },
      "source": [
        "oversample = SMOTE()\n",
        "X, y = oversample.fit_resample(X_train, y_train)\n",
        "# summarize distribution\n",
        "counter = Counter(y)\n",
        "for k,v in counter.items():\n",
        "\tper = v / len(y) * 100\n",
        "\t# print('Class=%d, n=%d (%.3f%%)' % (k, v, per))\n",
        "# plot the distribution\n",
        "pyplot.bar(counter.keys(), counter.values())\n",
        "pyplot.show()\n"
      ],
      "execution_count": null,
      "outputs": [
        {
          "output_type": "stream",
          "name": "stderr",
          "text": [
            "/usr/local/lib/python3.7/dist-packages/sklearn/utils/deprecation.py:87: FutureWarning: Function safe_indexing is deprecated; safe_indexing is deprecated in version 0.22 and will be removed in version 0.24.\n",
            "  warnings.warn(msg, category=FutureWarning)\n",
            "/usr/local/lib/python3.7/dist-packages/sklearn/utils/deprecation.py:87: FutureWarning: Function safe_indexing is deprecated; safe_indexing is deprecated in version 0.22 and will be removed in version 0.24.\n",
            "  warnings.warn(msg, category=FutureWarning)\n",
            "/usr/local/lib/python3.7/dist-packages/sklearn/utils/deprecation.py:87: FutureWarning: Function safe_indexing is deprecated; safe_indexing is deprecated in version 0.22 and will be removed in version 0.24.\n",
            "  warnings.warn(msg, category=FutureWarning)\n",
            "/usr/local/lib/python3.7/dist-packages/sklearn/utils/deprecation.py:87: FutureWarning: Function safe_indexing is deprecated; safe_indexing is deprecated in version 0.22 and will be removed in version 0.24.\n",
            "  warnings.warn(msg, category=FutureWarning)\n",
            "/usr/local/lib/python3.7/dist-packages/sklearn/utils/deprecation.py:87: FutureWarning: Function safe_indexing is deprecated; safe_indexing is deprecated in version 0.22 and will be removed in version 0.24.\n",
            "  warnings.warn(msg, category=FutureWarning)\n"
          ]
        },
        {
          "output_type": "display_data",
          "data": {
            "image/png": "[encoded data removed]",
            "text/plain": [
              "<Figure size 432x288 with 1 Axes>"
            ]
          },
          "metadata": {
            "needs_background": "light"
          }
        }
      ]
    },
    {
      "cell_type": "code",
      "metadata": {
        "colab": {
          "base_uri": "https://localhost:8080/",
          "height": 459
        },
        "id": "cP9CTclw5jba",
        "outputId": "89b43390-e91c-400f-a410-b5bb62534575"
      },
      "source": [
        "oversample = SMOTE()\n",
        "Q, p = oversample.fit_resample(Q_train, p_train)\n",
        "# summarize distribution\n",
        "counter = Counter(y)\n",
        "for k,v in counter.items():\n",
        "\tper = v / len(y) * 100\n",
        "\t# print('Class=%d, n=%d (%.3f%%)' % (k, v, per))\n",
        "# plot the distribution\n",
        "pyplot.bar(counter.keys(), counter.values())\n",
        "pyplot.show()\n"
      ],
      "execution_count": null,
      "outputs": [
        {
          "output_type": "stream",
          "name": "stderr",
          "text": [
            "/usr/local/lib/python3.7/dist-packages/sklearn/utils/deprecation.py:87: FutureWarning: Function safe_indexing is deprecated; safe_indexing is deprecated in version 0.22 and will be removed in version 0.24.\n",
            "  warnings.warn(msg, category=FutureWarning)\n",
            "/usr/local/lib/python3.7/dist-packages/sklearn/utils/deprecation.py:87: FutureWarning: Function safe_indexing is deprecated; safe_indexing is deprecated in version 0.22 and will be removed in version 0.24.\n",
            "  warnings.warn(msg, category=FutureWarning)\n",
            "/usr/local/lib/python3.7/dist-packages/sklearn/utils/deprecation.py:87: FutureWarning: Function safe_indexing is deprecated; safe_indexing is deprecated in version 0.22 and will be removed in version 0.24.\n",
            "  warnings.warn(msg, category=FutureWarning)\n",
            "/usr/local/lib/python3.7/dist-packages/sklearn/utils/deprecation.py:87: FutureWarning: Function safe_indexing is deprecated; safe_indexing is deprecated in version 0.22 and will be removed in version 0.24.\n",
            "  warnings.warn(msg, category=FutureWarning)\n",
            "/usr/local/lib/python3.7/dist-packages/sklearn/utils/deprecation.py:87: FutureWarning: Function safe_indexing is deprecated; safe_indexing is deprecated in version 0.22 and will be removed in version 0.24.\n",
            "  warnings.warn(msg, category=FutureWarning)\n"
          ]
        },
        {
          "output_type": "display_data",
          "data": {
            "image/png": "[encoded data removed]",
            "text/plain": [
              "<Figure size 432x288 with 1 Axes>"
            ]
          },
          "metadata": {
            "needs_background": "light"
          }
        }
      ]
    },
    {
      "cell_type": "code",
      "metadata": {
        "colab": {
          "base_uri": "https://localhost:8080/"
        },
        "id": "693aNChK7Zdo",
        "outputId": "2a106539-6399-4f55-f3f0-cb38882059ea"
      },
      "source": [
        "# TRAINING DATA\n",
        "from imblearn.over_sampling import SMOTE\n",
        "\n",
        "smote = SMOTE(sampling_strategy='minority')\n",
        "X_sm, y_sm = smote.fit_sample(X_train, y_train)\n",
        "\n",
        "\n",
        "# TESTING DATA\n",
        "\n",
        "from imblearn.over_sampling import SMOTE\n",
        "\n",
        "smote = SMOTE(sampling_strategy='minority')\n",
        "Q, p = smote.fit_sample(Q_train, p_train)\n"
      ],
      "execution_count": null,
      "outputs": [
        {
          "output_type": "stream",
          "name": "stderr",
          "text": [
            "/usr/local/lib/python3.7/dist-packages/sklearn/utils/deprecation.py:87: FutureWarning: Function safe_indexing is deprecated; safe_indexing is deprecated in version 0.22 and will be removed in version 0.24.\n",
            "  warnings.warn(msg, category=FutureWarning)\n",
            "/usr/local/lib/python3.7/dist-packages/sklearn/utils/deprecation.py:87: FutureWarning: Function safe_indexing is deprecated; safe_indexing is deprecated in version 0.22 and will be removed in version 0.24.\n",
            "  warnings.warn(msg, category=FutureWarning)\n"
          ]
        }
      ]
    },
    {
      "cell_type": "code",
      "metadata": {
        "colab": {
          "base_uri": "https://localhost:8080/"
        },
        "id": "p2CXSSVw7m_k",
        "outputId": "ed4b7d69-d011-4b39-cc7a-bbb834bee6b7"
      },
      "source": [
        "from sklearn.model_selection import train_test_split\n",
        "X_train, X_test, y_train, y_test = train_test_split(X_sm, y_sm, random_state=15)\n",
        "from sklearn.ensemble import RandomForestClassifier\n",
        "RTC = RandomForestClassifier(random_state=0)\n",
        "RTC.fit(X_train,y_train)\n",
        "y_pred = RTC.predict(X_test)\n",
        "y_pred"
      ],
      "execution_count": null,
      "outputs": [
        {
          "output_type": "execute_result",
          "data": {
            "text/plain": [
              "array(['4', '0', '4', ..., '0', '4', '4'], dtype=object)"
            ]
          },
          "metadata": {},
          "execution_count": 220
        }
      ]
    },
    {
      "cell_type": "code",
      "metadata": {
        "colab": {
          "base_uri": "https://localhost:8080/"
        },
        "id": "dXztFZ157yxP",
        "outputId": "99ce4007-a71f-4592-a626-b5d7190d9027"
      },
      "source": [
        "\n",
        "from sklearn.model_selection import train_test_split\n",
        "Q_train, Q_test, p_train, p_test = train_test_split(Q, p, random_state=15)\n",
        "from sklearn.ensemble import RandomForestClassifier\n",
        "RTC1 = RandomForestClassifier(random_state=0)\n",
        "RTC1.fit(Q_train,p_train)\n",
        "y_pred1 = RTC1.predict(Q_test)\n",
        "y_pred1"
      ],
      "execution_count": null,
      "outputs": [
        {
          "output_type": "execute_result",
          "data": {
            "text/plain": [
              "array(['4', '0', '0', ..., '4', '0', '4'], dtype=object)"
            ]
          },
          "metadata": {},
          "execution_count": 221
        }
      ]
    },
    {
      "cell_type": "code",
      "metadata": {
        "colab": {
          "base_uri": "https://localhost:8080/"
        },
        "id": "K8kg6kKz86kE",
        "outputId": "52b26aa4-2587-4705-cf14-a646143c2713"
      },
      "source": [
        "# for printing accuracy score\n",
        "from sklearn.metrics import accuracy_score\n",
        "print(accuracy_score(y_pred,y_test))\n",
        "\n",
        "print(accuracy_score(y_pred1,p_test))"
      ],
      "execution_count": null,
      "outputs": [
        {
          "output_type": "stream",
          "name": "stdout",
          "text": [
            "0.9462096572429322\n",
            "0.9369132557266241\n"
          ]
        }
      ]
    },
    {
      "cell_type": "code",
      "metadata": {
        "id": "56y0hKs39CeF"
      },
      "source": [
        "g3 = df[[\"city_development_index\",\"gender\",\"relevent_experience\",\"enrolled_university\",\"education_level\",\"experience\",\"last_new_job\",\"training_hours\",\"target\",\"cityNo\",\"major_discipline\"]]\n",
        "\n",
        "# testing\n",
        "g3_test = test_df[[\"city_development_index\",\"gender\",\"relevent_experience\",\"enrolled_university\",\"education_level\",\"experience\",\"last_new_job\",\"training_hours\",\"cityNo\",\"major_discipline\"]]"
      ],
      "execution_count": null,
      "outputs": []
    },
    {
      "cell_type": "code",
      "metadata": {
        "id": "nuGJGfqL9tkn"
      },
      "source": [
        ""
      ],
      "execution_count": null,
      "outputs": []
    },
    {
      "cell_type": "code",
      "metadata": {
        "id": "eWSZdsYq95pp"
      },
      "source": [
        "g3 = result.drop([\"major_discipline\",\"company_size\",\"company_type\"],axis=1)\n",
        "target = RTC.predict(g3)\n",
        "res = pd.DataFrame(target) \n",
        "res.columns = [\"major_discipline_predicted\"]\n",
        "print(g3)\n",
        "print(res.head())\n",
        "df4 = df.drop('major_discipline',axis=1)\n",
        "# frames = [res, df4]\n",
        "# result = pd.concat(frames)\n",
        "\n",
        "result1 = pd.concat([result, res], axis=1, join='inner')\n",
        "\n",
        "result1 = result1.drop('major_discipline',axis=1)\n",
        "display(result1)"
      ],
      "execution_count": null,
      "outputs": []
    },
    {
      "cell_type": "code",
      "metadata": {
        "colab": {
          "base_uri": "https://localhost:8080/",
          "height": 807
        },
        "id": "9uf3QLn3-Uoc",
        "outputId": "2ac57fb0-6eb0-436e-d267-b86b29823729"
      },
      "source": [
        "g3_test = result_test.drop([\"major_discipline\",\"company_size\",\"company_type\"],axis=1)\n",
        "target_test = RTC1.predict(g3_test)\n",
        "res = pd.DataFrame(target_test) \n",
        "res.columns = [\"major_discipline_predicted\"]\n",
        "print(g3_test)\n",
        "print(res.head())\n",
        "\n",
        "\n",
        "\n",
        "df4_test = test_df.drop('gender',axis=1)\n",
        "# frames = [res, df4]\n",
        "# result = pd.concat(frames)\n",
        "\n",
        "result_test_1 = pd.concat([result_test, res], axis=1, join='inner')\n",
        "result_test_1 = result_test_1.drop('major_discipline',axis=1)\n",
        "display(result_test_1)"
      ],
      "execution_count": null,
      "outputs": [
        {
          "output_type": "stream",
          "name": "stdout",
          "text": [
            "       city_development_index  relevent_experience  ...  cityNo  gender_predicted\n",
            "0                        0.56                    0  ...     101                 1\n",
            "1                        0.77                    1  ...     114                 1\n",
            "2                        0.62                    0  ...      21                 1\n",
            "3                        0.60                    1  ...      21                 1\n",
            "4                        0.92                    0  ...     160                 1\n",
            "...                       ...                  ...  ...     ...               ...\n",
            "11500                    0.88                    1  ...      71                 1\n",
            "11501                    0.70                    0  ...     150                 1\n",
            "11502                    0.62                    1  ...      21                 1\n",
            "11503                    0.92                    0  ...      21                 1\n",
            "11504                    0.79                    0  ...      71                 1\n",
            "\n",
            "[11505 rows x 9 columns]\n",
            "  major_discipline_predicted\n",
            "0                          4\n",
            "1                          4\n",
            "2                          4\n",
            "3                          4\n",
            "4                          4\n"
          ]
        },
        {
          "output_type": "display_data",
          "data": {
            "text/html": [
              "<div>\n",
              "<style scoped>\n",
              "    .dataframe tbody tr th:only-of-type {\n",
              "        vertical-align: middle;\n",
              "    }\n",
              "\n",
              "    .dataframe tbody tr th {\n",
              "        vertical-align: top;\n",
              "    }\n",
              "\n",
              "    .dataframe thead th {\n",
              "        text-align: right;\n",
              "    }\n",
              "</style>\n",
              "<table border=\"1\" class=\"dataframe\">\n",
              "  <thead>\n",
              "    <tr style=\"text-align: right;\">\n",
              "      <th></th>\n",
              "      <th>city_development_index</th>\n",
              "      <th>relevent_experience</th>\n",
              "      <th>enrolled_university</th>\n",
              "      <th>education_level</th>\n",
              "      <th>experience</th>\n",
              "      <th>company_size</th>\n",
              "      <th>company_type</th>\n",
              "      <th>last_new_job</th>\n",
              "      <th>training_hours</th>\n",
              "      <th>cityNo</th>\n",
              "      <th>gender_predicted</th>\n",
              "      <th>major_discipline_predicted</th>\n",
              "    </tr>\n",
              "  </thead>\n",
              "  <tbody>\n",
              "    <tr>\n",
              "      <th>0</th>\n",
              "      <td>0.56</td>\n",
              "      <td>0</td>\n",
              "      <td>0.0</td>\n",
              "      <td>1.0</td>\n",
              "      <td>6.0</td>\n",
              "      <td>NaN</td>\n",
              "      <td>NaN</td>\n",
              "      <td>0.0</td>\n",
              "      <td>31.00</td>\n",
              "      <td>101</td>\n",
              "      <td>1</td>\n",
              "      <td>4</td>\n",
              "    </tr>\n",
              "    <tr>\n",
              "      <th>1</th>\n",
              "      <td>0.77</td>\n",
              "      <td>1</td>\n",
              "      <td>0.0</td>\n",
              "      <td>2.0</td>\n",
              "      <td>8.0</td>\n",
              "      <td>NaN</td>\n",
              "      <td>NaN</td>\n",
              "      <td>2.0</td>\n",
              "      <td>53.43</td>\n",
              "      <td>114</td>\n",
              "      <td>1</td>\n",
              "      <td>4</td>\n",
              "    </tr>\n",
              "    <tr>\n",
              "      <th>2</th>\n",
              "      <td>0.62</td>\n",
              "      <td>0</td>\n",
              "      <td>1.0</td>\n",
              "      <td>2.0</td>\n",
              "      <td>2.0</td>\n",
              "      <td>NaN</td>\n",
              "      <td>NaN</td>\n",
              "      <td>0.0</td>\n",
              "      <td>12.00</td>\n",
              "      <td>21</td>\n",
              "      <td>1</td>\n",
              "      <td>4</td>\n",
              "    </tr>\n",
              "    <tr>\n",
              "      <th>3</th>\n",
              "      <td>0.60</td>\n",
              "      <td>1</td>\n",
              "      <td>0.0</td>\n",
              "      <td>2.0</td>\n",
              "      <td>8.0</td>\n",
              "      <td>Oct-49</td>\n",
              "      <td>NaN</td>\n",
              "      <td>1.0</td>\n",
              "      <td>55.46</td>\n",
              "      <td>21</td>\n",
              "      <td>1</td>\n",
              "      <td>4</td>\n",
              "    </tr>\n",
              "    <tr>\n",
              "      <th>4</th>\n",
              "      <td>0.92</td>\n",
              "      <td>0</td>\n",
              "      <td>0.0</td>\n",
              "      <td>2.0</td>\n",
              "      <td>8.0</td>\n",
              "      <td>NaN</td>\n",
              "      <td>Public Sector</td>\n",
              "      <td>1.0</td>\n",
              "      <td>56.00</td>\n",
              "      <td>160</td>\n",
              "      <td>1</td>\n",
              "      <td>4</td>\n",
              "    </tr>\n",
              "    <tr>\n",
              "      <th>...</th>\n",
              "      <td>...</td>\n",
              "      <td>...</td>\n",
              "      <td>...</td>\n",
              "      <td>...</td>\n",
              "      <td>...</td>\n",
              "      <td>...</td>\n",
              "      <td>...</td>\n",
              "      <td>...</td>\n",
              "      <td>...</td>\n",
              "      <td>...</td>\n",
              "      <td>...</td>\n",
              "      <td>...</td>\n",
              "    </tr>\n",
              "    <tr>\n",
              "      <th>11500</th>\n",
              "      <td>0.88</td>\n",
              "      <td>1</td>\n",
              "      <td>0.0</td>\n",
              "      <td>3.0</td>\n",
              "      <td>3.0</td>\n",
              "      <td>50-99</td>\n",
              "      <td>Funded Startup</td>\n",
              "      <td>2.0</td>\n",
              "      <td>44.00</td>\n",
              "      <td>71</td>\n",
              "      <td>1</td>\n",
              "      <td>4</td>\n",
              "    </tr>\n",
              "    <tr>\n",
              "      <th>11501</th>\n",
              "      <td>0.70</td>\n",
              "      <td>0</td>\n",
              "      <td>1.0</td>\n",
              "      <td>1.0</td>\n",
              "      <td>0.0</td>\n",
              "      <td>NaN</td>\n",
              "      <td>NaN</td>\n",
              "      <td>0.0</td>\n",
              "      <td>23.00</td>\n",
              "      <td>150</td>\n",
              "      <td>1</td>\n",
              "      <td>4</td>\n",
              "    </tr>\n",
              "    <tr>\n",
              "      <th>11502</th>\n",
              "      <td>0.62</td>\n",
              "      <td>1</td>\n",
              "      <td>1.0</td>\n",
              "      <td>2.0</td>\n",
              "      <td>3.0</td>\n",
              "      <td>NaN</td>\n",
              "      <td>Pvt Ltd</td>\n",
              "      <td>1.0</td>\n",
              "      <td>33.00</td>\n",
              "      <td>21</td>\n",
              "      <td>1</td>\n",
              "      <td>4</td>\n",
              "    </tr>\n",
              "    <tr>\n",
              "      <th>11503</th>\n",
              "      <td>0.92</td>\n",
              "      <td>0</td>\n",
              "      <td>0.0</td>\n",
              "      <td>2.0</td>\n",
              "      <td>11.0</td>\n",
              "      <td>NaN</td>\n",
              "      <td>NaN</td>\n",
              "      <td>0.0</td>\n",
              "      <td>25.00</td>\n",
              "      <td>21</td>\n",
              "      <td>1</td>\n",
              "      <td>4</td>\n",
              "    </tr>\n",
              "    <tr>\n",
              "      <th>11504</th>\n",
              "      <td>0.79</td>\n",
              "      <td>0</td>\n",
              "      <td>0.0</td>\n",
              "      <td>2.0</td>\n",
              "      <td>4.0</td>\n",
              "      <td>NaN</td>\n",
              "      <td>NaN</td>\n",
              "      <td>0.0</td>\n",
              "      <td>51.78</td>\n",
              "      <td>71</td>\n",
              "      <td>1</td>\n",
              "      <td>4</td>\n",
              "    </tr>\n",
              "  </tbody>\n",
              "</table>\n",
              "<p>11505 rows × 12 columns</p>\n",
              "</div>"
            ],
            "text/plain": [
              "       city_development_index  ...  major_discipline_predicted\n",
              "0                        0.56  ...                           4\n",
              "1                        0.77  ...                           4\n",
              "2                        0.62  ...                           4\n",
              "3                        0.60  ...                           4\n",
              "4                        0.92  ...                           4\n",
              "...                       ...  ...                         ...\n",
              "11500                    0.88  ...                           4\n",
              "11501                    0.70  ...                           4\n",
              "11502                    0.62  ...                           4\n",
              "11503                    0.92  ...                           4\n",
              "11504                    0.79  ...                           4\n",
              "\n",
              "[11505 rows x 12 columns]"
            ]
          },
          "metadata": {}
        }
      ]
    },
    {
      "cell_type": "code",
      "metadata": {
        "colab": {
          "base_uri": "https://localhost:8080/"
        },
        "id": "K4bHT3Y6_G1f",
        "outputId": "f4fa279e-fc65-4202-8de4-339827678d4e"
      },
      "source": [
        "result1.isnull().sum()"
      ],
      "execution_count": null,
      "outputs": [
        {
          "output_type": "execute_result",
          "data": {
            "text/plain": [
              "city_development_index           0\n",
              "relevent_experience              0\n",
              "enrolled_university              0\n",
              "education_level                  0\n",
              "experience                       0\n",
              "company_size                  7639\n",
              "company_type                  7262\n",
              "last_new_job                     0\n",
              "training_hours                   0\n",
              "target                           0\n",
              "cityNo                           0\n",
              "gender_predicted                 0\n",
              "major_discipline_predicted       0\n",
              "dtype: int64"
            ]
          },
          "metadata": {},
          "execution_count": 233
        }
      ]
    },
    {
      "cell_type": "code",
      "metadata": {
        "colab": {
          "base_uri": "https://localhost:8080/"
        },
        "id": "0VgWKoW2AJBY",
        "outputId": "46584478-7c61-4b7c-d209-a899447e7331"
      },
      "source": [
        "result1.info()"
      ],
      "execution_count": null,
      "outputs": [
        {
          "output_type": "stream",
          "name": "stdout",
          "text": [
            "<class 'pandas.core.frame.DataFrame'>\n",
            "Int64Index: 17215 entries, 0 to 17228\n",
            "Data columns (total 13 columns):\n",
            " #   Column                      Non-Null Count  Dtype  \n",
            "---  ------                      --------------  -----  \n",
            " 0   city_development_index      17215 non-null  float64\n",
            " 1   relevent_experience         17215 non-null  int64  \n",
            " 2   enrolled_university         17215 non-null  float64\n",
            " 3   education_level             17215 non-null  float64\n",
            " 4   experience                  17215 non-null  float64\n",
            " 5   company_size                9576 non-null   object \n",
            " 6   company_type                9953 non-null   object \n",
            " 7   last_new_job                17215 non-null  float64\n",
            " 8   training_hours              17215 non-null  float64\n",
            " 9   target                      17215 non-null  int64  \n",
            " 10  cityNo                      17215 non-null  int64  \n",
            " 11  gender_predicted            17215 non-null  float64\n",
            " 12  major_discipline_predicted  17215 non-null  object \n",
            "dtypes: float64(7), int64(3), object(3)\n",
            "memory usage: 1.8+ MB\n"
          ]
        }
      ]
    },
    {
      "cell_type": "code",
      "metadata": {
        "id": "fq6DDTVOBMK1"
      },
      "source": [
        "result1['major_discipline_predicted'] = result1['major_discipline_predicted'] .astype(str).astype(float)\n",
        "\n",
        "result_test_1['major_discipline_predicted'] = result_test_1['major_discipline_predicted'].astype(str).astype(int)\n"
      ],
      "execution_count": null,
      "outputs": []
    },
    {
      "cell_type": "code",
      "metadata": {
        "colab": {
          "base_uri": "https://localhost:8080/"
        },
        "id": "PL0nZKaeBhqj",
        "outputId": "b430864c-3fc5-4e4e-bd9c-003f5fac9abc"
      },
      "source": [
        "result1['company_size'].value_counts()"
      ],
      "execution_count": null,
      "outputs": [
        {
          "output_type": "execute_result",
          "data": {
            "text/plain": [
              "50-99        2342\n",
              "100-500      1888\n",
              "10000+       1522\n",
              "Oct-49       1117\n",
              "1000-4999     866\n",
              "<10           851\n",
              "500-999       594\n",
              "5000-9999     396\n",
              "Name: company_size, dtype: int64"
            ]
          },
          "metadata": {},
          "execution_count": 236
        }
      ]
    },
    {
      "cell_type": "code",
      "metadata": {
        "id": "apDDl97eBugT"
      },
      "source": [
        "# result1['company_size'].replace({'50-99':'99','100-500':'500','10000':'11000','Oct-49':'49','1000-4999':'5000','<10':'0','500-999':'1000','5000-9999':'7500'},inplace=True)\n",
        "\n",
        "# result_test_1['company_size'].replace({'50-99':'99','100-500':'500','10000':'11000','Oct-49':'49','1000-4999':'5000','<10':'0','500-999':'1000','5000-9999':'7500'},inplace=True)\n",
        "\n"
      ],
      "execution_count": null,
      "outputs": []
    },
    {
      "cell_type": "code",
      "metadata": {
        "id": "nO2HO2TZBugT"
      },
      "source": [
        "# DF6 = result1[result1['company_size'].isnull()]\n",
        "\n",
        "# result234 = result1.dropna()\n",
        "\n",
        "\n",
        "# test_DF6 = result_test_1[result_test_1['company_size'].isnull()]\n",
        "\n",
        "# test_result234 = result_test_1.dropna()\n"
      ],
      "execution_count": null,
      "outputs": []
    },
    {
      "cell_type": "code",
      "metadata": {
        "id": "jLc6mBVwBugT"
      },
      "source": [
        "# # X & y for training\n",
        "# y_train = result234['company_size']\n",
        "# X_train = result234.drop(['company_size','company_type'],axis=1)\n",
        "\n",
        "# X_test = DF6.drop(['company_size','company_type'],axis=1)\n",
        "\n",
        "\n",
        "# # test A & b\n",
        "\n",
        "\n",
        "# b_train = test_result234['company_size']\n",
        "# A_train = test_result234.drop(['company_size','company_type'],axis=1)\n",
        "\n",
        "# A_test = test_DF6.drop(['company_size','company_type'],axis=1)\n"
      ],
      "execution_count": null,
      "outputs": []
    },
    {
      "cell_type": "code",
      "metadata": {
        "id": "SV94-o4UDNJB"
      },
      "source": [
        "# oversample = SMOTE()\n",
        "# X, y = oversample.fit_resample(X_train, y_train)\n",
        "# # summarize distribution\n",
        "# counter = Counter(y)\n",
        "# for k,v in counter.items():\n",
        "# \tper = v / len(y) * 100\n",
        "# \t# print('Class=%d, n=%d (%.3f%%)' % (k, v, per))\n",
        "# # plot the distribution\n",
        "# pyplot.bar(counter.keys(), counter.values())\n",
        "# pyplot.show()\n",
        "\n",
        "\n",
        "\n",
        "\n",
        "# oversample = SMOTE()\n",
        "# A, b = oversample.fit_resample(A_train, b_train)\n",
        "# # summarize distribution\n",
        "# counter = Counter(b)\n",
        "# for k,v in counter.items():\n",
        "# \tper = v / len(b) * 100\n",
        "# \t# print('Class=%d, n=%d (%.3f%%)' % (k, v, per))\n",
        "# # plot the distribution\n",
        "# pyplot.bar(counter.keys(), counter.values())\n",
        "# pyplot.show()\n"
      ],
      "execution_count": null,
      "outputs": []
    },
    {
      "cell_type": "code",
      "metadata": {
        "id": "F7-lUcksDsRv"
      },
      "source": [
        "# from imblearn.over_sampling import SMOTE\n",
        "\n",
        "# smote = SMOTE(sampling_strategy='minority')\n",
        "# X_sm, y_sm = smote.fit_sample(X_train, y_train)\n",
        "\n",
        "\n",
        "# # TESTING DATA\n",
        "\n",
        "# from imblearn.over_sampling import SMOTE\n",
        "\n",
        "# smote = SMOTE(sampling_strategy='minority')\n",
        "# A, b = smote.fit_sample(A_train, b_train)"
      ],
      "execution_count": null,
      "outputs": []
    },
    {
      "cell_type": "code",
      "metadata": {
        "id": "2WsXh449D5pD"
      },
      "source": [
        "# from sklearn.model_selection import train_test_split\n",
        "# X_train, X_test, y_train, y_test = train_test_split(X_sm, y_sm, random_state=15)\n",
        "# from sklearn.ensemble import RandomForestClassifier\n",
        "# RTC23 = DecisionTreeClassifier(random_state=0)\n",
        "# RTC23.fit(X_train,y_train)\n",
        "# y_pred = RTC23.predict(X_test)\n",
        "# y_pred"
      ],
      "execution_count": null,
      "outputs": []
    },
    {
      "cell_type": "code",
      "metadata": {
        "id": "NGNK0cQ0EBhU"
      },
      "source": [
        "# y_test"
      ],
      "execution_count": null,
      "outputs": []
    },
    {
      "cell_type": "code",
      "metadata": {
        "id": "kPycVOu_EDs3"
      },
      "source": [
        "result1 = result1.drop(['company_size','company_type'],axis=1)"
      ],
      "execution_count": null,
      "outputs": []
    },
    {
      "cell_type": "code",
      "metadata": {
        "id": "1pArL0K2EVZD"
      },
      "source": [
        "result_test_1= result_test_1.drop(['company_size','company_type'],axis=1)"
      ],
      "execution_count": null,
      "outputs": []
    },
    {
      "cell_type": "code",
      "metadata": {
        "id": "Usm8fJmSEXcH"
      },
      "source": [
        "df = pd.DataFrame(result1)\n",
        "  \n",
        "# saving the dataframe\n",
        "df.to_csv('result1.csv')"
      ],
      "execution_count": null,
      "outputs": []
    },
    {
      "cell_type": "code",
      "metadata": {
        "id": "GoQP-zU-EjIJ"
      },
      "source": [
        "df = pd.DataFrame(result_test_1)\n",
        "  \n",
        "# saving the dataframe\n",
        "df.to_csv('result_test_1.csv')"
      ],
      "execution_count": null,
      "outputs": []
    },
    {
      "cell_type": "code",
      "metadata": {
        "id": "qOdIF-QrGMSR"
      },
      "source": [
        ""
      ],
      "execution_count": null,
      "outputs": []
    }
  ]
}