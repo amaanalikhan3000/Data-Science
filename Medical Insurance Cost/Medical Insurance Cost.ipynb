{
  "nbformat": 4,
  "nbformat_minor": 0,
  "metadata": {
    "colab": {
      "name": "Untitled0.ipynb",
      "provenance": [],
      "collapsed_sections": []
    },
    "kernelspec": {
      "name": "python3",
      "display_name": "Python 3"
    },
    "language_info": {
      "name": "python"
    },
    "accelerator": "GPU"
  },
  "cells": [
    {
      "cell_type": "code",
      "metadata": {
        "id": "mmjp0Ob91isJ"
      },
      "source": [
        "\n",
        "import pandas as pd\n",
        "\n",
        "# !pip install pandas-profiling"
      ],
      "execution_count": null,
      "outputs": []
    },
    {
      "cell_type": "code",
      "metadata": {
        "id": "tX8BI59_1zOK"
      },
      "source": [
        "import numpy as np"
      ],
      "execution_count": null,
      "outputs": []
    },
    {
      "cell_type": "code",
      "metadata": {
        "id": "Uxg8vXoJ68_g"
      },
      "source": [
        "from pandas_profiling import ProfileReport"
      ],
      "execution_count": null,
      "outputs": []
    },
    {
      "cell_type": "code",
      "metadata": {
        "id": "-31sDU7t162k"
      },
      "source": [
        "df = pd.read_csv('/content/Train_Data.csv')"
      ],
      "execution_count": null,
      "outputs": []
    },
    {
      "cell_type": "code",
      "metadata": {
        "colab": {
          "base_uri": "https://localhost:8080/",
          "height": 206
        },
        "id": "Y2rjQbcg1-05",
        "outputId": "661c2b6a-d71f-4059-d776-3d6e6e613113"
      },
      "source": [
        "df.head()"
      ],
      "execution_count": null,
      "outputs": [
        {
          "output_type": "execute_result",
          "data": {
            "text/html": [
              "<div>\n",
              "<style scoped>\n",
              "    .dataframe tbody tr th:only-of-type {\n",
              "        vertical-align: middle;\n",
              "    }\n",
              "\n",
              "    .dataframe tbody tr th {\n",
              "        vertical-align: top;\n",
              "    }\n",
              "\n",
              "    .dataframe thead th {\n",
              "        text-align: right;\n",
              "    }\n",
              "</style>\n",
              "<table border=\"1\" class=\"dataframe\">\n",
              "  <thead>\n",
              "    <tr style=\"text-align: right;\">\n",
              "      <th></th>\n",
              "      <th>age</th>\n",
              "      <th>sex</th>\n",
              "      <th>bmi</th>\n",
              "      <th>smoker</th>\n",
              "      <th>region</th>\n",
              "      <th>children</th>\n",
              "      <th>charges</th>\n",
              "    </tr>\n",
              "  </thead>\n",
              "  <tbody>\n",
              "    <tr>\n",
              "      <th>0</th>\n",
              "      <td>21.000000</td>\n",
              "      <td>male</td>\n",
              "      <td>25.745000</td>\n",
              "      <td>no</td>\n",
              "      <td>northeast</td>\n",
              "      <td>2</td>\n",
              "      <td>3279.868550</td>\n",
              "    </tr>\n",
              "    <tr>\n",
              "      <th>1</th>\n",
              "      <td>36.976978</td>\n",
              "      <td>female</td>\n",
              "      <td>25.744165</td>\n",
              "      <td>yes</td>\n",
              "      <td>southeast</td>\n",
              "      <td>3</td>\n",
              "      <td>21454.494239</td>\n",
              "    </tr>\n",
              "    <tr>\n",
              "      <th>2</th>\n",
              "      <td>18.000000</td>\n",
              "      <td>male</td>\n",
              "      <td>30.030000</td>\n",
              "      <td>no</td>\n",
              "      <td>southeast</td>\n",
              "      <td>1</td>\n",
              "      <td>1720.353700</td>\n",
              "    </tr>\n",
              "    <tr>\n",
              "      <th>3</th>\n",
              "      <td>37.000000</td>\n",
              "      <td>male</td>\n",
              "      <td>30.676891</td>\n",
              "      <td>no</td>\n",
              "      <td>northeast</td>\n",
              "      <td>3</td>\n",
              "      <td>6801.437542</td>\n",
              "    </tr>\n",
              "    <tr>\n",
              "      <th>4</th>\n",
              "      <td>58.000000</td>\n",
              "      <td>male</td>\n",
              "      <td>32.010000</td>\n",
              "      <td>no</td>\n",
              "      <td>southeast</td>\n",
              "      <td>1</td>\n",
              "      <td>11946.625900</td>\n",
              "    </tr>\n",
              "  </tbody>\n",
              "</table>\n",
              "</div>"
            ],
            "text/plain": [
              "         age     sex        bmi smoker     region  children       charges\n",
              "0  21.000000    male  25.745000     no  northeast         2   3279.868550\n",
              "1  36.976978  female  25.744165    yes  southeast         3  21454.494239\n",
              "2  18.000000    male  30.030000     no  southeast         1   1720.353700\n",
              "3  37.000000    male  30.676891     no  northeast         3   6801.437542\n",
              "4  58.000000    male  32.010000     no  southeast         1  11946.625900"
            ]
          },
          "metadata": {
            "tags": []
          },
          "execution_count": 168
        }
      ]
    },
    {
      "cell_type": "code",
      "metadata": {
        "colab": {
          "base_uri": "https://localhost:8080/"
        },
        "id": "TiPz8zTCGmCn",
        "outputId": "4056746b-43a9-4a3f-e02e-3e959c37f8d0"
      },
      "source": [
        "df.shape"
      ],
      "execution_count": null,
      "outputs": [
        {
          "output_type": "execute_result",
          "data": {
            "text/plain": [
              "(3630, 7)"
            ]
          },
          "metadata": {
            "tags": []
          },
          "execution_count": 169
        }
      ]
    },
    {
      "cell_type": "code",
      "metadata": {
        "id": "_rrri_ImGmJ6"
      },
      "source": [
        ""
      ],
      "execution_count": null,
      "outputs": []
    },
    {
      "cell_type": "code",
      "metadata": {
        "id": "1ys2eiZ57QdZ"
      },
      "source": [
        "# !pip install pandas-profiling==2.7.1"
      ],
      "execution_count": null,
      "outputs": []
    },
    {
      "cell_type": "code",
      "metadata": {
        "id": "JDXCh-U87EWZ"
      },
      "source": [
        "# profile = ProfileReport(df)"
      ],
      "execution_count": null,
      "outputs": []
    },
    {
      "cell_type": "code",
      "metadata": {
        "id": "FuyohIyE7buN"
      },
      "source": [
        "# profile.to_file(output_file=\"data.html\")"
      ],
      "execution_count": null,
      "outputs": []
    },
    {
      "cell_type": "code",
      "metadata": {
        "colab": {
          "base_uri": "https://localhost:8080/"
        },
        "id": "qi9vSIN72AGd",
        "outputId": "400abd48-f160-48b4-961a-ccd74e171932"
      },
      "source": [
        "\n",
        "df.isnull().sum()"
      ],
      "execution_count": null,
      "outputs": [
        {
          "output_type": "execute_result",
          "data": {
            "text/plain": [
              "age         0\n",
              "sex         0\n",
              "bmi         0\n",
              "smoker      0\n",
              "region      0\n",
              "children    0\n",
              "charges     0\n",
              "dtype: int64"
            ]
          },
          "metadata": {
            "tags": []
          },
          "execution_count": 173
        }
      ]
    },
    {
      "cell_type": "code",
      "metadata": {
        "colab": {
          "base_uri": "https://localhost:8080/",
          "height": 175
        },
        "id": "IQ6sOBYZ2IO3",
        "outputId": "7fa36c1c-e23f-4742-ad20-e1c12352005d"
      },
      "source": [
        "df.corr()"
      ],
      "execution_count": null,
      "outputs": [
        {
          "output_type": "execute_result",
          "data": {
            "text/html": [
              "<div>\n",
              "<style scoped>\n",
              "    .dataframe tbody tr th:only-of-type {\n",
              "        vertical-align: middle;\n",
              "    }\n",
              "\n",
              "    .dataframe tbody tr th {\n",
              "        vertical-align: top;\n",
              "    }\n",
              "\n",
              "    .dataframe thead th {\n",
              "        text-align: right;\n",
              "    }\n",
              "</style>\n",
              "<table border=\"1\" class=\"dataframe\">\n",
              "  <thead>\n",
              "    <tr style=\"text-align: right;\">\n",
              "      <th></th>\n",
              "      <th>age</th>\n",
              "      <th>bmi</th>\n",
              "      <th>children</th>\n",
              "      <th>charges</th>\n",
              "    </tr>\n",
              "  </thead>\n",
              "  <tbody>\n",
              "    <tr>\n",
              "      <th>age</th>\n",
              "      <td>1.000000</td>\n",
              "      <td>0.143527</td>\n",
              "      <td>-0.061076</td>\n",
              "      <td>0.299692</td>\n",
              "    </tr>\n",
              "    <tr>\n",
              "      <th>bmi</th>\n",
              "      <td>0.143527</td>\n",
              "      <td>1.000000</td>\n",
              "      <td>-0.041996</td>\n",
              "      <td>0.211325</td>\n",
              "    </tr>\n",
              "    <tr>\n",
              "      <th>children</th>\n",
              "      <td>-0.061076</td>\n",
              "      <td>-0.041996</td>\n",
              "      <td>1.000000</td>\n",
              "      <td>-0.075089</td>\n",
              "    </tr>\n",
              "    <tr>\n",
              "      <th>charges</th>\n",
              "      <td>0.299692</td>\n",
              "      <td>0.211325</td>\n",
              "      <td>-0.075089</td>\n",
              "      <td>1.000000</td>\n",
              "    </tr>\n",
              "  </tbody>\n",
              "</table>\n",
              "</div>"
            ],
            "text/plain": [
              "               age       bmi  children   charges\n",
              "age       1.000000  0.143527 -0.061076  0.299692\n",
              "bmi       0.143527  1.000000 -0.041996  0.211325\n",
              "children -0.061076 -0.041996  1.000000 -0.075089\n",
              "charges   0.299692  0.211325 -0.075089  1.000000"
            ]
          },
          "metadata": {
            "tags": []
          },
          "execution_count": 174
        }
      ]
    },
    {
      "cell_type": "code",
      "metadata": {
        "colab": {
          "base_uri": "https://localhost:8080/"
        },
        "id": "Hh0iB4-F8FEs",
        "outputId": "470c6f26-cf73-4537-ecb4-33fcc9169562"
      },
      "source": [
        "df.shape"
      ],
      "execution_count": null,
      "outputs": [
        {
          "output_type": "execute_result",
          "data": {
            "text/plain": [
              "(3630, 7)"
            ]
          },
          "metadata": {
            "tags": []
          },
          "execution_count": 175
        }
      ]
    },
    {
      "cell_type": "code",
      "metadata": {
        "colab": {
          "base_uri": "https://localhost:8080/"
        },
        "id": "xFnEdBpX8FPr",
        "outputId": "557ac95a-e8fb-4cea-af7e-c53d2df10184"
      },
      "source": [
        "df['children'].value_counts()"
      ],
      "execution_count": null,
      "outputs": [
        {
          "output_type": "execute_result",
          "data": {
            "text/plain": [
              "0    619\n",
              "2    615\n",
              "5    610\n",
              "3    605\n",
              "4    604\n",
              "1    577\n",
              "Name: children, dtype: int64"
            ]
          },
          "metadata": {
            "tags": []
          },
          "execution_count": 176
        }
      ]
    },
    {
      "cell_type": "code",
      "metadata": {
        "colab": {
          "base_uri": "https://localhost:8080/"
        },
        "id": "7tNhvE712Kuo",
        "outputId": "84212ec1-1704-4fe9-dcf6-782807a4fcf2"
      },
      "source": [
        "df['smoker'].value_counts()"
      ],
      "execution_count": null,
      "outputs": [
        {
          "output_type": "execute_result",
          "data": {
            "text/plain": [
              "no     3070\n",
              "yes     560\n",
              "Name: smoker, dtype: int64"
            ]
          },
          "metadata": {
            "tags": []
          },
          "execution_count": 177
        }
      ]
    },
    {
      "cell_type": "code",
      "metadata": {
        "colab": {
          "base_uri": "https://localhost:8080/"
        },
        "id": "pJfQuUQW2SL1",
        "outputId": "ee44b216-20ea-45a2-85be-ec14105391b7"
      },
      "source": [
        "df['region'].value_counts()"
      ],
      "execution_count": null,
      "outputs": [
        {
          "output_type": "execute_result",
          "data": {
            "text/plain": [
              "southeast    1021\n",
              "northwest     911\n",
              "southwest     850\n",
              "northeast     848\n",
              "Name: region, dtype: int64"
            ]
          },
          "metadata": {
            "tags": []
          },
          "execution_count": 178
        }
      ]
    },
    {
      "cell_type": "code",
      "metadata": {
        "colab": {
          "base_uri": "https://localhost:8080/"
        },
        "id": "1qpZ0Kjd2d_k",
        "outputId": "85d7067c-a6ff-4b47-c95b-519230d206e3"
      },
      "source": [
        "df['sex'].value_counts()"
      ],
      "execution_count": null,
      "outputs": [
        {
          "output_type": "execute_result",
          "data": {
            "text/plain": [
              "male      2029\n",
              "female    1601\n",
              "Name: sex, dtype: int64"
            ]
          },
          "metadata": {
            "tags": []
          },
          "execution_count": 179
        }
      ]
    },
    {
      "cell_type": "code",
      "metadata": {
        "colab": {
          "base_uri": "https://localhost:8080/",
          "height": 300
        },
        "id": "LQ9is0Nt2khw",
        "outputId": "f4e16816-957a-4910-b801-e00cc381fb26"
      },
      "source": [
        "df.describe()"
      ],
      "execution_count": null,
      "outputs": [
        {
          "output_type": "execute_result",
          "data": {
            "text/html": [
              "<div>\n",
              "<style scoped>\n",
              "    .dataframe tbody tr th:only-of-type {\n",
              "        vertical-align: middle;\n",
              "    }\n",
              "\n",
              "    .dataframe tbody tr th {\n",
              "        vertical-align: top;\n",
              "    }\n",
              "\n",
              "    .dataframe thead th {\n",
              "        text-align: right;\n",
              "    }\n",
              "</style>\n",
              "<table border=\"1\" class=\"dataframe\">\n",
              "  <thead>\n",
              "    <tr style=\"text-align: right;\">\n",
              "      <th></th>\n",
              "      <th>age</th>\n",
              "      <th>bmi</th>\n",
              "      <th>children</th>\n",
              "      <th>charges</th>\n",
              "    </tr>\n",
              "  </thead>\n",
              "  <tbody>\n",
              "    <tr>\n",
              "      <th>count</th>\n",
              "      <td>3630.000000</td>\n",
              "      <td>3630.000000</td>\n",
              "      <td>3630.000000</td>\n",
              "      <td>3630.000000</td>\n",
              "    </tr>\n",
              "    <tr>\n",
              "      <th>mean</th>\n",
              "      <td>38.887036</td>\n",
              "      <td>30.629652</td>\n",
              "      <td>2.503581</td>\n",
              "      <td>12784.808644</td>\n",
              "    </tr>\n",
              "    <tr>\n",
              "      <th>std</th>\n",
              "      <td>12.151029</td>\n",
              "      <td>5.441307</td>\n",
              "      <td>1.712568</td>\n",
              "      <td>10746.166743</td>\n",
              "    </tr>\n",
              "    <tr>\n",
              "      <th>min</th>\n",
              "      <td>18.000000</td>\n",
              "      <td>15.960000</td>\n",
              "      <td>0.000000</td>\n",
              "      <td>1121.873900</td>\n",
              "    </tr>\n",
              "    <tr>\n",
              "      <th>25%</th>\n",
              "      <td>29.000000</td>\n",
              "      <td>26.694526</td>\n",
              "      <td>1.000000</td>\n",
              "      <td>5654.818262</td>\n",
              "    </tr>\n",
              "    <tr>\n",
              "      <th>50%</th>\n",
              "      <td>39.170922</td>\n",
              "      <td>30.200000</td>\n",
              "      <td>3.000000</td>\n",
              "      <td>9443.807222</td>\n",
              "    </tr>\n",
              "    <tr>\n",
              "      <th>75%</th>\n",
              "      <td>48.343281</td>\n",
              "      <td>34.100000</td>\n",
              "      <td>4.000000</td>\n",
              "      <td>14680.407505</td>\n",
              "    </tr>\n",
              "    <tr>\n",
              "      <th>max</th>\n",
              "      <td>64.000000</td>\n",
              "      <td>53.130000</td>\n",
              "      <td>5.000000</td>\n",
              "      <td>63770.428010</td>\n",
              "    </tr>\n",
              "  </tbody>\n",
              "</table>\n",
              "</div>"
            ],
            "text/plain": [
              "               age          bmi     children       charges\n",
              "count  3630.000000  3630.000000  3630.000000   3630.000000\n",
              "mean     38.887036    30.629652     2.503581  12784.808644\n",
              "std      12.151029     5.441307     1.712568  10746.166743\n",
              "min      18.000000    15.960000     0.000000   1121.873900\n",
              "25%      29.000000    26.694526     1.000000   5654.818262\n",
              "50%      39.170922    30.200000     3.000000   9443.807222\n",
              "75%      48.343281    34.100000     4.000000  14680.407505\n",
              "max      64.000000    53.130000     5.000000  63770.428010"
            ]
          },
          "metadata": {
            "tags": []
          },
          "execution_count": 180
        }
      ]
    },
    {
      "cell_type": "code",
      "metadata": {
        "id": "sLZ3vi0T2sAH",
        "colab": {
          "base_uri": "https://localhost:8080/"
        },
        "outputId": "6b4d9e28-b28d-4bc6-e8d3-9210daa2c1fb"
      },
      "source": [
        "\n",
        "df['age']"
      ],
      "execution_count": null,
      "outputs": [
        {
          "output_type": "execute_result",
          "data": {
            "text/plain": [
              "0       21.000000\n",
              "1       36.976978\n",
              "2       18.000000\n",
              "3       37.000000\n",
              "4       58.000000\n",
              "          ...    \n",
              "3625    48.820767\n",
              "3626    38.661977\n",
              "3627    56.000000\n",
              "3628    48.061207\n",
              "3629    37.598865\n",
              "Name: age, Length: 3630, dtype: float64"
            ]
          },
          "metadata": {
            "tags": []
          },
          "execution_count": 181
        }
      ]
    },
    {
      "cell_type": "code",
      "metadata": {
        "id": "sLnV1i7-5y4K"
      },
      "source": [
        "#AGE (abs  (roundoff))\n",
        "# SMOKER (1 or 0 )\n",
        "# SEX (1 or 0) or one hot.()\n",
        "# Region (ONE HOT)\n",
        "# MinMax\n",
        "\n",
        "# ****CHILDREN P  (ONE HOT OR OTHER DEPENDS)"
      ],
      "execution_count": null,
      "outputs": []
    },
    {
      "cell_type": "code",
      "metadata": {
        "colab": {
          "base_uri": "https://localhost:8080/"
        },
        "id": "_dXiJFlDtmOi",
        "outputId": "466f4290-285c-4d22-c860-c71dbd51f67d"
      },
      "source": [
        "df2 = pd.DataFrame(df['age'].apply(np.floor))\n",
        "print(df2)\n",
        "df3 = df.drop('age',axis=1)\n",
        "result = pd.concat([df3, df2], axis=1)\n",
        "print(result)"
      ],
      "execution_count": null,
      "outputs": [
        {
          "output_type": "stream",
          "text": [
            "       age\n",
            "0     21.0\n",
            "1     36.0\n",
            "2     18.0\n",
            "3     37.0\n",
            "4     58.0\n",
            "...    ...\n",
            "3625  48.0\n",
            "3626  38.0\n",
            "3627  56.0\n",
            "3628  48.0\n",
            "3629  37.0\n",
            "\n",
            "[3630 rows x 1 columns]\n",
            "         sex        bmi smoker     region  children       charges   age\n",
            "0       male  25.745000     no  northeast         2   3279.868550  21.0\n",
            "1     female  25.744165    yes  southeast         3  21454.494239  36.0\n",
            "2       male  30.030000     no  southeast         1   1720.353700  18.0\n",
            "3       male  30.676891     no  northeast         3   6801.437542  37.0\n",
            "4       male  32.010000     no  southeast         1  11946.625900  58.0\n",
            "...      ...        ...    ...        ...       ...           ...   ...\n",
            "3625  female  41.426984     no  northwest         4  10987.324964  48.0\n",
            "3626  female  26.202557     no  southeast         2  11735.844352  38.0\n",
            "3627    male  40.300000     no  southwest         0  10602.385000  56.0\n",
            "3628  female  34.930624     no  southeast         1   8976.140452  48.0\n",
            "3629  female  25.219233     no  northeast         3   7027.698968  37.0\n",
            "\n",
            "[3630 rows x 7 columns]\n"
          ],
          "name": "stdout"
        }
      ]
    },
    {
      "cell_type": "code",
      "metadata": {
        "id": "boVDAc4rCaJS"
      },
      "source": [
        "\n"
      ],
      "execution_count": null,
      "outputs": []
    },
    {
      "cell_type": "code",
      "metadata": {
        "id": "2Lb1IVPJC3Bl"
      },
      "source": [
        ""
      ],
      "execution_count": null,
      "outputs": []
    },
    {
      "cell_type": "code",
      "metadata": {
        "id": "jmX5FVfxCvpX"
      },
      "source": [
        ""
      ],
      "execution_count": null,
      "outputs": []
    },
    {
      "cell_type": "code",
      "metadata": {
        "id": "clPOEBI8uWua"
      },
      "source": [
        "\n",
        "result['smoker'].replace({'yes': 1,'no': 0},inplace=True)\n",
        "\n",
        "\n",
        "result['sex'].replace({'male': 1,'female': 0},inplace=True)"
      ],
      "execution_count": null,
      "outputs": []
    },
    {
      "cell_type": "code",
      "metadata": {
        "colab": {
          "base_uri": "https://localhost:8080/",
          "height": 363
        },
        "id": "j3Q6jz4fuYHv",
        "outputId": "3945eeb9-3abb-4491-ba94-3037c6c958e9"
      },
      "source": [
        "result.sample(10)"
      ],
      "execution_count": null,
      "outputs": [
        {
          "output_type": "execute_result",
          "data": {
            "text/html": [
              "<div>\n",
              "<style scoped>\n",
              "    .dataframe tbody tr th:only-of-type {\n",
              "        vertical-align: middle;\n",
              "    }\n",
              "\n",
              "    .dataframe tbody tr th {\n",
              "        vertical-align: top;\n",
              "    }\n",
              "\n",
              "    .dataframe thead th {\n",
              "        text-align: right;\n",
              "    }\n",
              "</style>\n",
              "<table border=\"1\" class=\"dataframe\">\n",
              "  <thead>\n",
              "    <tr style=\"text-align: right;\">\n",
              "      <th></th>\n",
              "      <th>sex</th>\n",
              "      <th>bmi</th>\n",
              "      <th>smoker</th>\n",
              "      <th>region</th>\n",
              "      <th>children</th>\n",
              "      <th>charges</th>\n",
              "      <th>age</th>\n",
              "    </tr>\n",
              "  </thead>\n",
              "  <tbody>\n",
              "    <tr>\n",
              "      <th>693</th>\n",
              "      <td>0</td>\n",
              "      <td>32.003954</td>\n",
              "      <td>0</td>\n",
              "      <td>northwest</td>\n",
              "      <td>4</td>\n",
              "      <td>11023.443506</td>\n",
              "      <td>49.0</td>\n",
              "    </tr>\n",
              "    <tr>\n",
              "      <th>3220</th>\n",
              "      <td>0</td>\n",
              "      <td>31.944934</td>\n",
              "      <td>0</td>\n",
              "      <td>northeast</td>\n",
              "      <td>2</td>\n",
              "      <td>6999.274662</td>\n",
              "      <td>39.0</td>\n",
              "    </tr>\n",
              "    <tr>\n",
              "      <th>432</th>\n",
              "      <td>1</td>\n",
              "      <td>35.860000</td>\n",
              "      <td>0</td>\n",
              "      <td>southeast</td>\n",
              "      <td>0</td>\n",
              "      <td>1986.933400</td>\n",
              "      <td>24.0</td>\n",
              "    </tr>\n",
              "    <tr>\n",
              "      <th>183</th>\n",
              "      <td>0</td>\n",
              "      <td>30.596183</td>\n",
              "      <td>0</td>\n",
              "      <td>southeast</td>\n",
              "      <td>2</td>\n",
              "      <td>12927.131694</td>\n",
              "      <td>59.0</td>\n",
              "    </tr>\n",
              "    <tr>\n",
              "      <th>2620</th>\n",
              "      <td>1</td>\n",
              "      <td>30.006692</td>\n",
              "      <td>0</td>\n",
              "      <td>northeast</td>\n",
              "      <td>4</td>\n",
              "      <td>17500.205729</td>\n",
              "      <td>22.0</td>\n",
              "    </tr>\n",
              "    <tr>\n",
              "      <th>1805</th>\n",
              "      <td>0</td>\n",
              "      <td>28.880000</td>\n",
              "      <td>0</td>\n",
              "      <td>northwest</td>\n",
              "      <td>1</td>\n",
              "      <td>9249.495200</td>\n",
              "      <td>48.0</td>\n",
              "    </tr>\n",
              "    <tr>\n",
              "      <th>2942</th>\n",
              "      <td>1</td>\n",
              "      <td>34.100000</td>\n",
              "      <td>0</td>\n",
              "      <td>southeast</td>\n",
              "      <td>2</td>\n",
              "      <td>23563.016180</td>\n",
              "      <td>39.0</td>\n",
              "    </tr>\n",
              "    <tr>\n",
              "      <th>3020</th>\n",
              "      <td>0</td>\n",
              "      <td>28.788642</td>\n",
              "      <td>0</td>\n",
              "      <td>southeast</td>\n",
              "      <td>5</td>\n",
              "      <td>9182.058332</td>\n",
              "      <td>40.0</td>\n",
              "    </tr>\n",
              "    <tr>\n",
              "      <th>573</th>\n",
              "      <td>0</td>\n",
              "      <td>30.148943</td>\n",
              "      <td>0</td>\n",
              "      <td>southeast</td>\n",
              "      <td>3</td>\n",
              "      <td>14142.762543</td>\n",
              "      <td>59.0</td>\n",
              "    </tr>\n",
              "    <tr>\n",
              "      <th>650</th>\n",
              "      <td>1</td>\n",
              "      <td>28.695554</td>\n",
              "      <td>0</td>\n",
              "      <td>southwest</td>\n",
              "      <td>5</td>\n",
              "      <td>4702.130950</td>\n",
              "      <td>19.0</td>\n",
              "    </tr>\n",
              "  </tbody>\n",
              "</table>\n",
              "</div>"
            ],
            "text/plain": [
              "      sex        bmi  smoker     region  children       charges   age\n",
              "693     0  32.003954       0  northwest         4  11023.443506  49.0\n",
              "3220    0  31.944934       0  northeast         2   6999.274662  39.0\n",
              "432     1  35.860000       0  southeast         0   1986.933400  24.0\n",
              "183     0  30.596183       0  southeast         2  12927.131694  59.0\n",
              "2620    1  30.006692       0  northeast         4  17500.205729  22.0\n",
              "1805    0  28.880000       0  northwest         1   9249.495200  48.0\n",
              "2942    1  34.100000       0  southeast         2  23563.016180  39.0\n",
              "3020    0  28.788642       0  southeast         5   9182.058332  40.0\n",
              "573     0  30.148943       0  southeast         3  14142.762543  59.0\n",
              "650     1  28.695554       0  southwest         5   4702.130950  19.0"
            ]
          },
          "metadata": {
            "tags": []
          },
          "execution_count": 185
        }
      ]
    },
    {
      "cell_type": "code",
      "metadata": {
        "id": "u0bsyn7Puisj"
      },
      "source": [
        "\n",
        "# result['smoker'].replace({'yes': 1,'no': 0},inplace=True)"
      ],
      "execution_count": null,
      "outputs": []
    },
    {
      "cell_type": "code",
      "metadata": {
        "id": "Uw9hIkVwu7eJ"
      },
      "source": [
        "# \n",
        "# result['sex'].replace({'male': 1,'female': 0},inplace=True)"
      ],
      "execution_count": null,
      "outputs": []
    },
    {
      "cell_type": "code",
      "metadata": {
        "colab": {
          "base_uri": "https://localhost:8080/",
          "height": 423
        },
        "id": "DGCxbOO9u9l-",
        "outputId": "373cba47-a8f4-424d-f2e6-bfcbe1aa0b57"
      },
      "source": [
        "result"
      ],
      "execution_count": null,
      "outputs": [
        {
          "output_type": "execute_result",
          "data": {
            "text/html": [
              "<div>\n",
              "<style scoped>\n",
              "    .dataframe tbody tr th:only-of-type {\n",
              "        vertical-align: middle;\n",
              "    }\n",
              "\n",
              "    .dataframe tbody tr th {\n",
              "        vertical-align: top;\n",
              "    }\n",
              "\n",
              "    .dataframe thead th {\n",
              "        text-align: right;\n",
              "    }\n",
              "</style>\n",
              "<table border=\"1\" class=\"dataframe\">\n",
              "  <thead>\n",
              "    <tr style=\"text-align: right;\">\n",
              "      <th></th>\n",
              "      <th>sex</th>\n",
              "      <th>bmi</th>\n",
              "      <th>smoker</th>\n",
              "      <th>region</th>\n",
              "      <th>children</th>\n",
              "      <th>charges</th>\n",
              "      <th>age</th>\n",
              "    </tr>\n",
              "  </thead>\n",
              "  <tbody>\n",
              "    <tr>\n",
              "      <th>0</th>\n",
              "      <td>1</td>\n",
              "      <td>25.745000</td>\n",
              "      <td>0</td>\n",
              "      <td>northeast</td>\n",
              "      <td>2</td>\n",
              "      <td>3279.868550</td>\n",
              "      <td>21.0</td>\n",
              "    </tr>\n",
              "    <tr>\n",
              "      <th>1</th>\n",
              "      <td>0</td>\n",
              "      <td>25.744165</td>\n",
              "      <td>1</td>\n",
              "      <td>southeast</td>\n",
              "      <td>3</td>\n",
              "      <td>21454.494239</td>\n",
              "      <td>36.0</td>\n",
              "    </tr>\n",
              "    <tr>\n",
              "      <th>2</th>\n",
              "      <td>1</td>\n",
              "      <td>30.030000</td>\n",
              "      <td>0</td>\n",
              "      <td>southeast</td>\n",
              "      <td>1</td>\n",
              "      <td>1720.353700</td>\n",
              "      <td>18.0</td>\n",
              "    </tr>\n",
              "    <tr>\n",
              "      <th>3</th>\n",
              "      <td>1</td>\n",
              "      <td>30.676891</td>\n",
              "      <td>0</td>\n",
              "      <td>northeast</td>\n",
              "      <td>3</td>\n",
              "      <td>6801.437542</td>\n",
              "      <td>37.0</td>\n",
              "    </tr>\n",
              "    <tr>\n",
              "      <th>4</th>\n",
              "      <td>1</td>\n",
              "      <td>32.010000</td>\n",
              "      <td>0</td>\n",
              "      <td>southeast</td>\n",
              "      <td>1</td>\n",
              "      <td>11946.625900</td>\n",
              "      <td>58.0</td>\n",
              "    </tr>\n",
              "    <tr>\n",
              "      <th>...</th>\n",
              "      <td>...</td>\n",
              "      <td>...</td>\n",
              "      <td>...</td>\n",
              "      <td>...</td>\n",
              "      <td>...</td>\n",
              "      <td>...</td>\n",
              "      <td>...</td>\n",
              "    </tr>\n",
              "    <tr>\n",
              "      <th>3625</th>\n",
              "      <td>0</td>\n",
              "      <td>41.426984</td>\n",
              "      <td>0</td>\n",
              "      <td>northwest</td>\n",
              "      <td>4</td>\n",
              "      <td>10987.324964</td>\n",
              "      <td>48.0</td>\n",
              "    </tr>\n",
              "    <tr>\n",
              "      <th>3626</th>\n",
              "      <td>0</td>\n",
              "      <td>26.202557</td>\n",
              "      <td>0</td>\n",
              "      <td>southeast</td>\n",
              "      <td>2</td>\n",
              "      <td>11735.844352</td>\n",
              "      <td>38.0</td>\n",
              "    </tr>\n",
              "    <tr>\n",
              "      <th>3627</th>\n",
              "      <td>1</td>\n",
              "      <td>40.300000</td>\n",
              "      <td>0</td>\n",
              "      <td>southwest</td>\n",
              "      <td>0</td>\n",
              "      <td>10602.385000</td>\n",
              "      <td>56.0</td>\n",
              "    </tr>\n",
              "    <tr>\n",
              "      <th>3628</th>\n",
              "      <td>0</td>\n",
              "      <td>34.930624</td>\n",
              "      <td>0</td>\n",
              "      <td>southeast</td>\n",
              "      <td>1</td>\n",
              "      <td>8976.140452</td>\n",
              "      <td>48.0</td>\n",
              "    </tr>\n",
              "    <tr>\n",
              "      <th>3629</th>\n",
              "      <td>0</td>\n",
              "      <td>25.219233</td>\n",
              "      <td>0</td>\n",
              "      <td>northeast</td>\n",
              "      <td>3</td>\n",
              "      <td>7027.698968</td>\n",
              "      <td>37.0</td>\n",
              "    </tr>\n",
              "  </tbody>\n",
              "</table>\n",
              "<p>3630 rows × 7 columns</p>\n",
              "</div>"
            ],
            "text/plain": [
              "      sex        bmi  smoker     region  children       charges   age\n",
              "0       1  25.745000       0  northeast         2   3279.868550  21.0\n",
              "1       0  25.744165       1  southeast         3  21454.494239  36.0\n",
              "2       1  30.030000       0  southeast         1   1720.353700  18.0\n",
              "3       1  30.676891       0  northeast         3   6801.437542  37.0\n",
              "4       1  32.010000       0  southeast         1  11946.625900  58.0\n",
              "...   ...        ...     ...        ...       ...           ...   ...\n",
              "3625    0  41.426984       0  northwest         4  10987.324964  48.0\n",
              "3626    0  26.202557       0  southeast         2  11735.844352  38.0\n",
              "3627    1  40.300000       0  southwest         0  10602.385000  56.0\n",
              "3628    0  34.930624       0  southeast         1   8976.140452  48.0\n",
              "3629    0  25.219233       0  northeast         3   7027.698968  37.0\n",
              "\n",
              "[3630 rows x 7 columns]"
            ]
          },
          "metadata": {
            "tags": []
          },
          "execution_count": 188
        }
      ]
    },
    {
      "cell_type": "code",
      "metadata": {
        "id": "9nKFb9nSEo-D"
      },
      "source": [
        "\n",
        "# Import label encoder\n",
        "from sklearn import preprocessing\n",
        "  \n",
        "# label_encoder object knows how to understand word labels.\n",
        "label_encoder = preprocessing.LabelEncoder()\n",
        "\n",
        "# Encode labels in column 'species'.\n",
        "result['region']= label_encoder.fit_transform(result['region'])"
      ],
      "execution_count": null,
      "outputs": []
    },
    {
      "cell_type": "code",
      "metadata": {
        "colab": {
          "base_uri": "https://localhost:8080/",
          "height": 363
        },
        "id": "IPOzJoIru-Vr",
        "outputId": "9bd2cca2-2356-4e64-98a7-4a7914eddfbf"
      },
      "source": [
        "# result['region'].value_counts()\n",
        "result.sample(10)"
      ],
      "execution_count": null,
      "outputs": [
        {
          "output_type": "execute_result",
          "data": {
            "text/html": [
              "<div>\n",
              "<style scoped>\n",
              "    .dataframe tbody tr th:only-of-type {\n",
              "        vertical-align: middle;\n",
              "    }\n",
              "\n",
              "    .dataframe tbody tr th {\n",
              "        vertical-align: top;\n",
              "    }\n",
              "\n",
              "    .dataframe thead th {\n",
              "        text-align: right;\n",
              "    }\n",
              "</style>\n",
              "<table border=\"1\" class=\"dataframe\">\n",
              "  <thead>\n",
              "    <tr style=\"text-align: right;\">\n",
              "      <th></th>\n",
              "      <th>sex</th>\n",
              "      <th>bmi</th>\n",
              "      <th>smoker</th>\n",
              "      <th>region</th>\n",
              "      <th>children</th>\n",
              "      <th>charges</th>\n",
              "      <th>age</th>\n",
              "    </tr>\n",
              "  </thead>\n",
              "  <tbody>\n",
              "    <tr>\n",
              "      <th>2407</th>\n",
              "      <td>1</td>\n",
              "      <td>38.612672</td>\n",
              "      <td>1</td>\n",
              "      <td>3</td>\n",
              "      <td>2</td>\n",
              "      <td>38392.746516</td>\n",
              "      <td>20.0</td>\n",
              "    </tr>\n",
              "    <tr>\n",
              "      <th>748</th>\n",
              "      <td>1</td>\n",
              "      <td>34.203424</td>\n",
              "      <td>1</td>\n",
              "      <td>0</td>\n",
              "      <td>4</td>\n",
              "      <td>34241.537745</td>\n",
              "      <td>57.0</td>\n",
              "    </tr>\n",
              "    <tr>\n",
              "      <th>863</th>\n",
              "      <td>1</td>\n",
              "      <td>30.873674</td>\n",
              "      <td>0</td>\n",
              "      <td>3</td>\n",
              "      <td>5</td>\n",
              "      <td>5209.178598</td>\n",
              "      <td>23.0</td>\n",
              "    </tr>\n",
              "    <tr>\n",
              "      <th>1024</th>\n",
              "      <td>0</td>\n",
              "      <td>34.695717</td>\n",
              "      <td>1</td>\n",
              "      <td>2</td>\n",
              "      <td>3</td>\n",
              "      <td>40824.588611</td>\n",
              "      <td>38.0</td>\n",
              "    </tr>\n",
              "    <tr>\n",
              "      <th>2444</th>\n",
              "      <td>0</td>\n",
              "      <td>27.289066</td>\n",
              "      <td>1</td>\n",
              "      <td>1</td>\n",
              "      <td>3</td>\n",
              "      <td>18232.032985</td>\n",
              "      <td>18.0</td>\n",
              "    </tr>\n",
              "    <tr>\n",
              "      <th>1414</th>\n",
              "      <td>0</td>\n",
              "      <td>25.596881</td>\n",
              "      <td>0</td>\n",
              "      <td>3</td>\n",
              "      <td>5</td>\n",
              "      <td>13275.317973</td>\n",
              "      <td>43.0</td>\n",
              "    </tr>\n",
              "    <tr>\n",
              "      <th>352</th>\n",
              "      <td>0</td>\n",
              "      <td>24.460116</td>\n",
              "      <td>0</td>\n",
              "      <td>1</td>\n",
              "      <td>1</td>\n",
              "      <td>2720.720869</td>\n",
              "      <td>19.0</td>\n",
              "    </tr>\n",
              "    <tr>\n",
              "      <th>263</th>\n",
              "      <td>0</td>\n",
              "      <td>30.728345</td>\n",
              "      <td>0</td>\n",
              "      <td>0</td>\n",
              "      <td>1</td>\n",
              "      <td>7631.480400</td>\n",
              "      <td>44.0</td>\n",
              "    </tr>\n",
              "    <tr>\n",
              "      <th>510</th>\n",
              "      <td>1</td>\n",
              "      <td>31.892829</td>\n",
              "      <td>1</td>\n",
              "      <td>0</td>\n",
              "      <td>3</td>\n",
              "      <td>46182.830749</td>\n",
              "      <td>59.0</td>\n",
              "    </tr>\n",
              "    <tr>\n",
              "      <th>3163</th>\n",
              "      <td>1</td>\n",
              "      <td>19.584628</td>\n",
              "      <td>0</td>\n",
              "      <td>2</td>\n",
              "      <td>5</td>\n",
              "      <td>18317.625754</td>\n",
              "      <td>39.0</td>\n",
              "    </tr>\n",
              "  </tbody>\n",
              "</table>\n",
              "</div>"
            ],
            "text/plain": [
              "      sex        bmi  smoker  region  children       charges   age\n",
              "2407    1  38.612672       1       3         2  38392.746516  20.0\n",
              "748     1  34.203424       1       0         4  34241.537745  57.0\n",
              "863     1  30.873674       0       3         5   5209.178598  23.0\n",
              "1024    0  34.695717       1       2         3  40824.588611  38.0\n",
              "2444    0  27.289066       1       1         3  18232.032985  18.0\n",
              "1414    0  25.596881       0       3         5  13275.317973  43.0\n",
              "352     0  24.460116       0       1         1   2720.720869  19.0\n",
              "263     0  30.728345       0       0         1   7631.480400  44.0\n",
              "510     1  31.892829       1       0         3  46182.830749  59.0\n",
              "3163    1  19.584628       0       2         5  18317.625754  39.0"
            ]
          },
          "metadata": {
            "tags": []
          },
          "execution_count": 190
        }
      ]
    },
    {
      "cell_type": "code",
      "metadata": {
        "id": "CV5IT2_cvRQ9"
      },
      "source": [
        "# reg = pd.get_dummies(result['region'])\n",
        "# reg"
      ],
      "execution_count": null,
      "outputs": []
    },
    {
      "cell_type": "code",
      "metadata": {
        "id": "glZdCl1zxpJh"
      },
      "source": [
        "\n",
        "# reg = pd.get_dummies(result['region'])\n",
        "# print(reg)\n",
        "# result2 = result.drop(['region'],axis=1)\n",
        "# result3 = pd.concat([reg, result2], axis=1)\n",
        "# print(result3)"
      ],
      "execution_count": null,
      "outputs": []
    },
    {
      "cell_type": "code",
      "metadata": {
        "id": "6DmRlJTnx4aY"
      },
      "source": [
        "cols_to_scale = ['bmi','children','age','region']\n",
        "from sklearn.preprocessing import StandardScaler\n",
        "scaler = StandardScaler()\n",
        "result[cols_to_scale] = scaler.fit_transform(result[cols_to_scale])"
      ],
      "execution_count": null,
      "outputs": []
    },
    {
      "cell_type": "code",
      "metadata": {
        "colab": {
          "base_uri": "https://localhost:8080/",
          "height": 423
        },
        "id": "b6fujb0Vyfav",
        "outputId": "55833467-06fe-49b9-ef83-391395f062c5"
      },
      "source": [
        "result"
      ],
      "execution_count": null,
      "outputs": [
        {
          "output_type": "execute_result",
          "data": {
            "text/html": [
              "<div>\n",
              "<style scoped>\n",
              "    .dataframe tbody tr th:only-of-type {\n",
              "        vertical-align: middle;\n",
              "    }\n",
              "\n",
              "    .dataframe tbody tr th {\n",
              "        vertical-align: top;\n",
              "    }\n",
              "\n",
              "    .dataframe thead th {\n",
              "        text-align: right;\n",
              "    }\n",
              "</style>\n",
              "<table border=\"1\" class=\"dataframe\">\n",
              "  <thead>\n",
              "    <tr style=\"text-align: right;\">\n",
              "      <th></th>\n",
              "      <th>sex</th>\n",
              "      <th>bmi</th>\n",
              "      <th>smoker</th>\n",
              "      <th>region</th>\n",
              "      <th>children</th>\n",
              "      <th>charges</th>\n",
              "      <th>age</th>\n",
              "    </tr>\n",
              "  </thead>\n",
              "  <tbody>\n",
              "    <tr>\n",
              "      <th>0</th>\n",
              "      <td>1</td>\n",
              "      <td>-0.897822</td>\n",
              "      <td>0</td>\n",
              "      <td>-1.392458</td>\n",
              "      <td>-0.294091</td>\n",
              "      <td>3279.868550</td>\n",
              "      <td>-1.449186</td>\n",
              "    </tr>\n",
              "    <tr>\n",
              "      <th>1</th>\n",
              "      <td>0</td>\n",
              "      <td>-0.897976</td>\n",
              "      <td>1</td>\n",
              "      <td>0.444584</td>\n",
              "      <td>0.289908</td>\n",
              "      <td>21454.494239</td>\n",
              "      <td>-0.215918</td>\n",
              "    </tr>\n",
              "    <tr>\n",
              "      <th>2</th>\n",
              "      <td>1</td>\n",
              "      <td>-0.110219</td>\n",
              "      <td>0</td>\n",
              "      <td>0.444584</td>\n",
              "      <td>-0.878090</td>\n",
              "      <td>1720.353700</td>\n",
              "      <td>-1.695840</td>\n",
              "    </tr>\n",
              "    <tr>\n",
              "      <th>3</th>\n",
              "      <td>1</td>\n",
              "      <td>0.008683</td>\n",
              "      <td>0</td>\n",
              "      <td>-1.392458</td>\n",
              "      <td>0.289908</td>\n",
              "      <td>6801.437542</td>\n",
              "      <td>-0.133700</td>\n",
              "    </tr>\n",
              "    <tr>\n",
              "      <th>4</th>\n",
              "      <td>1</td>\n",
              "      <td>0.253714</td>\n",
              "      <td>0</td>\n",
              "      <td>0.444584</td>\n",
              "      <td>-0.878090</td>\n",
              "      <td>11946.625900</td>\n",
              "      <td>1.592875</td>\n",
              "    </tr>\n",
              "    <tr>\n",
              "      <th>...</th>\n",
              "      <td>...</td>\n",
              "      <td>...</td>\n",
              "      <td>...</td>\n",
              "      <td>...</td>\n",
              "      <td>...</td>\n",
              "      <td>...</td>\n",
              "      <td>...</td>\n",
              "    </tr>\n",
              "    <tr>\n",
              "      <th>3625</th>\n",
              "      <td>0</td>\n",
              "      <td>1.984600</td>\n",
              "      <td>0</td>\n",
              "      <td>-0.473937</td>\n",
              "      <td>0.873907</td>\n",
              "      <td>10987.324964</td>\n",
              "      <td>0.770696</td>\n",
              "    </tr>\n",
              "    <tr>\n",
              "      <th>3626</th>\n",
              "      <td>0</td>\n",
              "      <td>-0.813721</td>\n",
              "      <td>0</td>\n",
              "      <td>0.444584</td>\n",
              "      <td>-0.294091</td>\n",
              "      <td>11735.844352</td>\n",
              "      <td>-0.051482</td>\n",
              "    </tr>\n",
              "    <tr>\n",
              "      <th>3627</th>\n",
              "      <td>1</td>\n",
              "      <td>1.777455</td>\n",
              "      <td>0</td>\n",
              "      <td>1.363106</td>\n",
              "      <td>-1.462089</td>\n",
              "      <td>10602.385000</td>\n",
              "      <td>1.428439</td>\n",
              "    </tr>\n",
              "    <tr>\n",
              "      <th>3628</th>\n",
              "      <td>0</td>\n",
              "      <td>0.790539</td>\n",
              "      <td>0</td>\n",
              "      <td>0.444584</td>\n",
              "      <td>-0.878090</td>\n",
              "      <td>8976.140452</td>\n",
              "      <td>0.770696</td>\n",
              "    </tr>\n",
              "    <tr>\n",
              "      <th>3629</th>\n",
              "      <td>0</td>\n",
              "      <td>-0.994460</td>\n",
              "      <td>0</td>\n",
              "      <td>-1.392458</td>\n",
              "      <td>0.289908</td>\n",
              "      <td>7027.698968</td>\n",
              "      <td>-0.133700</td>\n",
              "    </tr>\n",
              "  </tbody>\n",
              "</table>\n",
              "<p>3630 rows × 7 columns</p>\n",
              "</div>"
            ],
            "text/plain": [
              "      sex       bmi  smoker    region  children       charges       age\n",
              "0       1 -0.897822       0 -1.392458 -0.294091   3279.868550 -1.449186\n",
              "1       0 -0.897976       1  0.444584  0.289908  21454.494239 -0.215918\n",
              "2       1 -0.110219       0  0.444584 -0.878090   1720.353700 -1.695840\n",
              "3       1  0.008683       0 -1.392458  0.289908   6801.437542 -0.133700\n",
              "4       1  0.253714       0  0.444584 -0.878090  11946.625900  1.592875\n",
              "...   ...       ...     ...       ...       ...           ...       ...\n",
              "3625    0  1.984600       0 -0.473937  0.873907  10987.324964  0.770696\n",
              "3626    0 -0.813721       0  0.444584 -0.294091  11735.844352 -0.051482\n",
              "3627    1  1.777455       0  1.363106 -1.462089  10602.385000  1.428439\n",
              "3628    0  0.790539       0  0.444584 -0.878090   8976.140452  0.770696\n",
              "3629    0 -0.994460       0 -1.392458  0.289908   7027.698968 -0.133700\n",
              "\n",
              "[3630 rows x 7 columns]"
            ]
          },
          "metadata": {
            "tags": []
          },
          "execution_count": 194
        }
      ]
    },
    {
      "cell_type": "code",
      "metadata": {
        "id": "jaOICZHayge6"
      },
      "source": [
        "result4 = result.drop_duplicates()"
      ],
      "execution_count": null,
      "outputs": []
    },
    {
      "cell_type": "code",
      "metadata": {
        "colab": {
          "base_uri": "https://localhost:8080/",
          "height": 423
        },
        "id": "lAAtFITuymme",
        "outputId": "97a57bdc-d1ac-49d2-c19d-bb2e86d74aaa"
      },
      "source": [
        "\n",
        "result4"
      ],
      "execution_count": null,
      "outputs": [
        {
          "output_type": "execute_result",
          "data": {
            "text/html": [
              "<div>\n",
              "<style scoped>\n",
              "    .dataframe tbody tr th:only-of-type {\n",
              "        vertical-align: middle;\n",
              "    }\n",
              "\n",
              "    .dataframe tbody tr th {\n",
              "        vertical-align: top;\n",
              "    }\n",
              "\n",
              "    .dataframe thead th {\n",
              "        text-align: right;\n",
              "    }\n",
              "</style>\n",
              "<table border=\"1\" class=\"dataframe\">\n",
              "  <thead>\n",
              "    <tr style=\"text-align: right;\">\n",
              "      <th></th>\n",
              "      <th>sex</th>\n",
              "      <th>bmi</th>\n",
              "      <th>smoker</th>\n",
              "      <th>region</th>\n",
              "      <th>children</th>\n",
              "      <th>charges</th>\n",
              "      <th>age</th>\n",
              "    </tr>\n",
              "  </thead>\n",
              "  <tbody>\n",
              "    <tr>\n",
              "      <th>0</th>\n",
              "      <td>1</td>\n",
              "      <td>-0.897822</td>\n",
              "      <td>0</td>\n",
              "      <td>-1.392458</td>\n",
              "      <td>-0.294091</td>\n",
              "      <td>3279.868550</td>\n",
              "      <td>-1.449186</td>\n",
              "    </tr>\n",
              "    <tr>\n",
              "      <th>1</th>\n",
              "      <td>0</td>\n",
              "      <td>-0.897976</td>\n",
              "      <td>1</td>\n",
              "      <td>0.444584</td>\n",
              "      <td>0.289908</td>\n",
              "      <td>21454.494239</td>\n",
              "      <td>-0.215918</td>\n",
              "    </tr>\n",
              "    <tr>\n",
              "      <th>2</th>\n",
              "      <td>1</td>\n",
              "      <td>-0.110219</td>\n",
              "      <td>0</td>\n",
              "      <td>0.444584</td>\n",
              "      <td>-0.878090</td>\n",
              "      <td>1720.353700</td>\n",
              "      <td>-1.695840</td>\n",
              "    </tr>\n",
              "    <tr>\n",
              "      <th>3</th>\n",
              "      <td>1</td>\n",
              "      <td>0.008683</td>\n",
              "      <td>0</td>\n",
              "      <td>-1.392458</td>\n",
              "      <td>0.289908</td>\n",
              "      <td>6801.437542</td>\n",
              "      <td>-0.133700</td>\n",
              "    </tr>\n",
              "    <tr>\n",
              "      <th>4</th>\n",
              "      <td>1</td>\n",
              "      <td>0.253714</td>\n",
              "      <td>0</td>\n",
              "      <td>0.444584</td>\n",
              "      <td>-0.878090</td>\n",
              "      <td>11946.625900</td>\n",
              "      <td>1.592875</td>\n",
              "    </tr>\n",
              "    <tr>\n",
              "      <th>...</th>\n",
              "      <td>...</td>\n",
              "      <td>...</td>\n",
              "      <td>...</td>\n",
              "      <td>...</td>\n",
              "      <td>...</td>\n",
              "      <td>...</td>\n",
              "      <td>...</td>\n",
              "    </tr>\n",
              "    <tr>\n",
              "      <th>2947</th>\n",
              "      <td>1</td>\n",
              "      <td>0.901068</td>\n",
              "      <td>1</td>\n",
              "      <td>0.444584</td>\n",
              "      <td>-0.294091</td>\n",
              "      <td>18989.365540</td>\n",
              "      <td>0.359607</td>\n",
              "    </tr>\n",
              "    <tr>\n",
              "      <th>2948</th>\n",
              "      <td>1</td>\n",
              "      <td>-0.432144</td>\n",
              "      <td>0</td>\n",
              "      <td>-1.392458</td>\n",
              "      <td>0.873907</td>\n",
              "      <td>21806.181609</td>\n",
              "      <td>-0.627008</td>\n",
              "    </tr>\n",
              "    <tr>\n",
              "      <th>2949</th>\n",
              "      <td>0</td>\n",
              "      <td>-0.710103</td>\n",
              "      <td>0</td>\n",
              "      <td>-0.473937</td>\n",
              "      <td>0.873907</td>\n",
              "      <td>11355.817586</td>\n",
              "      <td>0.935132</td>\n",
              "    </tr>\n",
              "    <tr>\n",
              "      <th>2950</th>\n",
              "      <td>0</td>\n",
              "      <td>0.141013</td>\n",
              "      <td>0</td>\n",
              "      <td>-0.473937</td>\n",
              "      <td>0.873907</td>\n",
              "      <td>11185.914056</td>\n",
              "      <td>0.852914</td>\n",
              "    </tr>\n",
              "    <tr>\n",
              "      <th>2951</th>\n",
              "      <td>1</td>\n",
              "      <td>0.049691</td>\n",
              "      <td>1</td>\n",
              "      <td>1.363106</td>\n",
              "      <td>-1.462089</td>\n",
              "      <td>39727.614000</td>\n",
              "      <td>0.852914</td>\n",
              "    </tr>\n",
              "  </tbody>\n",
              "</table>\n",
              "<p>2951 rows × 7 columns</p>\n",
              "</div>"
            ],
            "text/plain": [
              "      sex       bmi  smoker    region  children       charges       age\n",
              "0       1 -0.897822       0 -1.392458 -0.294091   3279.868550 -1.449186\n",
              "1       0 -0.897976       1  0.444584  0.289908  21454.494239 -0.215918\n",
              "2       1 -0.110219       0  0.444584 -0.878090   1720.353700 -1.695840\n",
              "3       1  0.008683       0 -1.392458  0.289908   6801.437542 -0.133700\n",
              "4       1  0.253714       0  0.444584 -0.878090  11946.625900  1.592875\n",
              "...   ...       ...     ...       ...       ...           ...       ...\n",
              "2947    1  0.901068       1  0.444584 -0.294091  18989.365540  0.359607\n",
              "2948    1 -0.432144       0 -1.392458  0.873907  21806.181609 -0.627008\n",
              "2949    0 -0.710103       0 -0.473937  0.873907  11355.817586  0.935132\n",
              "2950    0  0.141013       0 -0.473937  0.873907  11185.914056  0.852914\n",
              "2951    1  0.049691       1  1.363106 -1.462089  39727.614000  0.852914\n",
              "\n",
              "[2951 rows x 7 columns]"
            ]
          },
          "metadata": {
            "tags": []
          },
          "execution_count": 196
        }
      ]
    },
    {
      "cell_type": "code",
      "metadata": {
        "id": "xxlm9NNpyqE-"
      },
      "source": [
        "from sklearn.model_selection import train_test_split"
      ],
      "execution_count": null,
      "outputs": []
    },
    {
      "cell_type": "code",
      "metadata": {
        "id": "ZCXiqdcfzdnV"
      },
      "source": [
        "X = result4.drop(['charges'],axis=1)"
      ],
      "execution_count": null,
      "outputs": []
    },
    {
      "cell_type": "code",
      "metadata": {
        "id": "umlpIv8qzoxC"
      },
      "source": [
        "y = result4['charges']"
      ],
      "execution_count": null,
      "outputs": []
    },
    {
      "cell_type": "code",
      "metadata": {
        "id": "LsvBJA-Gzq6f"
      },
      "source": [
        "X_train, X_test, y_train, y_test = train_test_split(X, y, test_size=0.2, random_state=15)"
      ],
      "execution_count": null,
      "outputs": []
    },
    {
      "cell_type": "code",
      "metadata": {
        "colab": {
          "base_uri": "https://localhost:8080/"
        },
        "id": "Oeutis5OzyYY",
        "outputId": "b0edbd2d-ef62-4b7b-e987-cf16332edbae"
      },
      "source": [
        "print(X_train.shape)\n",
        "print(X_test.shape)"
      ],
      "execution_count": null,
      "outputs": [
        {
          "output_type": "stream",
          "text": [
            "(2360, 6)\n",
            "(591, 6)\n"
          ],
          "name": "stdout"
        }
      ]
    },
    {
      "cell_type": "code",
      "metadata": {
        "colab": {
          "base_uri": "https://localhost:8080/"
        },
        "id": "dEufUMzuz-yo",
        "outputId": "40fb5b13-7aab-42b7-80d9-b58a3bbe63a5"
      },
      "source": [
        "print(y_train.shape)\n",
        "print(y_test.shape)"
      ],
      "execution_count": null,
      "outputs": [
        {
          "output_type": "stream",
          "text": [
            "(2360,)\n",
            "(591,)\n"
          ],
          "name": "stdout"
        }
      ]
    },
    {
      "cell_type": "code",
      "metadata": {
        "id": "zLm2a5Ab0Rcz"
      },
      "source": [
        "# !pip install lazypredict"
      ],
      "execution_count": null,
      "outputs": []
    },
    {
      "cell_type": "code",
      "metadata": {
        "id": "8NBM-FWQ0Jb2"
      },
      "source": [
        "# import lazypredict"
      ],
      "execution_count": null,
      "outputs": []
    },
    {
      "cell_type": "code",
      "metadata": {
        "id": "XW6U-Us31BE1"
      },
      "source": [
        "# from lazypredict.Supervised import LazyRegressor\n",
        "\n",
        "# from sklearn.utils import shuffle\n",
        "# import numpy as np"
      ],
      "execution_count": null,
      "outputs": []
    },
    {
      "cell_type": "code",
      "metadata": {
        "id": "awV9_4t90iTo"
      },
      "source": [
        "# # reg = LazyRegressor(verbose=0, ignore_warnings=False, custom_metric=None)\n",
        "# models, predictions = reg.fit(X_train, X_test, y_train, y_test)"
      ],
      "execution_count": null,
      "outputs": []
    },
    {
      "cell_type": "code",
      "metadata": {
        "id": "4H9qYFaT09mI"
      },
      "source": [
        "# models"
      ],
      "execution_count": null,
      "outputs": []
    },
    {
      "cell_type": "code",
      "metadata": {
        "id": "38IJJF4X1iYW"
      },
      "source": [
        "#  from sklearn.ensemble import RandomForestRegressor\n",
        "#  from sklearn.experimental import enable_hist_gradient_boosting"
      ],
      "execution_count": null,
      "outputs": []
    },
    {
      "cell_type": "code",
      "metadata": {
        "id": "YtYHBudqICGy"
      },
      "source": [
        "# from sklearn.ensemble import HistGradientBoostingRegressor"
      ],
      "execution_count": null,
      "outputs": []
    },
    {
      "cell_type": "code",
      "metadata": {
        "id": "QctQfAFC9CWa"
      },
      "source": [
        "# regressor = RandomForestRegressor()\n",
        "#  from sklearn.experimental import enable_hist_gradient_boosting\n",
        "# from sklearn.ensemble import HistGradientBoostingRegressor\n",
        "# regressor = HistGradientBoostingRegressor()\n",
        "# regressor.fit(X_train,y_train)\n",
        "# pred = regressor.predict(X_test)"
      ],
      "execution_count": null,
      "outputs": []
    },
    {
      "cell_type": "code",
      "metadata": {
        "id": "xwJOy8jJ9pqY"
      },
      "source": [
        "# pred[:10]"
      ],
      "execution_count": null,
      "outputs": []
    },
    {
      "cell_type": "code",
      "metadata": {
        "id": "k9g4HNBL9q1a"
      },
      "source": [
        "# import mean squared error from sklearn.metric\n",
        "# from sklearn.metrics import f1_score"
      ],
      "execution_count": null,
      "outputs": []
    },
    {
      "cell_type": "code",
      "metadata": {
        "id": "QBSyqeEh9vGg"
      },
      "source": [
        "# print('f1 Score is: ', f1_score(y_test, pred))"
      ],
      "execution_count": null,
      "outputs": []
    },
    {
      "cell_type": "code",
      "metadata": {
        "id": "VrNxixM09yoz"
      },
      "source": [
        "# regressor.score(X_test,y_test)"
      ],
      "execution_count": null,
      "outputs": []
    },
    {
      "cell_type": "code",
      "metadata": {
        "id": "Gynz9EZ0-GgQ"
      },
      "source": [
        "# df_test = pd.read_csv('/content/Test_Data.csv')\n",
        "# df_test\n",
        "# df2_test = pd.DataFrame(df_test['age'].apply(np.floor))\n",
        "# print(df2_test)\n",
        "# df3_test = df_test.drop('age',axis=1)\n",
        "# result_test = pd.concat([df3_test, df2_test], axis=1)\n",
        "# print(result_test)\n",
        "# \n",
        "# result_test['smoker'].replace({'yes': 1,'no': 0},inplace=True)\n",
        "\n",
        "\n",
        "# result_test['sex'].replace({'male': 1,'female': 0},inplace=True)"
      ],
      "execution_count": null,
      "outputs": []
    },
    {
      "cell_type": "code",
      "metadata": {
        "id": "izFQblat-oMo"
      },
      "source": [
        "# result_test"
      ],
      "execution_count": null,
      "outputs": []
    },
    {
      "cell_type": "code",
      "metadata": {
        "id": "h-uMkCBE-qsu"
      },
      "source": [
        "# reg_test = pd.get_dummies(result_test['region'])\n",
        "# print(reg_test)\n",
        "# result2_test = result_test.drop(['region'],axis=1)\n",
        "# result3_test = pd.concat([reg_test, result2_test], axis=1)\n",
        "# print(result3_test)\n",
        "\n",
        "# Import label encoder\n",
        "# from sklearn import preprocessing\n",
        "  \n",
        "# label_encoder object knows how to understand word labels.\n",
        "# label_encoder = preprocessing.LabelEncoder()\n",
        "\n",
        "# Encode labels in column 'species'.\n",
        "# result_test['region']= label_encoder.fit_transform(result_test['region'])"
      ],
      "execution_count": null,
      "outputs": []
    },
    {
      "cell_type": "code",
      "metadata": {
        "id": "ksfQTBtk_HdE"
      },
      "source": [
        "# result_test"
      ],
      "execution_count": null,
      "outputs": []
    },
    {
      "cell_type": "code",
      "metadata": {
        "id": "hopO6J4M_KQL"
      },
      "source": [
        "# cols_to_scale = ['bmi','children','age','region']\n",
        "# from sklearn.preprocessing import MinMaxScaler\n",
        "# scaler = MinMaxScaler()\n",
        "# result_test[cols_to_scale] = scaler.fit_transform(result_test[cols_to_scale])"
      ],
      "execution_count": null,
      "outputs": []
    },
    {
      "cell_type": "code",
      "metadata": {
        "id": "ZEjoWbmF_XuI"
      },
      "source": [
        "# result_test.head()"
      ],
      "execution_count": null,
      "outputs": []
    },
    {
      "cell_type": "code",
      "metadata": {
        "id": "079eb8s9_nWT"
      },
      "source": [
        "\n",
        "# target = regressor.predict(result_test)\n",
        "# # To create Dataframe of predicted value with particular respective index\n",
        "# res = pd.DataFrame(target) # target are nothing but the final predictions of your model on input features of your new unseen test data\n",
        "# res.columns = [\"prediction\"]\n",
        "\n",
        "# # To download the csv file locally\n",
        "# from google.colab import files\n",
        "# res.to_csv('submission.csv', index = False)\n",
        "# files.download('submission.csv')"
      ],
      "execution_count": null,
      "outputs": []
    },
    {
      "cell_type": "code",
      "metadata": {
        "id": "fq8GsGXkAf6B"
      },
      "source": [
        "# balancing smoker \n",
        "# one hot encoding for sex\n",
        "# label encoding for region"
      ],
      "execution_count": null,
      "outputs": []
    },
    {
      "cell_type": "code",
      "metadata": {
        "id": "mSWG_9weK_ID"
      },
      "source": [
        "# from tensorflow.keras import Sequential # import Sequential from tensorflow.keras\n",
        "# from tensorflow.keras.layers import Dense # import Dense from tensorflow.keras.layers\n",
        "# from numpy.random import seed # seed helps you to fix the randomness in the neural network.\n",
        "# import tensorflow"
      ],
      "execution_count": null,
      "outputs": []
    },
    {
      "cell_type": "code",
      "metadata": {
        "id": "HANCd1cyLDPZ"
      },
      "source": [
        "# X_train.shape"
      ],
      "execution_count": null,
      "outputs": []
    },
    {
      "cell_type": "code",
      "metadata": {
        "id": "dWvS1p4RK_XM"
      },
      "source": [
        "from tensorflow.keras import models,layers"
      ],
      "execution_count": null,
      "outputs": []
    },
    {
      "cell_type": "code",
      "metadata": {
        "id": "0IfUpJEydBHC"
      },
      "source": [
        "from tensorflow.keras import Sequential # import Sequential from tensorflow.keras\n",
        "from tensorflow.keras.layers import Dense # import Dense from tensorflow.keras.layers\n",
        "from numpy.random import seed # seed helps you to fix the randomness in the neural network.\n",
        "import tensorflow"
      ],
      "execution_count": null,
      "outputs": []
    },
    {
      "cell_type": "code",
      "metadata": {
        "id": "bNRBUXDKLBxf"
      },
      "source": [
        "model = Sequential()\n",
        "model.add(Dense(6, activation='relu', input_shape=(6,)))\n",
        "# model.add(Dense(8, activation='relu'))\n",
        "model.add(Dense(4, activation='relu'))\n",
        "model.add(Dense(2, activation='relu'))\n",
        "model.add(Dense(1))"
      ],
      "execution_count": null,
      "outputs": []
    },
    {
      "cell_type": "code",
      "metadata": {
        "id": "ilw_KWUlLLyb"
      },
      "source": [
        "# import RMSprop optimizer\n",
        "from tensorflow.keras.optimizers import RMSprop\n",
        "optimizer = RMSprop(0.01) # 0.01 is the learning rate"
      ],
      "execution_count": null,
      "outputs": []
    },
    {
      "cell_type": "code",
      "metadata": {
        "id": "W45zzoMNLNBU"
      },
      "source": [
        "model.compile(loss='mean_squared_error',optimizer=optimizer) # compile the model"
      ],
      "execution_count": null,
      "outputs": []
    },
    {
      "cell_type": "code",
      "metadata": {
        "id": "MQ4VxNujQoOL"
      },
      "source": [
        "# 4. Set the `tensorflow` pseudo-random generator at a fixed value\n",
        "# tensorflow.random.set_seed(seed_value)\n",
        "seed_value = 42\n",
        "seed(seed_value) # If you build the model with given parameters, set_random_seed will help you produce the same result on multiple execution\n",
        "\n",
        "\n",
        "# Recommended by Keras -------------------------------------------------------------------------------------\n",
        "# 1. Set `PYTHONHASHSEED` environment variable at a fixed value\n",
        "import os\n",
        "os.environ['PYTHONHASHSEED']=str(seed_value)\n",
        "\n",
        "# 2. Set `python` built-in pseudo-random generator at a fixed value\n",
        "import random\n",
        "random.seed(seed_value)\n",
        "\n",
        "# 3. Set `numpy` pseudo-random generator at a fixed value\n",
        "import numpy as np\n",
        "np.random.seed(seed_value)\n",
        "# Recommended by Keras -------------------------------------------------------------------------------------\n",
        "model.fit(X_train, y_train, epochs=500,verbose = 1) # fit the model"
      ],
      "execution_count": null,
      "outputs": []
    },
    {
      "cell_type": "code",
      "metadata": {
        "id": "dcgQU_GIQqWC"
      },
      "source": [
        "pred = model.predict(X_test)"
      ],
      "execution_count": null,
      "outputs": []
    },
    {
      "cell_type": "code",
      "metadata": {
        "id": "UpsNGPw1LQAM"
      },
      "source": [
        "pred = model.predict(X_test)"
      ],
      "execution_count": null,
      "outputs": []
    },
    {
      "cell_type": "code",
      "metadata": {
        "id": "9xopKuiudugv"
      },
      "source": [
        "from sklearn.metrics import mean_squared_error"
      ],
      "execution_count": null,
      "outputs": []
    },
    {
      "cell_type": "code",
      "metadata": {
        "id": "IoYTC0eGQev5",
        "colab": {
          "base_uri": "https://localhost:8080/"
        },
        "outputId": "e00ef8ae-a3e3-474d-e333-ad825ef9855b"
      },
      "source": [
        "print('Mean Squared Error is: ', np.sqrt(mean_squared_error(y_test, pred)))"
      ],
      "execution_count": null,
      "outputs": [
        {
          "output_type": "stream",
          "text": [
            "Mean Squared Error is:  4226.385964926532\n"
          ],
          "name": "stdout"
        }
      ]
    },
    {
      "cell_type": "code",
      "metadata": {
        "id": "qxC__jKgWfPe"
      },
      "source": [
        ""
      ],
      "execution_count": null,
      "outputs": []
    },
    {
      "cell_type": "code",
      "metadata": {
        "id": "2q85kQUxWgwz"
      },
      "source": [
        ""
      ],
      "execution_count": null,
      "outputs": []
    },
    {
      "cell_type": "code",
      "metadata": {
        "id": "wRmn-TEIWk2D"
      },
      "source": [
        ""
      ],
      "execution_count": null,
      "outputs": []
    },
    {
      "cell_type": "code",
      "metadata": {
        "id": "hnNvoh4RW_CU",
        "colab": {
          "base_uri": "https://localhost:8080/"
        },
        "outputId": "b6e160f2-2f76-4b0f-9c09-e61feed7496d"
      },
      "source": [
        "df_test = pd.read_csv('/content/Test_Data.csv')\n",
        "print(df_test)\n",
        "df2_test = pd.DataFrame(df_test['age'].apply(np.floor))\n",
        "print(df2_test)\n",
        "df3_test = df_test.drop('age',axis=1)\n",
        "result_test = pd.concat([df3_test, df2_test], axis=1)\n",
        "print(result_test)\n",
        "\n",
        "result_test['smoker'].replace({'yes': 1,'no': 0},inplace=True)\n",
        "\n",
        "\n",
        "result_test['sex'].replace({'male': 1,'female': 0},inplace=True)"
      ],
      "execution_count": null,
      "outputs": [
        {
          "output_type": "stream",
          "text": [
            "           age     sex        bmi smoker     region  children\n",
            "0    40.000000    male  29.900000     no  southwest         2\n",
            "1    47.000000    male  32.300000     no  southwest         1\n",
            "2    54.000000  female  28.880000     no  northeast         2\n",
            "3    37.000000    male  30.568094     no  northeast         3\n",
            "4    59.130049    male  33.132854    yes  northeast         4\n",
            "..         ...     ...        ...    ...        ...       ...\n",
            "487  51.000000    male  27.740000     no  northeast         1\n",
            "488  33.000000    male  42.400000     no  southwest         5\n",
            "489  47.769999    male  29.064615     no  northeast         4\n",
            "490  41.530738  female  24.260852     no  southeast         5\n",
            "491  36.000000    male  33.400000    yes  southwest         2\n",
            "\n",
            "[492 rows x 6 columns]\n",
            "      age\n",
            "0    40.0\n",
            "1    47.0\n",
            "2    54.0\n",
            "3    37.0\n",
            "4    59.0\n",
            "..    ...\n",
            "487  51.0\n",
            "488  33.0\n",
            "489  47.0\n",
            "490  41.0\n",
            "491  36.0\n",
            "\n",
            "[492 rows x 1 columns]\n",
            "        sex        bmi smoker     region  children   age\n",
            "0      male  29.900000     no  southwest         2  40.0\n",
            "1      male  32.300000     no  southwest         1  47.0\n",
            "2    female  28.880000     no  northeast         2  54.0\n",
            "3      male  30.568094     no  northeast         3  37.0\n",
            "4      male  33.132854    yes  northeast         4  59.0\n",
            "..      ...        ...    ...        ...       ...   ...\n",
            "487    male  27.740000     no  northeast         1  51.0\n",
            "488    male  42.400000     no  southwest         5  33.0\n",
            "489    male  29.064615     no  northeast         4  47.0\n",
            "490  female  24.260852     no  southeast         5  41.0\n",
            "491    male  33.400000    yes  southwest         2  36.0\n",
            "\n",
            "[492 rows x 6 columns]\n"
          ],
          "name": "stdout"
        }
      ]
    },
    {
      "cell_type": "code",
      "metadata": {
        "colab": {
          "base_uri": "https://localhost:8080/",
          "height": 423
        },
        "id": "n28yhBBrfFRv",
        "outputId": "674d9701-d4c0-41ba-8861-477cff104b34"
      },
      "source": [
        "result_test"
      ],
      "execution_count": null,
      "outputs": [
        {
          "output_type": "execute_result",
          "data": {
            "text/html": [
              "<div>\n",
              "<style scoped>\n",
              "    .dataframe tbody tr th:only-of-type {\n",
              "        vertical-align: middle;\n",
              "    }\n",
              "\n",
              "    .dataframe tbody tr th {\n",
              "        vertical-align: top;\n",
              "    }\n",
              "\n",
              "    .dataframe thead th {\n",
              "        text-align: right;\n",
              "    }\n",
              "</style>\n",
              "<table border=\"1\" class=\"dataframe\">\n",
              "  <thead>\n",
              "    <tr style=\"text-align: right;\">\n",
              "      <th></th>\n",
              "      <th>sex</th>\n",
              "      <th>bmi</th>\n",
              "      <th>smoker</th>\n",
              "      <th>region</th>\n",
              "      <th>children</th>\n",
              "      <th>age</th>\n",
              "    </tr>\n",
              "  </thead>\n",
              "  <tbody>\n",
              "    <tr>\n",
              "      <th>0</th>\n",
              "      <td>1</td>\n",
              "      <td>29.900000</td>\n",
              "      <td>0</td>\n",
              "      <td>southwest</td>\n",
              "      <td>2</td>\n",
              "      <td>40.0</td>\n",
              "    </tr>\n",
              "    <tr>\n",
              "      <th>1</th>\n",
              "      <td>1</td>\n",
              "      <td>32.300000</td>\n",
              "      <td>0</td>\n",
              "      <td>southwest</td>\n",
              "      <td>1</td>\n",
              "      <td>47.0</td>\n",
              "    </tr>\n",
              "    <tr>\n",
              "      <th>2</th>\n",
              "      <td>0</td>\n",
              "      <td>28.880000</td>\n",
              "      <td>0</td>\n",
              "      <td>northeast</td>\n",
              "      <td>2</td>\n",
              "      <td>54.0</td>\n",
              "    </tr>\n",
              "    <tr>\n",
              "      <th>3</th>\n",
              "      <td>1</td>\n",
              "      <td>30.568094</td>\n",
              "      <td>0</td>\n",
              "      <td>northeast</td>\n",
              "      <td>3</td>\n",
              "      <td>37.0</td>\n",
              "    </tr>\n",
              "    <tr>\n",
              "      <th>4</th>\n",
              "      <td>1</td>\n",
              "      <td>33.132854</td>\n",
              "      <td>1</td>\n",
              "      <td>northeast</td>\n",
              "      <td>4</td>\n",
              "      <td>59.0</td>\n",
              "    </tr>\n",
              "    <tr>\n",
              "      <th>...</th>\n",
              "      <td>...</td>\n",
              "      <td>...</td>\n",
              "      <td>...</td>\n",
              "      <td>...</td>\n",
              "      <td>...</td>\n",
              "      <td>...</td>\n",
              "    </tr>\n",
              "    <tr>\n",
              "      <th>487</th>\n",
              "      <td>1</td>\n",
              "      <td>27.740000</td>\n",
              "      <td>0</td>\n",
              "      <td>northeast</td>\n",
              "      <td>1</td>\n",
              "      <td>51.0</td>\n",
              "    </tr>\n",
              "    <tr>\n",
              "      <th>488</th>\n",
              "      <td>1</td>\n",
              "      <td>42.400000</td>\n",
              "      <td>0</td>\n",
              "      <td>southwest</td>\n",
              "      <td>5</td>\n",
              "      <td>33.0</td>\n",
              "    </tr>\n",
              "    <tr>\n",
              "      <th>489</th>\n",
              "      <td>1</td>\n",
              "      <td>29.064615</td>\n",
              "      <td>0</td>\n",
              "      <td>northeast</td>\n",
              "      <td>4</td>\n",
              "      <td>47.0</td>\n",
              "    </tr>\n",
              "    <tr>\n",
              "      <th>490</th>\n",
              "      <td>0</td>\n",
              "      <td>24.260852</td>\n",
              "      <td>0</td>\n",
              "      <td>southeast</td>\n",
              "      <td>5</td>\n",
              "      <td>41.0</td>\n",
              "    </tr>\n",
              "    <tr>\n",
              "      <th>491</th>\n",
              "      <td>1</td>\n",
              "      <td>33.400000</td>\n",
              "      <td>1</td>\n",
              "      <td>southwest</td>\n",
              "      <td>2</td>\n",
              "      <td>36.0</td>\n",
              "    </tr>\n",
              "  </tbody>\n",
              "</table>\n",
              "<p>492 rows × 6 columns</p>\n",
              "</div>"
            ],
            "text/plain": [
              "     sex        bmi  smoker     region  children   age\n",
              "0      1  29.900000       0  southwest         2  40.0\n",
              "1      1  32.300000       0  southwest         1  47.0\n",
              "2      0  28.880000       0  northeast         2  54.0\n",
              "3      1  30.568094       0  northeast         3  37.0\n",
              "4      1  33.132854       1  northeast         4  59.0\n",
              "..   ...        ...     ...        ...       ...   ...\n",
              "487    1  27.740000       0  northeast         1  51.0\n",
              "488    1  42.400000       0  southwest         5  33.0\n",
              "489    1  29.064615       0  northeast         4  47.0\n",
              "490    0  24.260852       0  southeast         5  41.0\n",
              "491    1  33.400000       1  southwest         2  36.0\n",
              "\n",
              "[492 rows x 6 columns]"
            ]
          },
          "metadata": {
            "tags": []
          },
          "execution_count": 242
        }
      ]
    },
    {
      "cell_type": "code",
      "metadata": {
        "id": "QG34EgsvfRD6"
      },
      "source": [
        "\n",
        "# Import label encoder\n",
        "from sklearn import preprocessing\n",
        "  \n",
        "# label_encoder object knows how to understand word labels.\n",
        "label_encoder = preprocessing.LabelEncoder()\n",
        "\n",
        "# Encode labels in column 'species'.\n",
        "result_test['region']= label_encoder.fit_transform(result_test['region'])"
      ],
      "execution_count": null,
      "outputs": []
    },
    {
      "cell_type": "code",
      "metadata": {
        "colab": {
          "base_uri": "https://localhost:8080/",
          "height": 423
        },
        "id": "oWNLrZXSfcEZ",
        "outputId": "7aef8377-8ade-4011-a5aa-7b416c610acb"
      },
      "source": [
        "result_test"
      ],
      "execution_count": null,
      "outputs": [
        {
          "output_type": "execute_result",
          "data": {
            "text/html": [
              "<div>\n",
              "<style scoped>\n",
              "    .dataframe tbody tr th:only-of-type {\n",
              "        vertical-align: middle;\n",
              "    }\n",
              "\n",
              "    .dataframe tbody tr th {\n",
              "        vertical-align: top;\n",
              "    }\n",
              "\n",
              "    .dataframe thead th {\n",
              "        text-align: right;\n",
              "    }\n",
              "</style>\n",
              "<table border=\"1\" class=\"dataframe\">\n",
              "  <thead>\n",
              "    <tr style=\"text-align: right;\">\n",
              "      <th></th>\n",
              "      <th>sex</th>\n",
              "      <th>bmi</th>\n",
              "      <th>smoker</th>\n",
              "      <th>region</th>\n",
              "      <th>children</th>\n",
              "      <th>age</th>\n",
              "    </tr>\n",
              "  </thead>\n",
              "  <tbody>\n",
              "    <tr>\n",
              "      <th>0</th>\n",
              "      <td>1</td>\n",
              "      <td>29.900000</td>\n",
              "      <td>0</td>\n",
              "      <td>3</td>\n",
              "      <td>2</td>\n",
              "      <td>40.0</td>\n",
              "    </tr>\n",
              "    <tr>\n",
              "      <th>1</th>\n",
              "      <td>1</td>\n",
              "      <td>32.300000</td>\n",
              "      <td>0</td>\n",
              "      <td>3</td>\n",
              "      <td>1</td>\n",
              "      <td>47.0</td>\n",
              "    </tr>\n",
              "    <tr>\n",
              "      <th>2</th>\n",
              "      <td>0</td>\n",
              "      <td>28.880000</td>\n",
              "      <td>0</td>\n",
              "      <td>0</td>\n",
              "      <td>2</td>\n",
              "      <td>54.0</td>\n",
              "    </tr>\n",
              "    <tr>\n",
              "      <th>3</th>\n",
              "      <td>1</td>\n",
              "      <td>30.568094</td>\n",
              "      <td>0</td>\n",
              "      <td>0</td>\n",
              "      <td>3</td>\n",
              "      <td>37.0</td>\n",
              "    </tr>\n",
              "    <tr>\n",
              "      <th>4</th>\n",
              "      <td>1</td>\n",
              "      <td>33.132854</td>\n",
              "      <td>1</td>\n",
              "      <td>0</td>\n",
              "      <td>4</td>\n",
              "      <td>59.0</td>\n",
              "    </tr>\n",
              "    <tr>\n",
              "      <th>...</th>\n",
              "      <td>...</td>\n",
              "      <td>...</td>\n",
              "      <td>...</td>\n",
              "      <td>...</td>\n",
              "      <td>...</td>\n",
              "      <td>...</td>\n",
              "    </tr>\n",
              "    <tr>\n",
              "      <th>487</th>\n",
              "      <td>1</td>\n",
              "      <td>27.740000</td>\n",
              "      <td>0</td>\n",
              "      <td>0</td>\n",
              "      <td>1</td>\n",
              "      <td>51.0</td>\n",
              "    </tr>\n",
              "    <tr>\n",
              "      <th>488</th>\n",
              "      <td>1</td>\n",
              "      <td>42.400000</td>\n",
              "      <td>0</td>\n",
              "      <td>3</td>\n",
              "      <td>5</td>\n",
              "      <td>33.0</td>\n",
              "    </tr>\n",
              "    <tr>\n",
              "      <th>489</th>\n",
              "      <td>1</td>\n",
              "      <td>29.064615</td>\n",
              "      <td>0</td>\n",
              "      <td>0</td>\n",
              "      <td>4</td>\n",
              "      <td>47.0</td>\n",
              "    </tr>\n",
              "    <tr>\n",
              "      <th>490</th>\n",
              "      <td>0</td>\n",
              "      <td>24.260852</td>\n",
              "      <td>0</td>\n",
              "      <td>2</td>\n",
              "      <td>5</td>\n",
              "      <td>41.0</td>\n",
              "    </tr>\n",
              "    <tr>\n",
              "      <th>491</th>\n",
              "      <td>1</td>\n",
              "      <td>33.400000</td>\n",
              "      <td>1</td>\n",
              "      <td>3</td>\n",
              "      <td>2</td>\n",
              "      <td>36.0</td>\n",
              "    </tr>\n",
              "  </tbody>\n",
              "</table>\n",
              "<p>492 rows × 6 columns</p>\n",
              "</div>"
            ],
            "text/plain": [
              "     sex        bmi  smoker  region  children   age\n",
              "0      1  29.900000       0       3         2  40.0\n",
              "1      1  32.300000       0       3         1  47.0\n",
              "2      0  28.880000       0       0         2  54.0\n",
              "3      1  30.568094       0       0         3  37.0\n",
              "4      1  33.132854       1       0         4  59.0\n",
              "..   ...        ...     ...     ...       ...   ...\n",
              "487    1  27.740000       0       0         1  51.0\n",
              "488    1  42.400000       0       3         5  33.0\n",
              "489    1  29.064615       0       0         4  47.0\n",
              "490    0  24.260852       0       2         5  41.0\n",
              "491    1  33.400000       1       3         2  36.0\n",
              "\n",
              "[492 rows x 6 columns]"
            ]
          },
          "metadata": {
            "tags": []
          },
          "execution_count": 244
        }
      ]
    },
    {
      "cell_type": "code",
      "metadata": {
        "id": "MUDhnSNefdh-"
      },
      "source": [
        "cols_to_scale = ['bmi','children','age','region']\n",
        "from sklearn.preprocessing import StandardScaler\n",
        "scaler = StandardScaler()\n",
        "result_test[cols_to_scale] = scaler.fit_transform(result_test[cols_to_scale])"
      ],
      "execution_count": null,
      "outputs": []
    },
    {
      "cell_type": "code",
      "metadata": {
        "colab": {
          "base_uri": "https://localhost:8080/",
          "height": 423
        },
        "id": "NnRjmZPTflpU",
        "outputId": "2edb21d7-6b42-4d52-a50e-bd89b2d043ae"
      },
      "source": [
        "result_test"
      ],
      "execution_count": null,
      "outputs": [
        {
          "output_type": "execute_result",
          "data": {
            "text/html": [
              "<div>\n",
              "<style scoped>\n",
              "    .dataframe tbody tr th:only-of-type {\n",
              "        vertical-align: middle;\n",
              "    }\n",
              "\n",
              "    .dataframe tbody tr th {\n",
              "        vertical-align: top;\n",
              "    }\n",
              "\n",
              "    .dataframe thead th {\n",
              "        text-align: right;\n",
              "    }\n",
              "</style>\n",
              "<table border=\"1\" class=\"dataframe\">\n",
              "  <thead>\n",
              "    <tr style=\"text-align: right;\">\n",
              "      <th></th>\n",
              "      <th>sex</th>\n",
              "      <th>bmi</th>\n",
              "      <th>smoker</th>\n",
              "      <th>region</th>\n",
              "      <th>children</th>\n",
              "      <th>age</th>\n",
              "    </tr>\n",
              "  </thead>\n",
              "  <tbody>\n",
              "    <tr>\n",
              "      <th>0</th>\n",
              "      <td>1</td>\n",
              "      <td>-0.144446</td>\n",
              "      <td>0</td>\n",
              "      <td>1.414411</td>\n",
              "      <td>-0.304406</td>\n",
              "      <td>0.115985</td>\n",
              "    </tr>\n",
              "    <tr>\n",
              "      <th>1</th>\n",
              "      <td>1</td>\n",
              "      <td>0.298314</td>\n",
              "      <td>0</td>\n",
              "      <td>1.414411</td>\n",
              "      <td>-0.898724</td>\n",
              "      <td>0.680183</td>\n",
              "    </tr>\n",
              "    <tr>\n",
              "      <th>2</th>\n",
              "      <td>0</td>\n",
              "      <td>-0.332619</td>\n",
              "      <td>0</td>\n",
              "      <td>-1.251835</td>\n",
              "      <td>-0.304406</td>\n",
              "      <td>1.244382</td>\n",
              "    </tr>\n",
              "    <tr>\n",
              "      <th>3</th>\n",
              "      <td>1</td>\n",
              "      <td>-0.021194</td>\n",
              "      <td>0</td>\n",
              "      <td>-1.251835</td>\n",
              "      <td>0.289911</td>\n",
              "      <td>-0.125814</td>\n",
              "    </tr>\n",
              "    <tr>\n",
              "      <th>4</th>\n",
              "      <td>1</td>\n",
              "      <td>0.451961</td>\n",
              "      <td>1</td>\n",
              "      <td>-1.251835</td>\n",
              "      <td>0.884228</td>\n",
              "      <td>1.647380</td>\n",
              "    </tr>\n",
              "    <tr>\n",
              "      <th>...</th>\n",
              "      <td>...</td>\n",
              "      <td>...</td>\n",
              "      <td>...</td>\n",
              "      <td>...</td>\n",
              "      <td>...</td>\n",
              "      <td>...</td>\n",
              "    </tr>\n",
              "    <tr>\n",
              "      <th>487</th>\n",
              "      <td>1</td>\n",
              "      <td>-0.542929</td>\n",
              "      <td>0</td>\n",
              "      <td>-1.251835</td>\n",
              "      <td>-0.898724</td>\n",
              "      <td>1.002582</td>\n",
              "    </tr>\n",
              "    <tr>\n",
              "      <th>488</th>\n",
              "      <td>1</td>\n",
              "      <td>2.161593</td>\n",
              "      <td>0</td>\n",
              "      <td>1.414411</td>\n",
              "      <td>1.478546</td>\n",
              "      <td>-0.448213</td>\n",
              "    </tr>\n",
              "    <tr>\n",
              "      <th>489</th>\n",
              "      <td>1</td>\n",
              "      <td>-0.298560</td>\n",
              "      <td>0</td>\n",
              "      <td>-1.251835</td>\n",
              "      <td>0.884228</td>\n",
              "      <td>0.680183</td>\n",
              "    </tr>\n",
              "    <tr>\n",
              "      <th>490</th>\n",
              "      <td>0</td>\n",
              "      <td>-1.184773</td>\n",
              "      <td>0</td>\n",
              "      <td>0.525662</td>\n",
              "      <td>1.478546</td>\n",
              "      <td>0.196585</td>\n",
              "    </tr>\n",
              "    <tr>\n",
              "      <th>491</th>\n",
              "      <td>1</td>\n",
              "      <td>0.501245</td>\n",
              "      <td>1</td>\n",
              "      <td>1.414411</td>\n",
              "      <td>-0.304406</td>\n",
              "      <td>-0.206414</td>\n",
              "    </tr>\n",
              "  </tbody>\n",
              "</table>\n",
              "<p>492 rows × 6 columns</p>\n",
              "</div>"
            ],
            "text/plain": [
              "     sex       bmi  smoker    region  children       age\n",
              "0      1 -0.144446       0  1.414411 -0.304406  0.115985\n",
              "1      1  0.298314       0  1.414411 -0.898724  0.680183\n",
              "2      0 -0.332619       0 -1.251835 -0.304406  1.244382\n",
              "3      1 -0.021194       0 -1.251835  0.289911 -0.125814\n",
              "4      1  0.451961       1 -1.251835  0.884228  1.647380\n",
              "..   ...       ...     ...       ...       ...       ...\n",
              "487    1 -0.542929       0 -1.251835 -0.898724  1.002582\n",
              "488    1  2.161593       0  1.414411  1.478546 -0.448213\n",
              "489    1 -0.298560       0 -1.251835  0.884228  0.680183\n",
              "490    0 -1.184773       0  0.525662  1.478546  0.196585\n",
              "491    1  0.501245       1  1.414411 -0.304406 -0.206414\n",
              "\n",
              "[492 rows x 6 columns]"
            ]
          },
          "metadata": {
            "tags": []
          },
          "execution_count": 246
        }
      ]
    },
    {
      "cell_type": "code",
      "metadata": {
        "colab": {
          "base_uri": "https://localhost:8080/",
          "height": 17
        },
        "id": "BCGAGLTHfmna",
        "outputId": "83cab7ac-6797-409a-cc4d-af766e9f7474"
      },
      "source": [
        "\n",
        "target = model.predict(result_test)\n",
        "# To create Dataframe of predicted value with particular respective index\n",
        "res = pd.DataFrame(target) # target are nothing but the final predictions of your model on input features of your new unseen test data\n",
        "res.columns = [\"prediction\"]\n",
        "\n",
        "# To download the csv file locally\n",
        "from google.colab import files\n",
        "res.to_csv('submission.csv', index = False)\n",
        "files.download('submission.csv')"
      ],
      "execution_count": null,
      "outputs": [
        {
          "output_type": "display_data",
          "data": {
            "application/javascript": [
              "\n",
              "    async function download(id, filename, size) {\n",
              "      if (!google.colab.kernel.accessAllowed) {\n",
              "        return;\n",
              "      }\n",
              "      const div = document.createElement('div');\n",
              "      const label = document.createElement('label');\n",
              "      label.textContent = `Downloading \"${filename}\": `;\n",
              "      div.appendChild(label);\n",
              "      const progress = document.createElement('progress');\n",
              "      progress.max = size;\n",
              "      div.appendChild(progress);\n",
              "      document.body.appendChild(div);\n",
              "\n",
              "      const buffers = [];\n",
              "      let downloaded = 0;\n",
              "\n",
              "      const channel = await google.colab.kernel.comms.open(id);\n",
              "      // Send a message to notify the kernel that we're ready.\n",
              "      channel.send({})\n",
              "\n",
              "      for await (const message of channel.messages) {\n",
              "        // Send a message to notify the kernel that we're ready.\n",
              "        channel.send({})\n",
              "        if (message.buffers) {\n",
              "          for (const buffer of message.buffers) {\n",
              "            buffers.push(buffer);\n",
              "            downloaded += buffer.byteLength;\n",
              "            progress.value = downloaded;\n",
              "          }\n",
              "        }\n",
              "      }\n",
              "      const blob = new Blob(buffers, {type: 'application/binary'});\n",
              "      const a = document.createElement('a');\n",
              "      a.href = window.URL.createObjectURL(blob);\n",
              "      a.download = filename;\n",
              "      div.appendChild(a);\n",
              "      a.click();\n",
              "      div.remove();\n",
              "    }\n",
              "  "
            ],
            "text/plain": [
              "<IPython.core.display.Javascript object>"
            ]
          },
          "metadata": {
            "tags": []
          }
        },
        {
          "output_type": "display_data",
          "data": {
            "application/javascript": [
              "download(\"download_6f609c18-632d-4c67-8a55-a3f4f5114b41\", \"submission.csv\", 4761)"
            ],
            "text/plain": [
              "<IPython.core.display.Javascript object>"
            ]
          },
          "metadata": {
            "tags": []
          }
        }
      ]
    },
    {
      "cell_type": "code",
      "metadata": {
        "id": "_XTT8zT-gDOb"
      },
      "source": [
        "from sklearn.experimental import enable_hist_gradient_boosting\n",
        "from sklearn.ensemble import RandomForestRegressor\n",
        "from sklearn.ensemble import HistGradientBoostingRegressor\n",
        "regressor = HistGradientBoostingRegressor(max_iter=37,max_leaf_nodes=20,min_samples_leaf=20,learning_rate=0.1,max_depth=10,warm_start=True,)\n",
        "regressor.fit(X_train,y_train)\n",
        "pred = regressor.predict(X_test)"
      ],
      "execution_count": null,
      "outputs": []
    },
    {
      "cell_type": "code",
      "metadata": {
        "colab": {
          "base_uri": "https://localhost:8080/"
        },
        "id": "R2tJhgzHggjM",
        "outputId": "b20eeaa8-d840-4a8a-d4a2-ea98c1c764ce"
      },
      "source": [
        "print('Root Mean Squared Error is: ', np.sqrt(mean_squared_error(y_test, pred)))"
      ],
      "execution_count": null,
      "outputs": [
        {
          "output_type": "stream",
          "text": [
            "Root Mean Squared Error is:  3654.8264414014097\n"
          ],
          "name": "stdout"
        }
      ]
    },
    {
      "cell_type": "code",
      "metadata": {
        "colab": {
          "base_uri": "https://localhost:8080/",
          "height": 17
        },
        "id": "PbFbyoSmgkmW",
        "outputId": "891f6bf1-ac69-4855-fef8-74da95d47eb1"
      },
      "source": [
        "\n",
        "target = regressor.predict(result_test)\n",
        "# To create Dataframe of predicted value with particular respective index\n",
        "res = pd.DataFrame(target) # target are nothing but the final predictions of your model on input features of your new unseen test data\n",
        "res.columns = [\"prediction\"]\n",
        "\n",
        "# To download the csv file locally\n",
        "from google.colab import files\n",
        "res.to_csv('submission.csv', index = False)\n",
        "files.download('submission.csv')"
      ],
      "execution_count": null,
      "outputs": [
        {
          "output_type": "display_data",
          "data": {
            "application/javascript": [
              "\n",
              "    async function download(id, filename, size) {\n",
              "      if (!google.colab.kernel.accessAllowed) {\n",
              "        return;\n",
              "      }\n",
              "      const div = document.createElement('div');\n",
              "      const label = document.createElement('label');\n",
              "      label.textContent = `Downloading \"${filename}\": `;\n",
              "      div.appendChild(label);\n",
              "      const progress = document.createElement('progress');\n",
              "      progress.max = size;\n",
              "      div.appendChild(progress);\n",
              "      document.body.appendChild(div);\n",
              "\n",
              "      const buffers = [];\n",
              "      let downloaded = 0;\n",
              "\n",
              "      const channel = await google.colab.kernel.comms.open(id);\n",
              "      // Send a message to notify the kernel that we're ready.\n",
              "      channel.send({})\n",
              "\n",
              "      for await (const message of channel.messages) {\n",
              "        // Send a message to notify the kernel that we're ready.\n",
              "        channel.send({})\n",
              "        if (message.buffers) {\n",
              "          for (const buffer of message.buffers) {\n",
              "            buffers.push(buffer);\n",
              "            downloaded += buffer.byteLength;\n",
              "            progress.value = downloaded;\n",
              "          }\n",
              "        }\n",
              "      }\n",
              "      const blob = new Blob(buffers, {type: 'application/binary'});\n",
              "      const a = document.createElement('a');\n",
              "      a.href = window.URL.createObjectURL(blob);\n",
              "      a.download = filename;\n",
              "      div.appendChild(a);\n",
              "      a.click();\n",
              "      div.remove();\n",
              "    }\n",
              "  "
            ],
            "text/plain": [
              "<IPython.core.display.Javascript object>"
            ]
          },
          "metadata": {
            "tags": []
          }
        },
        {
          "output_type": "display_data",
          "data": {
            "application/javascript": [
              "download(\"download_1484a976-867c-42d5-909a-4a35d1579f90\", \"submission.csv\", 9044)"
            ],
            "text/plain": [
              "<IPython.core.display.Javascript object>"
            ]
          },
          "metadata": {
            "tags": []
          }
        }
      ]
    },
    {
      "cell_type": "code",
      "metadata": {
        "id": "cAgr8q2Uhpya"
      },
      "source": [
        ""
      ],
      "execution_count": null,
      "outputs": []
    },
    {
      "cell_type": "code",
      "metadata": {
        "id": "FVlwCk97ityX"
      },
      "source": [
        ""
      ],
      "execution_count": null,
      "outputs": []
    }
  ]
}