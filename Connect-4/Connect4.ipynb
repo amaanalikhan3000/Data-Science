{
  "nbformat": 4,
  "nbformat_minor": 0,
  "metadata": {
    "colab": {
      "name": "Connect4.ipynb",
      "provenance": [],
      "collapsed_sections": []
    },
    "kernelspec": {
      "name": "python3",
      "display_name": "Python 3"
    },
    "accelerator": "TPU"
  },
  "cells": [
    {
      "cell_type": "code",
      "metadata": {
        "id": "yqCeMNhb-KqA"
      },
      "source": [
        ""
      ],
      "execution_count": null,
      "outputs": []
    },
    {
      "cell_type": "code",
      "metadata": {
        "id": "GVwz4Fo6-NEK"
      },
      "source": [
        "import numpy as np # Fundamental package for linear algebra and multidimensional arrays\n",
        "import pandas as pd # Data analysis and manipulation tool\n",
        "from sklearn import preprocessing \n",
        "from sklearn.tree import DecisionTreeClassifier\n",
        "# to ignore warnings\n",
        "import warnings\n",
        "warnings.filterwarnings(\"ignore\")"
      ],
      "execution_count": null,
      "outputs": []
    },
    {
      "cell_type": "code",
      "metadata": {
        "id": "WhGqjP27-PKb"
      },
      "source": [
        "# In read_csv() function, we have passed the location to where the files are located in the dphi official github page.\n",
        "train_data = pd.read_csv(\"https://raw.githubusercontent.com/dphi-official/Datasets/master/connect-4/train_set_label.csv\")"
      ],
      "execution_count": null,
      "outputs": []
    },
    {
      "cell_type": "code",
      "metadata": {
        "colab": {
          "base_uri": "https://localhost:8080/"
        },
        "id": "vdjSc3l0-SeQ",
        "outputId": "8360f132-6c2b-4d3b-fa42-ad1c5e215fe2"
      },
      "source": [
        "train_data.info()"
      ],
      "execution_count": null,
      "outputs": [
        {
          "output_type": "stream",
          "text": [
            "<class 'pandas.core.frame.DataFrame'>\n",
            "RangeIndex: 50667 entries, 0 to 50666\n",
            "Data columns (total 43 columns):\n",
            " #   Column  Non-Null Count  Dtype \n",
            "---  ------  --------------  ----- \n",
            " 0   a1      50667 non-null  object\n",
            " 1   a2      50667 non-null  object\n",
            " 2   a3      50667 non-null  object\n",
            " 3   a4      50667 non-null  object\n",
            " 4   a5      50667 non-null  object\n",
            " 5   a6      50667 non-null  object\n",
            " 6   b1      50667 non-null  object\n",
            " 7   b2      50667 non-null  object\n",
            " 8   b3      50667 non-null  object\n",
            " 9   b4      50667 non-null  object\n",
            " 10  b5      50667 non-null  object\n",
            " 11  b6      50667 non-null  object\n",
            " 12  c1      50667 non-null  object\n",
            " 13  c2      50667 non-null  object\n",
            " 14  c3      50667 non-null  object\n",
            " 15  c4      50667 non-null  object\n",
            " 16  c5      50667 non-null  object\n",
            " 17  c6      50667 non-null  object\n",
            " 18  d1      50667 non-null  object\n",
            " 19  d2      50667 non-null  object\n",
            " 20  d3      50667 non-null  object\n",
            " 21  d4      50667 non-null  object\n",
            " 22  d5      50667 non-null  object\n",
            " 23  d6      50667 non-null  object\n",
            " 24  e1      50667 non-null  object\n",
            " 25  e2      50667 non-null  object\n",
            " 26  e3      50667 non-null  object\n",
            " 27  e4      50667 non-null  object\n",
            " 28  e5      50667 non-null  object\n",
            " 29  e6      50667 non-null  object\n",
            " 30  f1      50667 non-null  object\n",
            " 31  f2      50667 non-null  object\n",
            " 32  f3      50667 non-null  object\n",
            " 33  f4      50667 non-null  object\n",
            " 34  f5      50667 non-null  object\n",
            " 35  f6      50667 non-null  object\n",
            " 36  g1      50667 non-null  object\n",
            " 37  g2      50667 non-null  object\n",
            " 38  g3      50667 non-null  object\n",
            " 39  g4      50667 non-null  object\n",
            " 40  g5      50667 non-null  object\n",
            " 41  g6      50667 non-null  object\n",
            " 42  class   50667 non-null  object\n",
            "dtypes: object(43)\n",
            "memory usage: 16.6+ MB\n"
          ],
          "name": "stdout"
        }
      ]
    },
    {
      "cell_type": "code",
      "metadata": {
        "colab": {
          "base_uri": "https://localhost:8080/",
          "height": 222
        },
        "id": "yH33hkCu-VjO",
        "outputId": "4b0f6fd3-3418-4551-c5c7-b24dcc4db561"
      },
      "source": [
        "train_data.head()"
      ],
      "execution_count": null,
      "outputs": [
        {
          "output_type": "execute_result",
          "data": {
            "text/html": [
              "<div>\n",
              "<style scoped>\n",
              "    .dataframe tbody tr th:only-of-type {\n",
              "        vertical-align: middle;\n",
              "    }\n",
              "\n",
              "    .dataframe tbody tr th {\n",
              "        vertical-align: top;\n",
              "    }\n",
              "\n",
              "    .dataframe thead th {\n",
              "        text-align: right;\n",
              "    }\n",
              "</style>\n",
              "<table border=\"1\" class=\"dataframe\">\n",
              "  <thead>\n",
              "    <tr style=\"text-align: right;\">\n",
              "      <th></th>\n",
              "      <th>a1</th>\n",
              "      <th>a2</th>\n",
              "      <th>a3</th>\n",
              "      <th>a4</th>\n",
              "      <th>a5</th>\n",
              "      <th>a6</th>\n",
              "      <th>b1</th>\n",
              "      <th>b2</th>\n",
              "      <th>b3</th>\n",
              "      <th>b4</th>\n",
              "      <th>b5</th>\n",
              "      <th>b6</th>\n",
              "      <th>c1</th>\n",
              "      <th>c2</th>\n",
              "      <th>c3</th>\n",
              "      <th>c4</th>\n",
              "      <th>c5</th>\n",
              "      <th>c6</th>\n",
              "      <th>d1</th>\n",
              "      <th>d2</th>\n",
              "      <th>d3</th>\n",
              "      <th>d4</th>\n",
              "      <th>d5</th>\n",
              "      <th>d6</th>\n",
              "      <th>e1</th>\n",
              "      <th>e2</th>\n",
              "      <th>e3</th>\n",
              "      <th>e4</th>\n",
              "      <th>e5</th>\n",
              "      <th>e6</th>\n",
              "      <th>f1</th>\n",
              "      <th>f2</th>\n",
              "      <th>f3</th>\n",
              "      <th>f4</th>\n",
              "      <th>f5</th>\n",
              "      <th>f6</th>\n",
              "      <th>g1</th>\n",
              "      <th>g2</th>\n",
              "      <th>g3</th>\n",
              "      <th>g4</th>\n",
              "      <th>g5</th>\n",
              "      <th>g6</th>\n",
              "      <th>class</th>\n",
              "    </tr>\n",
              "  </thead>\n",
              "  <tbody>\n",
              "    <tr>\n",
              "      <th>0</th>\n",
              "      <td>b</td>\n",
              "      <td>b</td>\n",
              "      <td>b</td>\n",
              "      <td>b</td>\n",
              "      <td>b</td>\n",
              "      <td>b</td>\n",
              "      <td>o</td>\n",
              "      <td>o</td>\n",
              "      <td>x</td>\n",
              "      <td>b</td>\n",
              "      <td>b</td>\n",
              "      <td>b</td>\n",
              "      <td>x</td>\n",
              "      <td>x</td>\n",
              "      <td>o</td>\n",
              "      <td>x</td>\n",
              "      <td>b</td>\n",
              "      <td>b</td>\n",
              "      <td>b</td>\n",
              "      <td>b</td>\n",
              "      <td>b</td>\n",
              "      <td>b</td>\n",
              "      <td>b</td>\n",
              "      <td>b</td>\n",
              "      <td>o</td>\n",
              "      <td>b</td>\n",
              "      <td>b</td>\n",
              "      <td>b</td>\n",
              "      <td>b</td>\n",
              "      <td>b</td>\n",
              "      <td>b</td>\n",
              "      <td>b</td>\n",
              "      <td>b</td>\n",
              "      <td>b</td>\n",
              "      <td>b</td>\n",
              "      <td>b</td>\n",
              "      <td>b</td>\n",
              "      <td>b</td>\n",
              "      <td>b</td>\n",
              "      <td>b</td>\n",
              "      <td>b</td>\n",
              "      <td>b</td>\n",
              "      <td>loss</td>\n",
              "    </tr>\n",
              "    <tr>\n",
              "      <th>1</th>\n",
              "      <td>b</td>\n",
              "      <td>b</td>\n",
              "      <td>b</td>\n",
              "      <td>b</td>\n",
              "      <td>b</td>\n",
              "      <td>b</td>\n",
              "      <td>o</td>\n",
              "      <td>b</td>\n",
              "      <td>b</td>\n",
              "      <td>b</td>\n",
              "      <td>b</td>\n",
              "      <td>b</td>\n",
              "      <td>x</td>\n",
              "      <td>o</td>\n",
              "      <td>o</td>\n",
              "      <td>b</td>\n",
              "      <td>b</td>\n",
              "      <td>b</td>\n",
              "      <td>x</td>\n",
              "      <td>b</td>\n",
              "      <td>b</td>\n",
              "      <td>b</td>\n",
              "      <td>b</td>\n",
              "      <td>b</td>\n",
              "      <td>x</td>\n",
              "      <td>x</td>\n",
              "      <td>b</td>\n",
              "      <td>b</td>\n",
              "      <td>b</td>\n",
              "      <td>b</td>\n",
              "      <td>o</td>\n",
              "      <td>b</td>\n",
              "      <td>b</td>\n",
              "      <td>b</td>\n",
              "      <td>b</td>\n",
              "      <td>b</td>\n",
              "      <td>b</td>\n",
              "      <td>b</td>\n",
              "      <td>b</td>\n",
              "      <td>b</td>\n",
              "      <td>b</td>\n",
              "      <td>b</td>\n",
              "      <td>loss</td>\n",
              "    </tr>\n",
              "    <tr>\n",
              "      <th>2</th>\n",
              "      <td>x</td>\n",
              "      <td>x</td>\n",
              "      <td>o</td>\n",
              "      <td>b</td>\n",
              "      <td>b</td>\n",
              "      <td>b</td>\n",
              "      <td>o</td>\n",
              "      <td>b</td>\n",
              "      <td>b</td>\n",
              "      <td>b</td>\n",
              "      <td>b</td>\n",
              "      <td>b</td>\n",
              "      <td>b</td>\n",
              "      <td>b</td>\n",
              "      <td>b</td>\n",
              "      <td>b</td>\n",
              "      <td>b</td>\n",
              "      <td>b</td>\n",
              "      <td>o</td>\n",
              "      <td>x</td>\n",
              "      <td>x</td>\n",
              "      <td>o</td>\n",
              "      <td>b</td>\n",
              "      <td>b</td>\n",
              "      <td>b</td>\n",
              "      <td>b</td>\n",
              "      <td>b</td>\n",
              "      <td>b</td>\n",
              "      <td>b</td>\n",
              "      <td>b</td>\n",
              "      <td>b</td>\n",
              "      <td>b</td>\n",
              "      <td>b</td>\n",
              "      <td>b</td>\n",
              "      <td>b</td>\n",
              "      <td>b</td>\n",
              "      <td>b</td>\n",
              "      <td>b</td>\n",
              "      <td>b</td>\n",
              "      <td>b</td>\n",
              "      <td>b</td>\n",
              "      <td>b</td>\n",
              "      <td>win</td>\n",
              "    </tr>\n",
              "    <tr>\n",
              "      <th>3</th>\n",
              "      <td>x</td>\n",
              "      <td>x</td>\n",
              "      <td>b</td>\n",
              "      <td>b</td>\n",
              "      <td>b</td>\n",
              "      <td>b</td>\n",
              "      <td>o</td>\n",
              "      <td>b</td>\n",
              "      <td>b</td>\n",
              "      <td>b</td>\n",
              "      <td>b</td>\n",
              "      <td>b</td>\n",
              "      <td>b</td>\n",
              "      <td>b</td>\n",
              "      <td>b</td>\n",
              "      <td>b</td>\n",
              "      <td>b</td>\n",
              "      <td>b</td>\n",
              "      <td>b</td>\n",
              "      <td>b</td>\n",
              "      <td>b</td>\n",
              "      <td>b</td>\n",
              "      <td>b</td>\n",
              "      <td>b</td>\n",
              "      <td>b</td>\n",
              "      <td>b</td>\n",
              "      <td>b</td>\n",
              "      <td>b</td>\n",
              "      <td>b</td>\n",
              "      <td>b</td>\n",
              "      <td>o</td>\n",
              "      <td>b</td>\n",
              "      <td>b</td>\n",
              "      <td>b</td>\n",
              "      <td>b</td>\n",
              "      <td>b</td>\n",
              "      <td>o</td>\n",
              "      <td>x</td>\n",
              "      <td>o</td>\n",
              "      <td>x</td>\n",
              "      <td>b</td>\n",
              "      <td>b</td>\n",
              "      <td>win</td>\n",
              "    </tr>\n",
              "    <tr>\n",
              "      <th>4</th>\n",
              "      <td>x</td>\n",
              "      <td>x</td>\n",
              "      <td>o</td>\n",
              "      <td>o</td>\n",
              "      <td>b</td>\n",
              "      <td>b</td>\n",
              "      <td>o</td>\n",
              "      <td>b</td>\n",
              "      <td>b</td>\n",
              "      <td>b</td>\n",
              "      <td>b</td>\n",
              "      <td>b</td>\n",
              "      <td>b</td>\n",
              "      <td>b</td>\n",
              "      <td>b</td>\n",
              "      <td>b</td>\n",
              "      <td>b</td>\n",
              "      <td>b</td>\n",
              "      <td>b</td>\n",
              "      <td>b</td>\n",
              "      <td>b</td>\n",
              "      <td>b</td>\n",
              "      <td>b</td>\n",
              "      <td>b</td>\n",
              "      <td>b</td>\n",
              "      <td>b</td>\n",
              "      <td>b</td>\n",
              "      <td>b</td>\n",
              "      <td>b</td>\n",
              "      <td>b</td>\n",
              "      <td>o</td>\n",
              "      <td>x</td>\n",
              "      <td>x</td>\n",
              "      <td>b</td>\n",
              "      <td>b</td>\n",
              "      <td>b</td>\n",
              "      <td>b</td>\n",
              "      <td>b</td>\n",
              "      <td>b</td>\n",
              "      <td>b</td>\n",
              "      <td>b</td>\n",
              "      <td>b</td>\n",
              "      <td>win</td>\n",
              "    </tr>\n",
              "  </tbody>\n",
              "</table>\n",
              "</div>"
            ],
            "text/plain": [
              "  a1 a2 a3 a4 a5 a6 b1 b2 b3 b4 b5 b6  ... f2 f3 f4 f5 f6 g1 g2 g3 g4 g5 g6 class\n",
              "0  b  b  b  b  b  b  o  o  x  b  b  b  ...  b  b  b  b  b  b  b  b  b  b  b  loss\n",
              "1  b  b  b  b  b  b  o  b  b  b  b  b  ...  b  b  b  b  b  b  b  b  b  b  b  loss\n",
              "2  x  x  o  b  b  b  o  b  b  b  b  b  ...  b  b  b  b  b  b  b  b  b  b  b   win\n",
              "3  x  x  b  b  b  b  o  b  b  b  b  b  ...  b  b  b  b  b  o  x  o  x  b  b   win\n",
              "4  x  x  o  o  b  b  o  b  b  b  b  b  ...  x  x  b  b  b  b  b  b  b  b  b   win\n",
              "\n",
              "[5 rows x 43 columns]"
            ]
          },
          "metadata": {
            "tags": []
          },
          "execution_count": 4
        }
      ]
    },
    {
      "cell_type": "code",
      "metadata": {
        "id": "TztocFLU-af3"
      },
      "source": [
        "from sklearn.preprocessing import LabelEncoder\n",
        "le = LabelEncoder()\n",
        "train_data['class'] = le.fit_transform(train_data['class'])"
      ],
      "execution_count": null,
      "outputs": []
    },
    {
      "cell_type": "code",
      "metadata": {
        "colab": {
          "base_uri": "https://localhost:8080/",
          "height": 435
        },
        "id": "vg5WKoxyAvXw",
        "outputId": "8a5b2e78-5331-4883-8677-238bfb99a8bb"
      },
      "source": [
        "train_data"
      ],
      "execution_count": null,
      "outputs": [
        {
          "output_type": "execute_result",
          "data": {
            "text/html": [
              "<div>\n",
              "<style scoped>\n",
              "    .dataframe tbody tr th:only-of-type {\n",
              "        vertical-align: middle;\n",
              "    }\n",
              "\n",
              "    .dataframe tbody tr th {\n",
              "        vertical-align: top;\n",
              "    }\n",
              "\n",
              "    .dataframe thead th {\n",
              "        text-align: right;\n",
              "    }\n",
              "</style>\n",
              "<table border=\"1\" class=\"dataframe\">\n",
              "  <thead>\n",
              "    <tr style=\"text-align: right;\">\n",
              "      <th></th>\n",
              "      <th>a1</th>\n",
              "      <th>a2</th>\n",
              "      <th>a3</th>\n",
              "      <th>a4</th>\n",
              "      <th>a5</th>\n",
              "      <th>a6</th>\n",
              "      <th>b1</th>\n",
              "      <th>b2</th>\n",
              "      <th>b3</th>\n",
              "      <th>b4</th>\n",
              "      <th>b5</th>\n",
              "      <th>b6</th>\n",
              "      <th>c1</th>\n",
              "      <th>c2</th>\n",
              "      <th>c3</th>\n",
              "      <th>c4</th>\n",
              "      <th>c5</th>\n",
              "      <th>c6</th>\n",
              "      <th>d1</th>\n",
              "      <th>d2</th>\n",
              "      <th>d3</th>\n",
              "      <th>d4</th>\n",
              "      <th>d5</th>\n",
              "      <th>d6</th>\n",
              "      <th>e1</th>\n",
              "      <th>e2</th>\n",
              "      <th>e3</th>\n",
              "      <th>e4</th>\n",
              "      <th>e5</th>\n",
              "      <th>e6</th>\n",
              "      <th>f1</th>\n",
              "      <th>f2</th>\n",
              "      <th>f3</th>\n",
              "      <th>f4</th>\n",
              "      <th>f5</th>\n",
              "      <th>f6</th>\n",
              "      <th>g1</th>\n",
              "      <th>g2</th>\n",
              "      <th>g3</th>\n",
              "      <th>g4</th>\n",
              "      <th>g5</th>\n",
              "      <th>g6</th>\n",
              "      <th>class</th>\n",
              "    </tr>\n",
              "  </thead>\n",
              "  <tbody>\n",
              "    <tr>\n",
              "      <th>0</th>\n",
              "      <td>b</td>\n",
              "      <td>b</td>\n",
              "      <td>b</td>\n",
              "      <td>b</td>\n",
              "      <td>b</td>\n",
              "      <td>b</td>\n",
              "      <td>o</td>\n",
              "      <td>o</td>\n",
              "      <td>x</td>\n",
              "      <td>b</td>\n",
              "      <td>b</td>\n",
              "      <td>b</td>\n",
              "      <td>x</td>\n",
              "      <td>x</td>\n",
              "      <td>o</td>\n",
              "      <td>x</td>\n",
              "      <td>b</td>\n",
              "      <td>b</td>\n",
              "      <td>b</td>\n",
              "      <td>b</td>\n",
              "      <td>b</td>\n",
              "      <td>b</td>\n",
              "      <td>b</td>\n",
              "      <td>b</td>\n",
              "      <td>o</td>\n",
              "      <td>b</td>\n",
              "      <td>b</td>\n",
              "      <td>b</td>\n",
              "      <td>b</td>\n",
              "      <td>b</td>\n",
              "      <td>b</td>\n",
              "      <td>b</td>\n",
              "      <td>b</td>\n",
              "      <td>b</td>\n",
              "      <td>b</td>\n",
              "      <td>b</td>\n",
              "      <td>b</td>\n",
              "      <td>b</td>\n",
              "      <td>b</td>\n",
              "      <td>b</td>\n",
              "      <td>b</td>\n",
              "      <td>b</td>\n",
              "      <td>1</td>\n",
              "    </tr>\n",
              "    <tr>\n",
              "      <th>1</th>\n",
              "      <td>b</td>\n",
              "      <td>b</td>\n",
              "      <td>b</td>\n",
              "      <td>b</td>\n",
              "      <td>b</td>\n",
              "      <td>b</td>\n",
              "      <td>o</td>\n",
              "      <td>b</td>\n",
              "      <td>b</td>\n",
              "      <td>b</td>\n",
              "      <td>b</td>\n",
              "      <td>b</td>\n",
              "      <td>x</td>\n",
              "      <td>o</td>\n",
              "      <td>o</td>\n",
              "      <td>b</td>\n",
              "      <td>b</td>\n",
              "      <td>b</td>\n",
              "      <td>x</td>\n",
              "      <td>b</td>\n",
              "      <td>b</td>\n",
              "      <td>b</td>\n",
              "      <td>b</td>\n",
              "      <td>b</td>\n",
              "      <td>x</td>\n",
              "      <td>x</td>\n",
              "      <td>b</td>\n",
              "      <td>b</td>\n",
              "      <td>b</td>\n",
              "      <td>b</td>\n",
              "      <td>o</td>\n",
              "      <td>b</td>\n",
              "      <td>b</td>\n",
              "      <td>b</td>\n",
              "      <td>b</td>\n",
              "      <td>b</td>\n",
              "      <td>b</td>\n",
              "      <td>b</td>\n",
              "      <td>b</td>\n",
              "      <td>b</td>\n",
              "      <td>b</td>\n",
              "      <td>b</td>\n",
              "      <td>1</td>\n",
              "    </tr>\n",
              "    <tr>\n",
              "      <th>2</th>\n",
              "      <td>x</td>\n",
              "      <td>x</td>\n",
              "      <td>o</td>\n",
              "      <td>b</td>\n",
              "      <td>b</td>\n",
              "      <td>b</td>\n",
              "      <td>o</td>\n",
              "      <td>b</td>\n",
              "      <td>b</td>\n",
              "      <td>b</td>\n",
              "      <td>b</td>\n",
              "      <td>b</td>\n",
              "      <td>b</td>\n",
              "      <td>b</td>\n",
              "      <td>b</td>\n",
              "      <td>b</td>\n",
              "      <td>b</td>\n",
              "      <td>b</td>\n",
              "      <td>o</td>\n",
              "      <td>x</td>\n",
              "      <td>x</td>\n",
              "      <td>o</td>\n",
              "      <td>b</td>\n",
              "      <td>b</td>\n",
              "      <td>b</td>\n",
              "      <td>b</td>\n",
              "      <td>b</td>\n",
              "      <td>b</td>\n",
              "      <td>b</td>\n",
              "      <td>b</td>\n",
              "      <td>b</td>\n",
              "      <td>b</td>\n",
              "      <td>b</td>\n",
              "      <td>b</td>\n",
              "      <td>b</td>\n",
              "      <td>b</td>\n",
              "      <td>b</td>\n",
              "      <td>b</td>\n",
              "      <td>b</td>\n",
              "      <td>b</td>\n",
              "      <td>b</td>\n",
              "      <td>b</td>\n",
              "      <td>2</td>\n",
              "    </tr>\n",
              "    <tr>\n",
              "      <th>3</th>\n",
              "      <td>x</td>\n",
              "      <td>x</td>\n",
              "      <td>b</td>\n",
              "      <td>b</td>\n",
              "      <td>b</td>\n",
              "      <td>b</td>\n",
              "      <td>o</td>\n",
              "      <td>b</td>\n",
              "      <td>b</td>\n",
              "      <td>b</td>\n",
              "      <td>b</td>\n",
              "      <td>b</td>\n",
              "      <td>b</td>\n",
              "      <td>b</td>\n",
              "      <td>b</td>\n",
              "      <td>b</td>\n",
              "      <td>b</td>\n",
              "      <td>b</td>\n",
              "      <td>b</td>\n",
              "      <td>b</td>\n",
              "      <td>b</td>\n",
              "      <td>b</td>\n",
              "      <td>b</td>\n",
              "      <td>b</td>\n",
              "      <td>b</td>\n",
              "      <td>b</td>\n",
              "      <td>b</td>\n",
              "      <td>b</td>\n",
              "      <td>b</td>\n",
              "      <td>b</td>\n",
              "      <td>o</td>\n",
              "      <td>b</td>\n",
              "      <td>b</td>\n",
              "      <td>b</td>\n",
              "      <td>b</td>\n",
              "      <td>b</td>\n",
              "      <td>o</td>\n",
              "      <td>x</td>\n",
              "      <td>o</td>\n",
              "      <td>x</td>\n",
              "      <td>b</td>\n",
              "      <td>b</td>\n",
              "      <td>2</td>\n",
              "    </tr>\n",
              "    <tr>\n",
              "      <th>4</th>\n",
              "      <td>x</td>\n",
              "      <td>x</td>\n",
              "      <td>o</td>\n",
              "      <td>o</td>\n",
              "      <td>b</td>\n",
              "      <td>b</td>\n",
              "      <td>o</td>\n",
              "      <td>b</td>\n",
              "      <td>b</td>\n",
              "      <td>b</td>\n",
              "      <td>b</td>\n",
              "      <td>b</td>\n",
              "      <td>b</td>\n",
              "      <td>b</td>\n",
              "      <td>b</td>\n",
              "      <td>b</td>\n",
              "      <td>b</td>\n",
              "      <td>b</td>\n",
              "      <td>b</td>\n",
              "      <td>b</td>\n",
              "      <td>b</td>\n",
              "      <td>b</td>\n",
              "      <td>b</td>\n",
              "      <td>b</td>\n",
              "      <td>b</td>\n",
              "      <td>b</td>\n",
              "      <td>b</td>\n",
              "      <td>b</td>\n",
              "      <td>b</td>\n",
              "      <td>b</td>\n",
              "      <td>o</td>\n",
              "      <td>x</td>\n",
              "      <td>x</td>\n",
              "      <td>b</td>\n",
              "      <td>b</td>\n",
              "      <td>b</td>\n",
              "      <td>b</td>\n",
              "      <td>b</td>\n",
              "      <td>b</td>\n",
              "      <td>b</td>\n",
              "      <td>b</td>\n",
              "      <td>b</td>\n",
              "      <td>2</td>\n",
              "    </tr>\n",
              "    <tr>\n",
              "      <th>...</th>\n",
              "      <td>...</td>\n",
              "      <td>...</td>\n",
              "      <td>...</td>\n",
              "      <td>...</td>\n",
              "      <td>...</td>\n",
              "      <td>...</td>\n",
              "      <td>...</td>\n",
              "      <td>...</td>\n",
              "      <td>...</td>\n",
              "      <td>...</td>\n",
              "      <td>...</td>\n",
              "      <td>...</td>\n",
              "      <td>...</td>\n",
              "      <td>...</td>\n",
              "      <td>...</td>\n",
              "      <td>...</td>\n",
              "      <td>...</td>\n",
              "      <td>...</td>\n",
              "      <td>...</td>\n",
              "      <td>...</td>\n",
              "      <td>...</td>\n",
              "      <td>...</td>\n",
              "      <td>...</td>\n",
              "      <td>...</td>\n",
              "      <td>...</td>\n",
              "      <td>...</td>\n",
              "      <td>...</td>\n",
              "      <td>...</td>\n",
              "      <td>...</td>\n",
              "      <td>...</td>\n",
              "      <td>...</td>\n",
              "      <td>...</td>\n",
              "      <td>...</td>\n",
              "      <td>...</td>\n",
              "      <td>...</td>\n",
              "      <td>...</td>\n",
              "      <td>...</td>\n",
              "      <td>...</td>\n",
              "      <td>...</td>\n",
              "      <td>...</td>\n",
              "      <td>...</td>\n",
              "      <td>...</td>\n",
              "      <td>...</td>\n",
              "    </tr>\n",
              "    <tr>\n",
              "      <th>50662</th>\n",
              "      <td>x</td>\n",
              "      <td>o</td>\n",
              "      <td>o</td>\n",
              "      <td>b</td>\n",
              "      <td>b</td>\n",
              "      <td>b</td>\n",
              "      <td>b</td>\n",
              "      <td>b</td>\n",
              "      <td>b</td>\n",
              "      <td>b</td>\n",
              "      <td>b</td>\n",
              "      <td>b</td>\n",
              "      <td>x</td>\n",
              "      <td>x</td>\n",
              "      <td>b</td>\n",
              "      <td>b</td>\n",
              "      <td>b</td>\n",
              "      <td>b</td>\n",
              "      <td>b</td>\n",
              "      <td>b</td>\n",
              "      <td>b</td>\n",
              "      <td>b</td>\n",
              "      <td>b</td>\n",
              "      <td>b</td>\n",
              "      <td>b</td>\n",
              "      <td>b</td>\n",
              "      <td>b</td>\n",
              "      <td>b</td>\n",
              "      <td>b</td>\n",
              "      <td>b</td>\n",
              "      <td>o</td>\n",
              "      <td>b</td>\n",
              "      <td>b</td>\n",
              "      <td>b</td>\n",
              "      <td>b</td>\n",
              "      <td>b</td>\n",
              "      <td>x</td>\n",
              "      <td>o</td>\n",
              "      <td>b</td>\n",
              "      <td>b</td>\n",
              "      <td>b</td>\n",
              "      <td>b</td>\n",
              "      <td>2</td>\n",
              "    </tr>\n",
              "    <tr>\n",
              "      <th>50663</th>\n",
              "      <td>x</td>\n",
              "      <td>b</td>\n",
              "      <td>b</td>\n",
              "      <td>b</td>\n",
              "      <td>b</td>\n",
              "      <td>b</td>\n",
              "      <td>o</td>\n",
              "      <td>x</td>\n",
              "      <td>o</td>\n",
              "      <td>o</td>\n",
              "      <td>b</td>\n",
              "      <td>b</td>\n",
              "      <td>b</td>\n",
              "      <td>b</td>\n",
              "      <td>b</td>\n",
              "      <td>b</td>\n",
              "      <td>b</td>\n",
              "      <td>b</td>\n",
              "      <td>x</td>\n",
              "      <td>b</td>\n",
              "      <td>b</td>\n",
              "      <td>b</td>\n",
              "      <td>b</td>\n",
              "      <td>b</td>\n",
              "      <td>b</td>\n",
              "      <td>b</td>\n",
              "      <td>b</td>\n",
              "      <td>b</td>\n",
              "      <td>b</td>\n",
              "      <td>b</td>\n",
              "      <td>o</td>\n",
              "      <td>b</td>\n",
              "      <td>b</td>\n",
              "      <td>b</td>\n",
              "      <td>b</td>\n",
              "      <td>b</td>\n",
              "      <td>x</td>\n",
              "      <td>b</td>\n",
              "      <td>b</td>\n",
              "      <td>b</td>\n",
              "      <td>b</td>\n",
              "      <td>b</td>\n",
              "      <td>2</td>\n",
              "    </tr>\n",
              "    <tr>\n",
              "      <th>50664</th>\n",
              "      <td>x</td>\n",
              "      <td>x</td>\n",
              "      <td>o</td>\n",
              "      <td>o</td>\n",
              "      <td>b</td>\n",
              "      <td>b</td>\n",
              "      <td>o</td>\n",
              "      <td>x</td>\n",
              "      <td>x</td>\n",
              "      <td>o</td>\n",
              "      <td>b</td>\n",
              "      <td>b</td>\n",
              "      <td>b</td>\n",
              "      <td>b</td>\n",
              "      <td>b</td>\n",
              "      <td>b</td>\n",
              "      <td>b</td>\n",
              "      <td>b</td>\n",
              "      <td>b</td>\n",
              "      <td>b</td>\n",
              "      <td>b</td>\n",
              "      <td>b</td>\n",
              "      <td>b</td>\n",
              "      <td>b</td>\n",
              "      <td>b</td>\n",
              "      <td>b</td>\n",
              "      <td>b</td>\n",
              "      <td>b</td>\n",
              "      <td>b</td>\n",
              "      <td>b</td>\n",
              "      <td>b</td>\n",
              "      <td>b</td>\n",
              "      <td>b</td>\n",
              "      <td>b</td>\n",
              "      <td>b</td>\n",
              "      <td>b</td>\n",
              "      <td>b</td>\n",
              "      <td>b</td>\n",
              "      <td>b</td>\n",
              "      <td>b</td>\n",
              "      <td>b</td>\n",
              "      <td>b</td>\n",
              "      <td>1</td>\n",
              "    </tr>\n",
              "    <tr>\n",
              "      <th>50665</th>\n",
              "      <td>o</td>\n",
              "      <td>o</td>\n",
              "      <td>x</td>\n",
              "      <td>o</td>\n",
              "      <td>b</td>\n",
              "      <td>b</td>\n",
              "      <td>b</td>\n",
              "      <td>b</td>\n",
              "      <td>b</td>\n",
              "      <td>b</td>\n",
              "      <td>b</td>\n",
              "      <td>b</td>\n",
              "      <td>x</td>\n",
              "      <td>b</td>\n",
              "      <td>b</td>\n",
              "      <td>b</td>\n",
              "      <td>b</td>\n",
              "      <td>b</td>\n",
              "      <td>o</td>\n",
              "      <td>x</td>\n",
              "      <td>b</td>\n",
              "      <td>b</td>\n",
              "      <td>b</td>\n",
              "      <td>b</td>\n",
              "      <td>x</td>\n",
              "      <td>b</td>\n",
              "      <td>b</td>\n",
              "      <td>b</td>\n",
              "      <td>b</td>\n",
              "      <td>b</td>\n",
              "      <td>b</td>\n",
              "      <td>b</td>\n",
              "      <td>b</td>\n",
              "      <td>b</td>\n",
              "      <td>b</td>\n",
              "      <td>b</td>\n",
              "      <td>b</td>\n",
              "      <td>b</td>\n",
              "      <td>b</td>\n",
              "      <td>b</td>\n",
              "      <td>b</td>\n",
              "      <td>b</td>\n",
              "      <td>2</td>\n",
              "    </tr>\n",
              "    <tr>\n",
              "      <th>50666</th>\n",
              "      <td>o</td>\n",
              "      <td>b</td>\n",
              "      <td>b</td>\n",
              "      <td>b</td>\n",
              "      <td>b</td>\n",
              "      <td>b</td>\n",
              "      <td>b</td>\n",
              "      <td>b</td>\n",
              "      <td>b</td>\n",
              "      <td>b</td>\n",
              "      <td>b</td>\n",
              "      <td>b</td>\n",
              "      <td>x</td>\n",
              "      <td>b</td>\n",
              "      <td>b</td>\n",
              "      <td>b</td>\n",
              "      <td>b</td>\n",
              "      <td>b</td>\n",
              "      <td>x</td>\n",
              "      <td>o</td>\n",
              "      <td>b</td>\n",
              "      <td>b</td>\n",
              "      <td>b</td>\n",
              "      <td>b</td>\n",
              "      <td>o</td>\n",
              "      <td>o</td>\n",
              "      <td>b</td>\n",
              "      <td>b</td>\n",
              "      <td>b</td>\n",
              "      <td>b</td>\n",
              "      <td>x</td>\n",
              "      <td>x</td>\n",
              "      <td>b</td>\n",
              "      <td>b</td>\n",
              "      <td>b</td>\n",
              "      <td>b</td>\n",
              "      <td>b</td>\n",
              "      <td>b</td>\n",
              "      <td>b</td>\n",
              "      <td>b</td>\n",
              "      <td>b</td>\n",
              "      <td>b</td>\n",
              "      <td>2</td>\n",
              "    </tr>\n",
              "  </tbody>\n",
              "</table>\n",
              "<p>50667 rows × 43 columns</p>\n",
              "</div>"
            ],
            "text/plain": [
              "      a1 a2 a3 a4 a5 a6 b1 b2 b3 b4 b5  ... f3 f4 f5 f6 g1 g2 g3 g4 g5 g6 class\n",
              "0      b  b  b  b  b  b  o  o  x  b  b  ...  b  b  b  b  b  b  b  b  b  b     1\n",
              "1      b  b  b  b  b  b  o  b  b  b  b  ...  b  b  b  b  b  b  b  b  b  b     1\n",
              "2      x  x  o  b  b  b  o  b  b  b  b  ...  b  b  b  b  b  b  b  b  b  b     2\n",
              "3      x  x  b  b  b  b  o  b  b  b  b  ...  b  b  b  b  o  x  o  x  b  b     2\n",
              "4      x  x  o  o  b  b  o  b  b  b  b  ...  x  b  b  b  b  b  b  b  b  b     2\n",
              "...   .. .. .. .. .. .. .. .. .. .. ..  ... .. .. .. .. .. .. .. .. .. ..   ...\n",
              "50662  x  o  o  b  b  b  b  b  b  b  b  ...  b  b  b  b  x  o  b  b  b  b     2\n",
              "50663  x  b  b  b  b  b  o  x  o  o  b  ...  b  b  b  b  x  b  b  b  b  b     2\n",
              "50664  x  x  o  o  b  b  o  x  x  o  b  ...  b  b  b  b  b  b  b  b  b  b     1\n",
              "50665  o  o  x  o  b  b  b  b  b  b  b  ...  b  b  b  b  b  b  b  b  b  b     2\n",
              "50666  o  b  b  b  b  b  b  b  b  b  b  ...  b  b  b  b  b  b  b  b  b  b     2\n",
              "\n",
              "[50667 rows x 43 columns]"
            ]
          },
          "metadata": {
            "tags": []
          },
          "execution_count": 6
        }
      ]
    },
    {
      "cell_type": "code",
      "metadata": {
        "colab": {
          "base_uri": "https://localhost:8080/"
        },
        "id": "sBA1i9wKAw6S",
        "outputId": "61db415b-db23-40f9-b9a0-8d9c5237d432"
      },
      "source": [
        "\n",
        "train_data['class'].value_counts()"
      ],
      "execution_count": null,
      "outputs": [
        {
          "output_type": "execute_result",
          "data": {
            "text/plain": [
              "2    33354\n",
              "1    12476\n",
              "0     4837\n",
              "Name: class, dtype: int64"
            ]
          },
          "metadata": {
            "tags": []
          },
          "execution_count": 7
        }
      ]
    },
    {
      "cell_type": "code",
      "metadata": {
        "id": "RgQ_BFU1A2Dy"
      },
      "source": [
        "def print_unique_col_values(train_data):\n",
        "  for column in train_data:\n",
        "    if train_data[column].dtypes=='object':     \n",
        "      le = LabelEncoder()\n",
        "      \n",
        "      train_data[column] = le.fit_transform(train_data[column])\n",
        "    \n",
        "      print(f'{column}: {train_data[column].unique()}')"
      ],
      "execution_count": null,
      "outputs": []
    },
    {
      "cell_type": "code",
      "metadata": {
        "colab": {
          "base_uri": "https://localhost:8080/"
        },
        "id": "K_jfGtiUBGVh",
        "outputId": "b205d4f0-2b7e-486c-bacb-27264f3b5f42"
      },
      "source": [
        "print_unique_col_values(train_data)"
      ],
      "execution_count": null,
      "outputs": [
        {
          "output_type": "stream",
          "text": [
            "a1: [0 2 1]\n",
            "a2: [0 2 1]\n",
            "a3: [0 1 2]\n",
            "a4: [0 1 2]\n",
            "a5: [0 1 2]\n",
            "a6: [0 1 2]\n",
            "b1: [1 0 2]\n",
            "b2: [1 0 2]\n",
            "b3: [2 0 1]\n",
            "b4: [0 1 2]\n",
            "b5: [0 1 2]\n",
            "b6: [0 2 1]\n",
            "c1: [2 0 1]\n",
            "c2: [2 1 0]\n",
            "c3: [1 0 2]\n",
            "c4: [2 0 1]\n",
            "c5: [0 2 1]\n",
            "c6: [0 1 2]\n",
            "d1: [0 2 1]\n",
            "d2: [0 2 1]\n",
            "d3: [0 2 1]\n",
            "d4: [0 1 2]\n",
            "d5: [0 2 1]\n",
            "d6: [0 1 2]\n",
            "e1: [1 2 0]\n",
            "e2: [0 2 1]\n",
            "e3: [0 1 2]\n",
            "e4: [0 1 2]\n",
            "e5: [0 1 2]\n",
            "e6: [0 1 2]\n",
            "f1: [0 1 2]\n",
            "f2: [0 2 1]\n",
            "f3: [0 2 1]\n",
            "f4: [0 1 2]\n",
            "f5: [0 1 2]\n",
            "f6: [0 2 1]\n",
            "g1: [0 1 2]\n",
            "g2: [0 2 1]\n",
            "g3: [0 1 2]\n",
            "g4: [0 2 1]\n",
            "g5: [0 2 1]\n",
            "g6: [0 1 2]\n"
          ],
          "name": "stdout"
        }
      ]
    },
    {
      "cell_type": "code",
      "metadata": {
        "id": "WFBFtI8OBIfJ"
      },
      "source": [
        "cols_to_scale = ['a1','a2','a3','a4','a5','a6','b1','b2','b3','b4','b5','b6','c1','c2','c3','c4','c5','c6','d1','d2','d3','d4','d5','d6','e1','e2',\n",
        "'e3','e4','e5','e6','f1','f2','f3','f4','f5','f6','g1','g2','g3','g4','g5','g6']\n",
        "from sklearn.preprocessing import MinMaxScaler\n",
        "scaler = MinMaxScaler()\n",
        " \n",
        "# scaler =preprocessing.StandardScaler() \n",
        "train_data[cols_to_scale] = scaler.fit_transform(train_data[cols_to_scale])"
      ],
      "execution_count": null,
      "outputs": []
    },
    {
      "cell_type": "code",
      "metadata": {
        "colab": {
          "base_uri": "https://localhost:8080/",
          "height": 222
        },
        "id": "-0ukuqBABPtq",
        "outputId": "e615b30a-2b83-481b-ff2f-f20df9b215b3"
      },
      "source": [
        "train_data.head()"
      ],
      "execution_count": null,
      "outputs": [
        {
          "output_type": "execute_result",
          "data": {
            "text/html": [
              "<div>\n",
              "<style scoped>\n",
              "    .dataframe tbody tr th:only-of-type {\n",
              "        vertical-align: middle;\n",
              "    }\n",
              "\n",
              "    .dataframe tbody tr th {\n",
              "        vertical-align: top;\n",
              "    }\n",
              "\n",
              "    .dataframe thead th {\n",
              "        text-align: right;\n",
              "    }\n",
              "</style>\n",
              "<table border=\"1\" class=\"dataframe\">\n",
              "  <thead>\n",
              "    <tr style=\"text-align: right;\">\n",
              "      <th></th>\n",
              "      <th>a1</th>\n",
              "      <th>a2</th>\n",
              "      <th>a3</th>\n",
              "      <th>a4</th>\n",
              "      <th>a5</th>\n",
              "      <th>a6</th>\n",
              "      <th>b1</th>\n",
              "      <th>b2</th>\n",
              "      <th>b3</th>\n",
              "      <th>b4</th>\n",
              "      <th>b5</th>\n",
              "      <th>b6</th>\n",
              "      <th>c1</th>\n",
              "      <th>c2</th>\n",
              "      <th>c3</th>\n",
              "      <th>c4</th>\n",
              "      <th>c5</th>\n",
              "      <th>c6</th>\n",
              "      <th>d1</th>\n",
              "      <th>d2</th>\n",
              "      <th>d3</th>\n",
              "      <th>d4</th>\n",
              "      <th>d5</th>\n",
              "      <th>d6</th>\n",
              "      <th>e1</th>\n",
              "      <th>e2</th>\n",
              "      <th>e3</th>\n",
              "      <th>e4</th>\n",
              "      <th>e5</th>\n",
              "      <th>e6</th>\n",
              "      <th>f1</th>\n",
              "      <th>f2</th>\n",
              "      <th>f3</th>\n",
              "      <th>f4</th>\n",
              "      <th>f5</th>\n",
              "      <th>f6</th>\n",
              "      <th>g1</th>\n",
              "      <th>g2</th>\n",
              "      <th>g3</th>\n",
              "      <th>g4</th>\n",
              "      <th>g5</th>\n",
              "      <th>g6</th>\n",
              "      <th>class</th>\n",
              "    </tr>\n",
              "  </thead>\n",
              "  <tbody>\n",
              "    <tr>\n",
              "      <th>0</th>\n",
              "      <td>0.0</td>\n",
              "      <td>0.0</td>\n",
              "      <td>0.0</td>\n",
              "      <td>0.0</td>\n",
              "      <td>0.0</td>\n",
              "      <td>0.0</td>\n",
              "      <td>0.5</td>\n",
              "      <td>0.5</td>\n",
              "      <td>1.0</td>\n",
              "      <td>0.0</td>\n",
              "      <td>0.0</td>\n",
              "      <td>0.0</td>\n",
              "      <td>1.0</td>\n",
              "      <td>1.0</td>\n",
              "      <td>0.5</td>\n",
              "      <td>1.0</td>\n",
              "      <td>0.0</td>\n",
              "      <td>0.0</td>\n",
              "      <td>0.0</td>\n",
              "      <td>0.0</td>\n",
              "      <td>0.0</td>\n",
              "      <td>0.0</td>\n",
              "      <td>0.0</td>\n",
              "      <td>0.0</td>\n",
              "      <td>0.5</td>\n",
              "      <td>0.0</td>\n",
              "      <td>0.0</td>\n",
              "      <td>0.0</td>\n",
              "      <td>0.0</td>\n",
              "      <td>0.0</td>\n",
              "      <td>0.0</td>\n",
              "      <td>0.0</td>\n",
              "      <td>0.0</td>\n",
              "      <td>0.0</td>\n",
              "      <td>0.0</td>\n",
              "      <td>0.0</td>\n",
              "      <td>0.0</td>\n",
              "      <td>0.0</td>\n",
              "      <td>0.0</td>\n",
              "      <td>0.0</td>\n",
              "      <td>0.0</td>\n",
              "      <td>0.0</td>\n",
              "      <td>1</td>\n",
              "    </tr>\n",
              "    <tr>\n",
              "      <th>1</th>\n",
              "      <td>0.0</td>\n",
              "      <td>0.0</td>\n",
              "      <td>0.0</td>\n",
              "      <td>0.0</td>\n",
              "      <td>0.0</td>\n",
              "      <td>0.0</td>\n",
              "      <td>0.5</td>\n",
              "      <td>0.0</td>\n",
              "      <td>0.0</td>\n",
              "      <td>0.0</td>\n",
              "      <td>0.0</td>\n",
              "      <td>0.0</td>\n",
              "      <td>1.0</td>\n",
              "      <td>0.5</td>\n",
              "      <td>0.5</td>\n",
              "      <td>0.0</td>\n",
              "      <td>0.0</td>\n",
              "      <td>0.0</td>\n",
              "      <td>1.0</td>\n",
              "      <td>0.0</td>\n",
              "      <td>0.0</td>\n",
              "      <td>0.0</td>\n",
              "      <td>0.0</td>\n",
              "      <td>0.0</td>\n",
              "      <td>1.0</td>\n",
              "      <td>1.0</td>\n",
              "      <td>0.0</td>\n",
              "      <td>0.0</td>\n",
              "      <td>0.0</td>\n",
              "      <td>0.0</td>\n",
              "      <td>0.5</td>\n",
              "      <td>0.0</td>\n",
              "      <td>0.0</td>\n",
              "      <td>0.0</td>\n",
              "      <td>0.0</td>\n",
              "      <td>0.0</td>\n",
              "      <td>0.0</td>\n",
              "      <td>0.0</td>\n",
              "      <td>0.0</td>\n",
              "      <td>0.0</td>\n",
              "      <td>0.0</td>\n",
              "      <td>0.0</td>\n",
              "      <td>1</td>\n",
              "    </tr>\n",
              "    <tr>\n",
              "      <th>2</th>\n",
              "      <td>1.0</td>\n",
              "      <td>1.0</td>\n",
              "      <td>0.5</td>\n",
              "      <td>0.0</td>\n",
              "      <td>0.0</td>\n",
              "      <td>0.0</td>\n",
              "      <td>0.5</td>\n",
              "      <td>0.0</td>\n",
              "      <td>0.0</td>\n",
              "      <td>0.0</td>\n",
              "      <td>0.0</td>\n",
              "      <td>0.0</td>\n",
              "      <td>0.0</td>\n",
              "      <td>0.0</td>\n",
              "      <td>0.0</td>\n",
              "      <td>0.0</td>\n",
              "      <td>0.0</td>\n",
              "      <td>0.0</td>\n",
              "      <td>0.5</td>\n",
              "      <td>1.0</td>\n",
              "      <td>1.0</td>\n",
              "      <td>0.5</td>\n",
              "      <td>0.0</td>\n",
              "      <td>0.0</td>\n",
              "      <td>0.0</td>\n",
              "      <td>0.0</td>\n",
              "      <td>0.0</td>\n",
              "      <td>0.0</td>\n",
              "      <td>0.0</td>\n",
              "      <td>0.0</td>\n",
              "      <td>0.0</td>\n",
              "      <td>0.0</td>\n",
              "      <td>0.0</td>\n",
              "      <td>0.0</td>\n",
              "      <td>0.0</td>\n",
              "      <td>0.0</td>\n",
              "      <td>0.0</td>\n",
              "      <td>0.0</td>\n",
              "      <td>0.0</td>\n",
              "      <td>0.0</td>\n",
              "      <td>0.0</td>\n",
              "      <td>0.0</td>\n",
              "      <td>2</td>\n",
              "    </tr>\n",
              "    <tr>\n",
              "      <th>3</th>\n",
              "      <td>1.0</td>\n",
              "      <td>1.0</td>\n",
              "      <td>0.0</td>\n",
              "      <td>0.0</td>\n",
              "      <td>0.0</td>\n",
              "      <td>0.0</td>\n",
              "      <td>0.5</td>\n",
              "      <td>0.0</td>\n",
              "      <td>0.0</td>\n",
              "      <td>0.0</td>\n",
              "      <td>0.0</td>\n",
              "      <td>0.0</td>\n",
              "      <td>0.0</td>\n",
              "      <td>0.0</td>\n",
              "      <td>0.0</td>\n",
              "      <td>0.0</td>\n",
              "      <td>0.0</td>\n",
              "      <td>0.0</td>\n",
              "      <td>0.0</td>\n",
              "      <td>0.0</td>\n",
              "      <td>0.0</td>\n",
              "      <td>0.0</td>\n",
              "      <td>0.0</td>\n",
              "      <td>0.0</td>\n",
              "      <td>0.0</td>\n",
              "      <td>0.0</td>\n",
              "      <td>0.0</td>\n",
              "      <td>0.0</td>\n",
              "      <td>0.0</td>\n",
              "      <td>0.0</td>\n",
              "      <td>0.5</td>\n",
              "      <td>0.0</td>\n",
              "      <td>0.0</td>\n",
              "      <td>0.0</td>\n",
              "      <td>0.0</td>\n",
              "      <td>0.0</td>\n",
              "      <td>0.5</td>\n",
              "      <td>1.0</td>\n",
              "      <td>0.5</td>\n",
              "      <td>1.0</td>\n",
              "      <td>0.0</td>\n",
              "      <td>0.0</td>\n",
              "      <td>2</td>\n",
              "    </tr>\n",
              "    <tr>\n",
              "      <th>4</th>\n",
              "      <td>1.0</td>\n",
              "      <td>1.0</td>\n",
              "      <td>0.5</td>\n",
              "      <td>0.5</td>\n",
              "      <td>0.0</td>\n",
              "      <td>0.0</td>\n",
              "      <td>0.5</td>\n",
              "      <td>0.0</td>\n",
              "      <td>0.0</td>\n",
              "      <td>0.0</td>\n",
              "      <td>0.0</td>\n",
              "      <td>0.0</td>\n",
              "      <td>0.0</td>\n",
              "      <td>0.0</td>\n",
              "      <td>0.0</td>\n",
              "      <td>0.0</td>\n",
              "      <td>0.0</td>\n",
              "      <td>0.0</td>\n",
              "      <td>0.0</td>\n",
              "      <td>0.0</td>\n",
              "      <td>0.0</td>\n",
              "      <td>0.0</td>\n",
              "      <td>0.0</td>\n",
              "      <td>0.0</td>\n",
              "      <td>0.0</td>\n",
              "      <td>0.0</td>\n",
              "      <td>0.0</td>\n",
              "      <td>0.0</td>\n",
              "      <td>0.0</td>\n",
              "      <td>0.0</td>\n",
              "      <td>0.5</td>\n",
              "      <td>1.0</td>\n",
              "      <td>1.0</td>\n",
              "      <td>0.0</td>\n",
              "      <td>0.0</td>\n",
              "      <td>0.0</td>\n",
              "      <td>0.0</td>\n",
              "      <td>0.0</td>\n",
              "      <td>0.0</td>\n",
              "      <td>0.0</td>\n",
              "      <td>0.0</td>\n",
              "      <td>0.0</td>\n",
              "      <td>2</td>\n",
              "    </tr>\n",
              "  </tbody>\n",
              "</table>\n",
              "</div>"
            ],
            "text/plain": [
              "    a1   a2   a3   a4   a5   a6   b1  ...   g1   g2   g3   g4   g5   g6  class\n",
              "0  0.0  0.0  0.0  0.0  0.0  0.0  0.5  ...  0.0  0.0  0.0  0.0  0.0  0.0      1\n",
              "1  0.0  0.0  0.0  0.0  0.0  0.0  0.5  ...  0.0  0.0  0.0  0.0  0.0  0.0      1\n",
              "2  1.0  1.0  0.5  0.0  0.0  0.0  0.5  ...  0.0  0.0  0.0  0.0  0.0  0.0      2\n",
              "3  1.0  1.0  0.0  0.0  0.0  0.0  0.5  ...  0.5  1.0  0.5  1.0  0.0  0.0      2\n",
              "4  1.0  1.0  0.5  0.5  0.0  0.0  0.5  ...  0.0  0.0  0.0  0.0  0.0  0.0      2\n",
              "\n",
              "[5 rows x 43 columns]"
            ]
          },
          "metadata": {
            "tags": []
          },
          "execution_count": 11
        }
      ]
    },
    {
      "cell_type": "code",
      "metadata": {
        "id": "c-ZAD3wEBUmm"
      },
      "source": [
        "# Input/independent variables\n",
        "X = train_data.drop('class', axis = 1) # here we are dropping the class feature as this is the target and 'X' is input features, the changes are not\n",
        "# made inplace as we have not used 'inplace = True'\n",
        "\n",
        "y = train_data['class'] # Output/Dependent variable"
      ],
      "execution_count": null,
      "outputs": []
    },
    {
      "cell_type": "code",
      "metadata": {
        "id": "ktDS3NQ7Bet1"
      },
      "source": [
        "X = pd.get_dummies(X)"
      ],
      "execution_count": null,
      "outputs": []
    },
    {
      "cell_type": "code",
      "metadata": {
        "id": "Jp9dEX8AFRHy"
      },
      "source": [
        "from imblearn.over_sampling import SMOTE\n",
        "\n",
        "smote = SMOTE(sampling_strategy='minority')\n",
        "X_sm,y_sm = smote.fit_sample(X, y)\n"
      ],
      "execution_count": null,
      "outputs": []
    },
    {
      "cell_type": "code",
      "metadata": {
        "colab": {
          "base_uri": "https://localhost:8080/",
          "height": 321
        },
        "id": "XoUA7yDSFGG5",
        "outputId": "3b8e7834-1ca9-4663-f7fa-09ceb5a4933a"
      },
      "source": [
        "\n",
        "# example of oversampling a multi-class classification dataset\n",
        "from pandas import read_csv\n",
        "from imblearn.over_sampling import SMOTE\n",
        "from collections import Counter\n",
        "from matplotlib import pyplot\n",
        "from sklearn.preprocessing import LabelEncoder\n",
        "# define the dataset location\n",
        "\n",
        "data = train_data.values\n",
        "# split into input and output elements\n",
        "X_new, y = data[:, :-1], data[:, -1]\n",
        "# label encode the target variable\n",
        "y = LabelEncoder().fit_transform(y)\n",
        "# transform the dataset\n",
        "oversample = SMOTE()\n",
        "X, y = oversample.fit_resample(X, y)\n",
        "# summarize distribution\n",
        "counter = Counter(y)\n",
        "for k,v in counter.items():\n",
        "\tper = v / len(y) * 100\n",
        "\tprint('Class=%d, n=%d (%.3f%%)' % (k, v, per))\n",
        "# plot the distribution\n",
        "pyplot.bar(counter.keys(), counter.values())\n",
        "pyplot.show()\n"
      ],
      "execution_count": null,
      "outputs": [
        {
          "output_type": "stream",
          "text": [
            "Class=1, n=33354 (33.333%)\n",
            "Class=2, n=33354 (33.333%)\n",
            "Class=0, n=33354 (33.333%)\n"
          ],
          "name": "stdout"
        },
        {
          "output_type": "display_data",
          "data": {
            "image/png": "[encoded data removed]",
            "text/plain": [
              "<Figure size 432x288 with 1 Axes>"
            ]
          },
          "metadata": {
            "tags": [],
            "needs_background": "light"
          }
        }
      ]
    },
    {
      "cell_type": "code",
      "metadata": {
        "id": "o57wivMzFYNf"
      },
      "source": [
        "data = np.array(y)"
      ],
      "execution_count": null,
      "outputs": []
    },
    {
      "cell_type": "code",
      "metadata": {
        "id": "9Cp6MxvjFbhN"
      },
      "source": [
        "y = pd.DataFrame(data = y,  \n",
        "                  columns =[\"class\"]) "
      ],
      "execution_count": null,
      "outputs": []
    },
    {
      "cell_type": "code",
      "metadata": {
        "colab": {
          "base_uri": "https://localhost:8080/"
        },
        "id": "1-WtyNr-Fc0_",
        "outputId": "d3989016-ba2f-423f-8805-d9157a2b17bf"
      },
      "source": [
        "y.value_counts()"
      ],
      "execution_count": null,
      "outputs": [
        {
          "output_type": "execute_result",
          "data": {
            "text/plain": [
              "class\n",
              "2        33354\n",
              "1        33354\n",
              "0        33354\n",
              "dtype: int64"
            ]
          },
          "metadata": {
            "tags": []
          },
          "execution_count": 18
        }
      ]
    },
    {
      "cell_type": "code",
      "metadata": {
        "id": "ONIYe42gW9Vs"
      },
      "source": [
        "# count_class_0, count_class_1,count_class_2 = y['class'].value_counts()\n",
        "\n",
        "# # # Divide by class\n",
        "# # df_class_0 = y[y['class'] == 0]\n",
        "# # df_class_1 = y[y['class'] == 1]\n",
        "# # df_class_2 = y[y['class'] == 2]\n",
        "\n",
        "# print(count_class_2)\n",
        "# print(count_class_1)\n",
        "# print(count_class_0)"
      ],
      "execution_count": null,
      "outputs": []
    },
    {
      "cell_type": "code",
      "metadata": {
        "id": "oiVKTrkHgwAa"
      },
      "source": [
        "# #  Divide by class\n",
        "# df_class_0 = y[y['class'] == 0]\n",
        "# df_class_1 = y[y['class'] == 1]\n",
        "# df_class_2 = y[y['class'] == 2]"
      ],
      "execution_count": null,
      "outputs": []
    },
    {
      "cell_type": "code",
      "metadata": {
        "id": "PC7FpQTwXMMM"
      },
      "source": [
        ""
      ],
      "execution_count": null,
      "outputs": []
    },
    {
      "cell_type": "code",
      "metadata": {
        "id": "Yyy7UgQ1XjHl"
      },
      "source": [
        ""
      ],
      "execution_count": null,
      "outputs": []
    },
    {
      "cell_type": "code",
      "metadata": {
        "id": "rPICntTJFjTm"
      },
      "source": [
        "data2 = np.array(X)\n"
      ],
      "execution_count": null,
      "outputs": []
    },
    {
      "cell_type": "code",
      "metadata": {
        "id": "jCzEQRr0FmUm"
      },
      "source": [
        "\n",
        "X = pd.DataFrame(data = X,columns =['a1','a2','a3','a4','a5','a6','b1','b2','b3','b4','b5','b6','c1','c2','c3','c4','c5','c6','d1','d2','d3','d4','d5','d6','e1','e2',\n",
        "'e3','e4','e5','e6','f1','f2','f3','f4','f5','f6','g1','g2','g3','g4','g5','g6']) "
      ],
      "execution_count": null,
      "outputs": []
    },
    {
      "cell_type": "code",
      "metadata": {
        "colab": {
          "base_uri": "https://localhost:8080/"
        },
        "id": "Lp8MQ07uf8hV",
        "outputId": "716138e2-0284-4385-8e17-65463527fa3f"
      },
      "source": [
        "X.shape"
      ],
      "execution_count": null,
      "outputs": [
        {
          "output_type": "execute_result",
          "data": {
            "text/plain": [
              "(100062, 42)"
            ]
          },
          "metadata": {
            "tags": []
          },
          "execution_count": 23
        }
      ]
    },
    {
      "cell_type": "code",
      "metadata": {
        "id": "9Vm6NEsPe-9E"
      },
      "source": [
        "def unique_col_values(X):\n",
        "  for column in X:\n",
        "    # if test_data[column].dtypes=='object':     \n",
        "    #   le = LabelEncoder()\n",
        "      \n",
        "      # test_data[column] = le.fit_transform(test_data[column])\n",
        "      # max_thresold = X[column].quantile(0.95)\n",
        "      # min_thresold = X[column].quantile(0.05)\n",
        "      \n",
        "      # X = X[(X[column]<max_thresold) & (X[column]>min_thresold)]\n",
        "      min_thresold, max_thresold = X[column].quantile([0.001, 0.999])\n",
        "      df2 = X[(X[column]<max_thresold) & (X[column]>min_thresold)]\n",
        "      return df2\n",
        "\n",
        "\n",
        "\n"
      ],
      "execution_count": null,
      "outputs": []
    },
    {
      "cell_type": "code",
      "metadata": {
        "id": "BltPxmJ8fuic"
      },
      "source": [
        "Z = unique_col_values(X)"
      ],
      "execution_count": null,
      "outputs": []
    },
    {
      "cell_type": "code",
      "metadata": {
        "colab": {
          "base_uri": "https://localhost:8080/"
        },
        "id": "OaY9GpXH5Y1G",
        "outputId": "70f99649-ffe0-4704-8f4e-2a921859229a"
      },
      "source": [
        "Z.shape"
      ],
      "execution_count": null,
      "outputs": [
        {
          "output_type": "execute_result",
          "data": {
            "text/plain": [
              "(30152, 42)"
            ]
          },
          "metadata": {
            "tags": []
          },
          "execution_count": 26
        }
      ]
    },
    {
      "cell_type": "code",
      "metadata": {
        "id": "JMaU5_zbi8Jq"
      },
      "source": [
        "def print_unique_col(y):\n",
        "  for column in y:\n",
        "    # if test_data[column].dtypes=='object':     \n",
        "    #   le = LabelEncoder()\n",
        "      \n",
        "      # test_data[column] = le.fit_transform(test_data[column])\n",
        "      # max_thresold = X[column].quantile(0.95)\n",
        "      # min_thresold = X[column].quantile(0.05)\n",
        "      \n",
        "      # X = X[(X[column]<max_thresold) & (X[column]>min_thresold)]\n",
        "      min_thresold, max_thresold = y[column].quantile([0.001, 0.999])\n",
        "      df3 = y[(y[column]<max_thresold) & (y[column]>min_thresold)]\n",
        "    \n",
        "\n",
        "\n"
      ],
      "execution_count": null,
      "outputs": []
    },
    {
      "cell_type": "code",
      "metadata": {
        "colab": {
          "base_uri": "https://localhost:8080/",
          "height": 166
        },
        "id": "RdZHglnRfz4D",
        "outputId": "965b6fde-1f85-43be-b46d-cefa47f945e3"
      },
      "source": [
        "print_unique_col(y).shape\n"
      ],
      "execution_count": null,
      "outputs": [
        {
          "output_type": "error",
          "ename": "AttributeError",
          "evalue": "ignored",
          "traceback": [
            "\u001b[0;31m---------------------------------------------------------------------------\u001b[0m",
            "\u001b[0;31mAttributeError\u001b[0m                            Traceback (most recent call last)",
            "\u001b[0;32m<ipython-input-28-dd2b02a1128f>\u001b[0m in \u001b[0;36m<module>\u001b[0;34m()\u001b[0m\n\u001b[0;32m----> 1\u001b[0;31m \u001b[0mprint_unique_col\u001b[0m\u001b[0;34m(\u001b[0m\u001b[0my\u001b[0m\u001b[0;34m)\u001b[0m\u001b[0;34m.\u001b[0m\u001b[0mshape\u001b[0m\u001b[0;34m\u001b[0m\u001b[0;34m\u001b[0m\u001b[0m\n\u001b[0m",
            "\u001b[0;31mAttributeError\u001b[0m: 'NoneType' object has no attribute 'shape'"
          ]
        }
      ]
    },
    {
      "cell_type": "code",
      "metadata": {
        "id": "PCTlIspegh1h",
        "colab": {
          "base_uri": "https://localhost:8080/",
          "height": 166
        },
        "outputId": "e48031cc-ebaf-4e8b-c2db-77edae5e9b87"
      },
      "source": [
        "df2.shape"
      ],
      "execution_count": null,
      "outputs": [
        {
          "output_type": "error",
          "ename": "NameError",
          "evalue": "ignored",
          "traceback": [
            "\u001b[0;31m---------------------------------------------------------------------------\u001b[0m",
            "\u001b[0;31mNameError\u001b[0m                                 Traceback (most recent call last)",
            "\u001b[0;32m<ipython-input-29-4790437ebfac>\u001b[0m in \u001b[0;36m<module>\u001b[0;34m()\u001b[0m\n\u001b[0;32m----> 1\u001b[0;31m \u001b[0mdf2\u001b[0m\u001b[0;34m.\u001b[0m\u001b[0mshape\u001b[0m\u001b[0;34m\u001b[0m\u001b[0;34m\u001b[0m\u001b[0m\n\u001b[0m",
            "\u001b[0;31mNameError\u001b[0m: name 'df2' is not defined"
          ]
        }
      ]
    },
    {
      "cell_type": "code",
      "metadata": {
        "colab": {
          "base_uri": "https://localhost:8080/"
        },
        "id": "OrqpS9engqEV",
        "outputId": "b60c944a-c845-4792-d188-27fd9e76d70e"
      },
      "source": [
        "X['a1'].shape"
      ],
      "execution_count": null,
      "outputs": [
        {
          "output_type": "execute_result",
          "data": {
            "text/plain": [
              "(100062,)"
            ]
          },
          "metadata": {
            "tags": []
          },
          "execution_count": 30
        }
      ]
    },
    {
      "cell_type": "code",
      "metadata": {
        "id": "JsfvS30vgtlN"
      },
      "source": [
        ""
      ],
      "execution_count": null,
      "outputs": []
    },
    {
      "cell_type": "code",
      "metadata": {
        "id": "iX3gF1RaBg0z"
      },
      "source": [
        "from sklearn.model_selection import train_test_split\n",
        "# split the data\n",
        "X_train, X_test, y_train, y_test = train_test_split(X,y,test_size=0.2, random_state = 42)\n",
        "\n",
        "# df2_train, df2_test, y_train, y_test = train_test_split(df2,y,test_size=0.2, random_state = 42)"
      ],
      "execution_count": null,
      "outputs": []
    },
    {
      "cell_type": "code",
      "metadata": {
        "id": "TSZdD5x8Bjy0"
      },
      "source": [
        "from sklearn.ensemble import RandomForestClassifier\n",
        "from sklearn import preprocessing "
      ],
      "execution_count": null,
      "outputs": []
    },
    {
      "cell_type": "code",
      "metadata": {
        "id": "77-qgDakKcId"
      },
      "source": [
        "# import tensorflow as tf\n",
        "# from tensorflow import keras\n",
        "# import matplotlib.pyplot as plt\n",
        "# %matplotlib inline\n",
        "# import numpy as np"
      ],
      "execution_count": null,
      "outputs": []
    },
    {
      "cell_type": "code",
      "metadata": {
        "colab": {
          "base_uri": "https://localhost:8080/"
        },
        "id": "hzp0q8F6KzgY",
        "outputId": "35ef8651-3e01-4f40-e760-1858fcfbd7fd"
      },
      "source": [
        "X_train.shape"
      ],
      "execution_count": null,
      "outputs": [
        {
          "output_type": "execute_result",
          "data": {
            "text/plain": [
              "(80049, 42)"
            ]
          },
          "metadata": {
            "tags": []
          },
          "execution_count": 38
        }
      ]
    },
    {
      "cell_type": "code",
      "metadata": {
        "id": "zMvfxIOAK5-0"
      },
      "source": [
        ""
      ],
      "execution_count": null,
      "outputs": []
    },
    {
      "cell_type": "code",
      "metadata": {
        "id": "tSBCDRZURaqL"
      },
      "source": [
        "from sklearn import svm"
      ],
      "execution_count": null,
      "outputs": []
    },
    {
      "cell_type": "code",
      "metadata": {
        "id": "jX3cukmPOoBl"
      },
      "source": [
        "\n",
        "# model.evaluate(X_test, y_test)"
      ],
      "execution_count": null,
      "outputs": []
    },
    {
      "cell_type": "code",
      "metadata": {
        "id": "PGqkZIepOtFg"
      },
      "source": [
        "# # import mean squared error from sklearn.metric\n",
        "# from sklearn.metrics import f1_score\n",
        "# yp = model.predict(X_test)\n",
        "# print('Weighted F1 Score is: ', f1_score(y_test, yp, average='weighted'))\n",
        "\n",
        "# # y_val is the original target value of the validation set (X_val)\n",
        "# # pred is the predicted target value of the validation set"
      ],
      "execution_count": null,
      "outputs": []
    },
    {
      "cell_type": "code",
      "metadata": {
        "id": "A2gy2hcKRt20"
      },
      "source": [
        "import lightgbm\n",
        "from sklearn.svm import SVC "
      ],
      "execution_count": null,
      "outputs": []
    },
    {
      "cell_type": "code",
      "metadata": {
        "id": "ajcVo_BMBpEk"
      },
      "source": [
        "RF = RandomForestClassifier(n_estimators=30)\n",
        "# RF = lgm=lightgbm.LGBMClassifier()\n"
      ],
      "execution_count": null,
      "outputs": []
    },
    {
      "cell_type": "code",
      "metadata": {
        "colab": {
          "base_uri": "https://localhost:8080/"
        },
        "id": "t-3zFYT3BqgG",
        "outputId": "fd65ba79-a422-45b0-c117-cc02e8fc81af"
      },
      "source": [
        "RF.fit(X_train,y_train)"
      ],
      "execution_count": null,
      "outputs": [
        {
          "output_type": "execute_result",
          "data": {
            "text/plain": [
              "RandomForestClassifier(bootstrap=True, ccp_alpha=0.0, class_weight=None,\n",
              "                       criterion='gini', max_depth=None, max_features='auto',\n",
              "                       max_leaf_nodes=None, max_samples=None,\n",
              "                       min_impurity_decrease=0.0, min_impurity_split=None,\n",
              "                       min_samples_leaf=1, min_samples_split=2,\n",
              "                       min_weight_fraction_leaf=0.0, n_estimators=30,\n",
              "                       n_jobs=None, oob_score=False, random_state=None,\n",
              "                       verbose=0, warm_start=False)"
            ]
          },
          "metadata": {
            "tags": []
          },
          "execution_count": 44
        }
      ]
    },
    {
      "cell_type": "code",
      "metadata": {
        "id": "BqWwjqAyBs_p"
      },
      "source": [
        "# Predicting that on X_test\n",
        "pred = RF.predict(X_test)"
      ],
      "execution_count": null,
      "outputs": []
    },
    {
      "cell_type": "code",
      "metadata": {
        "colab": {
          "base_uri": "https://localhost:8080/"
        },
        "id": "WdSMqygqB0KB",
        "outputId": "d1fd7197-8173-4e24-81a1-87787e9b69ec"
      },
      "source": [
        "\n",
        "pred[:20]"
      ],
      "execution_count": null,
      "outputs": [
        {
          "output_type": "execute_result",
          "data": {
            "text/plain": [
              "array([2, 2, 0, 2, 2, 2, 0, 2, 0, 0, 0, 1, 2, 2, 1, 0, 2, 2, 2, 0])"
            ]
          },
          "metadata": {
            "tags": []
          },
          "execution_count": 46
        }
      ]
    },
    {
      "cell_type": "code",
      "metadata": {
        "id": "rWU_kfW4B6Fh"
      },
      "source": [
        "# import mean squared error from sklearn.metric\n",
        "from sklearn.metrics import f1_score,accuracy_score"
      ],
      "execution_count": null,
      "outputs": []
    },
    {
      "cell_type": "code",
      "metadata": {
        "colab": {
          "base_uri": "https://localhost:8080/"
        },
        "id": "S0evAxciB8rx",
        "outputId": "d95eb0be-e7a0-4635-a3b6-0af4ea259807"
      },
      "source": [
        "print('Weighted F1 Score is: ', f1_score(y_test, pred, average='weighted'))\n",
        "\n",
        "# y_val is the original target value of the validation set (X_val)\n",
        "# pred is the predicted target value of the validation set"
      ],
      "execution_count": null,
      "outputs": [
        {
          "output_type": "stream",
          "text": [
            "Weighted F1 Score is:  0.915471900100844\n"
          ],
          "name": "stdout"
        }
      ]
    },
    {
      "cell_type": "code",
      "metadata": {
        "colab": {
          "base_uri": "https://localhost:8080/",
          "height": 265
        },
        "id": "_oyrV8FdX_1s",
        "outputId": "57c62184-5ddf-46cd-8a9f-017a6637cc07"
      },
      "source": [
        "from sklearn.ensemble import RandomForestClassifier\n",
        "import matplotlib.pyplot as plt\n",
        "\n",
        "# Create a random forest classifier\n",
        "rf_clf = RandomForestClassifier(n_estimators=50, random_state=1, n_jobs=-1)\n",
        "\n",
        "# n_estimators = The number of trees in the forest.\n",
        "# n_jobs = -1 : Use all processors for training\n",
        "\n",
        "# Train the classifier\n",
        "rf_clf.fit(X_train, y_train)\n",
        "\n",
        "#plot graph of feature importances for better visualization\n",
        "feat_importances = pd.Series(rf_clf.feature_importances_, index=X_train.columns)\n",
        "feat_importances.nlargest(10).plot(kind='barh')\n",
        "plt.show()"
      ],
      "execution_count": null,
      "outputs": [
        {
          "output_type": "display_data",
          "data": {
            "image/png": "[encoded data removed]",
            "text/plain": [
              "<Figure size 432x288 with 1 Axes>"
            ]
          },
          "metadata": {
            "tags": [],
            "needs_background": "light"
          }
        }
      ]
    },
    {
      "cell_type": "code",
      "metadata": {
        "id": "qXWTRDUyZTUy"
      },
      "source": [
        ""
      ],
      "execution_count": null,
      "outputs": []
    },
    {
      "cell_type": "code",
      "metadata": {
        "id": "j-mXlG0NaJmE"
      },
      "source": [
        ""
      ],
      "execution_count": null,
      "outputs": []
    },
    {
      "cell_type": "code",
      "metadata": {
        "id": "EGHpNhEQaOCn"
      },
      "source": [
        ""
      ],
      "execution_count": null,
      "outputs": []
    },
    {
      "cell_type": "code",
      "metadata": {
        "id": "nC3Qm0ExZYlu"
      },
      "source": [
        ""
      ],
      "execution_count": null,
      "outputs": []
    },
    {
      "cell_type": "code",
      "metadata": {
        "id": "-TVeANJiZfrI"
      },
      "source": [
        ""
      ],
      "execution_count": null,
      "outputs": []
    },
    {
      "cell_type": "code",
      "metadata": {
        "id": "YOroBK06B-rI"
      },
      "source": [
        "test_data = pd.read_csv('https://raw.githubusercontent.com/dphi-official/Datasets/master/connect-4/test_set_label.csv')"
      ],
      "execution_count": null,
      "outputs": []
    },
    {
      "cell_type": "code",
      "metadata": {
        "colab": {
          "base_uri": "https://localhost:8080/",
          "height": 222
        },
        "id": "W8z0dhqZCDY0",
        "outputId": "28765ff7-043e-4777-b009-45e3051bb733"
      },
      "source": [
        "test_data.head()"
      ],
      "execution_count": null,
      "outputs": [
        {
          "output_type": "execute_result",
          "data": {
            "text/html": [
              "<div>\n",
              "<style scoped>\n",
              "    .dataframe tbody tr th:only-of-type {\n",
              "        vertical-align: middle;\n",
              "    }\n",
              "\n",
              "    .dataframe tbody tr th {\n",
              "        vertical-align: top;\n",
              "    }\n",
              "\n",
              "    .dataframe thead th {\n",
              "        text-align: right;\n",
              "    }\n",
              "</style>\n",
              "<table border=\"1\" class=\"dataframe\">\n",
              "  <thead>\n",
              "    <tr style=\"text-align: right;\">\n",
              "      <th></th>\n",
              "      <th>a1</th>\n",
              "      <th>a2</th>\n",
              "      <th>a3</th>\n",
              "      <th>a4</th>\n",
              "      <th>a5</th>\n",
              "      <th>a6</th>\n",
              "      <th>b1</th>\n",
              "      <th>b2</th>\n",
              "      <th>b3</th>\n",
              "      <th>b4</th>\n",
              "      <th>b5</th>\n",
              "      <th>b6</th>\n",
              "      <th>c1</th>\n",
              "      <th>c2</th>\n",
              "      <th>c3</th>\n",
              "      <th>c4</th>\n",
              "      <th>c5</th>\n",
              "      <th>c6</th>\n",
              "      <th>d1</th>\n",
              "      <th>d2</th>\n",
              "      <th>d3</th>\n",
              "      <th>d4</th>\n",
              "      <th>d5</th>\n",
              "      <th>d6</th>\n",
              "      <th>e1</th>\n",
              "      <th>e2</th>\n",
              "      <th>e3</th>\n",
              "      <th>e4</th>\n",
              "      <th>e5</th>\n",
              "      <th>e6</th>\n",
              "      <th>f1</th>\n",
              "      <th>f2</th>\n",
              "      <th>f3</th>\n",
              "      <th>f4</th>\n",
              "      <th>f5</th>\n",
              "      <th>f6</th>\n",
              "      <th>g1</th>\n",
              "      <th>g2</th>\n",
              "      <th>g3</th>\n",
              "      <th>g4</th>\n",
              "      <th>g5</th>\n",
              "      <th>g6</th>\n",
              "    </tr>\n",
              "  </thead>\n",
              "  <tbody>\n",
              "    <tr>\n",
              "      <th>0</th>\n",
              "      <td>b</td>\n",
              "      <td>b</td>\n",
              "      <td>b</td>\n",
              "      <td>b</td>\n",
              "      <td>b</td>\n",
              "      <td>b</td>\n",
              "      <td>b</td>\n",
              "      <td>b</td>\n",
              "      <td>b</td>\n",
              "      <td>b</td>\n",
              "      <td>b</td>\n",
              "      <td>b</td>\n",
              "      <td>x</td>\n",
              "      <td>o</td>\n",
              "      <td>b</td>\n",
              "      <td>b</td>\n",
              "      <td>b</td>\n",
              "      <td>b</td>\n",
              "      <td>o</td>\n",
              "      <td>b</td>\n",
              "      <td>b</td>\n",
              "      <td>b</td>\n",
              "      <td>b</td>\n",
              "      <td>b</td>\n",
              "      <td>b</td>\n",
              "      <td>b</td>\n",
              "      <td>b</td>\n",
              "      <td>b</td>\n",
              "      <td>b</td>\n",
              "      <td>b</td>\n",
              "      <td>x</td>\n",
              "      <td>o</td>\n",
              "      <td>b</td>\n",
              "      <td>b</td>\n",
              "      <td>b</td>\n",
              "      <td>b</td>\n",
              "      <td>x</td>\n",
              "      <td>x</td>\n",
              "      <td>o</td>\n",
              "      <td>b</td>\n",
              "      <td>b</td>\n",
              "      <td>b</td>\n",
              "    </tr>\n",
              "    <tr>\n",
              "      <th>1</th>\n",
              "      <td>b</td>\n",
              "      <td>b</td>\n",
              "      <td>b</td>\n",
              "      <td>b</td>\n",
              "      <td>b</td>\n",
              "      <td>b</td>\n",
              "      <td>x</td>\n",
              "      <td>o</td>\n",
              "      <td>o</td>\n",
              "      <td>o</td>\n",
              "      <td>x</td>\n",
              "      <td>b</td>\n",
              "      <td>x</td>\n",
              "      <td>b</td>\n",
              "      <td>b</td>\n",
              "      <td>b</td>\n",
              "      <td>b</td>\n",
              "      <td>b</td>\n",
              "      <td>b</td>\n",
              "      <td>b</td>\n",
              "      <td>b</td>\n",
              "      <td>b</td>\n",
              "      <td>b</td>\n",
              "      <td>b</td>\n",
              "      <td>b</td>\n",
              "      <td>b</td>\n",
              "      <td>b</td>\n",
              "      <td>b</td>\n",
              "      <td>b</td>\n",
              "      <td>b</td>\n",
              "      <td>o</td>\n",
              "      <td>b</td>\n",
              "      <td>b</td>\n",
              "      <td>b</td>\n",
              "      <td>b</td>\n",
              "      <td>b</td>\n",
              "      <td>x</td>\n",
              "      <td>b</td>\n",
              "      <td>b</td>\n",
              "      <td>b</td>\n",
              "      <td>b</td>\n",
              "      <td>b</td>\n",
              "    </tr>\n",
              "    <tr>\n",
              "      <th>2</th>\n",
              "      <td>x</td>\n",
              "      <td>x</td>\n",
              "      <td>o</td>\n",
              "      <td>b</td>\n",
              "      <td>b</td>\n",
              "      <td>b</td>\n",
              "      <td>x</td>\n",
              "      <td>o</td>\n",
              "      <td>b</td>\n",
              "      <td>b</td>\n",
              "      <td>b</td>\n",
              "      <td>b</td>\n",
              "      <td>o</td>\n",
              "      <td>x</td>\n",
              "      <td>b</td>\n",
              "      <td>b</td>\n",
              "      <td>b</td>\n",
              "      <td>b</td>\n",
              "      <td>b</td>\n",
              "      <td>b</td>\n",
              "      <td>b</td>\n",
              "      <td>b</td>\n",
              "      <td>b</td>\n",
              "      <td>b</td>\n",
              "      <td>b</td>\n",
              "      <td>b</td>\n",
              "      <td>b</td>\n",
              "      <td>b</td>\n",
              "      <td>b</td>\n",
              "      <td>b</td>\n",
              "      <td>b</td>\n",
              "      <td>b</td>\n",
              "      <td>b</td>\n",
              "      <td>b</td>\n",
              "      <td>b</td>\n",
              "      <td>b</td>\n",
              "      <td>o</td>\n",
              "      <td>b</td>\n",
              "      <td>b</td>\n",
              "      <td>b</td>\n",
              "      <td>b</td>\n",
              "      <td>b</td>\n",
              "    </tr>\n",
              "    <tr>\n",
              "      <th>3</th>\n",
              "      <td>b</td>\n",
              "      <td>b</td>\n",
              "      <td>b</td>\n",
              "      <td>b</td>\n",
              "      <td>b</td>\n",
              "      <td>b</td>\n",
              "      <td>x</td>\n",
              "      <td>o</td>\n",
              "      <td>o</td>\n",
              "      <td>b</td>\n",
              "      <td>b</td>\n",
              "      <td>b</td>\n",
              "      <td>x</td>\n",
              "      <td>o</td>\n",
              "      <td>b</td>\n",
              "      <td>b</td>\n",
              "      <td>b</td>\n",
              "      <td>b</td>\n",
              "      <td>b</td>\n",
              "      <td>b</td>\n",
              "      <td>b</td>\n",
              "      <td>b</td>\n",
              "      <td>b</td>\n",
              "      <td>b</td>\n",
              "      <td>b</td>\n",
              "      <td>b</td>\n",
              "      <td>b</td>\n",
              "      <td>b</td>\n",
              "      <td>b</td>\n",
              "      <td>b</td>\n",
              "      <td>b</td>\n",
              "      <td>b</td>\n",
              "      <td>b</td>\n",
              "      <td>b</td>\n",
              "      <td>b</td>\n",
              "      <td>b</td>\n",
              "      <td>o</td>\n",
              "      <td>x</td>\n",
              "      <td>x</td>\n",
              "      <td>b</td>\n",
              "      <td>b</td>\n",
              "      <td>b</td>\n",
              "    </tr>\n",
              "    <tr>\n",
              "      <th>4</th>\n",
              "      <td>x</td>\n",
              "      <td>o</td>\n",
              "      <td>b</td>\n",
              "      <td>b</td>\n",
              "      <td>b</td>\n",
              "      <td>b</td>\n",
              "      <td>b</td>\n",
              "      <td>b</td>\n",
              "      <td>b</td>\n",
              "      <td>b</td>\n",
              "      <td>b</td>\n",
              "      <td>b</td>\n",
              "      <td>o</td>\n",
              "      <td>b</td>\n",
              "      <td>b</td>\n",
              "      <td>b</td>\n",
              "      <td>b</td>\n",
              "      <td>b</td>\n",
              "      <td>o</td>\n",
              "      <td>x</td>\n",
              "      <td>b</td>\n",
              "      <td>b</td>\n",
              "      <td>b</td>\n",
              "      <td>b</td>\n",
              "      <td>b</td>\n",
              "      <td>b</td>\n",
              "      <td>b</td>\n",
              "      <td>b</td>\n",
              "      <td>b</td>\n",
              "      <td>b</td>\n",
              "      <td>b</td>\n",
              "      <td>b</td>\n",
              "      <td>b</td>\n",
              "      <td>b</td>\n",
              "      <td>b</td>\n",
              "      <td>b</td>\n",
              "      <td>x</td>\n",
              "      <td>x</td>\n",
              "      <td>o</td>\n",
              "      <td>b</td>\n",
              "      <td>b</td>\n",
              "      <td>b</td>\n",
              "    </tr>\n",
              "  </tbody>\n",
              "</table>\n",
              "</div>"
            ],
            "text/plain": [
              "  a1 a2 a3 a4 a5 a6 b1 b2 b3 b4 b5 b6 c1  ... e6 f1 f2 f3 f4 f5 f6 g1 g2 g3 g4 g5 g6\n",
              "0  b  b  b  b  b  b  b  b  b  b  b  b  x  ...  b  x  o  b  b  b  b  x  x  o  b  b  b\n",
              "1  b  b  b  b  b  b  x  o  o  o  x  b  x  ...  b  o  b  b  b  b  b  x  b  b  b  b  b\n",
              "2  x  x  o  b  b  b  x  o  b  b  b  b  o  ...  b  b  b  b  b  b  b  o  b  b  b  b  b\n",
              "3  b  b  b  b  b  b  x  o  o  b  b  b  x  ...  b  b  b  b  b  b  b  o  x  x  b  b  b\n",
              "4  x  o  b  b  b  b  b  b  b  b  b  b  o  ...  b  b  b  b  b  b  b  x  x  o  b  b  b\n",
              "\n",
              "[5 rows x 42 columns]"
            ]
          },
          "metadata": {
            "tags": []
          },
          "execution_count": 51
        }
      ]
    },
    {
      "cell_type": "code",
      "metadata": {
        "id": "5Q6aEk7MCEbd"
      },
      "source": [
        "def print_unique_col_values(test_data):\n",
        "  for column in test_data:\n",
        "    if test_data[column].dtypes=='object':     \n",
        "      le = LabelEncoder()\n",
        "      \n",
        "      test_data[column] = le.fit_transform(test_data[column])\n",
        "    \n",
        "      print(f'{column}: {test_data[column].unique()}')"
      ],
      "execution_count": null,
      "outputs": []
    },
    {
      "cell_type": "code",
      "metadata": {
        "colab": {
          "base_uri": "https://localhost:8080/"
        },
        "id": "HJTWu4rwCRGa",
        "outputId": "dc68f62d-fe38-4f39-c693-fb1bb5d978c8"
      },
      "source": [
        "print_unique_col_values(test_data)"
      ],
      "execution_count": null,
      "outputs": [
        {
          "output_type": "stream",
          "text": [
            "a1: [0 2 1]\n",
            "a2: [0 2 1]\n",
            "a3: [0 1 2]\n",
            "a4: [0 1 2]\n",
            "a5: [0 1 2]\n",
            "a6: [0 1 2]\n",
            "b1: [0 2 1]\n",
            "b2: [0 1 2]\n",
            "b3: [0 1 2]\n",
            "b4: [0 1 2]\n",
            "b5: [0 2 1]\n",
            "b6: [0 2 1]\n",
            "c1: [2 1 0]\n",
            "c2: [1 0 2]\n",
            "c3: [0 2 1]\n",
            "c4: [0 2 1]\n",
            "c5: [0 2 1]\n",
            "c6: [0 1 2]\n",
            "d1: [1 0 2]\n",
            "d2: [0 2 1]\n",
            "d3: [0 2 1]\n",
            "d4: [0 2 1]\n",
            "d5: [0 1 2]\n",
            "d6: [0 2 1]\n",
            "e1: [0 2 1]\n",
            "e2: [0 1 2]\n",
            "e3: [0 1 2]\n",
            "e4: [0 2 1]\n",
            "e5: [0 1 2]\n",
            "e6: [0 1 2]\n",
            "f1: [2 1 0]\n",
            "f2: [1 0 2]\n",
            "f3: [0 1 2]\n",
            "f4: [0 1 2]\n",
            "f5: [0 1 2]\n",
            "f6: [0 2 1]\n",
            "g1: [2 1 0]\n",
            "g2: [2 0 1]\n",
            "g3: [1 0 2]\n",
            "g4: [0 2 1]\n",
            "g5: [0 1 2]\n",
            "g6: [0 1 2]\n"
          ],
          "name": "stdout"
        }
      ]
    },
    {
      "cell_type": "code",
      "metadata": {
        "id": "hY75inQ7CUah"
      },
      "source": [
        "cols_to_scale = ['a1','a2','a3','a4','a5','a6','b1','b2','b3','b4','b5','b6','c1','c2','c3','c4','c5','c6','d1','d2','d3','d4','d5','d6','e1','e2',\n",
        "'e3','e4','e5','e6','f1','f2','f3','f4','f5','f6','g1','g2','g3','g4','g5','g6']\n",
        "from sklearn.preprocessing import MinMaxScaler\n",
        "scaler = MinMaxScaler()\n",
        "test_data[cols_to_scale] = scaler.fit_transform(test_data[cols_to_scale])"
      ],
      "execution_count": null,
      "outputs": []
    },
    {
      "cell_type": "code",
      "metadata": {
        "colab": {
          "base_uri": "https://localhost:8080/",
          "height": 222
        },
        "id": "gP10IIBgCbLe",
        "outputId": "47d6df60-a006-4e2f-865e-2a0fcd257c0a"
      },
      "source": [
        "test_data.head()"
      ],
      "execution_count": null,
      "outputs": [
        {
          "output_type": "execute_result",
          "data": {
            "text/html": [
              "<div>\n",
              "<style scoped>\n",
              "    .dataframe tbody tr th:only-of-type {\n",
              "        vertical-align: middle;\n",
              "    }\n",
              "\n",
              "    .dataframe tbody tr th {\n",
              "        vertical-align: top;\n",
              "    }\n",
              "\n",
              "    .dataframe thead th {\n",
              "        text-align: right;\n",
              "    }\n",
              "</style>\n",
              "<table border=\"1\" class=\"dataframe\">\n",
              "  <thead>\n",
              "    <tr style=\"text-align: right;\">\n",
              "      <th></th>\n",
              "      <th>a1</th>\n",
              "      <th>a2</th>\n",
              "      <th>a3</th>\n",
              "      <th>a4</th>\n",
              "      <th>a5</th>\n",
              "      <th>a6</th>\n",
              "      <th>b1</th>\n",
              "      <th>b2</th>\n",
              "      <th>b3</th>\n",
              "      <th>b4</th>\n",
              "      <th>b5</th>\n",
              "      <th>b6</th>\n",
              "      <th>c1</th>\n",
              "      <th>c2</th>\n",
              "      <th>c3</th>\n",
              "      <th>c4</th>\n",
              "      <th>c5</th>\n",
              "      <th>c6</th>\n",
              "      <th>d1</th>\n",
              "      <th>d2</th>\n",
              "      <th>d3</th>\n",
              "      <th>d4</th>\n",
              "      <th>d5</th>\n",
              "      <th>d6</th>\n",
              "      <th>e1</th>\n",
              "      <th>e2</th>\n",
              "      <th>e3</th>\n",
              "      <th>e4</th>\n",
              "      <th>e5</th>\n",
              "      <th>e6</th>\n",
              "      <th>f1</th>\n",
              "      <th>f2</th>\n",
              "      <th>f3</th>\n",
              "      <th>f4</th>\n",
              "      <th>f5</th>\n",
              "      <th>f6</th>\n",
              "      <th>g1</th>\n",
              "      <th>g2</th>\n",
              "      <th>g3</th>\n",
              "      <th>g4</th>\n",
              "      <th>g5</th>\n",
              "      <th>g6</th>\n",
              "    </tr>\n",
              "  </thead>\n",
              "  <tbody>\n",
              "    <tr>\n",
              "      <th>0</th>\n",
              "      <td>0.0</td>\n",
              "      <td>0.0</td>\n",
              "      <td>0.0</td>\n",
              "      <td>0.0</td>\n",
              "      <td>0.0</td>\n",
              "      <td>0.0</td>\n",
              "      <td>0.0</td>\n",
              "      <td>0.0</td>\n",
              "      <td>0.0</td>\n",
              "      <td>0.0</td>\n",
              "      <td>0.0</td>\n",
              "      <td>0.0</td>\n",
              "      <td>1.0</td>\n",
              "      <td>0.5</td>\n",
              "      <td>0.0</td>\n",
              "      <td>0.0</td>\n",
              "      <td>0.0</td>\n",
              "      <td>0.0</td>\n",
              "      <td>0.5</td>\n",
              "      <td>0.0</td>\n",
              "      <td>0.0</td>\n",
              "      <td>0.0</td>\n",
              "      <td>0.0</td>\n",
              "      <td>0.0</td>\n",
              "      <td>0.0</td>\n",
              "      <td>0.0</td>\n",
              "      <td>0.0</td>\n",
              "      <td>0.0</td>\n",
              "      <td>0.0</td>\n",
              "      <td>0.0</td>\n",
              "      <td>1.0</td>\n",
              "      <td>0.5</td>\n",
              "      <td>0.0</td>\n",
              "      <td>0.0</td>\n",
              "      <td>0.0</td>\n",
              "      <td>0.0</td>\n",
              "      <td>1.0</td>\n",
              "      <td>1.0</td>\n",
              "      <td>0.5</td>\n",
              "      <td>0.0</td>\n",
              "      <td>0.0</td>\n",
              "      <td>0.0</td>\n",
              "    </tr>\n",
              "    <tr>\n",
              "      <th>1</th>\n",
              "      <td>0.0</td>\n",
              "      <td>0.0</td>\n",
              "      <td>0.0</td>\n",
              "      <td>0.0</td>\n",
              "      <td>0.0</td>\n",
              "      <td>0.0</td>\n",
              "      <td>1.0</td>\n",
              "      <td>0.5</td>\n",
              "      <td>0.5</td>\n",
              "      <td>0.5</td>\n",
              "      <td>1.0</td>\n",
              "      <td>0.0</td>\n",
              "      <td>1.0</td>\n",
              "      <td>0.0</td>\n",
              "      <td>0.0</td>\n",
              "      <td>0.0</td>\n",
              "      <td>0.0</td>\n",
              "      <td>0.0</td>\n",
              "      <td>0.0</td>\n",
              "      <td>0.0</td>\n",
              "      <td>0.0</td>\n",
              "      <td>0.0</td>\n",
              "      <td>0.0</td>\n",
              "      <td>0.0</td>\n",
              "      <td>0.0</td>\n",
              "      <td>0.0</td>\n",
              "      <td>0.0</td>\n",
              "      <td>0.0</td>\n",
              "      <td>0.0</td>\n",
              "      <td>0.0</td>\n",
              "      <td>0.5</td>\n",
              "      <td>0.0</td>\n",
              "      <td>0.0</td>\n",
              "      <td>0.0</td>\n",
              "      <td>0.0</td>\n",
              "      <td>0.0</td>\n",
              "      <td>1.0</td>\n",
              "      <td>0.0</td>\n",
              "      <td>0.0</td>\n",
              "      <td>0.0</td>\n",
              "      <td>0.0</td>\n",
              "      <td>0.0</td>\n",
              "    </tr>\n",
              "    <tr>\n",
              "      <th>2</th>\n",
              "      <td>1.0</td>\n",
              "      <td>1.0</td>\n",
              "      <td>0.5</td>\n",
              "      <td>0.0</td>\n",
              "      <td>0.0</td>\n",
              "      <td>0.0</td>\n",
              "      <td>1.0</td>\n",
              "      <td>0.5</td>\n",
              "      <td>0.0</td>\n",
              "      <td>0.0</td>\n",
              "      <td>0.0</td>\n",
              "      <td>0.0</td>\n",
              "      <td>0.5</td>\n",
              "      <td>1.0</td>\n",
              "      <td>0.0</td>\n",
              "      <td>0.0</td>\n",
              "      <td>0.0</td>\n",
              "      <td>0.0</td>\n",
              "      <td>0.0</td>\n",
              "      <td>0.0</td>\n",
              "      <td>0.0</td>\n",
              "      <td>0.0</td>\n",
              "      <td>0.0</td>\n",
              "      <td>0.0</td>\n",
              "      <td>0.0</td>\n",
              "      <td>0.0</td>\n",
              "      <td>0.0</td>\n",
              "      <td>0.0</td>\n",
              "      <td>0.0</td>\n",
              "      <td>0.0</td>\n",
              "      <td>0.0</td>\n",
              "      <td>0.0</td>\n",
              "      <td>0.0</td>\n",
              "      <td>0.0</td>\n",
              "      <td>0.0</td>\n",
              "      <td>0.0</td>\n",
              "      <td>0.5</td>\n",
              "      <td>0.0</td>\n",
              "      <td>0.0</td>\n",
              "      <td>0.0</td>\n",
              "      <td>0.0</td>\n",
              "      <td>0.0</td>\n",
              "    </tr>\n",
              "    <tr>\n",
              "      <th>3</th>\n",
              "      <td>0.0</td>\n",
              "      <td>0.0</td>\n",
              "      <td>0.0</td>\n",
              "      <td>0.0</td>\n",
              "      <td>0.0</td>\n",
              "      <td>0.0</td>\n",
              "      <td>1.0</td>\n",
              "      <td>0.5</td>\n",
              "      <td>0.5</td>\n",
              "      <td>0.0</td>\n",
              "      <td>0.0</td>\n",
              "      <td>0.0</td>\n",
              "      <td>1.0</td>\n",
              "      <td>0.5</td>\n",
              "      <td>0.0</td>\n",
              "      <td>0.0</td>\n",
              "      <td>0.0</td>\n",
              "      <td>0.0</td>\n",
              "      <td>0.0</td>\n",
              "      <td>0.0</td>\n",
              "      <td>0.0</td>\n",
              "      <td>0.0</td>\n",
              "      <td>0.0</td>\n",
              "      <td>0.0</td>\n",
              "      <td>0.0</td>\n",
              "      <td>0.0</td>\n",
              "      <td>0.0</td>\n",
              "      <td>0.0</td>\n",
              "      <td>0.0</td>\n",
              "      <td>0.0</td>\n",
              "      <td>0.0</td>\n",
              "      <td>0.0</td>\n",
              "      <td>0.0</td>\n",
              "      <td>0.0</td>\n",
              "      <td>0.0</td>\n",
              "      <td>0.0</td>\n",
              "      <td>0.5</td>\n",
              "      <td>1.0</td>\n",
              "      <td>1.0</td>\n",
              "      <td>0.0</td>\n",
              "      <td>0.0</td>\n",
              "      <td>0.0</td>\n",
              "    </tr>\n",
              "    <tr>\n",
              "      <th>4</th>\n",
              "      <td>1.0</td>\n",
              "      <td>0.5</td>\n",
              "      <td>0.0</td>\n",
              "      <td>0.0</td>\n",
              "      <td>0.0</td>\n",
              "      <td>0.0</td>\n",
              "      <td>0.0</td>\n",
              "      <td>0.0</td>\n",
              "      <td>0.0</td>\n",
              "      <td>0.0</td>\n",
              "      <td>0.0</td>\n",
              "      <td>0.0</td>\n",
              "      <td>0.5</td>\n",
              "      <td>0.0</td>\n",
              "      <td>0.0</td>\n",
              "      <td>0.0</td>\n",
              "      <td>0.0</td>\n",
              "      <td>0.0</td>\n",
              "      <td>0.5</td>\n",
              "      <td>1.0</td>\n",
              "      <td>0.0</td>\n",
              "      <td>0.0</td>\n",
              "      <td>0.0</td>\n",
              "      <td>0.0</td>\n",
              "      <td>0.0</td>\n",
              "      <td>0.0</td>\n",
              "      <td>0.0</td>\n",
              "      <td>0.0</td>\n",
              "      <td>0.0</td>\n",
              "      <td>0.0</td>\n",
              "      <td>0.0</td>\n",
              "      <td>0.0</td>\n",
              "      <td>0.0</td>\n",
              "      <td>0.0</td>\n",
              "      <td>0.0</td>\n",
              "      <td>0.0</td>\n",
              "      <td>1.0</td>\n",
              "      <td>1.0</td>\n",
              "      <td>0.5</td>\n",
              "      <td>0.0</td>\n",
              "      <td>0.0</td>\n",
              "      <td>0.0</td>\n",
              "    </tr>\n",
              "  </tbody>\n",
              "</table>\n",
              "</div>"
            ],
            "text/plain": [
              "    a1   a2   a3   a4   a5   a6   b1  ...   f6   g1   g2   g3   g4   g5   g6\n",
              "0  0.0  0.0  0.0  0.0  0.0  0.0  0.0  ...  0.0  1.0  1.0  0.5  0.0  0.0  0.0\n",
              "1  0.0  0.0  0.0  0.0  0.0  0.0  1.0  ...  0.0  1.0  0.0  0.0  0.0  0.0  0.0\n",
              "2  1.0  1.0  0.5  0.0  0.0  0.0  1.0  ...  0.0  0.5  0.0  0.0  0.0  0.0  0.0\n",
              "3  0.0  0.0  0.0  0.0  0.0  0.0  1.0  ...  0.0  0.5  1.0  1.0  0.0  0.0  0.0\n",
              "4  1.0  0.5  0.0  0.0  0.0  0.0  0.0  ...  0.0  1.0  1.0  0.5  0.0  0.0  0.0\n",
              "\n",
              "[5 rows x 42 columns]"
            ]
          },
          "metadata": {
            "tags": []
          },
          "execution_count": 55
        }
      ]
    },
    {
      "cell_type": "code",
      "metadata": {
        "id": "sV6WCaloCc9d"
      },
      "source": [
        "target = RF.predict(test_data)\n"
      ],
      "execution_count": null,
      "outputs": []
    },
    {
      "cell_type": "code",
      "metadata": {
        "colab": {
          "base_uri": "https://localhost:8080/"
        },
        "id": "l18taiYXCiLu",
        "outputId": "a1419b6c-3544-4e70-e8b1-62d6bca74b0c"
      },
      "source": [
        "target"
      ],
      "execution_count": null,
      "outputs": [
        {
          "output_type": "execute_result",
          "data": {
            "text/plain": [
              "array([1, 1, 2, ..., 2, 2, 2])"
            ]
          },
          "metadata": {
            "tags": []
          },
          "execution_count": 57
        }
      ]
    },
    {
      "cell_type": "code",
      "metadata": {
        "id": "IDiCIY14Cnrs"
      },
      "source": [
        "target = le.inverse_transform(target)"
      ],
      "execution_count": null,
      "outputs": []
    },
    {
      "cell_type": "code",
      "metadata": {
        "colab": {
          "base_uri": "https://localhost:8080/"
        },
        "id": "nkivYj4WC92c",
        "outputId": "4f8f5a03-4074-4ea2-93d9-db3d4e38b39f"
      },
      "source": [
        "target"
      ],
      "execution_count": null,
      "outputs": [
        {
          "output_type": "execute_result",
          "data": {
            "text/plain": [
              "array(['loss', 'loss', 'win', ..., 'win', 'win', 'win'], dtype=object)"
            ]
          },
          "metadata": {
            "tags": []
          },
          "execution_count": 59
        }
      ]
    },
    {
      "cell_type": "code",
      "metadata": {
        "colab": {
          "base_uri": "https://localhost:8080/",
          "height": 17
        },
        "id": "htPXj-xYC-gN",
        "outputId": "a2d1216f-1269-448e-e6b4-e9791a5c7fcc"
      },
      "source": [
        "res = pd.DataFrame(target) # target are nothing but the final predictions of your model on input features of your new unseen test data\n",
        "res.columns = [\"prediction\"]\n",
        "\n",
        "# To download the csv file locally\n",
        "from google.colab import files\n",
        "res.to_csv('submission.csv', index = False)\n",
        "files.download('submission.csv')"
      ],
      "execution_count": null,
      "outputs": [
        {
          "output_type": "display_data",
          "data": {
            "application/javascript": [
              "\n",
              "    async function download(id, filename, size) {\n",
              "      if (!google.colab.kernel.accessAllowed) {\n",
              "        return;\n",
              "      }\n",
              "      const div = document.createElement('div');\n",
              "      const label = document.createElement('label');\n",
              "      label.textContent = `Downloading \"${filename}\": `;\n",
              "      div.appendChild(label);\n",
              "      const progress = document.createElement('progress');\n",
              "      progress.max = size;\n",
              "      div.appendChild(progress);\n",
              "      document.body.appendChild(div);\n",
              "\n",
              "      const buffers = [];\n",
              "      let downloaded = 0;\n",
              "\n",
              "      const channel = await google.colab.kernel.comms.open(id);\n",
              "      // Send a message to notify the kernel that we're ready.\n",
              "      channel.send({})\n",
              "\n",
              "      for await (const message of channel.messages) {\n",
              "        // Send a message to notify the kernel that we're ready.\n",
              "        channel.send({})\n",
              "        if (message.buffers) {\n",
              "          for (const buffer of message.buffers) {\n",
              "            buffers.push(buffer);\n",
              "            downloaded += buffer.byteLength;\n",
              "            progress.value = downloaded;\n",
              "          }\n",
              "        }\n",
              "      }\n",
              "      const blob = new Blob(buffers, {type: 'application/binary'});\n",
              "      const a = document.createElement('a');\n",
              "      a.href = window.URL.createObjectURL(blob);\n",
              "      a.download = filename;\n",
              "      div.appendChild(a);\n",
              "      a.click();\n",
              "      div.remove();\n",
              "    }\n",
              "  "
            ],
            "text/plain": [
              "<IPython.core.display.Javascript object>"
            ]
          },
          "metadata": {
            "tags": []
          }
        },
        {
          "output_type": "display_data",
          "data": {
            "application/javascript": [
              "download(\"download_81c4d016-013c-4218-98f3-b74efacb2263\", \"submission.csv\", 72315)"
            ],
            "text/plain": [
              "<IPython.core.display.Javascript object>"
            ]
          },
          "metadata": {
            "tags": []
          }
        }
      ]
    },
    {
      "cell_type": "code",
      "metadata": {
        "id": "5Ht_sRwZDBo1"
      },
      "source": [
        ""
      ],
      "execution_count": null,
      "outputs": []
    }
  ]
}