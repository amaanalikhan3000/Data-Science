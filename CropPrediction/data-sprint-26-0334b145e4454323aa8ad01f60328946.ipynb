{
  "nbformat": 4,
  "nbformat_minor": 0,
  "metadata": {
    "colab": {
      "name": "DataSprint26.ipynb",
      "provenance": [],
      "collapsed_sections": []
    },
    "kernelspec": {
      "name": "python3",
      "display_name": "Python 3"
    }
  },
  "cells": [
    {
      "cell_type": "code",
      "metadata": {
        "id": "YBGeWrcmacaY"
      },
      "source": [
        "# DATA SPRINT 26 , Crop  Recommendation\r\n",
        "# ------------------- Importing Libraries----------------------------------------\r\n",
        "# importing pandas for reading the csv files \r\n",
        "import pandas as pd\r\n",
        "# Importing numpy for array operations & complex calculations\r\n",
        "import numpy as np\r\n",
        "# ------------------importing matplotlib & seaborn for plotting graphs in order to visualise the data & get insights--------------------\r\n",
        "import matplotlib.pyplot as plt\r\n",
        "import seaborn as sns\r\n",
        "\r\n",
        "#Importing Label Encoder from sklearn for converting( In this case it is 'Crop') \r\n",
        "# Categorical Data that is in text format to numerical format\r\n",
        "from sklearn.preprocessing import LabelEncoder\r\n",
        "\r\n",
        "\r\n",
        "\r\n",
        "# ----------Importing all the classifier algorithms in order to select the one with best parameters------------\r\n",
        "from sklearn import svm\r\n",
        "from sklearn.ensemble import RandomForestClassifier\r\n",
        "from sklearn.linear_model import LogisticRegression\r\n",
        "from sklearn.naive_bayes import GaussianNB\r\n",
        "from sklearn.naive_bayes import MultinomialNB\r\n",
        "from sklearn.tree import DecisionTreeClassifier\r\n",
        "# ------------------------------------------------\r\n",
        "\r\n",
        "\r\n",
        "\r\n",
        "\r\n",
        "\r\n",
        "\r\n",
        "\r\n",
        "#-------importing train & test split from sklearn------------\r\n",
        "from sklearn.model_selection import train_test_split\r\n",
        "\r\n",
        "\r\n",
        "# -------------Grid Search CV--------------\r\n",
        "from sklearn.model_selection import GridSearchCV\r\n",
        "\r\n",
        "# For evaluation of metrics\r\n",
        "from sklearn.metrics import confusion_matrix\r\n",
        "# import mean squared error from sklearn.metric\r\n",
        "from sklearn.metrics import accuracy_score\r\n",
        "# -----------------------------------------------------------------------\r\n",
        "\r\n",
        "\r\n",
        "\r\n"
      ],
      "execution_count": 128,
      "outputs": []
    },
    {
      "cell_type": "code",
      "metadata": {
        "id": "qBWdFS4cajkp"
      },
      "source": [
        "# Reading the csv file , getting insights from data like getting information about columns, null values etc\r\n",
        "train_data = pd.read_csv(\"https://raw.githubusercontent.com/dphi-official/Datasets/master/crop_recommendation/train_set_label.csv\")"
      ],
      "execution_count": 129,
      "outputs": []
    },
    {
      "cell_type": "code",
      "metadata": {
        "colab": {
          "base_uri": "https://localhost:8080/",
          "height": 202
        },
        "id": "25835CE8amXO",
        "outputId": "4d14a261-d659-4323-a510-7ef8504509da"
      },
      "source": [
        "train_data.head()"
      ],
      "execution_count": 130,
      "outputs": [
        {
          "output_type": "execute_result",
          "data": {
            "text/html": [
              "<div>\n",
              "<style scoped>\n",
              "    .dataframe tbody tr th:only-of-type {\n",
              "        vertical-align: middle;\n",
              "    }\n",
              "\n",
              "    .dataframe tbody tr th {\n",
              "        vertical-align: top;\n",
              "    }\n",
              "\n",
              "    .dataframe thead th {\n",
              "        text-align: right;\n",
              "    }\n",
              "</style>\n",
              "<table border=\"1\" class=\"dataframe\">\n",
              "  <thead>\n",
              "    <tr style=\"text-align: right;\">\n",
              "      <th></th>\n",
              "      <th>N</th>\n",
              "      <th>P</th>\n",
              "      <th>K</th>\n",
              "      <th>temperature</th>\n",
              "      <th>humidity</th>\n",
              "      <th>ph</th>\n",
              "      <th>rainfall</th>\n",
              "      <th>crop</th>\n",
              "    </tr>\n",
              "  </thead>\n",
              "  <tbody>\n",
              "    <tr>\n",
              "      <th>0</th>\n",
              "      <td>17.0</td>\n",
              "      <td>136.0</td>\n",
              "      <td>196.0</td>\n",
              "      <td>23.871923</td>\n",
              "      <td>90.499390</td>\n",
              "      <td>5.882156</td>\n",
              "      <td>103.054809</td>\n",
              "      <td>apple</td>\n",
              "    </tr>\n",
              "    <tr>\n",
              "      <th>1</th>\n",
              "      <td>49.0</td>\n",
              "      <td>69.0</td>\n",
              "      <td>82.0</td>\n",
              "      <td>18.315615</td>\n",
              "      <td>15.361435</td>\n",
              "      <td>7.263119</td>\n",
              "      <td>81.787105</td>\n",
              "      <td>chickpea</td>\n",
              "    </tr>\n",
              "    <tr>\n",
              "      <th>2</th>\n",
              "      <td>74.0</td>\n",
              "      <td>49.0</td>\n",
              "      <td>38.0</td>\n",
              "      <td>23.314104</td>\n",
              "      <td>71.450905</td>\n",
              "      <td>7.488014</td>\n",
              "      <td>164.497037</td>\n",
              "      <td>jute</td>\n",
              "    </tr>\n",
              "    <tr>\n",
              "      <th>3</th>\n",
              "      <td>104.0</td>\n",
              "      <td>35.0</td>\n",
              "      <td>28.0</td>\n",
              "      <td>27.510061</td>\n",
              "      <td>50.666872</td>\n",
              "      <td>6.983732</td>\n",
              "      <td>143.995555</td>\n",
              "      <td>coffee</td>\n",
              "    </tr>\n",
              "    <tr>\n",
              "      <th>4</th>\n",
              "      <td>23.0</td>\n",
              "      <td>72.0</td>\n",
              "      <td>84.0</td>\n",
              "      <td>19.020613</td>\n",
              "      <td>17.131591</td>\n",
              "      <td>6.920251</td>\n",
              "      <td>79.926981</td>\n",
              "      <td>chickpea</td>\n",
              "    </tr>\n",
              "  </tbody>\n",
              "</table>\n",
              "</div>"
            ],
            "text/plain": [
              "       N      P      K  temperature   humidity        ph    rainfall      crop\n",
              "0   17.0  136.0  196.0    23.871923  90.499390  5.882156  103.054809     apple\n",
              "1   49.0   69.0   82.0    18.315615  15.361435  7.263119   81.787105  chickpea\n",
              "2   74.0   49.0   38.0    23.314104  71.450905  7.488014  164.497037      jute\n",
              "3  104.0   35.0   28.0    27.510061  50.666872  6.983732  143.995555    coffee\n",
              "4   23.0   72.0   84.0    19.020613  17.131591  6.920251   79.926981  chickpea"
            ]
          },
          "metadata": {
            "tags": []
          },
          "execution_count": 130
        }
      ]
    },
    {
      "cell_type": "code",
      "metadata": {
        "colab": {
          "base_uri": "https://localhost:8080/"
        },
        "id": "aJGma79Oany_",
        "outputId": "9c216a1c-4ad3-47e3-d8ad-ba97e837037a"
      },
      "source": [
        "train_data.info()"
      ],
      "execution_count": 131,
      "outputs": [
        {
          "output_type": "stream",
          "text": [
            "<class 'pandas.core.frame.DataFrame'>\n",
            "RangeIndex: 1650 entries, 0 to 1649\n",
            "Data columns (total 8 columns):\n",
            " #   Column       Non-Null Count  Dtype  \n",
            "---  ------       --------------  -----  \n",
            " 0   N            1650 non-null   float64\n",
            " 1   P            1650 non-null   float64\n",
            " 2   K            1650 non-null   float64\n",
            " 3   temperature  1650 non-null   float64\n",
            " 4   humidity     1650 non-null   float64\n",
            " 5   ph           1650 non-null   float64\n",
            " 6   rainfall     1650 non-null   float64\n",
            " 7   crop         1650 non-null   object \n",
            "dtypes: float64(7), object(1)\n",
            "memory usage: 103.2+ KB\n"
          ],
          "name": "stdout"
        }
      ]
    },
    {
      "cell_type": "code",
      "metadata": {
        "colab": {
          "base_uri": "https://localhost:8080/",
          "height": 1000
        },
        "id": "O313Al-le9xf",
        "outputId": "c8bac111-34e6-44b1-c0ee-5bba2bf474d4"
      },
      "source": [
        "\r\n",
        "\r\n",
        "plt.figure(figsize=(20,20))\r\n",
        "sns.countplot(x=train_data['crop'], data = train_data)\r\n",
        "plt.show()"
      ],
      "execution_count": 132,
      "outputs": [
        {
          "output_type": "display_data",
          "data": {
            "image/png": "[encoded data removed]",
            "text/plain": [
              "<Figure size 1440x1440 with 1 Axes>"
            ]
          },
          "metadata": {
            "tags": [],
            "needs_background": "light"
          }
        }
      ]
    },
    {
      "cell_type": "code",
      "metadata": {
        "colab": {
          "base_uri": "https://localhost:8080/"
        },
        "id": "GwK6spQ8aqxB",
        "outputId": "49cb293b-74e4-4436-905a-06475c1ef4c2"
      },
      "source": [
        "# Checking values of the column crop\r\n",
        "train_data['crop'].unique()"
      ],
      "execution_count": 133,
      "outputs": [
        {
          "output_type": "execute_result",
          "data": {
            "text/plain": [
              "array(['apple', 'chickpea', 'jute', 'coffee', 'watermelon', 'coconut',\n",
              "       'grapes', 'mango', 'mothbeans', 'pomegranate', 'mungbean',\n",
              "       'banana', 'blackgram', 'orange', 'rice', 'lentil', 'maize',\n",
              "       'pigeonpeas', 'kidneybeans', 'papaya', 'muskmelon', 'cotton'],\n",
              "      dtype=object)"
            ]
          },
          "metadata": {
            "tags": []
          },
          "execution_count": 133
        }
      ]
    },
    {
      "cell_type": "code",
      "metadata": {
        "colab": {
          "base_uri": "https://localhost:8080/"
        },
        "id": "WJEqtCNZau5b",
        "outputId": "80d1994d-d6f2-4eeb-d8e4-e93546c9148d"
      },
      "source": [
        "# checking null values\r\n",
        "train_data.isnull().sum()"
      ],
      "execution_count": 134,
      "outputs": [
        {
          "output_type": "execute_result",
          "data": {
            "text/plain": [
              "N              0\n",
              "P              0\n",
              "K              0\n",
              "temperature    0\n",
              "humidity       0\n",
              "ph             0\n",
              "rainfall       0\n",
              "crop           0\n",
              "dtype: int64"
            ]
          },
          "metadata": {
            "tags": []
          },
          "execution_count": 134
        }
      ]
    },
    {
      "cell_type": "code",
      "metadata": {
        "colab": {
          "base_uri": "https://localhost:8080/"
        },
        "id": "q2y-Trfla318",
        "outputId": "7bb256d5-75af-43af-d947-7c67a3eeeca5"
      },
      "source": [
        "\r\n",
        "train_data['crop'].value_counts()"
      ],
      "execution_count": 135,
      "outputs": [
        {
          "output_type": "execute_result",
          "data": {
            "text/plain": [
              "rice           75\n",
              "apple          75\n",
              "coffee         75\n",
              "grapes         75\n",
              "mothbeans      75\n",
              "blackgram      75\n",
              "jute           75\n",
              "mungbean       75\n",
              "mango          75\n",
              "papaya         75\n",
              "cotton         75\n",
              "pigeonpeas     75\n",
              "lentil         75\n",
              "chickpea       75\n",
              "kidneybeans    75\n",
              "pomegranate    75\n",
              "coconut        75\n",
              "orange         75\n",
              "watermelon     75\n",
              "maize          75\n",
              "muskmelon      75\n",
              "banana         75\n",
              "Name: crop, dtype: int64"
            ]
          },
          "metadata": {
            "tags": []
          },
          "execution_count": 135
        }
      ]
    },
    {
      "cell_type": "code",
      "metadata": {
        "id": "DgTD3K_nbCeq"
      },
      "source": [
        "#  Categorical Data that is in text format to numerical format\r\n",
        "\r\n",
        "le = LabelEncoder()\r\n",
        "train_data.crop = le.fit_transform(train_data.crop)"
      ],
      "execution_count": 136,
      "outputs": []
    },
    {
      "cell_type": "code",
      "metadata": {
        "colab": {
          "base_uri": "https://localhost:8080/",
          "height": 202
        },
        "id": "hIwMfc2_bS6h",
        "outputId": "b5c739ad-7e90-40b8-d966-7f8791429a37"
      },
      "source": [
        "train_data.head()"
      ],
      "execution_count": 137,
      "outputs": [
        {
          "output_type": "execute_result",
          "data": {
            "text/html": [
              "<div>\n",
              "<style scoped>\n",
              "    .dataframe tbody tr th:only-of-type {\n",
              "        vertical-align: middle;\n",
              "    }\n",
              "\n",
              "    .dataframe tbody tr th {\n",
              "        vertical-align: top;\n",
              "    }\n",
              "\n",
              "    .dataframe thead th {\n",
              "        text-align: right;\n",
              "    }\n",
              "</style>\n",
              "<table border=\"1\" class=\"dataframe\">\n",
              "  <thead>\n",
              "    <tr style=\"text-align: right;\">\n",
              "      <th></th>\n",
              "      <th>N</th>\n",
              "      <th>P</th>\n",
              "      <th>K</th>\n",
              "      <th>temperature</th>\n",
              "      <th>humidity</th>\n",
              "      <th>ph</th>\n",
              "      <th>rainfall</th>\n",
              "      <th>crop</th>\n",
              "    </tr>\n",
              "  </thead>\n",
              "  <tbody>\n",
              "    <tr>\n",
              "      <th>0</th>\n",
              "      <td>17.0</td>\n",
              "      <td>136.0</td>\n",
              "      <td>196.0</td>\n",
              "      <td>23.871923</td>\n",
              "      <td>90.499390</td>\n",
              "      <td>5.882156</td>\n",
              "      <td>103.054809</td>\n",
              "      <td>0</td>\n",
              "    </tr>\n",
              "    <tr>\n",
              "      <th>1</th>\n",
              "      <td>49.0</td>\n",
              "      <td>69.0</td>\n",
              "      <td>82.0</td>\n",
              "      <td>18.315615</td>\n",
              "      <td>15.361435</td>\n",
              "      <td>7.263119</td>\n",
              "      <td>81.787105</td>\n",
              "      <td>3</td>\n",
              "    </tr>\n",
              "    <tr>\n",
              "      <th>2</th>\n",
              "      <td>74.0</td>\n",
              "      <td>49.0</td>\n",
              "      <td>38.0</td>\n",
              "      <td>23.314104</td>\n",
              "      <td>71.450905</td>\n",
              "      <td>7.488014</td>\n",
              "      <td>164.497037</td>\n",
              "      <td>8</td>\n",
              "    </tr>\n",
              "    <tr>\n",
              "      <th>3</th>\n",
              "      <td>104.0</td>\n",
              "      <td>35.0</td>\n",
              "      <td>28.0</td>\n",
              "      <td>27.510061</td>\n",
              "      <td>50.666872</td>\n",
              "      <td>6.983732</td>\n",
              "      <td>143.995555</td>\n",
              "      <td>5</td>\n",
              "    </tr>\n",
              "    <tr>\n",
              "      <th>4</th>\n",
              "      <td>23.0</td>\n",
              "      <td>72.0</td>\n",
              "      <td>84.0</td>\n",
              "      <td>19.020613</td>\n",
              "      <td>17.131591</td>\n",
              "      <td>6.920251</td>\n",
              "      <td>79.926981</td>\n",
              "      <td>3</td>\n",
              "    </tr>\n",
              "  </tbody>\n",
              "</table>\n",
              "</div>"
            ],
            "text/plain": [
              "       N      P      K  temperature   humidity        ph    rainfall  crop\n",
              "0   17.0  136.0  196.0    23.871923  90.499390  5.882156  103.054809     0\n",
              "1   49.0   69.0   82.0    18.315615  15.361435  7.263119   81.787105     3\n",
              "2   74.0   49.0   38.0    23.314104  71.450905  7.488014  164.497037     8\n",
              "3  104.0   35.0   28.0    27.510061  50.666872  6.983732  143.995555     5\n",
              "4   23.0   72.0   84.0    19.020613  17.131591  6.920251   79.926981     3"
            ]
          },
          "metadata": {
            "tags": []
          },
          "execution_count": 137
        }
      ]
    },
    {
      "cell_type": "code",
      "metadata": {
        "id": "ATLSVhaVbUqN"
      },
      "source": [
        ""
      ],
      "execution_count": 18,
      "outputs": []
    },
    {
      "cell_type": "code",
      "metadata": {
        "id": "MBRo-Ru3cGcJ"
      },
      "source": [
        ""
      ],
      "execution_count": null,
      "outputs": []
    },
    {
      "cell_type": "code",
      "metadata": {
        "id": "FovQ91G2cJJ8"
      },
      "source": [
        ""
      ],
      "execution_count": 58,
      "outputs": []
    },
    {
      "cell_type": "code",
      "metadata": {
        "colab": {
          "base_uri": "https://localhost:8080/",
          "height": 202
        },
        "id": "94oBD3WmdQTQ",
        "outputId": "aa82a522-037f-48a1-f9f0-6545f22456ee"
      },
      "source": [
        "train_data.head()"
      ],
      "execution_count": 59,
      "outputs": [
        {
          "output_type": "execute_result",
          "data": {
            "text/html": [
              "<div>\n",
              "<style scoped>\n",
              "    .dataframe tbody tr th:only-of-type {\n",
              "        vertical-align: middle;\n",
              "    }\n",
              "\n",
              "    .dataframe tbody tr th {\n",
              "        vertical-align: top;\n",
              "    }\n",
              "\n",
              "    .dataframe thead th {\n",
              "        text-align: right;\n",
              "    }\n",
              "</style>\n",
              "<table border=\"1\" class=\"dataframe\">\n",
              "  <thead>\n",
              "    <tr style=\"text-align: right;\">\n",
              "      <th></th>\n",
              "      <th>N</th>\n",
              "      <th>P</th>\n",
              "      <th>K</th>\n",
              "      <th>temperature</th>\n",
              "      <th>humidity</th>\n",
              "      <th>ph</th>\n",
              "      <th>rainfall</th>\n",
              "      <th>crop</th>\n",
              "    </tr>\n",
              "  </thead>\n",
              "  <tbody>\n",
              "    <tr>\n",
              "      <th>0</th>\n",
              "      <td>0.125000</td>\n",
              "      <td>0.935714</td>\n",
              "      <td>0.955</td>\n",
              "      <td>0.430379</td>\n",
              "      <td>0.889364</td>\n",
              "      <td>0.367690</td>\n",
              "      <td>0.297249</td>\n",
              "      <td>0</td>\n",
              "    </tr>\n",
              "    <tr>\n",
              "      <th>1</th>\n",
              "      <td>0.360294</td>\n",
              "      <td>0.457143</td>\n",
              "      <td>0.385</td>\n",
              "      <td>0.264361</td>\n",
              "      <td>0.012696</td>\n",
              "      <td>0.583138</td>\n",
              "      <td>0.220802</td>\n",
              "      <td>3</td>\n",
              "    </tr>\n",
              "    <tr>\n",
              "      <th>2</th>\n",
              "      <td>0.544118</td>\n",
              "      <td>0.314286</td>\n",
              "      <td>0.165</td>\n",
              "      <td>0.413712</td>\n",
              "      <td>0.667117</td>\n",
              "      <td>0.618224</td>\n",
              "      <td>0.518106</td>\n",
              "      <td>8</td>\n",
              "    </tr>\n",
              "    <tr>\n",
              "      <th>3</th>\n",
              "      <td>0.764706</td>\n",
              "      <td>0.214286</td>\n",
              "      <td>0.115</td>\n",
              "      <td>0.539084</td>\n",
              "      <td>0.424620</td>\n",
              "      <td>0.539550</td>\n",
              "      <td>0.444412</td>\n",
              "      <td>5</td>\n",
              "    </tr>\n",
              "    <tr>\n",
              "      <th>4</th>\n",
              "      <td>0.169118</td>\n",
              "      <td>0.478571</td>\n",
              "      <td>0.395</td>\n",
              "      <td>0.285426</td>\n",
              "      <td>0.033349</td>\n",
              "      <td>0.529646</td>\n",
              "      <td>0.214116</td>\n",
              "      <td>3</td>\n",
              "    </tr>\n",
              "  </tbody>\n",
              "</table>\n",
              "</div>"
            ],
            "text/plain": [
              "          N         P      K  temperature  humidity        ph  rainfall  crop\n",
              "0  0.125000  0.935714  0.955     0.430379  0.889364  0.367690  0.297249     0\n",
              "1  0.360294  0.457143  0.385     0.264361  0.012696  0.583138  0.220802     3\n",
              "2  0.544118  0.314286  0.165     0.413712  0.667117  0.618224  0.518106     8\n",
              "3  0.764706  0.214286  0.115     0.539084  0.424620  0.539550  0.444412     5\n",
              "4  0.169118  0.478571  0.395     0.285426  0.033349  0.529646  0.214116     3"
            ]
          },
          "metadata": {
            "tags": []
          },
          "execution_count": 59
        }
      ]
    },
    {
      "cell_type": "code",
      "metadata": {
        "colab": {
          "base_uri": "https://localhost:8080/"
        },
        "id": "sAyBXpwzdR1R",
        "outputId": "9d7061bc-edfc-4339-f73a-8183f064ba00"
      },
      "source": [
        "train_data.info()"
      ],
      "execution_count": 138,
      "outputs": [
        {
          "output_type": "stream",
          "text": [
            "<class 'pandas.core.frame.DataFrame'>\n",
            "RangeIndex: 1650 entries, 0 to 1649\n",
            "Data columns (total 8 columns):\n",
            " #   Column       Non-Null Count  Dtype  \n",
            "---  ------       --------------  -----  \n",
            " 0   N            1650 non-null   float64\n",
            " 1   P            1650 non-null   float64\n",
            " 2   K            1650 non-null   float64\n",
            " 3   temperature  1650 non-null   float64\n",
            " 4   humidity     1650 non-null   float64\n",
            " 5   ph           1650 non-null   float64\n",
            " 6   rainfall     1650 non-null   float64\n",
            " 7   crop         1650 non-null   int64  \n",
            "dtypes: float64(7), int64(1)\n",
            "memory usage: 103.2 KB\n"
          ],
          "name": "stdout"
        }
      ]
    },
    {
      "cell_type": "code",
      "metadata": {
        "id": "G0bWIV6ydYCA"
      },
      "source": [
        "# Splitting the data into X & y\r\n",
        "X = train_data.drop('crop', axis = 1) # here we are dropping the target feature as this is the target and 'X' is input features, the changes are not\r\n",
        "# made inplace as we have not used 'inplace = True'\r\n",
        "\r\n",
        "y = train_data['crop'] # Output/Dependent variable"
      ],
      "execution_count": 139,
      "outputs": []
    },
    {
      "cell_type": "code",
      "metadata": {
        "id": "kuNrJ0HwdiR7"
      },
      "source": [
        "# ---------GRID SEARCH CV passing the information of columns with required parameters in order to get the best one--------------------------------\r\n",
        "\r\n",
        "model_params = {\r\n",
        "    'svm': {\r\n",
        "        'model': svm.SVC(gamma='auto'),\r\n",
        "        'params' : {\r\n",
        "            'C': [1,10,20],\r\n",
        "            'kernel': ['rbf','linear']\r\n",
        "        }  \r\n",
        "    },\r\n",
        "    'random_forest': {\r\n",
        "        'model': RandomForestClassifier(),\r\n",
        "        'params' : {\r\n",
        "            'n_estimators': [1,5,10,15]\r\n",
        "        }\r\n",
        "    },\r\n",
        "    'logistic_regression' : {\r\n",
        "        'model': LogisticRegression(solver='liblinear',multi_class='auto'),\r\n",
        "        'params': {\r\n",
        "            'C': [1,5,10,15]\r\n",
        "        }\r\n",
        "    },\r\n",
        "    'naive_bayes_gaussian': {\r\n",
        "        'model': GaussinaoanNB(),\r\n",
        "        'params': {}\r\n",
        "    },\r\n",
        "    'naive_bayes_multinomial': {\r\n",
        "        'model': MultinomialNB(),\r\n",
        "        'params': {}\r\n",
        "    },\r\n",
        "    'decision_tree': {\r\n",
        "        'model': DecisionTreeClassifier(),\r\n",
        "        'params': {\r\n",
        "            'criterion': ['gini','entropy'],\r\n",
        "            \r\n",
        "        }\r\n",
        "    }  \r\n",
        "}"
      ],
      "execution_count": 140,
      "outputs": []
    },
    {
      "cell_type": "code",
      "metadata": {
        "colab": {
          "base_uri": "https://localhost:8080/",
          "height": 233
        },
        "id": "RZHCReFuei_U",
        "outputId": "bbb197d4-93f7-42e2-be0a-2deb21b5341c"
      },
      "source": [
        "\r\n",
        "\r\n",
        "# Getting the best parameters.\r\n",
        "scores = []\r\n",
        "\r\n",
        "for model_name, mp in model_params.items():\r\n",
        "    clf =  GridSearchCV(mp['model'], mp['params'], cv=6, return_train_score=False)\r\n",
        "    clf.fit(X, y)\r\n",
        "    scores.append({        \r\n",
        "        'model': model_name,\r\n",
        "        \r\n",
        "        'best_score': clf.best_score_,\r\n",
        "        'best_params': clf.best_params_\r\n",
        "    })\r\n",
        "    \r\n",
        "df = pd.DataFrame(scores,columns=['model','best_score','best_params'])\r\n",
        "df"
      ],
      "execution_count": 144,
      "outputs": [
        {
          "output_type": "execute_result",
          "data": {
            "text/html": [
              "<div>\n",
              "<style scoped>\n",
              "    .dataframe tbody tr th:only-of-type {\n",
              "        vertical-align: middle;\n",
              "    }\n",
              "\n",
              "    .dataframe tbody tr th {\n",
              "        vertical-align: top;\n",
              "    }\n",
              "\n",
              "    .dataframe thead th {\n",
              "        text-align: right;\n",
              "    }\n",
              "</style>\n",
              "<table border=\"1\" class=\"dataframe\">\n",
              "  <thead>\n",
              "    <tr style=\"text-align: right;\">\n",
              "      <th></th>\n",
              "      <th>model</th>\n",
              "      <th>best_score</th>\n",
              "      <th>best_params</th>\n",
              "    </tr>\n",
              "  </thead>\n",
              "  <tbody>\n",
              "    <tr>\n",
              "      <th>0</th>\n",
              "      <td>svm</td>\n",
              "      <td>0.989697</td>\n",
              "      <td>{'C': 1, 'kernel': 'linear'}</td>\n",
              "    </tr>\n",
              "    <tr>\n",
              "      <th>1</th>\n",
              "      <td>random_forest</td>\n",
              "      <td>0.992727</td>\n",
              "      <td>{'n_estimators': 15}</td>\n",
              "    </tr>\n",
              "    <tr>\n",
              "      <th>2</th>\n",
              "      <td>logistic_regression</td>\n",
              "      <td>0.965455</td>\n",
              "      <td>{'C': 15}</td>\n",
              "    </tr>\n",
              "    <tr>\n",
              "      <th>3</th>\n",
              "      <td>naive_bayes_gaussian</td>\n",
              "      <td>0.993939</td>\n",
              "      <td>{}</td>\n",
              "    </tr>\n",
              "    <tr>\n",
              "      <th>4</th>\n",
              "      <td>naive_bayes_multinomial</td>\n",
              "      <td>0.898788</td>\n",
              "      <td>{}</td>\n",
              "    </tr>\n",
              "    <tr>\n",
              "      <th>5</th>\n",
              "      <td>decision_tree</td>\n",
              "      <td>0.981818</td>\n",
              "      <td>{'criterion': 'gini'}</td>\n",
              "    </tr>\n",
              "  </tbody>\n",
              "</table>\n",
              "</div>"
            ],
            "text/plain": [
              "                     model  best_score                   best_params\n",
              "0                      svm    0.989697  {'C': 1, 'kernel': 'linear'}\n",
              "1            random_forest    0.992727          {'n_estimators': 15}\n",
              "2      logistic_regression    0.965455                     {'C': 15}\n",
              "3     naive_bayes_gaussian    0.993939                            {}\n",
              "4  naive_bayes_multinomial    0.898788                            {}\n",
              "5            decision_tree    0.981818         {'criterion': 'gini'}"
            ]
          },
          "metadata": {
            "tags": []
          },
          "execution_count": 144
        }
      ]
    },
    {
      "cell_type": "markdown",
      "metadata": {
        "id": "IiSbW0H_wAQ-"
      },
      "source": [
        "We can the see the best is random forest Classifier & naive bayes classifier."
      ]
    },
    {
      "cell_type": "code",
      "metadata": {
        "id": "k3K349sMlb0l"
      },
      "source": [
        ""
      ],
      "execution_count": 155,
      "outputs": []
    },
    {
      "cell_type": "code",
      "metadata": {
        "id": "27etH29Imobp"
      },
      "source": [
        ""
      ],
      "execution_count": 155,
      "outputs": []
    },
    {
      "cell_type": "code",
      "metadata": {
        "id": "ai_IB-Phmwmx"
      },
      "source": [
        "# Data splitting into train and test split in 70:30 ratio\r\n",
        "X_train, X_test, y_train, y_test = train_test_split(X,y,test_size=0.3, random_state = 42)"
      ],
      "execution_count": 156,
      "outputs": []
    },
    {
      "cell_type": "code",
      "metadata": {
        "id": "nPtSpb6Qm29F"
      },
      "source": [
        "# Using random forest classifier\r\n",
        "RF = RandomForestClassifier(n_estimators=15)"
      ],
      "execution_count": 149,
      "outputs": []
    },
    {
      "cell_type": "code",
      "metadata": {
        "colab": {
          "base_uri": "https://localhost:8080/"
        },
        "id": "Hl0X0RLcnGt9",
        "outputId": "ef117889-46bc-47ce-ffe8-f9252db04954"
      },
      "source": [
        "# Fitting the model on X_train & y_train\r\n",
        "RF.fit(X_train,y_train)"
      ],
      "execution_count": 157,
      "outputs": [
        {
          "output_type": "execute_result",
          "data": {
            "text/plain": [
              "RandomForestClassifier(bootstrap=True, ccp_alpha=0.0, class_weight=None,\n",
              "                       criterion='gini', max_depth=None, max_features='auto',\n",
              "                       max_leaf_nodes=None, max_samples=None,\n",
              "                       min_impurity_decrease=0.0, min_impurity_split=None,\n",
              "                       min_samples_leaf=1, min_samples_split=2,\n",
              "                       min_weight_fraction_leaf=0.0, n_estimators=15,\n",
              "                       n_jobs=None, oob_score=False, random_state=None,\n",
              "                       verbose=0, warm_start=False)"
            ]
          },
          "metadata": {
            "tags": []
          },
          "execution_count": 157
        }
      ]
    },
    {
      "cell_type": "code",
      "metadata": {
        "id": "WSKC5cyLnM3Q"
      },
      "source": [
        "# Predicting that on X_test\r\n",
        "pred = RF.predict(X_test)"
      ],
      "execution_count": 158,
      "outputs": []
    },
    {
      "cell_type": "code",
      "metadata": {
        "id": "xqtDLr3snTVx"
      },
      "source": [
        ""
      ],
      "execution_count": 159,
      "outputs": []
    },
    {
      "cell_type": "code",
      "metadata": {
        "colab": {
          "base_uri": "https://localhost:8080/"
        },
        "id": "dYqrCi99nXIu",
        "outputId": "4dcc1273-0f78-46da-c987-699f78aaec7b"
      },
      "source": [
        "# Printing the accuracy score\r\n",
        "print('Accuracy Score is: ', accuracy_score(y_test, pred))"
      ],
      "execution_count": 160,
      "outputs": [
        {
          "output_type": "stream",
          "text": [
            "Accuracy Score is:  0.9919191919191919\n"
          ],
          "name": "stdout"
        }
      ]
    },
    {
      "cell_type": "code",
      "metadata": {
        "id": "4njVinIpnZw8"
      },
      "source": [
        "\r\n"
      ],
      "execution_count": 161,
      "outputs": []
    },
    {
      "cell_type": "code",
      "metadata": {
        "id": "vxk8fow8n-Xr"
      },
      "source": [
        ""
      ],
      "execution_count": null,
      "outputs": []
    },
    {
      "cell_type": "code",
      "metadata": {
        "id": "VxO4l3DloA2p"
      },
      "source": [
        "target = RF.predict(test_data)"
      ],
      "execution_count": 163,
      "outputs": []
    },
    {
      "cell_type": "code",
      "metadata": {
        "id": "8teERp3KoF3T"
      },
      "source": [
        ""
      ],
      "execution_count": null,
      "outputs": []
    },
    {
      "cell_type": "code",
      "metadata": {
        "id": "jBtbUXa1oGyq"
      },
      "source": [
        ""
      ],
      "execution_count": 165,
      "outputs": []
    },
    {
      "cell_type": "code",
      "metadata": {
        "id": "3N6Q1av_oKxu"
      },
      "source": [
        ""
      ],
      "execution_count": null,
      "outputs": []
    },
    {
      "cell_type": "code",
      "metadata": {
        "colab": {
          "base_uri": "https://localhost:8080/"
        },
        "id": "KRsOsNwcoMEJ",
        "outputId": "9c95f6c8-a0dd-4be6-d5fd-0d8cc7069137"
      },
      "source": [
        "# Checking the model on Gaussian Naive Bayes Classifier\r\n",
        "clf = GaussianNB()\r\n",
        "clf.fit(X_train,y_train)"
      ],
      "execution_count": 173,
      "outputs": [
        {
          "output_type": "execute_result",
          "data": {
            "text/plain": [
              "GaussianNB(priors=None, var_smoothing=1e-09)"
            ]
          },
          "metadata": {
            "tags": []
          },
          "execution_count": 173
        }
      ]
    },
    {
      "cell_type": "code",
      "metadata": {
        "id": "QaHuskLHren3"
      },
      "source": [
        "# Predicting that on X_test\r\n",
        "pre = clf.predict(X_test)"
      ],
      "execution_count": 174,
      "outputs": []
    },
    {
      "cell_type": "code",
      "metadata": {
        "colab": {
          "base_uri": "https://localhost:8080/"
        },
        "id": "3vBBXocArkqY",
        "outputId": "56d92a3c-0551-47e2-8ea0-dfeb3869ee9d"
      },
      "source": [
        "# Getting the accuracy score\r\n",
        "print('Accuracy Score is: ', accuracy_score(y_test, pre))"
      ],
      "execution_count": 175,
      "outputs": [
        {
          "output_type": "stream",
          "text": [
            "Accuracy Score is:  0.9939393939393939\n"
          ],
          "name": "stdout"
        }
      ]
    },
    {
      "cell_type": "markdown",
      "metadata": {
        "id": "-vFVcS_Rw1TX"
      },
      "source": [
        "We can observe that in random forest classifier the accuracy was \r\n",
        "0.9919191919191919  ~ (99.1%)\r\n",
        "& in Gaussian Naiye Bayes Classifier it is 0.9939393939393939 ~ \r\n",
        "(99.3%)"
      ]
    },
    {
      "cell_type": "code",
      "metadata": {
        "id": "JNMlWYxcruxI"
      },
      "source": [
        "# Loading the test unseen data\r\n",
        "test_data = pd.read_csv('https://raw.githubusercontent.com/dphi-official/Datasets/master/crop_recommendation/test_set_label.csv')"
      ],
      "execution_count": 176,
      "outputs": []
    },
    {
      "cell_type": "code",
      "metadata": {
        "colab": {
          "base_uri": "https://localhost:8080/"
        },
        "id": "H9xbfVgDr08G",
        "outputId": "e1f07c4e-b181-4b1f-a4cd-13515517a28b"
      },
      "source": [
        "# Getting the information\r\n",
        "test_data.info()"
      ],
      "execution_count": 177,
      "outputs": [
        {
          "output_type": "stream",
          "text": [
            "<class 'pandas.core.frame.DataFrame'>\n",
            "RangeIndex: 550 entries, 0 to 549\n",
            "Data columns (total 7 columns):\n",
            " #   Column       Non-Null Count  Dtype  \n",
            "---  ------       --------------  -----  \n",
            " 0   N            550 non-null    float64\n",
            " 1   P            550 non-null    float64\n",
            " 2   K            550 non-null    float64\n",
            " 3   temperature  550 non-null    float64\n",
            " 4   humidity     550 non-null    float64\n",
            " 5   ph           550 non-null    float64\n",
            " 6   rainfall     550 non-null    float64\n",
            "dtypes: float64(7)\n",
            "memory usage: 30.2 KB\n"
          ],
          "name": "stdout"
        }
      ]
    },
    {
      "cell_type": "code",
      "metadata": {
        "id": "Ydunk25rr2g9"
      },
      "source": [
        "# storing the predicted values of test_data in target variable\r\n",
        "target = clf.predict(test_data)"
      ],
      "execution_count": 178,
      "outputs": []
    },
    {
      "cell_type": "code",
      "metadata": {
        "colab": {
          "base_uri": "https://localhost:8080/"
        },
        "id": "XqEMq2sPr6bF",
        "outputId": "d889fda2-7dbd-43b1-dbdc-162971a80c73"
      },
      "source": [
        "target"
      ],
      "execution_count": 179,
      "outputs": [
        {
          "output_type": "execute_result",
          "data": {
            "text/plain": [
              "array([13,  6, 12, 10, 14,  5, 10,  6, 10, 10,  8, 13, 16,  1,  4, 15,  7,\n",
              "        5, 21, 14,  4, 20, 13, 11,  0, 16, 20, 21, 19, 13,  9, 14,  1, 17,\n",
              "        2,  3,  9,  4, 10, 17,  7,  7, 20,  3,  7, 18, 21, 18, 21, 12, 11,\n",
              "       12,  7, 18, 20,  9,  0,  4, 21,  0, 14,  5, 21, 14,  0,  9, 16,  7,\n",
              "       21,  4, 11, 19,  6,  0, 11,  8, 13,  6,  6, 18, 18, 13,  1,  0,  9,\n",
              "        6,  1,  3,  0, 11,  7, 16, 19,  2, 21, 13,  7,  0,  3, 16, 16, 15,\n",
              "        4,  8, 16,  6, 18,  6,  6, 12, 19,  3, 11, 13,  5,  9,  1,  4, 10,\n",
              "        8,  2,  5,  9, 14,  6, 17, 21,  4, 17,  2, 20, 13, 15, 13,  8, 14,\n",
              "       19, 18,  5,  5, 12,  8,  8,  6,  3,  3, 17, 13, 16,  0,  5, 14, 11,\n",
              "        3,  2, 10, 16,  9, 19, 17,  2, 12, 19,  8, 18, 13,  3, 15,  3, 10,\n",
              "       12,  4,  1,  5, 20, 12, 21, 21,  8,  4, 18, 17, 20, 16,  6,  2, 18,\n",
              "       12, 12,  2,  8, 16, 17, 11, 11,  6, 17, 15,  0,  5,  4, 21, 15, 15,\n",
              "        4,  3, 11, 14,  6, 15, 13, 20, 10, 20,  9,  7, 18, 10,  8,  7, 11,\n",
              "       11, 15, 12, 14,  1, 17, 20, 16,  3,  7,  1,  2, 14, 16, 15, 13, 14,\n",
              "       13,  7,  8, 15, 15, 11, 20, 19,  1,  1, 19,  4, 19, 17,  2, 21,  9,\n",
              "       14, 13,  4, 16, 21,  7,  0, 11, 16,  9,  2, 16, 18, 17, 16,  9, 10,\n",
              "        7,  8, 15, 15,  1,  2, 16, 15, 18,  7,  3, 12, 16,  5,  0,  6, 13,\n",
              "        2, 10, 16, 17,  6, 17, 10,  5,  0, 21,  1, 11, 19,  7,  8,  5, 19,\n",
              "        9, 13,  6,  3, 17, 19, 19, 21,  7,  6, 14, 21, 20,  6, 14,  9, 21,\n",
              "        1,  3,  5, 18, 13, 12, 14,  5, 20, 15, 18,  8, 21,  7,  2, 12, 21,\n",
              "        5, 20,  3,  4,  5, 14, 10,  8, 19, 18, 20,  6, 18,  1,  3,  1,  2,\n",
              "        9,  4,  7,  8, 17, 14, 11,  4,  3, 19, 15, 19,  7,  3,  9,  3,  2,\n",
              "        9,  5, 12,  7, 17,  4,  4,  0,  9, 11,  4,  1,  6, 15,  8, 20,  6,\n",
              "       19,  0,  9,  0, 12,  4, 11,  5, 12, 20, 14,  5, 19, 10,  5,  9,  7,\n",
              "       19,  9, 19, 20, 18,  3, 18, 10,  2, 12, 17, 18,  0,  6, 10,  7,  2,\n",
              "       17, 17, 18, 15, 17, 19,  1, 13, 14, 11, 14,  7, 18,  9,  0, 11,  0,\n",
              "       13,  5,  2,  5, 20,  3, 15, 14,  8,  3, 20,  9,  8, 12, 15, 16, 12,\n",
              "        1,  8, 15, 20, 21, 17,  7, 14,  5, 19,  6, 12, 10, 17, 21, 13, 12,\n",
              "        8, 20, 13, 10,  0, 18,  1,  2, 10, 10,  1, 12, 12,  0,  5, 21,  4,\n",
              "       18, 10, 10,  1,  2, 16,  1,  6,  4, 21,  0,  2, 14,  8, 11,  8, 19,\n",
              "       16, 19, 16,  9,  2, 18, 21,  1, 15,  8, 12, 17, 10, 11,  1,  9, 10,\n",
              "        2, 16,  8,  8, 17, 13,  0, 20,  2,  0, 11, 11, 13, 15,  1, 11,  3,\n",
              "       15,  3,  4,  4,  0, 14])"
            ]
          },
          "metadata": {
            "tags": []
          },
          "execution_count": 179
        }
      ]
    },
    {
      "cell_type": "code",
      "metadata": {
        "id": "qlnfvED4r75J"
      },
      "source": [
        "# Using inverse transform in order to get back original values\r\n",
        "target = le.inverse_transform(target)"
      ],
      "execution_count": 180,
      "outputs": []
    },
    {
      "cell_type": "code",
      "metadata": {
        "colab": {
          "base_uri": "https://localhost:8080/"
        },
        "id": "p8rKhFaIsAXX",
        "outputId": "93f17845-26ce-402f-e03a-eb26cd329e27"
      },
      "source": [
        "target"
      ],
      "execution_count": 181,
      "outputs": [
        {
          "output_type": "execute_result",
          "data": {
            "text/plain": [
              "array(['mothbeans', 'cotton', 'mango', 'lentil', 'mungbean', 'coffee',\n",
              "       'lentil', 'cotton', 'lentil', 'lentil', 'jute', 'mothbeans',\n",
              "       'orange', 'banana', 'coconut', 'muskmelon', 'grapes', 'coffee',\n",
              "       'watermelon', 'mungbean', 'coconut', 'rice', 'mothbeans', 'maize',\n",
              "       'apple', 'orange', 'rice', 'watermelon', 'pomegranate',\n",
              "       'mothbeans', 'kidneybeans', 'mungbean', 'banana', 'papaya',\n",
              "       'blackgram', 'chickpea', 'kidneybeans', 'coconut', 'lentil',\n",
              "       'papaya', 'grapes', 'grapes', 'rice', 'chickpea', 'grapes',\n",
              "       'pigeonpeas', 'watermelon', 'pigeonpeas', 'watermelon', 'mango',\n",
              "       'maize', 'mango', 'grapes', 'pigeonpeas', 'rice', 'kidneybeans',\n",
              "       'apple', 'coconut', 'watermelon', 'apple', 'mungbean', 'coffee',\n",
              "       'watermelon', 'mungbean', 'apple', 'kidneybeans', 'orange',\n",
              "       'grapes', 'watermelon', 'coconut', 'maize', 'pomegranate',\n",
              "       'cotton', 'apple', 'maize', 'jute', 'mothbeans', 'cotton',\n",
              "       'cotton', 'pigeonpeas', 'pigeonpeas', 'mothbeans', 'banana',\n",
              "       'apple', 'kidneybeans', 'cotton', 'banana', 'chickpea', 'apple',\n",
              "       'maize', 'grapes', 'orange', 'pomegranate', 'blackgram',\n",
              "       'watermelon', 'mothbeans', 'grapes', 'apple', 'chickpea', 'orange',\n",
              "       'orange', 'muskmelon', 'coconut', 'jute', 'orange', 'cotton',\n",
              "       'pigeonpeas', 'cotton', 'cotton', 'mango', 'pomegranate',\n",
              "       'chickpea', 'maize', 'mothbeans', 'coffee', 'kidneybeans',\n",
              "       'banana', 'coconut', 'lentil', 'jute', 'blackgram', 'coffee',\n",
              "       'kidneybeans', 'mungbean', 'cotton', 'papaya', 'watermelon',\n",
              "       'coconut', 'papaya', 'blackgram', 'rice', 'mothbeans', 'muskmelon',\n",
              "       'mothbeans', 'jute', 'mungbean', 'pomegranate', 'pigeonpeas',\n",
              "       'coffee', 'coffee', 'mango', 'jute', 'jute', 'cotton', 'chickpea',\n",
              "       'chickpea', 'papaya', 'mothbeans', 'orange', 'apple', 'coffee',\n",
              "       'mungbean', 'maize', 'chickpea', 'blackgram', 'lentil', 'orange',\n",
              "       'kidneybeans', 'pomegranate', 'papaya', 'blackgram', 'mango',\n",
              "       'pomegranate', 'jute', 'pigeonpeas', 'mothbeans', 'chickpea',\n",
              "       'muskmelon', 'chickpea', 'lentil', 'mango', 'coconut', 'banana',\n",
              "       'coffee', 'rice', 'mango', 'watermelon', 'watermelon', 'jute',\n",
              "       'coconut', 'pigeonpeas', 'papaya', 'rice', 'orange', 'cotton',\n",
              "       'blackgram', 'pigeonpeas', 'mango', 'mango', 'blackgram', 'jute',\n",
              "       'orange', 'papaya', 'maize', 'maize', 'cotton', 'papaya',\n",
              "       'muskmelon', 'apple', 'coffee', 'coconut', 'watermelon',\n",
              "       'muskmelon', 'muskmelon', 'coconut', 'chickpea', 'maize',\n",
              "       'mungbean', 'cotton', 'muskmelon', 'mothbeans', 'rice', 'lentil',\n",
              "       'rice', 'kidneybeans', 'grapes', 'pigeonpeas', 'lentil', 'jute',\n",
              "       'grapes', 'maize', 'maize', 'muskmelon', 'mango', 'mungbean',\n",
              "       'banana', 'papaya', 'rice', 'orange', 'chickpea', 'grapes',\n",
              "       'banana', 'blackgram', 'mungbean', 'orange', 'muskmelon',\n",
              "       'mothbeans', 'mungbean', 'mothbeans', 'grapes', 'jute',\n",
              "       'muskmelon', 'muskmelon', 'maize', 'rice', 'pomegranate', 'banana',\n",
              "       'banana', 'pomegranate', 'coconut', 'pomegranate', 'papaya',\n",
              "       'blackgram', 'watermelon', 'kidneybeans', 'mungbean', 'mothbeans',\n",
              "       'coconut', 'orange', 'watermelon', 'grapes', 'apple', 'maize',\n",
              "       'orange', 'kidneybeans', 'blackgram', 'orange', 'pigeonpeas',\n",
              "       'papaya', 'orange', 'kidneybeans', 'lentil', 'grapes', 'jute',\n",
              "       'muskmelon', 'muskmelon', 'banana', 'blackgram', 'orange',\n",
              "       'muskmelon', 'pigeonpeas', 'grapes', 'chickpea', 'mango', 'orange',\n",
              "       'coffee', 'apple', 'cotton', 'mothbeans', 'blackgram', 'lentil',\n",
              "       'orange', 'papaya', 'cotton', 'papaya', 'lentil', 'coffee',\n",
              "       'apple', 'watermelon', 'banana', 'maize', 'pomegranate', 'grapes',\n",
              "       'jute', 'coffee', 'pomegranate', 'kidneybeans', 'mothbeans',\n",
              "       'cotton', 'chickpea', 'papaya', 'pomegranate', 'pomegranate',\n",
              "       'watermelon', 'grapes', 'cotton', 'mungbean', 'watermelon', 'rice',\n",
              "       'cotton', 'mungbean', 'kidneybeans', 'watermelon', 'banana',\n",
              "       'chickpea', 'coffee', 'pigeonpeas', 'mothbeans', 'mango',\n",
              "       'mungbean', 'coffee', 'rice', 'muskmelon', 'pigeonpeas', 'jute',\n",
              "       'watermelon', 'grapes', 'blackgram', 'mango', 'watermelon',\n",
              "       'coffee', 'rice', 'chickpea', 'coconut', 'coffee', 'mungbean',\n",
              "       'lentil', 'jute', 'pomegranate', 'pigeonpeas', 'rice', 'cotton',\n",
              "       'pigeonpeas', 'banana', 'chickpea', 'banana', 'blackgram',\n",
              "       'kidneybeans', 'coconut', 'grapes', 'jute', 'papaya', 'mungbean',\n",
              "       'maize', 'coconut', 'chickpea', 'pomegranate', 'muskmelon',\n",
              "       'pomegranate', 'grapes', 'chickpea', 'kidneybeans', 'chickpea',\n",
              "       'blackgram', 'kidneybeans', 'coffee', 'mango', 'grapes', 'papaya',\n",
              "       'coconut', 'coconut', 'apple', 'kidneybeans', 'maize', 'coconut',\n",
              "       'banana', 'cotton', 'muskmelon', 'jute', 'rice', 'cotton',\n",
              "       'pomegranate', 'apple', 'kidneybeans', 'apple', 'mango', 'coconut',\n",
              "       'maize', 'coffee', 'mango', 'rice', 'mungbean', 'coffee',\n",
              "       'pomegranate', 'lentil', 'coffee', 'kidneybeans', 'grapes',\n",
              "       'pomegranate', 'kidneybeans', 'pomegranate', 'rice', 'pigeonpeas',\n",
              "       'chickpea', 'pigeonpeas', 'lentil', 'blackgram', 'mango', 'papaya',\n",
              "       'pigeonpeas', 'apple', 'cotton', 'lentil', 'grapes', 'blackgram',\n",
              "       'papaya', 'papaya', 'pigeonpeas', 'muskmelon', 'papaya',\n",
              "       'pomegranate', 'banana', 'mothbeans', 'mungbean', 'maize',\n",
              "       'mungbean', 'grapes', 'pigeonpeas', 'kidneybeans', 'apple',\n",
              "       'maize', 'apple', 'mothbeans', 'coffee', 'blackgram', 'coffee',\n",
              "       'rice', 'chickpea', 'muskmelon', 'mungbean', 'jute', 'chickpea',\n",
              "       'rice', 'kidneybeans', 'jute', 'mango', 'muskmelon', 'orange',\n",
              "       'mango', 'banana', 'jute', 'muskmelon', 'rice', 'watermelon',\n",
              "       'papaya', 'grapes', 'mungbean', 'coffee', 'pomegranate', 'cotton',\n",
              "       'mango', 'lentil', 'papaya', 'watermelon', 'mothbeans', 'mango',\n",
              "       'jute', 'rice', 'mothbeans', 'lentil', 'apple', 'pigeonpeas',\n",
              "       'banana', 'blackgram', 'lentil', 'lentil', 'banana', 'mango',\n",
              "       'mango', 'apple', 'coffee', 'watermelon', 'coconut', 'pigeonpeas',\n",
              "       'lentil', 'lentil', 'banana', 'blackgram', 'orange', 'banana',\n",
              "       'cotton', 'coconut', 'watermelon', 'apple', 'blackgram',\n",
              "       'mungbean', 'jute', 'maize', 'jute', 'pomegranate', 'orange',\n",
              "       'pomegranate', 'orange', 'kidneybeans', 'blackgram', 'pigeonpeas',\n",
              "       'watermelon', 'banana', 'muskmelon', 'jute', 'mango', 'papaya',\n",
              "       'lentil', 'maize', 'banana', 'kidneybeans', 'lentil', 'blackgram',\n",
              "       'orange', 'jute', 'jute', 'papaya', 'mothbeans', 'apple', 'rice',\n",
              "       'blackgram', 'apple', 'maize', 'maize', 'mothbeans', 'muskmelon',\n",
              "       'banana', 'maize', 'chickpea', 'muskmelon', 'chickpea', 'coconut',\n",
              "       'coconut', 'apple', 'mungbean'], dtype=object)"
            ]
          },
          "metadata": {
            "tags": []
          },
          "execution_count": 181
        }
      ]
    },
    {
      "cell_type": "code",
      "metadata": {
        "id": "4HTLwPJXsBdE"
      },
      "source": [
        "# y_predicted stores predicted values again \r\n",
        "y_predicted = clf.predict(X_test)"
      ],
      "execution_count": 182,
      "outputs": []
    },
    {
      "cell_type": "code",
      "metadata": {
        "colab": {
          "base_uri": "https://localhost:8080/"
        },
        "id": "YsijumMgsmZd",
        "outputId": "5eada052-c541-4fbe-a6f5-2b3c75ebd9ac"
      },
      "source": [
        "# For plotting the confusion matrix\r\n",
        "\r\n",
        "cm = confusion_matrix(y_test, y_predicted)\r\n",
        "cm"
      ],
      "execution_count": 183,
      "outputs": [
        {
          "output_type": "execute_result",
          "data": {
            "text/plain": [
              "array([[26,  0,  0,  0,  0,  0,  0,  0,  0,  0,  0,  0,  0,  0,  0,  0,\n",
              "         0,  0,  0,  0,  0,  0],\n",
              "       [ 0, 18,  0,  0,  0,  0,  0,  0,  0,  0,  0,  0,  0,  0,  0,  0,\n",
              "         0,  0,  0,  0,  0,  0],\n",
              "       [ 0,  0, 24,  0,  0,  0,  0,  0,  0,  0,  0,  0,  0,  0,  0,  0,\n",
              "         0,  0,  0,  0,  0,  0],\n",
              "       [ 0,  0,  0, 25,  0,  0,  0,  0,  0,  0,  0,  0,  0,  0,  0,  0,\n",
              "         0,  0,  0,  0,  0,  0],\n",
              "       [ 0,  0,  0,  0, 18,  0,  0,  0,  0,  0,  0,  0,  0,  0,  0,  0,\n",
              "         0,  0,  0,  0,  0,  0],\n",
              "       [ 0,  0,  0,  0,  0, 26,  0,  0,  0,  0,  0,  0,  0,  0,  0,  0,\n",
              "         0,  0,  0,  0,  0,  0],\n",
              "       [ 0,  0,  0,  0,  0,  0, 22,  0,  0,  0,  0,  0,  0,  0,  0,  0,\n",
              "         0,  0,  0,  0,  0,  0],\n",
              "       [ 0,  0,  0,  0,  0,  0,  0, 23,  0,  0,  0,  0,  0,  0,  0,  0,\n",
              "         0,  0,  0,  0,  0,  0],\n",
              "       [ 0,  0,  0,  0,  0,  0,  0,  0, 16,  0,  0,  0,  0,  0,  0,  0,\n",
              "         0,  0,  0,  0,  0,  0],\n",
              "       [ 0,  0,  0,  0,  0,  0,  0,  0,  0, 24,  0,  0,  0,  0,  0,  0,\n",
              "         0,  0,  0,  0,  0,  0],\n",
              "       [ 0,  0,  0,  0,  0,  0,  0,  0,  0,  0, 21,  0,  0,  0,  0,  0,\n",
              "         0,  0,  0,  0,  0,  0],\n",
              "       [ 0,  0,  0,  0,  0,  0,  2,  0,  0,  0,  0, 30,  0,  0,  0,  0,\n",
              "         0,  0,  0,  0,  0,  0],\n",
              "       [ 0,  0,  0,  0,  0,  0,  0,  0,  0,  0,  0,  0, 25,  0,  0,  0,\n",
              "         0,  0,  0,  0,  0,  0],\n",
              "       [ 0,  0,  0,  0,  0,  0,  0,  0,  0,  0,  0,  0,  0, 17,  0,  0,\n",
              "         0,  0,  0,  0,  0,  0],\n",
              "       [ 0,  0,  0,  0,  0,  0,  0,  0,  0,  0,  0,  0,  0,  0, 28,  0,\n",
              "         0,  0,  0,  0,  0,  0],\n",
              "       [ 0,  0,  0,  0,  0,  0,  0,  0,  0,  0,  0,  0,  0,  0,  0, 25,\n",
              "         0,  0,  0,  0,  0,  0],\n",
              "       [ 0,  0,  0,  0,  0,  0,  0,  0,  0,  0,  0,  0,  0,  0,  0,  0,\n",
              "        19,  0,  0,  0,  0,  0],\n",
              "       [ 0,  0,  0,  0,  0,  0,  0,  0,  0,  0,  0,  0,  0,  0,  0,  0,\n",
              "         0, 26,  0,  0,  0,  0],\n",
              "       [ 0,  0,  0,  0,  0,  0,  0,  0,  0,  0,  0,  0,  0,  0,  0,  0,\n",
              "         0,  0, 29,  0,  0,  0],\n",
              "       [ 0,  0,  0,  0,  0,  0,  0,  0,  0,  0,  0,  0,  0,  0,  0,  0,\n",
              "         0,  0,  0, 17,  0,  0],\n",
              "       [ 0,  0,  0,  0,  0,  0,  0,  0,  1,  0,  0,  0,  0,  0,  0,  0,\n",
              "         0,  0,  0,  0, 18,  0],\n",
              "       [ 0,  0,  0,  0,  0,  0,  0,  0,  0,  0,  0,  0,  0,  0,  0,  0,\n",
              "         0,  0,  0,  0,  0, 15]])"
            ]
          },
          "metadata": {
            "tags": []
          },
          "execution_count": 183
        }
      ]
    },
    {
      "cell_type": "code",
      "metadata": {
        "colab": {
          "base_uri": "https://localhost:8080/",
          "height": 463
        },
        "id": "dcuv-nJnsm0Q",
        "outputId": "ca23b6f7-870a-4af3-bcdf-0460dec13944"
      },
      "source": [
        "# Plotting the confusion matrix graphically using seaborn library\r\n",
        "plt.figure(figsize = (10,7))\r\n",
        "sns.heatmap(cm, annot=True)\r\n",
        "plt.xlabel('Predicted')\r\n",
        "plt.ylabel('Truth')"
      ],
      "execution_count": 185,
      "outputs": [
        {
          "output_type": "execute_result",
          "data": {
            "text/plain": [
              "Text(69.0, 0.5, 'Truth')"
            ]
          },
          "metadata": {
            "tags": []
          },
          "execution_count": 185
        },
        {
          "output_type": "display_data",
          "data": {
            "image/png": "[encoded data removed]",
            "text/plain": [
              "<Figure size 720x504 with 2 Axes>"
            ]
          },
          "metadata": {
            "tags": [],
            "needs_background": "light"
          }
        }
      ]
    },
    {
      "cell_type": "code",
      "metadata": {
        "colab": {
          "base_uri": "https://localhost:8080/",
          "height": 17
        },
        "id": "JxQwdJOfsqLP",
        "outputId": "ce149ab8-ceb2-46e3-91dd-19b3895f93d5"
      },
      "source": [
        "# To create Dataframe of predicted value with particular respective index\r\n",
        "res = pd.DataFrame(target) # target are nothing but the final predictions of your model on input features of your new unseen test data\r\n",
        "res.columns = [\"prediction\"]\r\n",
        "\r\n",
        "# To download the csv file locally\r\n",
        "from google.colab import files\r\n",
        "res.to_csv('submission.csv', index = False)\r\n",
        "files.download('submission.csv')"
      ],
      "execution_count": 186,
      "outputs": [
        {
          "output_type": "display_data",
          "data": {
            "application/javascript": [
              "\n",
              "    async function download(id, filename, size) {\n",
              "      if (!google.colab.kernel.accessAllowed) {\n",
              "        return;\n",
              "      }\n",
              "      const div = document.createElement('div');\n",
              "      const label = document.createElement('label');\n",
              "      label.textContent = `Downloading \"${filename}\": `;\n",
              "      div.appendChild(label);\n",
              "      const progress = document.createElement('progress');\n",
              "      progress.max = size;\n",
              "      div.appendChild(progress);\n",
              "      document.body.appendChild(div);\n",
              "\n",
              "      const buffers = [];\n",
              "      let downloaded = 0;\n",
              "\n",
              "      const channel = await google.colab.kernel.comms.open(id);\n",
              "      // Send a message to notify the kernel that we're ready.\n",
              "      channel.send({})\n",
              "\n",
              "      for await (const message of channel.messages) {\n",
              "        // Send a message to notify the kernel that we're ready.\n",
              "        channel.send({})\n",
              "        if (message.buffers) {\n",
              "          for (const buffer of message.buffers) {\n",
              "            buffers.push(buffer);\n",
              "            downloaded += buffer.byteLength;\n",
              "            progress.value = downloaded;\n",
              "          }\n",
              "        }\n",
              "      }\n",
              "      const blob = new Blob(buffers, {type: 'application/binary'});\n",
              "      const a = document.createElement('a');\n",
              "      a.href = window.URL.createObjectURL(blob);\n",
              "      a.download = filename;\n",
              "      div.appendChild(a);\n",
              "      a.click();\n",
              "      div.remove();\n",
              "    }\n",
              "  "
            ],
            "text/plain": [
              "<IPython.core.display.Javascript object>"
            ]
          },
          "metadata": {
            "tags": []
          }
        },
        {
          "output_type": "display_data",
          "data": {
            "application/javascript": [
              "download(\"download_5a1397e3-dd65-4e83-ba06-b2533faa94f0\", \"submission.csv\", 4486)"
            ],
            "text/plain": [
              "<IPython.core.display.Javascript object>"
            ]
          },
          "metadata": {
            "tags": []
          }
        }
      ]
    },
    {
      "cell_type": "code",
      "metadata": {
        "id": "SNtKuZ3ryCnu"
      },
      "source": [
        ""
      ],
      "execution_count": null,
      "outputs": []
    }
  ]
}