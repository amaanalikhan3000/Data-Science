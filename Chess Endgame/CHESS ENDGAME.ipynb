{
  "nbformat": 4,
  "nbformat_minor": 0,
  "metadata": {
    "colab": {
      "name": "Datasprint39(84.923Score).ipynb",
      "provenance": [],
      "collapsed_sections": []
    },
    "kernelspec": {
      "name": "python3",
      "display_name": "Python 3"
    },
    "language_info": {
      "name": "python"
    },
    "accelerator": "GPU"
  },
  "cells": [
    {
      "cell_type": "code",
      "metadata": {
        "id": "WapHJ9UUxWhA"
      },
      "source": [
        "import pandas as pd"
      ],
      "execution_count": null,
      "outputs": []
    },
    {
      "cell_type": "code",
      "metadata": {
        "id": "QlcG7viEyEeu"
      },
      "source": [
        "import numpy as np\n"
      ],
      "execution_count": null,
      "outputs": []
    },
    {
      "cell_type": "code",
      "metadata": {
        "id": "3xzY4aLM-rXp"
      },
      "source": [
        "# !pip install --upgrade scikit-learn"
      ],
      "execution_count": null,
      "outputs": []
    },
    {
      "cell_type": "code",
      "metadata": {
        "id": "xN9DXVaWyFgO"
      },
      "source": [
        "import matplotlib.pyplot as plt"
      ],
      "execution_count": null,
      "outputs": []
    },
    {
      "cell_type": "code",
      "metadata": {
        "id": "gn_0kONPyHJt"
      },
      "source": [
        "df = pd.read_csv('/content/Train_Data.csv')"
      ],
      "execution_count": null,
      "outputs": []
    },
    {
      "cell_type": "code",
      "metadata": {
        "colab": {
          "base_uri": "https://localhost:8080/",
          "height": 223
        },
        "id": "-kcCAD7hyK4X",
        "outputId": "a15a1416-5948-42d4-af57-7d74b082f0c3"
      },
      "source": [
        "df.head()"
      ],
      "execution_count": null,
      "outputs": [
        {
          "output_type": "execute_result",
          "data": {
            "text/html": [
              "<div>\n",
              "<style scoped>\n",
              "    .dataframe tbody tr th:only-of-type {\n",
              "        vertical-align: middle;\n",
              "    }\n",
              "\n",
              "    .dataframe tbody tr th {\n",
              "        vertical-align: top;\n",
              "    }\n",
              "\n",
              "    .dataframe thead th {\n",
              "        text-align: right;\n",
              "    }\n",
              "</style>\n",
              "<table border=\"1\" class=\"dataframe\">\n",
              "  <thead>\n",
              "    <tr style=\"text-align: right;\">\n",
              "      <th></th>\n",
              "      <th>White King file</th>\n",
              "      <th>White King rank</th>\n",
              "      <th>White Rook file</th>\n",
              "      <th>White Rook rank</th>\n",
              "      <th>Black King file</th>\n",
              "      <th>Black King rank</th>\n",
              "      <th>optimal depth-of-win</th>\n",
              "    </tr>\n",
              "  </thead>\n",
              "  <tbody>\n",
              "    <tr>\n",
              "      <th>0</th>\n",
              "      <td>d</td>\n",
              "      <td>3</td>\n",
              "      <td>f</td>\n",
              "      <td>5</td>\n",
              "      <td>a</td>\n",
              "      <td>5</td>\n",
              "      <td>nine</td>\n",
              "    </tr>\n",
              "    <tr>\n",
              "      <th>1</th>\n",
              "      <td>d</td>\n",
              "      <td>3</td>\n",
              "      <td>e</td>\n",
              "      <td>5</td>\n",
              "      <td>f</td>\n",
              "      <td>2</td>\n",
              "      <td>eight</td>\n",
              "    </tr>\n",
              "    <tr>\n",
              "      <th>2</th>\n",
              "      <td>d</td>\n",
              "      <td>1</td>\n",
              "      <td>g</td>\n",
              "      <td>6</td>\n",
              "      <td>d</td>\n",
              "      <td>7</td>\n",
              "      <td>thirteen</td>\n",
              "    </tr>\n",
              "    <tr>\n",
              "      <th>3</th>\n",
              "      <td>c</td>\n",
              "      <td>2</td>\n",
              "      <td>e</td>\n",
              "      <td>8</td>\n",
              "      <td>a</td>\n",
              "      <td>4</td>\n",
              "      <td>ten</td>\n",
              "    </tr>\n",
              "    <tr>\n",
              "      <th>4</th>\n",
              "      <td>d</td>\n",
              "      <td>4</td>\n",
              "      <td>a</td>\n",
              "      <td>8</td>\n",
              "      <td>b</td>\n",
              "      <td>1</td>\n",
              "      <td>eight</td>\n",
              "    </tr>\n",
              "  </tbody>\n",
              "</table>\n",
              "</div>"
            ],
            "text/plain": [
              "  White King file  White King rank  ... Black King rank  optimal depth-of-win\n",
              "0               d                3  ...               5                  nine\n",
              "1               d                3  ...               2                 eight\n",
              "2               d                1  ...               7              thirteen\n",
              "3               c                2  ...               4                   ten\n",
              "4               d                4  ...               1                 eight\n",
              "\n",
              "[5 rows x 7 columns]"
            ]
          },
          "metadata": {
            "tags": []
          },
          "execution_count": 6
        }
      ]
    },
    {
      "cell_type": "code",
      "metadata": {
        "colab": {
          "base_uri": "https://localhost:8080/"
        },
        "id": "vzDGNlPbyL-E",
        "outputId": "0223785c-cc26-4166-8e78-e91db43f0a7d"
      },
      "source": [
        "df['optimal depth-of-win'].value_counts()"
      ],
      "execution_count": null,
      "outputs": [
        {
          "output_type": "execute_result",
          "data": {
            "text/plain": [
              "fourteen    3414\n",
              "thirteen    3145\n",
              "twelve      2698\n",
              "eleven      2141\n",
              "draw        2097\n",
              "fifteen     1625\n",
              "ten         1489\n",
              "nine        1284\n",
              "eight       1075\n",
              "seven        512\n",
              "six          444\n",
              "five         353\n",
              "sixteen      293\n",
              "two          184\n",
              "four         148\n",
              "three         61\n",
              "one           58\n",
              "zero          20\n",
              "Name: optimal depth-of-win, dtype: int64"
            ]
          },
          "metadata": {
            "tags": []
          },
          "execution_count": 7
        }
      ]
    },
    {
      "cell_type": "code",
      "metadata": {
        "colab": {
          "base_uri": "https://localhost:8080/"
        },
        "id": "20KPuPZcyR0A",
        "outputId": "76afd830-e8d9-4fbe-c59e-892e3bd75a64"
      },
      "source": [
        "df.isnull().sum()"
      ],
      "execution_count": null,
      "outputs": [
        {
          "output_type": "execute_result",
          "data": {
            "text/plain": [
              "White King file         0\n",
              "White King rank         0\n",
              "White Rook file         0\n",
              "White Rook rank         0\n",
              "Black King file         0\n",
              "Black King rank         0\n",
              "optimal depth-of-win    0\n",
              "dtype: int64"
            ]
          },
          "metadata": {
            "tags": []
          },
          "execution_count": 8
        }
      ]
    },
    {
      "cell_type": "code",
      "metadata": {
        "colab": {
          "base_uri": "https://localhost:8080/",
          "height": 143
        },
        "id": "azHETzxnyXw1",
        "outputId": "c7286f5c-b913-402f-c0c2-25008a71ba11"
      },
      "source": [
        "df.corr()"
      ],
      "execution_count": null,
      "outputs": [
        {
          "output_type": "execute_result",
          "data": {
            "text/html": [
              "<div>\n",
              "<style scoped>\n",
              "    .dataframe tbody tr th:only-of-type {\n",
              "        vertical-align: middle;\n",
              "    }\n",
              "\n",
              "    .dataframe tbody tr th {\n",
              "        vertical-align: top;\n",
              "    }\n",
              "\n",
              "    .dataframe thead th {\n",
              "        text-align: right;\n",
              "    }\n",
              "</style>\n",
              "<table border=\"1\" class=\"dataframe\">\n",
              "  <thead>\n",
              "    <tr style=\"text-align: right;\">\n",
              "      <th></th>\n",
              "      <th>White King rank</th>\n",
              "      <th>White Rook rank</th>\n",
              "      <th>Black King rank</th>\n",
              "    </tr>\n",
              "  </thead>\n",
              "  <tbody>\n",
              "    <tr>\n",
              "      <th>White King rank</th>\n",
              "      <td>1.000000</td>\n",
              "      <td>-0.014207</td>\n",
              "      <td>-0.128245</td>\n",
              "    </tr>\n",
              "    <tr>\n",
              "      <th>White Rook rank</th>\n",
              "      <td>-0.014207</td>\n",
              "      <td>1.000000</td>\n",
              "      <td>-0.024469</td>\n",
              "    </tr>\n",
              "    <tr>\n",
              "      <th>Black King rank</th>\n",
              "      <td>-0.128245</td>\n",
              "      <td>-0.024469</td>\n",
              "      <td>1.000000</td>\n",
              "    </tr>\n",
              "  </tbody>\n",
              "</table>\n",
              "</div>"
            ],
            "text/plain": [
              "                 White King rank  White Rook rank  Black King rank\n",
              "White King rank         1.000000        -0.014207        -0.128245\n",
              "White Rook rank        -0.014207         1.000000        -0.024469\n",
              "Black King rank        -0.128245        -0.024469         1.000000"
            ]
          },
          "metadata": {
            "tags": []
          },
          "execution_count": 9
        }
      ]
    },
    {
      "cell_type": "code",
      "metadata": {
        "colab": {
          "base_uri": "https://localhost:8080/"
        },
        "id": "3OWcj2XjyZm_",
        "outputId": "996f418e-48b6-4967-a74d-24ecc7c52c11"
      },
      "source": [
        "df['White King file'].unique()"
      ],
      "execution_count": null,
      "outputs": [
        {
          "output_type": "execute_result",
          "data": {
            "text/plain": [
              "array(['d', 'c', 'a', 'b'], dtype=object)"
            ]
          },
          "metadata": {
            "tags": []
          },
          "execution_count": 10
        }
      ]
    },
    {
      "cell_type": "code",
      "metadata": {
        "colab": {
          "base_uri": "https://localhost:8080/"
        },
        "id": "YtKs5DS5yi6D",
        "outputId": "972a8838-5d73-46ab-8923-c50ba0bc7823"
      },
      "source": [
        "for cols in df:\n",
        "  print(cols)\n",
        "  print(df[cols].unique())"
      ],
      "execution_count": null,
      "outputs": [
        {
          "output_type": "stream",
          "text": [
            "White King file\n",
            "['d' 'c' 'a' 'b']\n",
            "White King rank\n",
            "[3 1 2 4]\n",
            "White Rook file\n",
            "['f' 'e' 'g' 'a' 'c' 'h' 'd' 'b']\n",
            "White Rook rank\n",
            "[5 6 8 4 7 2 3 1]\n",
            "Black King file\n",
            "['a' 'f' 'd' 'b' 'h' 'g' 'e' 'c']\n",
            "Black King rank\n",
            "[5 2 7 4 1 3 8 6]\n",
            "optimal depth-of-win\n",
            "['nine' 'eight' 'thirteen' 'ten' 'eleven' 'fifteen' 'fourteen' 'draw'\n",
            " 'twelve' 'three' 'seven' 'one' 'four' 'six' 'two' 'five' 'sixteen' 'zero']\n"
          ],
          "name": "stdout"
        }
      ]
    },
    {
      "cell_type": "code",
      "metadata": {
        "id": "k-7FFafMytvO"
      },
      "source": [
        "yes_no_columns = ['White Rook file','Black King file']\n",
        "for col in yes_no_columns:\n",
        "    df[col].replace({'a': 1,'b': 2,'c':3,'d':4,'e':5,'f':6,'g':7,'h':8},inplace=True)"
      ],
      "execution_count": null,
      "outputs": []
    },
    {
      "cell_type": "code",
      "metadata": {
        "colab": {
          "base_uri": "https://localhost:8080/"
        },
        "id": "8HX2Ib-62ffr",
        "outputId": "4177e56b-f43b-440c-d60d-35b7ec540bf6"
      },
      "source": [
        "for cols in df:\n",
        "  print(cols)\n",
        "  print(df[cols].unique())"
      ],
      "execution_count": null,
      "outputs": [
        {
          "output_type": "stream",
          "text": [
            "White King file\n",
            "['d' 'c' 'a' 'b']\n",
            "White King rank\n",
            "[3 1 2 4]\n",
            "White Rook file\n",
            "[6 5 7 1 3 8 4 2]\n",
            "White Rook rank\n",
            "[5 6 8 4 7 2 3 1]\n",
            "Black King file\n",
            "[1 6 4 2 8 7 5 3]\n",
            "Black King rank\n",
            "[5 2 7 4 1 3 8 6]\n",
            "optimal depth-of-win\n",
            "['nine' 'eight' 'thirteen' 'ten' 'eleven' 'fifteen' 'fourteen' 'draw'\n",
            " 'twelve' 'three' 'seven' 'one' 'four' 'six' 'two' 'five' 'sixteen' 'zero']\n"
          ],
          "name": "stdout"
        }
      ]
    },
    {
      "cell_type": "code",
      "metadata": {
        "id": "uERsZYTC2hg4"
      },
      "source": [
        "df['White King file'].replace({'d':4,'c':3,'b':2,'a':1},inplace=True)"
      ],
      "execution_count": null,
      "outputs": []
    },
    {
      "cell_type": "code",
      "metadata": {
        "colab": {
          "base_uri": "https://localhost:8080/"
        },
        "id": "z-JueZiv2-w8",
        "outputId": "476ceab7-5ee9-4614-bb47-cf1a1ab1480b"
      },
      "source": [
        "for cols in df:\n",
        "  print(cols)\n",
        "  print(df[cols].unique())"
      ],
      "execution_count": null,
      "outputs": [
        {
          "output_type": "stream",
          "text": [
            "White King file\n",
            "[4 3 1 2]\n",
            "White King rank\n",
            "[3 1 2 4]\n",
            "White Rook file\n",
            "[6 5 7 1 3 8 4 2]\n",
            "White Rook rank\n",
            "[5 6 8 4 7 2 3 1]\n",
            "Black King file\n",
            "[1 6 4 2 8 7 5 3]\n",
            "Black King rank\n",
            "[5 2 7 4 1 3 8 6]\n",
            "optimal depth-of-win\n",
            "['nine' 'eight' 'thirteen' 'ten' 'eleven' 'fifteen' 'fourteen' 'draw'\n",
            " 'twelve' 'three' 'seven' 'one' 'four' 'six' 'two' 'five' 'sixteen' 'zero']\n"
          ],
          "name": "stdout"
        }
      ]
    },
    {
      "cell_type": "code",
      "metadata": {
        "id": "H0LoT2u-3El3"
      },
      "source": [
        ""
      ],
      "execution_count": null,
      "outputs": []
    },
    {
      "cell_type": "code",
      "metadata": {
        "id": "kWidmJpu4V1e"
      },
      "source": [
        "\n"
      ],
      "execution_count": null,
      "outputs": []
    },
    {
      "cell_type": "code",
      "metadata": {
        "colab": {
          "base_uri": "https://localhost:8080/",
          "height": 441
        },
        "id": "nPgGHb1W5bFo",
        "outputId": "acb944f9-1e08-45ce-aa6f-7a5a9c923b88"
      },
      "source": [
        "df"
      ],
      "execution_count": null,
      "outputs": [
        {
          "output_type": "execute_result",
          "data": {
            "text/html": [
              "<div>\n",
              "<style scoped>\n",
              "    .dataframe tbody tr th:only-of-type {\n",
              "        vertical-align: middle;\n",
              "    }\n",
              "\n",
              "    .dataframe tbody tr th {\n",
              "        vertical-align: top;\n",
              "    }\n",
              "\n",
              "    .dataframe thead th {\n",
              "        text-align: right;\n",
              "    }\n",
              "</style>\n",
              "<table border=\"1\" class=\"dataframe\">\n",
              "  <thead>\n",
              "    <tr style=\"text-align: right;\">\n",
              "      <th></th>\n",
              "      <th>White King file</th>\n",
              "      <th>White King rank</th>\n",
              "      <th>White Rook file</th>\n",
              "      <th>White Rook rank</th>\n",
              "      <th>Black King file</th>\n",
              "      <th>Black King rank</th>\n",
              "      <th>optimal depth-of-win</th>\n",
              "    </tr>\n",
              "  </thead>\n",
              "  <tbody>\n",
              "    <tr>\n",
              "      <th>0</th>\n",
              "      <td>4</td>\n",
              "      <td>3</td>\n",
              "      <td>6</td>\n",
              "      <td>5</td>\n",
              "      <td>1</td>\n",
              "      <td>5</td>\n",
              "      <td>nine</td>\n",
              "    </tr>\n",
              "    <tr>\n",
              "      <th>1</th>\n",
              "      <td>4</td>\n",
              "      <td>3</td>\n",
              "      <td>5</td>\n",
              "      <td>5</td>\n",
              "      <td>6</td>\n",
              "      <td>2</td>\n",
              "      <td>eight</td>\n",
              "    </tr>\n",
              "    <tr>\n",
              "      <th>2</th>\n",
              "      <td>4</td>\n",
              "      <td>1</td>\n",
              "      <td>7</td>\n",
              "      <td>6</td>\n",
              "      <td>4</td>\n",
              "      <td>7</td>\n",
              "      <td>thirteen</td>\n",
              "    </tr>\n",
              "    <tr>\n",
              "      <th>3</th>\n",
              "      <td>3</td>\n",
              "      <td>2</td>\n",
              "      <td>5</td>\n",
              "      <td>8</td>\n",
              "      <td>1</td>\n",
              "      <td>4</td>\n",
              "      <td>ten</td>\n",
              "    </tr>\n",
              "    <tr>\n",
              "      <th>4</th>\n",
              "      <td>4</td>\n",
              "      <td>4</td>\n",
              "      <td>1</td>\n",
              "      <td>8</td>\n",
              "      <td>2</td>\n",
              "      <td>1</td>\n",
              "      <td>eight</td>\n",
              "    </tr>\n",
              "    <tr>\n",
              "      <th>...</th>\n",
              "      <td>...</td>\n",
              "      <td>...</td>\n",
              "      <td>...</td>\n",
              "      <td>...</td>\n",
              "      <td>...</td>\n",
              "      <td>...</td>\n",
              "      <td>...</td>\n",
              "    </tr>\n",
              "    <tr>\n",
              "      <th>21036</th>\n",
              "      <td>4</td>\n",
              "      <td>3</td>\n",
              "      <td>4</td>\n",
              "      <td>1</td>\n",
              "      <td>4</td>\n",
              "      <td>6</td>\n",
              "      <td>twelve</td>\n",
              "    </tr>\n",
              "    <tr>\n",
              "      <th>21037</th>\n",
              "      <td>4</td>\n",
              "      <td>3</td>\n",
              "      <td>6</td>\n",
              "      <td>4</td>\n",
              "      <td>1</td>\n",
              "      <td>3</td>\n",
              "      <td>five</td>\n",
              "    </tr>\n",
              "    <tr>\n",
              "      <th>21038</th>\n",
              "      <td>2</td>\n",
              "      <td>1</td>\n",
              "      <td>8</td>\n",
              "      <td>4</td>\n",
              "      <td>8</td>\n",
              "      <td>1</td>\n",
              "      <td>ten</td>\n",
              "    </tr>\n",
              "    <tr>\n",
              "      <th>21039</th>\n",
              "      <td>3</td>\n",
              "      <td>1</td>\n",
              "      <td>8</td>\n",
              "      <td>7</td>\n",
              "      <td>3</td>\n",
              "      <td>5</td>\n",
              "      <td>fourteen</td>\n",
              "    </tr>\n",
              "    <tr>\n",
              "      <th>21040</th>\n",
              "      <td>3</td>\n",
              "      <td>2</td>\n",
              "      <td>3</td>\n",
              "      <td>6</td>\n",
              "      <td>7</td>\n",
              "      <td>3</td>\n",
              "      <td>twelve</td>\n",
              "    </tr>\n",
              "  </tbody>\n",
              "</table>\n",
              "<p>21041 rows × 7 columns</p>\n",
              "</div>"
            ],
            "text/plain": [
              "       White King file  White King rank  ...  Black King rank  optimal depth-of-win\n",
              "0                    4                3  ...                5                  nine\n",
              "1                    4                3  ...                2                 eight\n",
              "2                    4                1  ...                7              thirteen\n",
              "3                    3                2  ...                4                   ten\n",
              "4                    4                4  ...                1                 eight\n",
              "...                ...              ...  ...              ...                   ...\n",
              "21036                4                3  ...                6                twelve\n",
              "21037                4                3  ...                3                  five\n",
              "21038                2                1  ...                1                   ten\n",
              "21039                3                1  ...                5              fourteen\n",
              "21040                3                2  ...                3                twelve\n",
              "\n",
              "[21041 rows x 7 columns]"
            ]
          },
          "metadata": {
            "tags": []
          },
          "execution_count": 16
        }
      ]
    },
    {
      "cell_type": "code",
      "metadata": {
        "id": "rX8XrNfT51A2"
      },
      "source": [
        "X = df.drop(['optimal depth-of-win'],axis=1)"
      ],
      "execution_count": null,
      "outputs": []
    },
    {
      "cell_type": "code",
      "metadata": {
        "id": "M5CCt1zs56W1"
      },
      "source": [
        "y = df['optimal depth-of-win']"
      ],
      "execution_count": null,
      "outputs": []
    },
    {
      "cell_type": "code",
      "metadata": {
        "colab": {
          "base_uri": "https://localhost:8080/",
          "height": 423
        },
        "id": "t2WZR2xv5_xi",
        "outputId": "61f7721d-0799-42f9-d1bc-8394c6418e24"
      },
      "source": [
        "X"
      ],
      "execution_count": null,
      "outputs": [
        {
          "output_type": "execute_result",
          "data": {
            "text/html": [
              "<div>\n",
              "<style scoped>\n",
              "    .dataframe tbody tr th:only-of-type {\n",
              "        vertical-align: middle;\n",
              "    }\n",
              "\n",
              "    .dataframe tbody tr th {\n",
              "        vertical-align: top;\n",
              "    }\n",
              "\n",
              "    .dataframe thead th {\n",
              "        text-align: right;\n",
              "    }\n",
              "</style>\n",
              "<table border=\"1\" class=\"dataframe\">\n",
              "  <thead>\n",
              "    <tr style=\"text-align: right;\">\n",
              "      <th></th>\n",
              "      <th>White King file</th>\n",
              "      <th>White King rank</th>\n",
              "      <th>White Rook file</th>\n",
              "      <th>White Rook rank</th>\n",
              "      <th>Black King file</th>\n",
              "      <th>Black King rank</th>\n",
              "    </tr>\n",
              "  </thead>\n",
              "  <tbody>\n",
              "    <tr>\n",
              "      <th>0</th>\n",
              "      <td>4</td>\n",
              "      <td>3</td>\n",
              "      <td>6</td>\n",
              "      <td>5</td>\n",
              "      <td>1</td>\n",
              "      <td>5</td>\n",
              "    </tr>\n",
              "    <tr>\n",
              "      <th>1</th>\n",
              "      <td>4</td>\n",
              "      <td>3</td>\n",
              "      <td>5</td>\n",
              "      <td>5</td>\n",
              "      <td>6</td>\n",
              "      <td>2</td>\n",
              "    </tr>\n",
              "    <tr>\n",
              "      <th>2</th>\n",
              "      <td>4</td>\n",
              "      <td>1</td>\n",
              "      <td>7</td>\n",
              "      <td>6</td>\n",
              "      <td>4</td>\n",
              "      <td>7</td>\n",
              "    </tr>\n",
              "    <tr>\n",
              "      <th>3</th>\n",
              "      <td>3</td>\n",
              "      <td>2</td>\n",
              "      <td>5</td>\n",
              "      <td>8</td>\n",
              "      <td>1</td>\n",
              "      <td>4</td>\n",
              "    </tr>\n",
              "    <tr>\n",
              "      <th>4</th>\n",
              "      <td>4</td>\n",
              "      <td>4</td>\n",
              "      <td>1</td>\n",
              "      <td>8</td>\n",
              "      <td>2</td>\n",
              "      <td>1</td>\n",
              "    </tr>\n",
              "    <tr>\n",
              "      <th>...</th>\n",
              "      <td>...</td>\n",
              "      <td>...</td>\n",
              "      <td>...</td>\n",
              "      <td>...</td>\n",
              "      <td>...</td>\n",
              "      <td>...</td>\n",
              "    </tr>\n",
              "    <tr>\n",
              "      <th>21036</th>\n",
              "      <td>4</td>\n",
              "      <td>3</td>\n",
              "      <td>4</td>\n",
              "      <td>1</td>\n",
              "      <td>4</td>\n",
              "      <td>6</td>\n",
              "    </tr>\n",
              "    <tr>\n",
              "      <th>21037</th>\n",
              "      <td>4</td>\n",
              "      <td>3</td>\n",
              "      <td>6</td>\n",
              "      <td>4</td>\n",
              "      <td>1</td>\n",
              "      <td>3</td>\n",
              "    </tr>\n",
              "    <tr>\n",
              "      <th>21038</th>\n",
              "      <td>2</td>\n",
              "      <td>1</td>\n",
              "      <td>8</td>\n",
              "      <td>4</td>\n",
              "      <td>8</td>\n",
              "      <td>1</td>\n",
              "    </tr>\n",
              "    <tr>\n",
              "      <th>21039</th>\n",
              "      <td>3</td>\n",
              "      <td>1</td>\n",
              "      <td>8</td>\n",
              "      <td>7</td>\n",
              "      <td>3</td>\n",
              "      <td>5</td>\n",
              "    </tr>\n",
              "    <tr>\n",
              "      <th>21040</th>\n",
              "      <td>3</td>\n",
              "      <td>2</td>\n",
              "      <td>3</td>\n",
              "      <td>6</td>\n",
              "      <td>7</td>\n",
              "      <td>3</td>\n",
              "    </tr>\n",
              "  </tbody>\n",
              "</table>\n",
              "<p>21041 rows × 6 columns</p>\n",
              "</div>"
            ],
            "text/plain": [
              "       White King file  White King rank  ...  Black King file  Black King rank\n",
              "0                    4                3  ...                1                5\n",
              "1                    4                3  ...                6                2\n",
              "2                    4                1  ...                4                7\n",
              "3                    3                2  ...                1                4\n",
              "4                    4                4  ...                2                1\n",
              "...                ...              ...  ...              ...              ...\n",
              "21036                4                3  ...                4                6\n",
              "21037                4                3  ...                1                3\n",
              "21038                2                1  ...                8                1\n",
              "21039                3                1  ...                3                5\n",
              "21040                3                2  ...                7                3\n",
              "\n",
              "[21041 rows x 6 columns]"
            ]
          },
          "metadata": {
            "tags": []
          },
          "execution_count": 19
        }
      ]
    },
    {
      "cell_type": "code",
      "metadata": {
        "colab": {
          "base_uri": "https://localhost:8080/"
        },
        "id": "h298ewjj6Cbw",
        "outputId": "33ce457a-7128-4c2e-85c4-f40283a6478a"
      },
      "source": [
        "y"
      ],
      "execution_count": null,
      "outputs": [
        {
          "output_type": "execute_result",
          "data": {
            "text/plain": [
              "0            nine\n",
              "1           eight\n",
              "2        thirteen\n",
              "3             ten\n",
              "4           eight\n",
              "           ...   \n",
              "21036      twelve\n",
              "21037        five\n",
              "21038         ten\n",
              "21039    fourteen\n",
              "21040      twelve\n",
              "Name: optimal depth-of-win, Length: 21041, dtype: object"
            ]
          },
          "metadata": {
            "tags": []
          },
          "execution_count": 20
        }
      ]
    },
    {
      "cell_type": "code",
      "metadata": {
        "id": "DH_ReIJf6C0z"
      },
      "source": [
        "y.replace({'zero':0,'one':1,'two':2,'three':3,'four':4,'five':5,'six':6,'seven':7,'eight':8,'nine':9,'ten':10,'eleven':11,'twelve':12,'thirteen':13,'fourteen':14,'fifteen':15,'sixteen':16,'draw':17},inplace=True)"
      ],
      "execution_count": null,
      "outputs": []
    },
    {
      "cell_type": "code",
      "metadata": {
        "colab": {
          "base_uri": "https://localhost:8080/"
        },
        "id": "IIHSOEql6KBe",
        "outputId": "afa71fa6-f6f4-4b52-983c-0cf436e12c64"
      },
      "source": [
        "y.value_counts()"
      ],
      "execution_count": null,
      "outputs": [
        {
          "output_type": "execute_result",
          "data": {
            "text/plain": [
              "14    3414\n",
              "13    3145\n",
              "12    2698\n",
              "11    2141\n",
              "17    2097\n",
              "15    1625\n",
              "10    1489\n",
              "9     1284\n",
              "8     1075\n",
              "7      512\n",
              "6      444\n",
              "5      353\n",
              "16     293\n",
              "2      184\n",
              "4      148\n",
              "3       61\n",
              "1       58\n",
              "0       20\n",
              "Name: optimal depth-of-win, dtype: int64"
            ]
          },
          "metadata": {
            "tags": []
          },
          "execution_count": 22
        }
      ]
    },
    {
      "cell_type": "code",
      "metadata": {
        "id": "RQ0zIdPS8nNf"
      },
      "source": [
        "# !pip install imbalanced-learn\n",
        "  "
      ],
      "execution_count": null,
      "outputs": []
    },
    {
      "cell_type": "code",
      "metadata": {
        "id": "UjX0rHgC9Rn9"
      },
      "source": [
        "from sklearn.preprocessing import MinMaxScaler\n",
        "\n",
        "from sklearn.preprocessing import StandardScaler\n",
        "scaler = MinMaxScaler()\n",
        "\n",
        "# scaler = StandardScaler()\n",
        "\n",
        "\n",
        "cols_to_scale = ['White King file','White King rank','White Rook file','White Rook rank','Black King file','Black King rank']\n",
        "\n",
        "\n",
        "\n",
        "X[cols_to_scale] = scaler.fit_transform(X[cols_to_scale])"
      ],
      "execution_count": null,
      "outputs": []
    },
    {
      "cell_type": "code",
      "metadata": {
        "colab": {
          "base_uri": "https://localhost:8080/",
          "height": 206
        },
        "id": "PMEqitVd9aFM",
        "outputId": "f3091131-c4a9-4857-d775-40c9946c8433"
      },
      "source": [
        "X.head()"
      ],
      "execution_count": null,
      "outputs": [
        {
          "output_type": "execute_result",
          "data": {
            "text/html": [
              "<div>\n",
              "<style scoped>\n",
              "    .dataframe tbody tr th:only-of-type {\n",
              "        vertical-align: middle;\n",
              "    }\n",
              "\n",
              "    .dataframe tbody tr th {\n",
              "        vertical-align: top;\n",
              "    }\n",
              "\n",
              "    .dataframe thead th {\n",
              "        text-align: right;\n",
              "    }\n",
              "</style>\n",
              "<table border=\"1\" class=\"dataframe\">\n",
              "  <thead>\n",
              "    <tr style=\"text-align: right;\">\n",
              "      <th></th>\n",
              "      <th>White King file</th>\n",
              "      <th>White King rank</th>\n",
              "      <th>White Rook file</th>\n",
              "      <th>White Rook rank</th>\n",
              "      <th>Black King file</th>\n",
              "      <th>Black King rank</th>\n",
              "    </tr>\n",
              "  </thead>\n",
              "  <tbody>\n",
              "    <tr>\n",
              "      <th>0</th>\n",
              "      <td>1.000000</td>\n",
              "      <td>0.666667</td>\n",
              "      <td>0.714286</td>\n",
              "      <td>0.571429</td>\n",
              "      <td>0.000000</td>\n",
              "      <td>0.571429</td>\n",
              "    </tr>\n",
              "    <tr>\n",
              "      <th>1</th>\n",
              "      <td>1.000000</td>\n",
              "      <td>0.666667</td>\n",
              "      <td>0.571429</td>\n",
              "      <td>0.571429</td>\n",
              "      <td>0.714286</td>\n",
              "      <td>0.142857</td>\n",
              "    </tr>\n",
              "    <tr>\n",
              "      <th>2</th>\n",
              "      <td>1.000000</td>\n",
              "      <td>0.000000</td>\n",
              "      <td>0.857143</td>\n",
              "      <td>0.714286</td>\n",
              "      <td>0.428571</td>\n",
              "      <td>0.857143</td>\n",
              "    </tr>\n",
              "    <tr>\n",
              "      <th>3</th>\n",
              "      <td>0.666667</td>\n",
              "      <td>0.333333</td>\n",
              "      <td>0.571429</td>\n",
              "      <td>1.000000</td>\n",
              "      <td>0.000000</td>\n",
              "      <td>0.428571</td>\n",
              "    </tr>\n",
              "    <tr>\n",
              "      <th>4</th>\n",
              "      <td>1.000000</td>\n",
              "      <td>1.000000</td>\n",
              "      <td>0.000000</td>\n",
              "      <td>1.000000</td>\n",
              "      <td>0.142857</td>\n",
              "      <td>0.000000</td>\n",
              "    </tr>\n",
              "  </tbody>\n",
              "</table>\n",
              "</div>"
            ],
            "text/plain": [
              "   White King file  White King rank  ...  Black King file  Black King rank\n",
              "0         1.000000         0.666667  ...         0.000000         0.571429\n",
              "1         1.000000         0.666667  ...         0.714286         0.142857\n",
              "2         1.000000         0.000000  ...         0.428571         0.857143\n",
              "3         0.666667         0.333333  ...         0.000000         0.428571\n",
              "4         1.000000         1.000000  ...         0.142857         0.000000\n",
              "\n",
              "[5 rows x 6 columns]"
            ]
          },
          "metadata": {
            "tags": []
          },
          "execution_count": 25
        }
      ]
    },
    {
      "cell_type": "code",
      "metadata": {
        "colab": {
          "base_uri": "https://localhost:8080/",
          "height": 307
        },
        "id": "aiRqLKDK_32R",
        "outputId": "a9687bbc-e036-4493-98be-34937b80a2f1"
      },
      "source": [
        "X.corr()"
      ],
      "execution_count": null,
      "outputs": [
        {
          "output_type": "execute_result",
          "data": {
            "text/html": [
              "<div>\n",
              "<style scoped>\n",
              "    .dataframe tbody tr th:only-of-type {\n",
              "        vertical-align: middle;\n",
              "    }\n",
              "\n",
              "    .dataframe tbody tr th {\n",
              "        vertical-align: top;\n",
              "    }\n",
              "\n",
              "    .dataframe thead th {\n",
              "        text-align: right;\n",
              "    }\n",
              "</style>\n",
              "<table border=\"1\" class=\"dataframe\">\n",
              "  <thead>\n",
              "    <tr style=\"text-align: right;\">\n",
              "      <th></th>\n",
              "      <th>White King file</th>\n",
              "      <th>White King rank</th>\n",
              "      <th>White Rook file</th>\n",
              "      <th>White Rook rank</th>\n",
              "      <th>Black King file</th>\n",
              "      <th>Black King rank</th>\n",
              "    </tr>\n",
              "  </thead>\n",
              "  <tbody>\n",
              "    <tr>\n",
              "      <th>White King file</th>\n",
              "      <td>1.000000</td>\n",
              "      <td>0.454398</td>\n",
              "      <td>-0.014393</td>\n",
              "      <td>0.002862</td>\n",
              "      <td>-0.136801</td>\n",
              "      <td>0.099432</td>\n",
              "    </tr>\n",
              "    <tr>\n",
              "      <th>White King rank</th>\n",
              "      <td>0.454398</td>\n",
              "      <td>1.000000</td>\n",
              "      <td>0.002117</td>\n",
              "      <td>-0.014207</td>\n",
              "      <td>0.102839</td>\n",
              "      <td>-0.128245</td>\n",
              "    </tr>\n",
              "    <tr>\n",
              "      <th>White Rook file</th>\n",
              "      <td>-0.014393</td>\n",
              "      <td>0.002117</td>\n",
              "      <td>1.000000</td>\n",
              "      <td>-0.009978</td>\n",
              "      <td>-0.017262</td>\n",
              "      <td>0.006583</td>\n",
              "    </tr>\n",
              "    <tr>\n",
              "      <th>White Rook rank</th>\n",
              "      <td>0.002862</td>\n",
              "      <td>-0.014207</td>\n",
              "      <td>-0.009978</td>\n",
              "      <td>1.000000</td>\n",
              "      <td>0.002253</td>\n",
              "      <td>-0.024469</td>\n",
              "    </tr>\n",
              "    <tr>\n",
              "      <th>Black King file</th>\n",
              "      <td>-0.136801</td>\n",
              "      <td>0.102839</td>\n",
              "      <td>-0.017262</td>\n",
              "      <td>0.002253</td>\n",
              "      <td>1.000000</td>\n",
              "      <td>-0.072938</td>\n",
              "    </tr>\n",
              "    <tr>\n",
              "      <th>Black King rank</th>\n",
              "      <td>0.099432</td>\n",
              "      <td>-0.128245</td>\n",
              "      <td>0.006583</td>\n",
              "      <td>-0.024469</td>\n",
              "      <td>-0.072938</td>\n",
              "      <td>1.000000</td>\n",
              "    </tr>\n",
              "  </tbody>\n",
              "</table>\n",
              "</div>"
            ],
            "text/plain": [
              "                 White King file  ...  Black King rank\n",
              "White King file         1.000000  ...         0.099432\n",
              "White King rank         0.454398  ...        -0.128245\n",
              "White Rook file        -0.014393  ...         0.006583\n",
              "White Rook rank         0.002862  ...        -0.024469\n",
              "Black King file        -0.136801  ...        -0.072938\n",
              "Black King rank         0.099432  ...         1.000000\n",
              "\n",
              "[6 rows x 6 columns]"
            ]
          },
          "metadata": {
            "tags": []
          },
          "execution_count": 26
        }
      ]
    },
    {
      "cell_type": "code",
      "metadata": {
        "id": "EGi_dTg8ACrG"
      },
      "source": [
        "from sklearn.model_selection import train_test_split\n",
        "X_train, X_test, y_train, y_test = train_test_split(X, y, test_size=0.25, random_state=15, stratify=y)"
      ],
      "execution_count": null,
      "outputs": []
    },
    {
      "cell_type": "code",
      "metadata": {
        "colab": {
          "base_uri": "https://localhost:8080/"
        },
        "id": "vtTPelzhC8UO",
        "outputId": "01d69b6a-1071-4acf-9963-17833438b5c9"
      },
      "source": [
        "X_train.shape"
      ],
      "execution_count": null,
      "outputs": [
        {
          "output_type": "execute_result",
          "data": {
            "text/plain": [
              "(15780, 6)"
            ]
          },
          "metadata": {
            "tags": []
          },
          "execution_count": 28
        }
      ]
    },
    {
      "cell_type": "code",
      "metadata": {
        "colab": {
          "base_uri": "https://localhost:8080/"
        },
        "id": "OFi9dnOkC9Z4",
        "outputId": "ec1d3a0e-ab32-4a54-84fc-ca73c4ab92b3"
      },
      "source": [
        "X_test.shape"
      ],
      "execution_count": null,
      "outputs": [
        {
          "output_type": "execute_result",
          "data": {
            "text/plain": [
              "(5261, 6)"
            ]
          },
          "metadata": {
            "tags": []
          },
          "execution_count": 29
        }
      ]
    },
    {
      "cell_type": "code",
      "metadata": {
        "colab": {
          "base_uri": "https://localhost:8080/"
        },
        "id": "pR8HvfNJC_6D",
        "outputId": "511e4fff-8539-4295-af7b-6375cd90f28e"
      },
      "source": [
        "\n",
        "\n",
        "y_train.shape"
      ],
      "execution_count": null,
      "outputs": [
        {
          "output_type": "execute_result",
          "data": {
            "text/plain": [
              "(15780,)"
            ]
          },
          "metadata": {
            "tags": []
          },
          "execution_count": 30
        }
      ]
    },
    {
      "cell_type": "code",
      "metadata": {
        "colab": {
          "base_uri": "https://localhost:8080/"
        },
        "id": "bclnxxVeDFKC",
        "outputId": "4efd3736-d284-42fb-99de-729fbcc06139"
      },
      "source": [
        "y_test.shape"
      ],
      "execution_count": null,
      "outputs": [
        {
          "output_type": "execute_result",
          "data": {
            "text/plain": [
              "(5261,)"
            ]
          },
          "metadata": {
            "tags": []
          },
          "execution_count": 31
        }
      ]
    },
    {
      "cell_type": "code",
      "metadata": {
        "id": "D-wBcL-TDGTv"
      },
      "source": [
        ""
      ],
      "execution_count": null,
      "outputs": []
    },
    {
      "cell_type": "code",
      "metadata": {
        "id": "-Ngrw93NEoWz"
      },
      "source": [
        ""
      ],
      "execution_count": null,
      "outputs": []
    },
    {
      "cell_type": "code",
      "metadata": {
        "id": "m5i-22N3Dp4r"
      },
      "source": [
        ""
      ],
      "execution_count": null,
      "outputs": []
    },
    {
      "cell_type": "code",
      "metadata": {
        "id": "XDin3TolD7Qa"
      },
      "source": [
        ""
      ],
      "execution_count": null,
      "outputs": []
    },
    {
      "cell_type": "code",
      "metadata": {
        "id": "S8hevrM2E6A6"
      },
      "source": [
        ""
      ],
      "execution_count": null,
      "outputs": []
    },
    {
      "cell_type": "code",
      "metadata": {
        "id": "pZu7w-drFbW8"
      },
      "source": [
        "\n",
        "from xgboost import XGBClassifier\n",
        "from sklearn.model_selection import train_test_split\n",
        "from sklearn.metrics import accuracy_score"
      ],
      "execution_count": null,
      "outputs": []
    },
    {
      "cell_type": "code",
      "metadata": {
        "colab": {
          "base_uri": "https://localhost:8080/"
        },
        "id": "V5pHUX21I4XD",
        "outputId": "d78a75b7-a121-4636-9948-9d46d278629d"
      },
      "source": [
        "\n",
        "# fit model no training data\n",
        "model = XGBClassifier()\n",
        "model.fit(X_train, y_train)"
      ],
      "execution_count": null,
      "outputs": [
        {
          "output_type": "execute_result",
          "data": {
            "text/plain": [
              "XGBClassifier(base_score=0.5, booster='gbtree', colsample_bylevel=1,\n",
              "              colsample_bynode=1, colsample_bytree=1, gamma=0, gpu_id=-1,\n",
              "              importance_type='gain', interaction_constraints='',\n",
              "              learning_rate=0.300000012, max_delta_step=0, max_depth=6,\n",
              "              min_child_weight=1, missing=nan, monotone_constraints='()',\n",
              "              n_estimators=100, n_jobs=0, num_parallel_tree=1,\n",
              "              objective='multi:softprob', random_state=0, reg_alpha=0,\n",
              "              reg_lambda=1, scale_pos_weight=None, subsample=1,\n",
              "              tree_method='exact', validate_parameters=1, verbosity=None)"
            ]
          },
          "metadata": {
            "tags": []
          },
          "execution_count": 38
        }
      ]
    },
    {
      "cell_type": "code",
      "metadata": {
        "id": "nYoLAAngI-Tx"
      },
      "source": [
        "y_pred = model.predict(X_test)\n",
        "predictions = [round(value) for value in y_pred]\n",
        "from sklearn.metrics import f1_score\n"
      ],
      "execution_count": null,
      "outputs": []
    },
    {
      "cell_type": "code",
      "metadata": {
        "id": "yrENxKB3JEda",
        "colab": {
          "base_uri": "https://localhost:8080/"
        },
        "outputId": "ac51bdaa-e11f-4567-f95c-917dbe110ad6"
      },
      "source": [
        "predictions"
      ],
      "execution_count": null,
      "outputs": [
        {
          "output_type": "execute_result",
          "data": {
            "text/plain": [
              "[14,\n",
              " 2,\n",
              " 17,\n",
              " 6,\n",
              " 17,\n",
              " 8,\n",
              " 11,\n",
              " 14,\n",
              " 14,\n",
              " 13,\n",
              " 14,\n",
              " 13,\n",
              " 11,\n",
              " 9,\n",
              " 13,\n",
              " 13,\n",
              " 14,\n",
              " 14,\n",
              " 10,\n",
              " 17,\n",
              " 10,\n",
              " 14,\n",
              " 12,\n",
              " 13,\n",
              " 15,\n",
              " 1,\n",
              " 15,\n",
              " 8,\n",
              " 15,\n",
              " 17,\n",
              " 13,\n",
              " 12,\n",
              " 8,\n",
              " 9,\n",
              " 12,\n",
              " 13,\n",
              " 11,\n",
              " 14,\n",
              " 8,\n",
              " 14,\n",
              " 14,\n",
              " 13,\n",
              " 13,\n",
              " 10,\n",
              " 14,\n",
              " 12,\n",
              " 12,\n",
              " 14,\n",
              " 11,\n",
              " 14,\n",
              " 10,\n",
              " 13,\n",
              " 17,\n",
              " 10,\n",
              " 15,\n",
              " 15,\n",
              " 10,\n",
              " 11,\n",
              " 17,\n",
              " 12,\n",
              " 4,\n",
              " 7,\n",
              " 13,\n",
              " 15,\n",
              " 13,\n",
              " 13,\n",
              " 13,\n",
              " 12,\n",
              " 13,\n",
              " 12,\n",
              " 14,\n",
              " 11,\n",
              " 7,\n",
              " 8,\n",
              " 10,\n",
              " 17,\n",
              " 17,\n",
              " 13,\n",
              " 5,\n",
              " 11,\n",
              " 15,\n",
              " 15,\n",
              " 12,\n",
              " 9,\n",
              " 14,\n",
              " 11,\n",
              " 9,\n",
              " 14,\n",
              " 11,\n",
              " 16,\n",
              " 13,\n",
              " 17,\n",
              " 11,\n",
              " 11,\n",
              " 9,\n",
              " 14,\n",
              " 13,\n",
              " 9,\n",
              " 14,\n",
              " 17,\n",
              " 14,\n",
              " 15,\n",
              " 11,\n",
              " 17,\n",
              " 17,\n",
              " 11,\n",
              " 11,\n",
              " 13,\n",
              " 14,\n",
              " 8,\n",
              " 17,\n",
              " 13,\n",
              " 10,\n",
              " 11,\n",
              " 14,\n",
              " 14,\n",
              " 8,\n",
              " 15,\n",
              " 13,\n",
              " 10,\n",
              " 13,\n",
              " 11,\n",
              " 13,\n",
              " 11,\n",
              " 13,\n",
              " 10,\n",
              " 9,\n",
              " 12,\n",
              " 10,\n",
              " 14,\n",
              " 13,\n",
              " 13,\n",
              " 12,\n",
              " 6,\n",
              " 12,\n",
              " 13,\n",
              " 13,\n",
              " 14,\n",
              " 17,\n",
              " 13,\n",
              " 12,\n",
              " 11,\n",
              " 17,\n",
              " 10,\n",
              " 17,\n",
              " 10,\n",
              " 15,\n",
              " 15,\n",
              " 13,\n",
              " 11,\n",
              " 11,\n",
              " 1,\n",
              " 6,\n",
              " 15,\n",
              " 12,\n",
              " 12,\n",
              " 14,\n",
              " 14,\n",
              " 5,\n",
              " 4,\n",
              " 11,\n",
              " 15,\n",
              " 10,\n",
              " 17,\n",
              " 17,\n",
              " 8,\n",
              " 15,\n",
              " 12,\n",
              " 10,\n",
              " 12,\n",
              " 12,\n",
              " 14,\n",
              " 17,\n",
              " 15,\n",
              " 7,\n",
              " 12,\n",
              " 14,\n",
              " 10,\n",
              " 12,\n",
              " 17,\n",
              " 11,\n",
              " 14,\n",
              " 14,\n",
              " 12,\n",
              " 15,\n",
              " 8,\n",
              " 17,\n",
              " 12,\n",
              " 16,\n",
              " 9,\n",
              " 14,\n",
              " 13,\n",
              " 9,\n",
              " 12,\n",
              " 11,\n",
              " 14,\n",
              " 8,\n",
              " 15,\n",
              " 11,\n",
              " 11,\n",
              " 9,\n",
              " 6,\n",
              " 17,\n",
              " 15,\n",
              " 6,\n",
              " 11,\n",
              " 12,\n",
              " 17,\n",
              " 10,\n",
              " 12,\n",
              " 7,\n",
              " 12,\n",
              " 15,\n",
              " 10,\n",
              " 10,\n",
              " 4,\n",
              " 17,\n",
              " 12,\n",
              " 13,\n",
              " 12,\n",
              " 11,\n",
              " 17,\n",
              " 14,\n",
              " 17,\n",
              " 9,\n",
              " 14,\n",
              " 11,\n",
              " 10,\n",
              " 10,\n",
              " 12,\n",
              " 1,\n",
              " 9,\n",
              " 7,\n",
              " 17,\n",
              " 11,\n",
              " 4,\n",
              " 13,\n",
              " 2,\n",
              " 7,\n",
              " 14,\n",
              " 15,\n",
              " 14,\n",
              " 13,\n",
              " 15,\n",
              " 11,\n",
              " 10,\n",
              " 11,\n",
              " 13,\n",
              " 15,\n",
              " 15,\n",
              " 14,\n",
              " 14,\n",
              " 13,\n",
              " 9,\n",
              " 8,\n",
              " 17,\n",
              " 1,\n",
              " 13,\n",
              " 12,\n",
              " 13,\n",
              " 7,\n",
              " 17,\n",
              " 6,\n",
              " 7,\n",
              " 5,\n",
              " 13,\n",
              " 5,\n",
              " 14,\n",
              " 13,\n",
              " 14,\n",
              " 11,\n",
              " 10,\n",
              " 15,\n",
              " 11,\n",
              " 17,\n",
              " 11,\n",
              " 14,\n",
              " 5,\n",
              " 11,\n",
              " 17,\n",
              " 13,\n",
              " 14,\n",
              " 14,\n",
              " 11,\n",
              " 15,\n",
              " 9,\n",
              " 8,\n",
              " 12,\n",
              " 12,\n",
              " 13,\n",
              " 14,\n",
              " 12,\n",
              " 14,\n",
              " 14,\n",
              " 14,\n",
              " 16,\n",
              " 15,\n",
              " 13,\n",
              " 14,\n",
              " 17,\n",
              " 12,\n",
              " 13,\n",
              " 13,\n",
              " 15,\n",
              " 12,\n",
              " 17,\n",
              " 13,\n",
              " 14,\n",
              " 5,\n",
              " 11,\n",
              " 15,\n",
              " 16,\n",
              " 12,\n",
              " 14,\n",
              " 10,\n",
              " 16,\n",
              " 13,\n",
              " 11,\n",
              " 8,\n",
              " 11,\n",
              " 9,\n",
              " 12,\n",
              " 13,\n",
              " 10,\n",
              " 11,\n",
              " 8,\n",
              " 13,\n",
              " 12,\n",
              " 14,\n",
              " 12,\n",
              " 17,\n",
              " 17,\n",
              " 17,\n",
              " 15,\n",
              " 13,\n",
              " 7,\n",
              " 12,\n",
              " 12,\n",
              " 13,\n",
              " 9,\n",
              " 7,\n",
              " 6,\n",
              " 13,\n",
              " 2,\n",
              " 6,\n",
              " 14,\n",
              " 9,\n",
              " 17,\n",
              " 7,\n",
              " 14,\n",
              " 17,\n",
              " 13,\n",
              " 2,\n",
              " 14,\n",
              " 11,\n",
              " 13,\n",
              " 14,\n",
              " 13,\n",
              " 14,\n",
              " 12,\n",
              " 14,\n",
              " 7,\n",
              " 8,\n",
              " 17,\n",
              " 12,\n",
              " 11,\n",
              " 10,\n",
              " 9,\n",
              " 11,\n",
              " 14,\n",
              " 12,\n",
              " 13,\n",
              " 12,\n",
              " 11,\n",
              " 12,\n",
              " 8,\n",
              " 17,\n",
              " 17,\n",
              " 17,\n",
              " 15,\n",
              " 13,\n",
              " 11,\n",
              " 6,\n",
              " 9,\n",
              " 14,\n",
              " 14,\n",
              " 13,\n",
              " 13,\n",
              " 8,\n",
              " 13,\n",
              " 14,\n",
              " 11,\n",
              " 11,\n",
              " 9,\n",
              " 16,\n",
              " 17,\n",
              " 13,\n",
              " 11,\n",
              " 12,\n",
              " 16,\n",
              " 17,\n",
              " 15,\n",
              " 10,\n",
              " 10,\n",
              " 13,\n",
              " 13,\n",
              " 13,\n",
              " 16,\n",
              " 9,\n",
              " 2,\n",
              " 13,\n",
              " 14,\n",
              " 14,\n",
              " 17,\n",
              " 13,\n",
              " 14,\n",
              " 14,\n",
              " 6,\n",
              " 8,\n",
              " 13,\n",
              " 7,\n",
              " 14,\n",
              " 7,\n",
              " 15,\n",
              " 11,\n",
              " 7,\n",
              " 15,\n",
              " 15,\n",
              " 14,\n",
              " 17,\n",
              " 12,\n",
              " 12,\n",
              " 14,\n",
              " 13,\n",
              " 15,\n",
              " 15,\n",
              " 14,\n",
              " 12,\n",
              " 12,\n",
              " 13,\n",
              " 11,\n",
              " 14,\n",
              " 2,\n",
              " 15,\n",
              " 14,\n",
              " 11,\n",
              " 11,\n",
              " 8,\n",
              " 12,\n",
              " 14,\n",
              " 14,\n",
              " 8,\n",
              " 10,\n",
              " 13,\n",
              " 9,\n",
              " 11,\n",
              " 13,\n",
              " 5,\n",
              " 11,\n",
              " 15,\n",
              " 14,\n",
              " 14,\n",
              " 10,\n",
              " 12,\n",
              " 9,\n",
              " 7,\n",
              " 14,\n",
              " 12,\n",
              " 10,\n",
              " 13,\n",
              " 10,\n",
              " 11,\n",
              " 0,\n",
              " 8,\n",
              " 17,\n",
              " 11,\n",
              " 8,\n",
              " 10,\n",
              " 11,\n",
              " 9,\n",
              " 13,\n",
              " 17,\n",
              " 7,\n",
              " 15,\n",
              " 10,\n",
              " 12,\n",
              " 12,\n",
              " 9,\n",
              " 15,\n",
              " 11,\n",
              " 15,\n",
              " 14,\n",
              " 14,\n",
              " 11,\n",
              " 12,\n",
              " 13,\n",
              " 9,\n",
              " 11,\n",
              " 13,\n",
              " 17,\n",
              " 15,\n",
              " 5,\n",
              " 17,\n",
              " 11,\n",
              " 14,\n",
              " 5,\n",
              " 15,\n",
              " 15,\n",
              " 2,\n",
              " 11,\n",
              " 13,\n",
              " 14,\n",
              " 12,\n",
              " 6,\n",
              " 17,\n",
              " 13,\n",
              " 13,\n",
              " 8,\n",
              " 12,\n",
              " 13,\n",
              " 11,\n",
              " 12,\n",
              " 17,\n",
              " 8,\n",
              " 13,\n",
              " 10,\n",
              " 14,\n",
              " 10,\n",
              " 9,\n",
              " 14,\n",
              " 7,\n",
              " 14,\n",
              " 13,\n",
              " 17,\n",
              " 9,\n",
              " 17,\n",
              " 15,\n",
              " 12,\n",
              " 12,\n",
              " 14,\n",
              " 11,\n",
              " 13,\n",
              " 8,\n",
              " 14,\n",
              " 11,\n",
              " 16,\n",
              " 10,\n",
              " 13,\n",
              " 15,\n",
              " 11,\n",
              " 14,\n",
              " 17,\n",
              " 15,\n",
              " 12,\n",
              " 5,\n",
              " 12,\n",
              " 14,\n",
              " 12,\n",
              " 17,\n",
              " 8,\n",
              " 11,\n",
              " 13,\n",
              " 8,\n",
              " 4,\n",
              " 9,\n",
              " 10,\n",
              " 13,\n",
              " 12,\n",
              " 17,\n",
              " 8,\n",
              " 12,\n",
              " 14,\n",
              " 10,\n",
              " 14,\n",
              " 12,\n",
              " 14,\n",
              " 13,\n",
              " 12,\n",
              " 14,\n",
              " 11,\n",
              " 14,\n",
              " 9,\n",
              " 14,\n",
              " 4,\n",
              " 15,\n",
              " 13,\n",
              " 17,\n",
              " 13,\n",
              " 11,\n",
              " 12,\n",
              " 10,\n",
              " 13,\n",
              " 5,\n",
              " 14,\n",
              " 13,\n",
              " 13,\n",
              " 12,\n",
              " 14,\n",
              " 17,\n",
              " 13,\n",
              " 8,\n",
              " 14,\n",
              " 14,\n",
              " 15,\n",
              " 10,\n",
              " 13,\n",
              " 14,\n",
              " 14,\n",
              " 12,\n",
              " 9,\n",
              " 13,\n",
              " 14,\n",
              " 9,\n",
              " 13,\n",
              " 14,\n",
              " 12,\n",
              " 10,\n",
              " 17,\n",
              " 11,\n",
              " 11,\n",
              " 10,\n",
              " 15,\n",
              " 13,\n",
              " 13,\n",
              " 14,\n",
              " 14,\n",
              " 17,\n",
              " 8,\n",
              " 17,\n",
              " 15,\n",
              " 14,\n",
              " 13,\n",
              " 14,\n",
              " 12,\n",
              " 14,\n",
              " 14,\n",
              " 12,\n",
              " 10,\n",
              " 9,\n",
              " 16,\n",
              " 13,\n",
              " 8,\n",
              " 7,\n",
              " 12,\n",
              " 9,\n",
              " 13,\n",
              " 8,\n",
              " 11,\n",
              " 9,\n",
              " 17,\n",
              " 16,\n",
              " 17,\n",
              " 8,\n",
              " 11,\n",
              " 14,\n",
              " 9,\n",
              " 9,\n",
              " 14,\n",
              " 10,\n",
              " 11,\n",
              " 9,\n",
              " 13,\n",
              " 16,\n",
              " 7,\n",
              " 9,\n",
              " 10,\n",
              " 14,\n",
              " 15,\n",
              " 11,\n",
              " 15,\n",
              " 14,\n",
              " 12,\n",
              " 11,\n",
              " 8,\n",
              " 14,\n",
              " 14,\n",
              " 8,\n",
              " 10,\n",
              " 15,\n",
              " 9,\n",
              " 11,\n",
              " 15,\n",
              " 12,\n",
              " 13,\n",
              " 8,\n",
              " 12,\n",
              " 1,\n",
              " 15,\n",
              " 17,\n",
              " 13,\n",
              " 12,\n",
              " 14,\n",
              " 12,\n",
              " 10,\n",
              " 14,\n",
              " 2,\n",
              " 7,\n",
              " 15,\n",
              " 10,\n",
              " 13,\n",
              " 13,\n",
              " 17,\n",
              " 8,\n",
              " 6,\n",
              " 13,\n",
              " 12,\n",
              " 11,\n",
              " 14,\n",
              " 15,\n",
              " 13,\n",
              " 8,\n",
              " 13,\n",
              " 14,\n",
              " 14,\n",
              " 12,\n",
              " 14,\n",
              " 17,\n",
              " 14,\n",
              " 15,\n",
              " 14,\n",
              " 13,\n",
              " 10,\n",
              " 9,\n",
              " 11,\n",
              " 15,\n",
              " 11,\n",
              " 13,\n",
              " 13,\n",
              " 14,\n",
              " 8,\n",
              " 15,\n",
              " 14,\n",
              " 12,\n",
              " 14,\n",
              " 11,\n",
              " 8,\n",
              " 15,\n",
              " 11,\n",
              " 8,\n",
              " 9,\n",
              " 12,\n",
              " 13,\n",
              " 12,\n",
              " 10,\n",
              " 13,\n",
              " 14,\n",
              " 12,\n",
              " 14,\n",
              " 12,\n",
              " 9,\n",
              " 14,\n",
              " 1,\n",
              " 13,\n",
              " 13,\n",
              " 17,\n",
              " 15,\n",
              " 13,\n",
              " 10,\n",
              " 9,\n",
              " 9,\n",
              " 9,\n",
              " 15,\n",
              " 17,\n",
              " 13,\n",
              " 7,\n",
              " 10,\n",
              " 12,\n",
              " 17,\n",
              " 15,\n",
              " 11,\n",
              " 16,\n",
              " 13,\n",
              " 12,\n",
              " 12,\n",
              " 14,\n",
              " 17,\n",
              " 9,\n",
              " 14,\n",
              " 9,\n",
              " 13,\n",
              " 14,\n",
              " 8,\n",
              " 10,\n",
              " 14,\n",
              " 15,\n",
              " 11,\n",
              " 11,\n",
              " 13,\n",
              " 9,\n",
              " 14,\n",
              " 11,\n",
              " 6,\n",
              " 15,\n",
              " 14,\n",
              " 11,\n",
              " 15,\n",
              " 11,\n",
              " 15,\n",
              " 9,\n",
              " 12,\n",
              " 12,\n",
              " 11,\n",
              " 10,\n",
              " 11,\n",
              " 14,\n",
              " 12,\n",
              " 12,\n",
              " 12,\n",
              " 12,\n",
              " 12,\n",
              " 15,\n",
              " 14,\n",
              " 7,\n",
              " 9,\n",
              " 8,\n",
              " 7,\n",
              " 11,\n",
              " 12,\n",
              " 16,\n",
              " 17,\n",
              " 13,\n",
              " 9,\n",
              " 11,\n",
              " 8,\n",
              " 13,\n",
              " 12,\n",
              " 12,\n",
              " 11,\n",
              " 13,\n",
              " 4,\n",
              " 7,\n",
              " 12,\n",
              " 17,\n",
              " 13,\n",
              " 13,\n",
              " 14,\n",
              " 10,\n",
              " 17,\n",
              " 8,\n",
              " 16,\n",
              " 10,\n",
              " 9,\n",
              " 11,\n",
              " 14,\n",
              " 7,\n",
              " 14,\n",
              " 17,\n",
              " 17,\n",
              " 14,\n",
              " 11,\n",
              " 15,\n",
              " 8,\n",
              " 12,\n",
              " 12,\n",
              " 10,\n",
              " 10,\n",
              " 14,\n",
              " 12,\n",
              " 12,\n",
              " 11,\n",
              " 6,\n",
              " 17,\n",
              " 7,\n",
              " 16,\n",
              " 12,\n",
              " 14,\n",
              " 13,\n",
              " 11,\n",
              " 14,\n",
              " 15,\n",
              " 13,\n",
              " 14,\n",
              " 4,\n",
              " 12,\n",
              " 14,\n",
              " 13,\n",
              " 14,\n",
              " 11,\n",
              " 12,\n",
              " 17,\n",
              " 10,\n",
              " 12,\n",
              " 12,\n",
              " 17,\n",
              " 14,\n",
              " 12,\n",
              " 11,\n",
              " 14,\n",
              " 13,\n",
              " 14,\n",
              " 3,\n",
              " 15,\n",
              " 14,\n",
              " 13,\n",
              " 12,\n",
              " 8,\n",
              " 8,\n",
              " 17,\n",
              " 13,\n",
              " 9,\n",
              " 12,\n",
              " 9,\n",
              " 16,\n",
              " 12,\n",
              " 10,\n",
              " 11,\n",
              " 11,\n",
              " 12,\n",
              " 2,\n",
              " 16,\n",
              " 14,\n",
              " 12,\n",
              " 4,\n",
              " 13,\n",
              " 13,\n",
              " 12,\n",
              " 15,\n",
              " 12,\n",
              " 13,\n",
              " 14,\n",
              " 17,\n",
              " 13,\n",
              " 13,\n",
              " 13,\n",
              " 11,\n",
              " 11,\n",
              " 7,\n",
              " 12,\n",
              " 12,\n",
              " 17,\n",
              " 17,\n",
              " 7,\n",
              " 10,\n",
              " 14,\n",
              " 17,\n",
              " 14,\n",
              " 8,\n",
              " 2,\n",
              " 13,\n",
              " 11,\n",
              " 14,\n",
              " 12,\n",
              " 10,\n",
              " 13,\n",
              " 9,\n",
              " 12,\n",
              " 10,\n",
              " 11,\n",
              " 16,\n",
              " 7,\n",
              " 13,\n",
              " 13,\n",
              " 7,\n",
              " 12,\n",
              " 17,\n",
              " 14,\n",
              " 15,\n",
              " 12,\n",
              " 17,\n",
              " 8,\n",
              " 8,\n",
              " 13,\n",
              " 8,\n",
              " 17,\n",
              " 8,\n",
              " 12,\n",
              " 14,\n",
              " 14,\n",
              " 14,\n",
              " 9,\n",
              " 14,\n",
              " 2,\n",
              " 14,\n",
              " 13,\n",
              " 10,\n",
              " 12,\n",
              " 17,\n",
              " 12,\n",
              " 12,\n",
              " 8,\n",
              " 14,\n",
              " 10,\n",
              " 12,\n",
              " 10,\n",
              " 17,\n",
              " 17,\n",
              " 11,\n",
              " 14,\n",
              " 15,\n",
              " 9,\n",
              " 12,\n",
              " 5,\n",
              " 9,\n",
              " 12,\n",
              " 14,\n",
              " 11,\n",
              " 15,\n",
              " 17,\n",
              " 15,\n",
              " 11,\n",
              " ...]"
            ]
          },
          "metadata": {
            "tags": []
          },
          "execution_count": 40
        }
      ]
    },
    {
      "cell_type": "code",
      "metadata": {
        "colab": {
          "base_uri": "https://localhost:8080/"
        },
        "id": "B6ATw3Z3JHq2",
        "outputId": "a7149ee8-1d64-4178-e5d1-9046fc461396"
      },
      "source": [
        "# evaluate predictions\n",
        "accuracy = accuracy_score(y_test, predictions)\n",
        "print(\"Accuracy: %.2f%%\" % (accuracy * 100.0))\n"
      ],
      "execution_count": null,
      "outputs": [
        {
          "output_type": "stream",
          "text": [
            "Accuracy: 81.81%\n"
          ],
          "name": "stdout"
        }
      ]
    },
    {
      "cell_type": "code",
      "metadata": {
        "id": "Lg3sdHP6JNOp"
      },
      "source": [
        "from sklearn.metrics import f1_score\n"
      ],
      "execution_count": null,
      "outputs": []
    },
    {
      "cell_type": "code",
      "metadata": {
        "colab": {
          "base_uri": "https://localhost:8080/"
        },
        "id": "srgGs57AJhPl",
        "outputId": "917af6b2-f267-43e0-cd55-c55aaaf0e793"
      },
      "source": [
        "f1 = f1_score(y_test, predictions,average='macro')\n",
        "print(\"f1 Score: %.2f%%\" % (f1 * 100.0))\n"
      ],
      "execution_count": null,
      "outputs": [
        {
          "output_type": "stream",
          "text": [
            "f1 Score: 83.52%\n"
          ],
          "name": "stdout"
        }
      ]
    },
    {
      "cell_type": "code",
      "metadata": {
        "colab": {
          "base_uri": "https://localhost:8080/"
        },
        "id": "NmoguxLBJpTW",
        "outputId": "017916bb-176f-47e2-d7bc-4bd073e01f78"
      },
      "source": [
        "\n",
        "from sklearn.metrics import confusion_matrix\n",
        "cm = confusion_matrix(y_test, predictions)\n",
        "cm"
      ],
      "execution_count": null,
      "outputs": [
        {
          "output_type": "execute_result",
          "data": {
            "text/plain": [
              "array([[  3,   0,   0,   0,   0,   0,   0,   0,   0,   1,   0,   0,   0,\n",
              "          0,   0,   0,   0,   1],\n",
              "       [  0,  14,   0,   0,   0,   0,   0,   1,   0,   0,   0,   0,   0,\n",
              "          0,   0,   0,   0,   0],\n",
              "       [  0,   0,  45,   1,   0,   0,   0,   0,   0,   0,   0,   0,   0,\n",
              "          0,   0,   0,   0,   0],\n",
              "       [  0,   0,   2,  12,   0,   1,   0,   0,   0,   0,   0,   0,   0,\n",
              "          0,   0,   0,   0,   0],\n",
              "       [  0,   0,   0,   0,  32,   3,   2,   0,   0,   0,   0,   0,   0,\n",
              "          0,   0,   0,   0,   0],\n",
              "       [  0,   0,   0,   1,   1,  79,   4,   2,   1,   0,   0,   0,   0,\n",
              "          0,   0,   0,   0,   0],\n",
              "       [  0,   0,   0,   0,   0,   4,  86,  16,   2,   1,   0,   1,   0,\n",
              "          0,   0,   0,   0,   1],\n",
              "       [  0,   0,   0,   0,   0,   0,   3, 103,  13,   5,   0,   2,   0,\n",
              "          0,   0,   0,   0,   2],\n",
              "       [  0,   0,   0,   0,   0,   0,   3,   7, 225,  23,   5,   4,   0,\n",
              "          1,   0,   0,   0,   1],\n",
              "       [  0,   0,   0,   0,   0,   3,   0,   1,  23, 247,  34,   6,   3,\n",
              "          4,   0,   0,   0,   0],\n",
              "       [  0,   0,   0,   0,   0,   0,   0,   1,   8,  21, 268,  59,  12,\n",
              "          1,   1,   0,   0,   1],\n",
              "       [  0,   0,   0,   0,   0,   0,   0,   0,   0,   5,  42, 407,  54,\n",
              "         22,   1,   2,   0,   2],\n",
              "       [  0,   0,   0,   0,   0,   0,   0,   0,   1,   4,  11,  48, 518,\n",
              "         72,  14,   1,   0,   6],\n",
              "       [  0,   0,   0,   0,   0,   0,   0,   0,   0,   0,   3,  13,  60,\n",
              "        609,  97,   3,   2,   0],\n",
              "       [  0,   0,   0,   0,   0,   0,   0,   0,   0,   0,   0,   1,   6,\n",
              "         52, 743,  48,   3,   1],\n",
              "       [  0,   0,   0,   0,   0,   0,   0,   0,   0,   0,   0,   0,   1,\n",
              "          0,  58, 343,   1,   3],\n",
              "       [  0,   0,   0,   0,   0,   0,   0,   0,   0,   0,   0,   0,   0,\n",
              "          0,   1,  17,  55,   0],\n",
              "       [  0,   0,   0,   0,   0,   0,   0,   0,   0,   0,   1,   0,   0,\n",
              "          0,   1,   1,   6, 515]])"
            ]
          },
          "metadata": {
            "tags": []
          },
          "execution_count": 44
        }
      ]
    },
    {
      "cell_type": "code",
      "metadata": {
        "colab": {
          "base_uri": "https://localhost:8080/",
          "height": 931
        },
        "id": "btyBojKgMKXH",
        "outputId": "7c6867c9-9759-410c-ec4a-c998296cad73"
      },
      "source": [
        "import seaborn as sn\n",
        "plt.figure(figsize = (20,20))\n",
        "sn.heatmap(cm, annot=True,vmin=-1, vmax=1, center= 0, cmap= 'coolwarm')\n",
        "plt.xlabel('Predicted')\n",
        "plt.ylabel('Truth')"
      ],
      "execution_count": null,
      "outputs": [
        {
          "output_type": "execute_result",
          "data": {
            "text/plain": [
              "Text(159.0, 0.5, 'Truth')"
            ]
          },
          "metadata": {
            "tags": []
          },
          "execution_count": 45
        },
        {
          "output_type": "display_data",
          "data": {
            "image/png": "[encoded data removed]",
            "text/plain": [
              "<Figure size 1440x1440 with 2 Axes>"
            ]
          },
          "metadata": {
            "tags": [],
            "needs_background": "light"
          }
        }
      ]
    },
    {
      "cell_type": "code",
      "metadata": {
        "id": "zW3iKTNfMMx5"
      },
      "source": [
        "test_data = pd.read_csv('/content/Test_Data.csv')\n",
        "test_data.head()\n",
        "\n",
        "for col in yes_no_columns:\n",
        "    test_data[col].replace({'a': 1,'b': 2,'c':3,'d':4,'e':5,'f':6,'g':7,'h':8},inplace=True)\n",
        "test_data['White King file'].replace({'d':4,'c':3,'b':2,'a':1},inplace=True)\n",
        "\n",
        "test_data[cols_to_scale] = scaler.fit_transform(test_data[cols_to_scale])"
      ],
      "execution_count": null,
      "outputs": []
    },
    {
      "cell_type": "code",
      "metadata": {
        "id": "pW5AbN7PTjAP"
      },
      "source": [
        ""
      ],
      "execution_count": null,
      "outputs": []
    },
    {
      "cell_type": "code",
      "metadata": {
        "id": "Ff0Dwf-vTjEF",
        "colab": {
          "base_uri": "https://localhost:8080/",
          "height": 423
        },
        "outputId": "4e8da187-415a-4231-89e8-c8029462cf86"
      },
      "source": [
        "test_data"
      ],
      "execution_count": null,
      "outputs": [
        {
          "output_type": "execute_result",
          "data": {
            "text/html": [
              "<div>\n",
              "<style scoped>\n",
              "    .dataframe tbody tr th:only-of-type {\n",
              "        vertical-align: middle;\n",
              "    }\n",
              "\n",
              "    .dataframe tbody tr th {\n",
              "        vertical-align: top;\n",
              "    }\n",
              "\n",
              "    .dataframe thead th {\n",
              "        text-align: right;\n",
              "    }\n",
              "</style>\n",
              "<table border=\"1\" class=\"dataframe\">\n",
              "  <thead>\n",
              "    <tr style=\"text-align: right;\">\n",
              "      <th></th>\n",
              "      <th>White King file</th>\n",
              "      <th>White King rank</th>\n",
              "      <th>White Rook file</th>\n",
              "      <th>White Rook rank</th>\n",
              "      <th>Black King file</th>\n",
              "      <th>Black King rank</th>\n",
              "    </tr>\n",
              "  </thead>\n",
              "  <tbody>\n",
              "    <tr>\n",
              "      <th>0</th>\n",
              "      <td>1.00</td>\n",
              "      <td>0.00</td>\n",
              "      <td>0.57</td>\n",
              "      <td>0.29</td>\n",
              "      <td>0.86</td>\n",
              "      <td>0.57</td>\n",
              "    </tr>\n",
              "    <tr>\n",
              "      <th>1</th>\n",
              "      <td>0.33</td>\n",
              "      <td>0.00</td>\n",
              "      <td>0.71</td>\n",
              "      <td>0.86</td>\n",
              "      <td>0.71</td>\n",
              "      <td>0.29</td>\n",
              "    </tr>\n",
              "    <tr>\n",
              "      <th>2</th>\n",
              "      <td>1.00</td>\n",
              "      <td>0.33</td>\n",
              "      <td>0.43</td>\n",
              "      <td>0.43</td>\n",
              "      <td>0.57</td>\n",
              "      <td>0.86</td>\n",
              "    </tr>\n",
              "    <tr>\n",
              "      <th>3</th>\n",
              "      <td>0.67</td>\n",
              "      <td>0.33</td>\n",
              "      <td>0.86</td>\n",
              "      <td>0.57</td>\n",
              "      <td>0.71</td>\n",
              "      <td>0.57</td>\n",
              "    </tr>\n",
              "    <tr>\n",
              "      <th>4</th>\n",
              "      <td>0.33</td>\n",
              "      <td>0.00</td>\n",
              "      <td>0.57</td>\n",
              "      <td>0.43</td>\n",
              "      <td>0.14</td>\n",
              "      <td>1.00</td>\n",
              "    </tr>\n",
              "    <tr>\n",
              "      <th>...</th>\n",
              "      <td>...</td>\n",
              "      <td>...</td>\n",
              "      <td>...</td>\n",
              "      <td>...</td>\n",
              "      <td>...</td>\n",
              "      <td>...</td>\n",
              "    </tr>\n",
              "    <tr>\n",
              "      <th>7010</th>\n",
              "      <td>0.00</td>\n",
              "      <td>0.00</td>\n",
              "      <td>0.14</td>\n",
              "      <td>0.14</td>\n",
              "      <td>1.00</td>\n",
              "      <td>0.29</td>\n",
              "    </tr>\n",
              "    <tr>\n",
              "      <th>7011</th>\n",
              "      <td>0.67</td>\n",
              "      <td>0.33</td>\n",
              "      <td>0.00</td>\n",
              "      <td>0.57</td>\n",
              "      <td>0.57</td>\n",
              "      <td>1.00</td>\n",
              "    </tr>\n",
              "    <tr>\n",
              "      <th>7012</th>\n",
              "      <td>0.67</td>\n",
              "      <td>0.00</td>\n",
              "      <td>0.29</td>\n",
              "      <td>0.29</td>\n",
              "      <td>0.43</td>\n",
              "      <td>0.29</td>\n",
              "    </tr>\n",
              "    <tr>\n",
              "      <th>7013</th>\n",
              "      <td>0.67</td>\n",
              "      <td>0.67</td>\n",
              "      <td>1.00</td>\n",
              "      <td>0.57</td>\n",
              "      <td>0.71</td>\n",
              "      <td>0.29</td>\n",
              "    </tr>\n",
              "    <tr>\n",
              "      <th>7014</th>\n",
              "      <td>0.67</td>\n",
              "      <td>0.00</td>\n",
              "      <td>0.29</td>\n",
              "      <td>0.43</td>\n",
              "      <td>0.86</td>\n",
              "      <td>0.43</td>\n",
              "    </tr>\n",
              "  </tbody>\n",
              "</table>\n",
              "<p>7015 rows × 6 columns</p>\n",
              "</div>"
            ],
            "text/plain": [
              "      White King file  White King rank  ...  Black King file  Black King rank\n",
              "0                1.00             0.00  ...             0.86             0.57\n",
              "1                0.33             0.00  ...             0.71             0.29\n",
              "2                1.00             0.33  ...             0.57             0.86\n",
              "3                0.67             0.33  ...             0.71             0.57\n",
              "4                0.33             0.00  ...             0.14             1.00\n",
              "...               ...              ...  ...              ...              ...\n",
              "7010             0.00             0.00  ...             1.00             0.29\n",
              "7011             0.67             0.33  ...             0.57             1.00\n",
              "7012             0.67             0.00  ...             0.43             0.29\n",
              "7013             0.67             0.67  ...             0.71             0.29\n",
              "7014             0.67             0.00  ...             0.86             0.43\n",
              "\n",
              "[7015 rows x 6 columns]"
            ]
          },
          "metadata": {
            "tags": []
          },
          "execution_count": 47
        }
      ]
    },
    {
      "cell_type": "code",
      "metadata": {
        "id": "Cmk4NOQFTjLB"
      },
      "source": [
        ""
      ],
      "execution_count": null,
      "outputs": []
    },
    {
      "cell_type": "code",
      "metadata": {
        "id": "yMt_2eObTT0w",
        "colab": {
          "base_uri": "https://localhost:8080/",
          "height": 17
        },
        "outputId": "3a53339c-e782-4215-a937-2ecbcbeb42c9"
      },
      "source": [
        "test_data = pd.read_csv('/content/Test_Data.csv')\n",
        "test_data.head()\n",
        "\n",
        "for col in yes_no_columns:\n",
        "    test_data[col].replace({'a': 1,'b': 2,'c':3,'d':4,'e':5,'f':6,'g':7,'h':8},inplace=True)\n",
        "test_data['White King file'].replace({'d':4,'c':3,'b':2,'a':1},inplace=True)\n",
        "\n",
        "test_data[cols_to_scale] = scaler.fit_transform(test_data[cols_to_scale])\n",
        "\n",
        "\n",
        "target = model.predict(test_data)\n",
        "res = pd.DataFrame(target)\n",
        "\n",
        "res.columns = [\"prediction\"]\n",
        "\n",
        "res.replace({0:\"zero\",1:\"one\",2:'two',3:'three',4:'four',5:'five',6:'six',7:'seven',8:'eight',9:'nine',10:'ten',11:'eleven',12:'twelve',13:'thirteen',14:'fourteen',15:'fifteen',16:'sixteen',17:'draw'},inplace=True)\n",
        "\n",
        "\n",
        "res.to_csv(\"submission.csv\", index = False) # the csv file will be saved locally on the same location where this notebook is located.\n",
        "\n",
        "\n",
        "# es.columns = [\"prediction\"]\n",
        "\n",
        "# To download the csv file locally\n",
        "from google.colab import files\n",
        "res.to_csv('submission.csv', index = False)\n",
        "files.download('submission.csv')"
      ],
      "execution_count": null,
      "outputs": [
        {
          "output_type": "display_data",
          "data": {
            "application/javascript": [
              "\n",
              "    async function download(id, filename, size) {\n",
              "      if (!google.colab.kernel.accessAllowed) {\n",
              "        return;\n",
              "      }\n",
              "      const div = document.createElement('div');\n",
              "      const label = document.createElement('label');\n",
              "      label.textContent = `Downloading \"${filename}\": `;\n",
              "      div.appendChild(label);\n",
              "      const progress = document.createElement('progress');\n",
              "      progress.max = size;\n",
              "      div.appendChild(progress);\n",
              "      document.body.appendChild(div);\n",
              "\n",
              "      const buffers = [];\n",
              "      let downloaded = 0;\n",
              "\n",
              "      const channel = await google.colab.kernel.comms.open(id);\n",
              "      // Send a message to notify the kernel that we're ready.\n",
              "      channel.send({})\n",
              "\n",
              "      for await (const message of channel.messages) {\n",
              "        // Send a message to notify the kernel that we're ready.\n",
              "        channel.send({})\n",
              "        if (message.buffers) {\n",
              "          for (const buffer of message.buffers) {\n",
              "            buffers.push(buffer);\n",
              "            downloaded += buffer.byteLength;\n",
              "            progress.value = downloaded;\n",
              "          }\n",
              "        }\n",
              "      }\n",
              "      const blob = new Blob(buffers, {type: 'application/binary'});\n",
              "      const a = document.createElement('a');\n",
              "      a.href = window.URL.createObjectURL(blob);\n",
              "      a.download = filename;\n",
              "      div.appendChild(a);\n",
              "      a.click();\n",
              "      div.remove();\n",
              "    }\n",
              "  "
            ],
            "text/plain": [
              "<IPython.core.display.Javascript object>"
            ]
          },
          "metadata": {
            "tags": []
          }
        },
        {
          "output_type": "display_data",
          "data": {
            "application/javascript": [
              "download(\"download_a979b01a-709a-4edf-9292-09fcf7c22dca\", \"submission.csv\", 49011)"
            ],
            "text/plain": [
              "<IPython.core.display.Javascript object>"
            ]
          },
          "metadata": {
            "tags": []
          }
        }
      ]
    },
    {
      "cell_type": "code",
      "metadata": {
        "id": "mb0BxMBXTpKg"
      },
      "source": [
        "res.columns = [\"prediction\"]"
      ],
      "execution_count": null,
      "outputs": []
    },
    {
      "cell_type": "code",
      "metadata": {
        "colab": {
          "base_uri": "https://localhost:8080/",
          "height": 423
        },
        "id": "46pqvpbVTriK",
        "outputId": "5265d106-f896-409a-b298-999989f123e8"
      },
      "source": [
        "res"
      ],
      "execution_count": null,
      "outputs": [
        {
          "output_type": "execute_result",
          "data": {
            "text/html": [
              "<div>\n",
              "<style scoped>\n",
              "    .dataframe tbody tr th:only-of-type {\n",
              "        vertical-align: middle;\n",
              "    }\n",
              "\n",
              "    .dataframe tbody tr th {\n",
              "        vertical-align: top;\n",
              "    }\n",
              "\n",
              "    .dataframe thead th {\n",
              "        text-align: right;\n",
              "    }\n",
              "</style>\n",
              "<table border=\"1\" class=\"dataframe\">\n",
              "  <thead>\n",
              "    <tr style=\"text-align: right;\">\n",
              "      <th></th>\n",
              "      <th>prediction</th>\n",
              "    </tr>\n",
              "  </thead>\n",
              "  <tbody>\n",
              "    <tr>\n",
              "      <th>0</th>\n",
              "      <td>thirteen</td>\n",
              "    </tr>\n",
              "    <tr>\n",
              "      <th>1</th>\n",
              "      <td>fifteen</td>\n",
              "    </tr>\n",
              "    <tr>\n",
              "      <th>2</th>\n",
              "      <td>twelve</td>\n",
              "    </tr>\n",
              "    <tr>\n",
              "      <th>3</th>\n",
              "      <td>draw</td>\n",
              "    </tr>\n",
              "    <tr>\n",
              "      <th>4</th>\n",
              "      <td>twelve</td>\n",
              "    </tr>\n",
              "    <tr>\n",
              "      <th>...</th>\n",
              "      <td>...</td>\n",
              "    </tr>\n",
              "    <tr>\n",
              "      <th>7010</th>\n",
              "      <td>fourteen</td>\n",
              "    </tr>\n",
              "    <tr>\n",
              "      <th>7011</th>\n",
              "      <td>twelve</td>\n",
              "    </tr>\n",
              "    <tr>\n",
              "      <th>7012</th>\n",
              "      <td>draw</td>\n",
              "    </tr>\n",
              "    <tr>\n",
              "      <th>7013</th>\n",
              "      <td>eleven</td>\n",
              "    </tr>\n",
              "    <tr>\n",
              "      <th>7014</th>\n",
              "      <td>fourteen</td>\n",
              "    </tr>\n",
              "  </tbody>\n",
              "</table>\n",
              "<p>7015 rows × 1 columns</p>\n",
              "</div>"
            ],
            "text/plain": [
              "     prediction\n",
              "0      thirteen\n",
              "1       fifteen\n",
              "2        twelve\n",
              "3          draw\n",
              "4        twelve\n",
              "...         ...\n",
              "7010   fourteen\n",
              "7011     twelve\n",
              "7012       draw\n",
              "7013     eleven\n",
              "7014   fourteen\n",
              "\n",
              "[7015 rows x 1 columns]"
            ]
          },
          "metadata": {
            "tags": []
          },
          "execution_count": 50
        }
      ]
    },
    {
      "cell_type": "code",
      "metadata": {
        "id": "btda0KPST12Q"
      },
      "source": [
        "res.replace({0:\"zero\",1:\"one\",2:'two',3:'three',4:'four',5:'five',6:'six',7:'seven',8:'eight',9:'nine',10:'ten',11:'eleven',12:'twelve',13:'thirteen',14:'fourteen',15:'fifteen',16:'sixteen',17:'draw'},inplace=True)"
      ],
      "execution_count": null,
      "outputs": []
    },
    {
      "cell_type": "code",
      "metadata": {
        "colab": {
          "base_uri": "https://localhost:8080/",
          "height": 423
        },
        "id": "0zuh5bo5VEfo",
        "outputId": "1eec2919-c5af-4489-8dac-cc7f9968b30f"
      },
      "source": [
        "res"
      ],
      "execution_count": null,
      "outputs": [
        {
          "output_type": "execute_result",
          "data": {
            "text/html": [
              "<div>\n",
              "<style scoped>\n",
              "    .dataframe tbody tr th:only-of-type {\n",
              "        vertical-align: middle;\n",
              "    }\n",
              "\n",
              "    .dataframe tbody tr th {\n",
              "        vertical-align: top;\n",
              "    }\n",
              "\n",
              "    .dataframe thead th {\n",
              "        text-align: right;\n",
              "    }\n",
              "</style>\n",
              "<table border=\"1\" class=\"dataframe\">\n",
              "  <thead>\n",
              "    <tr style=\"text-align: right;\">\n",
              "      <th></th>\n",
              "      <th>prediction</th>\n",
              "    </tr>\n",
              "  </thead>\n",
              "  <tbody>\n",
              "    <tr>\n",
              "      <th>0</th>\n",
              "      <td>thirteen</td>\n",
              "    </tr>\n",
              "    <tr>\n",
              "      <th>1</th>\n",
              "      <td>fifteen</td>\n",
              "    </tr>\n",
              "    <tr>\n",
              "      <th>2</th>\n",
              "      <td>twelve</td>\n",
              "    </tr>\n",
              "    <tr>\n",
              "      <th>3</th>\n",
              "      <td>draw</td>\n",
              "    </tr>\n",
              "    <tr>\n",
              "      <th>4</th>\n",
              "      <td>twelve</td>\n",
              "    </tr>\n",
              "    <tr>\n",
              "      <th>...</th>\n",
              "      <td>...</td>\n",
              "    </tr>\n",
              "    <tr>\n",
              "      <th>7010</th>\n",
              "      <td>fourteen</td>\n",
              "    </tr>\n",
              "    <tr>\n",
              "      <th>7011</th>\n",
              "      <td>twelve</td>\n",
              "    </tr>\n",
              "    <tr>\n",
              "      <th>7012</th>\n",
              "      <td>draw</td>\n",
              "    </tr>\n",
              "    <tr>\n",
              "      <th>7013</th>\n",
              "      <td>eleven</td>\n",
              "    </tr>\n",
              "    <tr>\n",
              "      <th>7014</th>\n",
              "      <td>fourteen</td>\n",
              "    </tr>\n",
              "  </tbody>\n",
              "</table>\n",
              "<p>7015 rows × 1 columns</p>\n",
              "</div>"
            ],
            "text/plain": [
              "     prediction\n",
              "0      thirteen\n",
              "1       fifteen\n",
              "2        twelve\n",
              "3          draw\n",
              "4        twelve\n",
              "...         ...\n",
              "7010   fourteen\n",
              "7011     twelve\n",
              "7012       draw\n",
              "7013     eleven\n",
              "7014   fourteen\n",
              "\n",
              "[7015 rows x 1 columns]"
            ]
          },
          "metadata": {
            "tags": []
          },
          "execution_count": 52
        }
      ]
    },
    {
      "cell_type": "code",
      "metadata": {
        "id": "iysnKnBMVFoK"
      },
      "source": [
        "res.to_csv(\"submission.csv\", index = False) # the csv file will be saved locally on the same location where this notebook is located."
      ],
      "execution_count": null,
      "outputs": []
    },
    {
      "cell_type": "code",
      "metadata": {
        "colab": {
          "base_uri": "https://localhost:8080/",
          "height": 17
        },
        "id": "-r8spxaLVL_E",
        "outputId": "83bb2c2b-501b-4f23-b768-3caad3f74fc7"
      },
      "source": [
        "# es.columns = [\"prediction\"]\n",
        "\n",
        "# To download the csv file locally\n",
        "from google.colab import files\n",
        "res.to_csv('submission.csv', index = False)\n",
        "files.download('submission.csv')"
      ],
      "execution_count": null,
      "outputs": [
        {
          "output_type": "display_data",
          "data": {
            "application/javascript": [
              "\n",
              "    async function download(id, filename, size) {\n",
              "      if (!google.colab.kernel.accessAllowed) {\n",
              "        return;\n",
              "      }\n",
              "      const div = document.createElement('div');\n",
              "      const label = document.createElement('label');\n",
              "      label.textContent = `Downloading \"${filename}\": `;\n",
              "      div.appendChild(label);\n",
              "      const progress = document.createElement('progress');\n",
              "      progress.max = size;\n",
              "      div.appendChild(progress);\n",
              "      document.body.appendChild(div);\n",
              "\n",
              "      const buffers = [];\n",
              "      let downloaded = 0;\n",
              "\n",
              "      const channel = await google.colab.kernel.comms.open(id);\n",
              "      // Send a message to notify the kernel that we're ready.\n",
              "      channel.send({})\n",
              "\n",
              "      for await (const message of channel.messages) {\n",
              "        // Send a message to notify the kernel that we're ready.\n",
              "        channel.send({})\n",
              "        if (message.buffers) {\n",
              "          for (const buffer of message.buffers) {\n",
              "            buffers.push(buffer);\n",
              "            downloaded += buffer.byteLength;\n",
              "            progress.value = downloaded;\n",
              "          }\n",
              "        }\n",
              "      }\n",
              "      const blob = new Blob(buffers, {type: 'application/binary'});\n",
              "      const a = document.createElement('a');\n",
              "      a.href = window.URL.createObjectURL(blob);\n",
              "      a.download = filename;\n",
              "      div.appendChild(a);\n",
              "      a.click();\n",
              "      div.remove();\n",
              "    }\n",
              "  "
            ],
            "text/plain": [
              "<IPython.core.display.Javascript object>"
            ]
          },
          "metadata": {
            "tags": []
          }
        },
        {
          "output_type": "display_data",
          "data": {
            "application/javascript": [
              "download(\"download_eccfe24e-6f55-4b45-957e-dcf0c1eaeb00\", \"submission.csv\", 49011)"
            ],
            "text/plain": [
              "<IPython.core.display.Javascript object>"
            ]
          },
          "metadata": {
            "tags": []
          }
        }
      ]
    },
    {
      "cell_type": "code",
      "metadata": {
        "id": "g1Z1JRmfVPTE"
      },
      "source": [
        "\n",
        "params={\n",
        " \"learning_rate\"    : [0.05, 0.10, 0.15, 0.20, 0.25, 0.30 ] ,\n",
        " \"max_depth\"        : [ 3, 4, 5, 6, 8, 10, 12, 15],\n",
        " \"min_child_weight\" : [ 1, 3, 5, 7 ],\n",
        " \"gamma\"            : [ 0.0, 0.1, 0.2 , 0.3, 0.4 ],\n",
        " \"colsample_bytree\" : [ 0.3, 0.4, 0.5 , 0.7 ]\n",
        "    \n",
        "}"
      ],
      "execution_count": null,
      "outputs": []
    },
    {
      "cell_type": "code",
      "metadata": {
        "id": "7u57gbgu4MFe"
      },
      "source": [
        "# Hyperparameter optimization using RandomizedSearchCV\n",
        "from sklearn.model_selection import RandomizedSearchCV, GridSearchCV\n",
        "import xgboost"
      ],
      "execution_count": null,
      "outputs": []
    },
    {
      "cell_type": "code",
      "metadata": {
        "id": "VrD2UkDo4OED"
      },
      "source": [
        "classifier=xgboost.XGBClassifier()"
      ],
      "execution_count": null,
      "outputs": []
    },
    {
      "cell_type": "code",
      "metadata": {
        "id": "VG76v3Wv4Q0J"
      },
      "source": [
        "random_search=RandomizedSearchCV(classifier,param_distributions=params,n_iter=5,n_jobs=-1,cv=5,verbose=3)"
      ],
      "execution_count": null,
      "outputs": []
    },
    {
      "cell_type": "code",
      "metadata": {
        "id": "VBZ0sNJK4Vjs"
      },
      "source": [
        "def timer(start_time=None):\n",
        "    if not start_time:\n",
        "        start_time = datetime.now()\n",
        "        return start_time\n",
        "    elif start_time:\n",
        "        thour, temp_sec = divmod((datetime.now() - start_time).total_seconds(), 3600)\n",
        "        tmin, tsec = divmod(temp_sec, 60)\n",
        "        print('\\n Time taken: %i hours %i minutes and %s seconds.' % (thour, tmin, round(tsec, 2)))"
      ],
      "execution_count": null,
      "outputs": []
    },
    {
      "cell_type": "code",
      "metadata": {
        "colab": {
          "base_uri": "https://localhost:8080/"
        },
        "id": "VC7y8ea74bfO",
        "outputId": "a5cf69b9-a774-4ed9-bf52-9becb35a3665"
      },
      "source": [
        "\n",
        "from datetime import datetime\n",
        "# Here we go\n",
        "start_time = timer(None) # timing starts from this point for \"start_time\" variable\n",
        "random_search.fit(X_train,y_train)\n",
        "timer(start_time) # timing ends here for \"start_time\" variable"
      ],
      "execution_count": null,
      "outputs": [
        {
          "output_type": "stream",
          "text": [
            "Fitting 5 folds for each of 5 candidates, totalling 25 fits\n"
          ],
          "name": "stdout"
        },
        {
          "output_type": "stream",
          "text": [
            "[Parallel(n_jobs=-1)]: Using backend LokyBackend with 2 concurrent workers.\n",
            "[Parallel(n_jobs=-1)]: Done  25 out of  25 | elapsed:  2.4min finished\n"
          ],
          "name": "stderr"
        },
        {
          "output_type": "stream",
          "text": [
            "\n",
            " Time taken: 0 hours 2 minutes and 34.62 seconds.\n"
          ],
          "name": "stdout"
        }
      ]
    },
    {
      "cell_type": "code",
      "metadata": {
        "colab": {
          "base_uri": "https://localhost:8080/"
        },
        "id": "XQW_puye4dn6",
        "outputId": "53adc271-d2cb-480c-9096-228bc214633c"
      },
      "source": [
        "random_search.best_estimator_"
      ],
      "execution_count": null,
      "outputs": [
        {
          "output_type": "execute_result",
          "data": {
            "text/plain": [
              "XGBClassifier(base_score=0.5, booster='gbtree', colsample_bylevel=1,\n",
              "              colsample_bynode=1, colsample_bytree=0.7, gamma=0.1, gpu_id=-1,\n",
              "              importance_type='gain', interaction_constraints='',\n",
              "              learning_rate=0.1, max_delta_step=0, max_depth=10,\n",
              "              min_child_weight=3, missing=nan, monotone_constraints='()',\n",
              "              n_estimators=100, n_jobs=0, num_parallel_tree=1,\n",
              "              objective='multi:softprob', random_state=0, reg_alpha=0,\n",
              "              reg_lambda=1, scale_pos_weight=None, subsample=1,\n",
              "              tree_method='exact', validate_parameters=1, verbosity=None)"
            ]
          },
          "metadata": {
            "tags": []
          },
          "execution_count": 61
        }
      ]
    },
    {
      "cell_type": "code",
      "metadata": {
        "colab": {
          "base_uri": "https://localhost:8080/"
        },
        "id": "lSpBHkPs5QuS",
        "outputId": "3fa8ecb3-734e-4f80-a454-7d21b8f2f561"
      },
      "source": [
        "random_search.best_params_"
      ],
      "execution_count": null,
      "outputs": [
        {
          "output_type": "execute_result",
          "data": {
            "text/plain": [
              "{'colsample_bytree': 0.7,\n",
              " 'gamma': 0.1,\n",
              " 'learning_rate': 0.1,\n",
              " 'max_depth': 10,\n",
              " 'min_child_weight': 3}"
            ]
          },
          "metadata": {
            "tags": []
          },
          "execution_count": 62
        }
      ]
    },
    {
      "cell_type": "code",
      "metadata": {
        "colab": {
          "base_uri": "https://localhost:8080/"
        },
        "id": "iwg8e0bk5TeE",
        "outputId": "6e970150-8096-44fe-ef44-2c1a4f16831e"
      },
      "source": [
        "\n",
        "# fit model no training data\n",
        "model = XGBClassifier(base_score=0.5, booster='gbtree', colsample_bylevel=1,\n",
        "              colsample_bynode=1, colsample_bytree=0.7, gamma=0.0, gpu_id=-1,\n",
        "              importance_type='gain', interaction_constraints='',\n",
        "              learning_rate=0.3, max_delta_step=0, max_depth=10,\n",
        "              min_child_weight=1, monotone_constraints='()',\n",
        "              n_estimators=100, n_jobs=0, num_parallel_tree=1,\n",
        "              objective='multi:softprob', random_state=0, reg_alpha=0,\n",
        "              reg_lambda=1, scale_pos_weight=None, subsample=1,\n",
        "              tree_method='exact', validate_parameters=1, verbosity=None)\n",
        "\n",
        "\n",
        "\n",
        "\n",
        "\n",
        "\n",
        "\n",
        "\n",
        "\n",
        "\n",
        "\n",
        "model.fit(X_train, y_train)"
      ],
      "execution_count": null,
      "outputs": [
        {
          "output_type": "execute_result",
          "data": {
            "text/plain": [
              "XGBClassifier(base_score=0.5, booster='gbtree', colsample_bylevel=1,\n",
              "              colsample_bynode=1, colsample_bytree=0.7, gamma=0.0, gpu_id=-1,\n",
              "              importance_type='gain', interaction_constraints='',\n",
              "              learning_rate=0.3, max_delta_step=0, max_depth=10,\n",
              "              min_child_weight=1, missing=nan, monotone_constraints='()',\n",
              "              n_estimators=100, n_jobs=0, num_parallel_tree=1,\n",
              "              objective='multi:softprob', random_state=0, reg_alpha=0,\n",
              "              reg_lambda=1, scale_pos_weight=None, subsample=1,\n",
              "              tree_method='exact', validate_parameters=1, verbosity=None)"
            ]
          },
          "metadata": {
            "tags": []
          },
          "execution_count": 63
        }
      ]
    },
    {
      "cell_type": "code",
      "metadata": {
        "id": "QtvRKNc8519B"
      },
      "source": [
        "y_pred = model.predict(X_test)\n",
        "predictions = [round(value) for value in y_pred]\n",
        "from sklearn.metrics import f1_score\n"
      ],
      "execution_count": null,
      "outputs": []
    },
    {
      "cell_type": "code",
      "metadata": {
        "colab": {
          "base_uri": "https://localhost:8080/"
        },
        "id": "kbyoErZ96BUB",
        "outputId": "8a801d76-0110-4264-9d78-cc3f991f0fee"
      },
      "source": [
        "# evaluate predictions\n",
        "accuracy = accuracy_score(y_test, predictions)\n",
        "print(\"Accuracy: %.2f%%\" % (accuracy * 100.0))"
      ],
      "execution_count": null,
      "outputs": [
        {
          "output_type": "stream",
          "text": [
            "Accuracy: 84.85%\n"
          ],
          "name": "stdout"
        }
      ]
    },
    {
      "cell_type": "code",
      "metadata": {
        "colab": {
          "base_uri": "https://localhost:8080/"
        },
        "id": "hwWWfDBF6F1e",
        "outputId": "a856af68-421d-4686-d1ab-a8dd946f40da"
      },
      "source": [
        "f1 = f1_score(y_test, predictions,average='macro')\n",
        "print(\"f1 Score: %.2f%%\" % (f1 * 100.0))\n",
        "\n"
      ],
      "execution_count": null,
      "outputs": [
        {
          "output_type": "stream",
          "text": [
            "f1 Score: 83.95%\n"
          ],
          "name": "stdout"
        }
      ]
    },
    {
      "cell_type": "code",
      "metadata": {
        "colab": {
          "base_uri": "https://localhost:8080/",
          "height": 17
        },
        "id": "TeMvTGuk6KKf",
        "outputId": "7cb54b20-8bcd-4991-bddd-dc1fe0d3f1bf"
      },
      "source": [
        "test_data = pd.read_csv('/content/Test_Data.csv')\n",
        "test_data.head()\n",
        "\n",
        "for col in yes_no_columns:\n",
        "    test_data[col].replace({'a': 1,'b': 2,'c':3,'d':4,'e':5,'f':6,'g':7,'h':8},inplace=True)\n",
        "test_data['White King file'].replace({'d':4,'c':3,'b':2,'a':1},inplace=True)\n",
        "\n",
        "test_data[cols_to_scale] = scaler.fit_transform(test_data[cols_to_scale])\n",
        "\n",
        "\n",
        "target = model.predict(test_data)\n",
        "res = pd.DataFrame(target)\n",
        "\n",
        "res.columns = [\"prediction\"]\n",
        "\n",
        "res.replace({0:\"zero\",1:\"one\",2:'two',3:'three',4:'four',5:'five',6:'six',7:'seven',8:'eight',9:'nine',10:'ten',11:'eleven',12:'twelve',13:'thirteen',14:'fourteen',15:'fifteen',16:'sixteen',17:'draw'},inplace=True)\n",
        "\n",
        "\n",
        "res.to_csv(\"submission.csv\", index = False) # the csv file will be saved locally on the same location where this notebook is located.\n",
        "\n",
        "\n",
        "# es.columns = [\"prediction\"]\n",
        "\n",
        "# To download the csv file locally\n",
        "from google.colab import files\n",
        "res.to_csv('submission.csv', index = False)\n",
        "files.download('submission.csv')"
      ],
      "execution_count": null,
      "outputs": [
        {
          "output_type": "display_data",
          "data": {
            "application/javascript": [
              "\n",
              "    async function download(id, filename, size) {\n",
              "      if (!google.colab.kernel.accessAllowed) {\n",
              "        return;\n",
              "      }\n",
              "      const div = document.createElement('div');\n",
              "      const label = document.createElement('label');\n",
              "      label.textContent = `Downloading \"${filename}\": `;\n",
              "      div.appendChild(label);\n",
              "      const progress = document.createElement('progress');\n",
              "      progress.max = size;\n",
              "      div.appendChild(progress);\n",
              "      document.body.appendChild(div);\n",
              "\n",
              "      const buffers = [];\n",
              "      let downloaded = 0;\n",
              "\n",
              "      const channel = await google.colab.kernel.comms.open(id);\n",
              "      // Send a message to notify the kernel that we're ready.\n",
              "      channel.send({})\n",
              "\n",
              "      for await (const message of channel.messages) {\n",
              "        // Send a message to notify the kernel that we're ready.\n",
              "        channel.send({})\n",
              "        if (message.buffers) {\n",
              "          for (const buffer of message.buffers) {\n",
              "            buffers.push(buffer);\n",
              "            downloaded += buffer.byteLength;\n",
              "            progress.value = downloaded;\n",
              "          }\n",
              "        }\n",
              "      }\n",
              "      const blob = new Blob(buffers, {type: 'application/binary'});\n",
              "      const a = document.createElement('a');\n",
              "      a.href = window.URL.createObjectURL(blob);\n",
              "      a.download = filename;\n",
              "      div.appendChild(a);\n",
              "      a.click();\n",
              "      div.remove();\n",
              "    }\n",
              "  "
            ],
            "text/plain": [
              "<IPython.core.display.Javascript object>"
            ]
          },
          "metadata": {
            "tags": []
          }
        },
        {
          "output_type": "display_data",
          "data": {
            "application/javascript": [
              "download(\"download_f51bcc67-8a5c-4885-8cc8-3c4fce522bd0\", \"submission.csv\", 48999)"
            ],
            "text/plain": [
              "<IPython.core.display.Javascript object>"
            ]
          },
          "metadata": {
            "tags": []
          }
        }
      ]
    },
    {
      "cell_type": "code",
      "metadata": {
        "id": "69qZ90vQ66Cz"
      },
      "source": [
        ""
      ],
      "execution_count": null,
      "outputs": []
    },
    {
      "cell_type": "code",
      "metadata": {
        "id": "Ohshuv4k914m"
      },
      "source": [
        ""
      ],
      "execution_count": null,
      "outputs": []
    },
    {
      "cell_type": "code",
      "metadata": {
        "id": "3v_LDHmi94E5"
      },
      "source": [
        ""
      ],
      "execution_count": null,
      "outputs": []
    },
    {
      "cell_type": "code",
      "metadata": {
        "id": "e2Bc1MLP99o0"
      },
      "source": [
        ""
      ],
      "execution_count": null,
      "outputs": []
    },
    {
      "cell_type": "code",
      "metadata": {
        "id": "Z9UUPZ6P-IHf"
      },
      "source": [
        ""
      ],
      "execution_count": null,
      "outputs": []
    },
    {
      "cell_type": "code",
      "metadata": {
        "id": "I0ZNaMQb-V6Q"
      },
      "source": [
        ""
      ],
      "execution_count": null,
      "outputs": []
    },
    {
      "cell_type": "code",
      "metadata": {
        "id": "S6ZEi3GtALJe"
      },
      "source": [
        ""
      ],
      "execution_count": null,
      "outputs": []
    },
    {
      "cell_type": "code",
      "metadata": {
        "id": "rCjAHWoUAPxj"
      },
      "source": [
        ""
      ],
      "execution_count": null,
      "outputs": []
    },
    {
      "cell_type": "code",
      "metadata": {
        "id": "SUvsIyCMAdqS"
      },
      "source": [
        ""
      ],
      "execution_count": null,
      "outputs": []
    }
  ]
}